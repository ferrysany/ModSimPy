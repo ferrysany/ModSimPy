{
  "nbformat": 4,
  "nbformat_minor": 0,
  "metadata": {
    "kernelspec": {
      "display_name": "Python 3",
      "language": "python",
      "name": "python3"
    },
    "language_info": {
      "codemirror_mode": {
        "name": "ipython",
        "version": 3
      },
      "file_extension": ".py",
      "mimetype": "text/x-python",
      "name": "python",
      "nbconvert_exporter": "python",
      "pygments_lexer": "ipython3",
      "version": "3.9.1"
    },
    "colab": {
      "name": "queue.ipynb",
      "provenance": []
    }
  },
  "cells": [
    {
      "cell_type": "markdown",
      "metadata": {
        "id": "rTR10W46fb5B"
      },
      "source": [
        "# One Queue or Two"
      ]
    },
    {
      "cell_type": "markdown",
      "metadata": {
        "id": "aN5sgJ2Efb5G"
      },
      "source": [
        "*Modeling and Simulation in Python*\n",
        "\n",
        "Copyright 2021 Allen Downey\n",
        "\n",
        "License: [Creative Commons Attribution-NonCommercial-ShareAlike 4.0 International](https://creativecommons.org/licenses/by-nc-sa/4.0/)"
      ]
    },
    {
      "cell_type": "code",
      "metadata": {
        "tags": [],
        "id": "28lKMv5bfb5N"
      },
      "source": [
        "# install Pint if necessary\n",
        "\n",
        "try:\n",
        "    import pint\n",
        "except ImportError:\n",
        "    !pip install pint"
      ],
      "execution_count": 1,
      "outputs": []
    },
    {
      "cell_type": "code",
      "metadata": {
        "tags": [],
        "id": "OI4qD7p7fb5Q"
      },
      "source": [
        "# download modsim.py if necessary\n",
        "\n",
        "from os.path import exists\n",
        "\n",
        "filename = 'modsim.py'\n",
        "if not exists(filename):\n",
        "    from urllib.request import urlretrieve\n",
        "    url = 'https://raw.githubusercontent.com/AllenDowney/ModSim/main/'\n",
        "    local, _ = urlretrieve(url+filename, filename)\n",
        "    print('Downloaded ' + local)"
      ],
      "execution_count": 2,
      "outputs": []
    },
    {
      "cell_type": "code",
      "metadata": {
        "tags": [],
        "id": "TxjXc0FKfb5S"
      },
      "source": [
        "# import functions from modsim\n",
        "\n",
        "from modsim import *\n",
        "import matplotlib.pyplot as plt\n"
      ],
      "execution_count": 3,
      "outputs": []
    },
    {
      "cell_type": "markdown",
      "metadata": {
        "id": "syF1fguXfb5U"
      },
      "source": [
        "This notebook presents a case study from *Modeling and Simulation in Python*.  It explores a question related to queueing theory, which is the study of systems that involve waiting in lines, also known as \"queues\".\n",
        "\n",
        "Suppose you are designing the checkout area for a new store.  There is room for two checkout counters and a waiting area for customers.  You can make two lines, one for each counter, or one line that serves both counters.\n",
        "\n",
        "In theory, you might expect a single line to be better, but it has some practical drawbacks: in order to maintain a single line, you would have to install rope barriers, and customers might be put off by what seems to be a longer line, even if it moves faster.\n",
        "\n",
        "So you'd like to check whether the single line is really better and by how much.  Simulation can help answer this question."
      ]
    },
    {
      "cell_type": "markdown",
      "metadata": {
        "id": "Ia5gtH1gfb5V"
      },
      "source": [
        "As we did in the bikeshare model, we'll assume that a customer is equally likely to arrive during any timestep.  I'll denote this probability using the Greek letter lambda, $\\lambda$, or the variable name `lam`.  The value of $\\lambda$ probably varies from day to day, so we'll have to consider a range of possibilities.\n",
        "\n",
        "Based on data from other stores, you know that it takes 5 minutes for a customer to check out, on average.  But checkout times are highly variable: most customers take less than 5 minutes, but some take substantially more.  A simple way to model this variability is to assume that when a customer is checking out, they have the same probability of finishing up during each time step.  I'll denote this probability using the Greek letter mu, $\\mu$, or the variable name `mu`.\n",
        "\n",
        "If we choose $\\mu=1/5$, the average number of time steps for each checkout will be 5 minutes, which is consistent with the data."
      ]
    },
    {
      "cell_type": "markdown",
      "metadata": {
        "id": "KXZB-uW_fb5X"
      },
      "source": [
        "## One server, one queue\n",
        "\n",
        "Write a function called `make_system` that takes `lam` and `mu` as parameters and returns a `System` object with variables `lam`, `mu`, and `duration`.  Set `duration`, which is the number of time steps to simulate, to 10 hours, expressed in minutes. "
      ]
    },
    {
      "cell_type": "code",
      "metadata": {
        "id": "xo2kZ003fb5Y"
      },
      "source": [
        "def make_system(lam, mu):\n",
        "  \"\"\" lam - a customer arrival rate\n",
        "      mu - process rate\"\"\"\n",
        "\n",
        "  return System(lam=lam, mu=mu, duration=600)"
      ],
      "execution_count": 4,
      "outputs": []
    },
    {
      "cell_type": "markdown",
      "metadata": {
        "id": "lC_ASxZRfb5a"
      },
      "source": [
        "Test this function by creating a `System` object with `lam=1/8` and `mu=1/5`."
      ]
    },
    {
      "cell_type": "code",
      "metadata": {
        "colab": {
          "base_uri": "https://localhost:8080/"
        },
        "id": "jwwsXSkbfb5b",
        "outputId": "d92179de-55ba-49e8-f27e-4b5fa081a779"
      },
      "source": [
        "interarrival_time = 8\n",
        "service_time = 5\n",
        "\n",
        "lam = 1/interarrival_time\n",
        "mu = 1/service_time\n",
        "\n",
        "system1 = make_system(lam=lam, mu=mu)\n",
        "system1"
      ],
      "execution_count": 5,
      "outputs": [
        {
          "output_type": "execute_result",
          "data": {
            "text/plain": [
              "System(duration=600, lam=0.125, mu=0.2)"
            ]
          },
          "metadata": {
            "tags": []
          },
          "execution_count": 5
        }
      ]
    },
    {
      "cell_type": "markdown",
      "metadata": {
        "id": "YntObvyvfb5c"
      },
      "source": [
        "Write an update function that takes as parameters `x`, which is the total number of customer in the store, including the one checking out; `t`, which is the number of minutes that have elapsed in the simulation, and `system`, which is a `System` object.\n",
        "\n",
        "If there's a customer checking out, it should use `flip` to decide whether they are done.  And it should use `flip` to decide if a new customer has arrived.\n",
        "\n",
        "It should return the total number of customers at the end of the time step."
      ]
    },
    {
      "cell_type": "code",
      "metadata": {
        "id": "dqlrPfpxfb5c"
      },
      "source": [
        "def update_func(x, t, system):\n",
        "\n",
        "  \"\"\" Check if the customers are done at check out\"\"\"\n",
        "  if x > 0:\n",
        "    if flip(system.mu):\n",
        "      x -= 1\n",
        "  \n",
        "  if flip(system.lam):\n",
        "    x += 1\n",
        "\n",
        "  return x"
      ],
      "execution_count": 6,
      "outputs": []
    },
    {
      "cell_type": "markdown",
      "metadata": {
        "id": "JCpd9NEafb5e"
      },
      "source": [
        "Test your function by calling it with `x=1`, `t=0`, and the `System` object you created.  If you run it a few times, you should see different results."
      ]
    },
    {
      "cell_type": "code",
      "metadata": {
        "colab": {
          "base_uri": "https://localhost:8080/"
        },
        "id": "V5kLW5Zlfb5g",
        "outputId": "c3c44903-3022-4a8e-e8d2-3279af1816fa"
      },
      "source": [
        "update_func(1,0,system1)"
      ],
      "execution_count": 7,
      "outputs": [
        {
          "output_type": "execute_result",
          "data": {
            "text/plain": [
              "1"
            ]
          },
          "metadata": {
            "tags": []
          },
          "execution_count": 7
        }
      ]
    },
    {
      "cell_type": "markdown",
      "metadata": {
        "id": "KucbdBmAfb5h"
      },
      "source": [
        "Now we can run the simulation.  Here's a version of `run_simulation` that creates a `TimeSeries` with the total number of customers in the store, including the one checking out."
      ]
    },
    {
      "cell_type": "code",
      "metadata": {
        "id": "pxDUTd1Ifb5j"
      },
      "source": [
        "def run_simulation(system, update_func):\n",
        "    \"\"\"Simulate a queueing system.\n",
        "    \n",
        "    system: System object\n",
        "    update_func: function object\n",
        "    \"\"\"\n",
        "    x = 0\n",
        "    results = TimeSeries()\n",
        "    results[0] = x\n",
        "    \n",
        "    for t in linrange(0, system.duration):\n",
        "        x = update_func(x, t, system)\n",
        "        results[t+1] = x\n",
        "\n",
        "    return results"
      ],
      "execution_count": 8,
      "outputs": []
    },
    {
      "cell_type": "markdown",
      "metadata": {
        "id": "DmYMhFCWfb5j"
      },
      "source": [
        "Call `run_simulation` with your update function and plot the results."
      ]
    },
    {
      "cell_type": "code",
      "metadata": {
        "colab": {
          "base_uri": "https://localhost:8080/",
          "height": 297
        },
        "id": "58daXIAtfb5j",
        "outputId": "fc952943-f036-4631-a35b-5a022de76715"
      },
      "source": [
        "results1 = run_simulation(system1, update_func)\n",
        "#results1.plot(label='results1')\n",
        "plt.plot(results1, label='label')\n",
        "decorate(title='Customer Checkout',\n",
        "         xlabel='Time (mins)',\n",
        "         ylabel='Number of customer')"
      ],
      "execution_count": 9,
      "outputs": [
        {
          "output_type": "display_data",
          "data": {
            "image/png": "[encoded data removed]",
            "text/plain": [
              "<Figure size 432x288 with 1 Axes>"
            ]
          },
          "metadata": {
            "tags": [],
            "needs_background": "light"
          }
        }
      ]
    },
    {
      "cell_type": "markdown",
      "metadata": {
        "id": "JzGms4B1fb5j"
      },
      "source": [
        "After the simulation, we can compute `L`, which is the average number of customers in the system, and `W`, which is the average time customers spend in the store.  `L` and `W` are related by Little's Law:\n",
        "\n",
        "$L = \\lambda W$\n",
        "\n",
        "Where $\\lambda$ is the arrival rate.  Here's a function that computes them."
      ]
    },
    {
      "cell_type": "code",
      "metadata": {
        "id": "oL9Zv9UIfb5k"
      },
      "source": [
        "def compute_metrics(results, system):\n",
        "    \"\"\"Compute average number of customers and wait time.\n",
        "    \n",
        "    results: TimeSeries of queue lengths\n",
        "    system: System object\n",
        "    \n",
        "    returns: L, W\n",
        "    \"\"\"\n",
        "    L = results.mean()\n",
        "    W = L / system.lam\n",
        "    return L, W"
      ],
      "execution_count": 10,
      "outputs": []
    },
    {
      "cell_type": "markdown",
      "metadata": {
        "id": "E_F8wnVFfb5k"
      },
      "source": [
        "Call `compute_metrics` with the results from your simulation."
      ]
    },
    {
      "cell_type": "code",
      "metadata": {
        "id": "CxSbMgtPfb5k",
        "colab": {
          "base_uri": "https://localhost:8080/"
        },
        "outputId": "d570123a-14da-4714-ae9b-7889e4805573"
      },
      "source": [
        "L, W = compute_metrics(results1, system1)\n",
        "print(L,W)"
      ],
      "execution_count": 11,
      "outputs": [
        {
          "output_type": "stream",
          "text": [
            "1.323920265780731 10.591362126245848\n"
          ],
          "name": "stdout"
        }
      ]
    },
    {
      "cell_type": "markdown",
      "metadata": {
        "id": "mVan5hCGfb5l"
      },
      "source": [
        "### Parameter sweep\n",
        "\n",
        "Since we don't know the actual value of $\\lambda$, we can sweep through a range of possibilities, from 10% to 80% of the completion rate, $\\mu$.  (If customers arrive faster than the completion rate, the queue grows without bound.  In that case the metrics `L` and `W` just depend on how long the store is open.)\n",
        "\n",
        "Create an array of values for `lam`."
      ]
    },
    {
      "cell_type": "code",
      "metadata": {
        "id": "313vn1h4fb5m",
        "colab": {
          "base_uri": "https://localhost:8080/"
        },
        "outputId": "59487a31-07d9-4775-f3b2-f4341631f918"
      },
      "source": [
        "lam_array = linspace(0.1*mu, 0.8*mu, 101)\n",
        "lam_array"
      ],
      "execution_count": 12,
      "outputs": [
        {
          "output_type": "execute_result",
          "data": {
            "text/plain": [
              "array([0.02  , 0.0214, 0.0228, 0.0242, 0.0256, 0.027 , 0.0284, 0.0298,\n",
              "       0.0312, 0.0326, 0.034 , 0.0354, 0.0368, 0.0382, 0.0396, 0.041 ,\n",
              "       0.0424, 0.0438, 0.0452, 0.0466, 0.048 , 0.0494, 0.0508, 0.0522,\n",
              "       0.0536, 0.055 , 0.0564, 0.0578, 0.0592, 0.0606, 0.062 , 0.0634,\n",
              "       0.0648, 0.0662, 0.0676, 0.069 , 0.0704, 0.0718, 0.0732, 0.0746,\n",
              "       0.076 , 0.0774, 0.0788, 0.0802, 0.0816, 0.083 , 0.0844, 0.0858,\n",
              "       0.0872, 0.0886, 0.09  , 0.0914, 0.0928, 0.0942, 0.0956, 0.097 ,\n",
              "       0.0984, 0.0998, 0.1012, 0.1026, 0.104 , 0.1054, 0.1068, 0.1082,\n",
              "       0.1096, 0.111 , 0.1124, 0.1138, 0.1152, 0.1166, 0.118 , 0.1194,\n",
              "       0.1208, 0.1222, 0.1236, 0.125 , 0.1264, 0.1278, 0.1292, 0.1306,\n",
              "       0.132 , 0.1334, 0.1348, 0.1362, 0.1376, 0.139 , 0.1404, 0.1418,\n",
              "       0.1432, 0.1446, 0.146 , 0.1474, 0.1488, 0.1502, 0.1516, 0.153 ,\n",
              "       0.1544, 0.1558, 0.1572, 0.1586, 0.16  ])"
            ]
          },
          "metadata": {
            "tags": []
          },
          "execution_count": 12
        }
      ]
    },
    {
      "cell_type": "markdown",
      "metadata": {
        "id": "dBIa2Zxgfb5n"
      },
      "source": [
        "Write a function that takes an array of values for `lam`, a single value for `mu`, and an update function.\n",
        "\n",
        "For each value of `lam`, it should run a simulation, compute `L` and `W`, and store the value of `W` in a `SweepSeries`.\n",
        "\n",
        "It should return the `SweepSeries`."
      ]
    },
    {
      "cell_type": "code",
      "metadata": {
        "id": "T3Lw9Hq0fb5n"
      },
      "source": [
        "def sweep_lam(lam_array, mu, update_func):\n",
        "\n",
        "  sweep = SweepSeries()\n",
        "  \"\"\"mu = 1/5\n",
        "  \"\"\"\n",
        "\n",
        "  for lam in lam_array:\n",
        "    system = make_system(lam, mu) \n",
        "    results = run_simulation(system, update_func)\n",
        "    L, W=compute_metrics(results, system)\n",
        "    sweep[lam]=W\n",
        "  \n",
        "  return sweep\n"
      ],
      "execution_count": 13,
      "outputs": []
    },
    {
      "cell_type": "markdown",
      "metadata": {
        "id": "rbBAMakvfb5n"
      },
      "source": [
        "Call your function to generate a `SweepSeries`, and plot it."
      ]
    },
    {
      "cell_type": "code",
      "metadata": {
        "id": "3vzZjt54fb5n",
        "colab": {
          "base_uri": "https://localhost:8080/",
          "height": 297
        },
        "outputId": "7cbaa806-3144-4031-a967-bf4b56bcb228"
      },
      "source": [
        "sweep1 = sweep_lam(lam_array, mu, update_func)\n",
        "plt.scatter(sweep1.index, sweep1)\n",
        "decorate(xlabel='Lamda, the arrival rate',\n",
        "         ylabel='Average Time Customer Spend')\n"
      ],
      "execution_count": 14,
      "outputs": [
        {
          "output_type": "display_data",
          "data": {
            "image/png": "[encoded data removed]",
            "text/plain": [
              "<Figure size 432x288 with 1 Axes>"
            ]
          },
          "metadata": {
            "tags": [],
            "needs_background": "light"
          }
        }
      ]
    },
    {
      "cell_type": "code",
      "metadata": {
        "id": "OYwignSvfb5o",
        "colab": {
          "base_uri": "https://localhost:8080/"
        },
        "outputId": "e212183d-7289-42d9-ce53-35dcea8d3da4"
      },
      "source": [
        "print(sweep1)"
      ],
      "execution_count": 15,
      "outputs": [
        {
          "output_type": "stream",
          "text": [
            "Parameter\n",
            "0.0200     3.405316\n",
            "0.0214     7.296550\n",
            "0.0228     3.497115\n",
            "0.0242     5.491337\n",
            "0.0256     8.305648\n",
            "            ...    \n",
            "0.1544    29.769077\n",
            "0.1558     8.412267\n",
            "0.1572    11.739917\n",
            "0.1586    10.410862\n",
            "0.1600    20.691445\n",
            "Name: Metric, Length: 101, dtype: float64\n"
          ],
          "name": "stdout"
        }
      ]
    },
    {
      "cell_type": "markdown",
      "metadata": {
        "id": "_WIZ7TJSfb5o"
      },
      "source": [
        "If we imagine that this range of values represents arrival rates on different days, we can use the average value of `W`, for a range of values of `lam`, to compare different queueing strategies."
      ]
    },
    {
      "cell_type": "code",
      "metadata": {
        "id": "z434VukEfb5o",
        "colab": {
          "base_uri": "https://localhost:8080/"
        },
        "outputId": "29dd82d9-87f5-4537-91b6-4f02d33a517f"
      },
      "source": [
        "sweep1.mean()"
      ],
      "execution_count": 16,
      "outputs": [
        {
          "output_type": "execute_result",
          "data": {
            "text/plain": [
              "8.914936037880679"
            ]
          },
          "metadata": {
            "tags": []
          },
          "execution_count": 16
        }
      ]
    },
    {
      "cell_type": "markdown",
      "metadata": {
        "id": "K1sF_1gkfb5p"
      },
      "source": [
        "### Analysis\n",
        "\n",
        "The model I chose for this system is a common model in queueing theory, in part because many of its properties can be derived analytically.\n",
        "\n",
        "In particular, we can derive the average time in the store as a function of $\\mu$ and $\\lambda$:\n",
        "\n",
        "$W = 1 / (\\mu - \\lambda)$\n",
        "\n",
        "The following function plots the theoretical value of $W$ as a function of $\\lambda$."
      ]
    },
    {
      "cell_type": "code",
      "metadata": {
        "id": "56XsHQKQfb5p"
      },
      "source": [
        "def plot_W(lam_array, mu):\n",
        "    \"\"\"Plot the theoretical mean wait time.\n",
        "    \n",
        "    lam_array: array of values for `lam`\n",
        "    mu: probability of finishing a checkout\n",
        "    \"\"\"\n",
        "    W_array = 1 / (mu - lam_array)\n",
        "    W_series = make_series(lam_array, W_array)\n",
        "    W_series.plot(style='-', label='analysis')"
      ],
      "execution_count": 17,
      "outputs": []
    },
    {
      "cell_type": "markdown",
      "metadata": {
        "id": "5FY36b9gfb5q"
      },
      "source": [
        "Use this function to plot the theoretical results, then plot your simulation results again on the same graph.  How do they compare?"
      ]
    },
    {
      "cell_type": "code",
      "metadata": {
        "id": "HSfR9uqDfb5q",
        "colab": {
          "base_uri": "https://localhost:8080/",
          "height": 282
        },
        "outputId": "09c6e867-97fc-43f7-da8d-f8da105a38f2"
      },
      "source": [
        "plot_W(lam_array, mu)\n",
        "plt.scatter(sweep1.index, sweep1)"
      ],
      "execution_count": 18,
      "outputs": [
        {
          "output_type": "execute_result",
          "data": {
            "text/plain": [
              "<matplotlib.collections.PathCollection at 0x7f7353b7ab50>"
            ]
          },
          "metadata": {
            "tags": []
          },
          "execution_count": 18
        },
        {
          "output_type": "display_data",
          "data": {
            "image/png": "[encoded data removed]",
            "text/plain": [
              "<Figure size 432x288 with 1 Axes>"
            ]
          },
          "metadata": {
            "tags": [],
            "needs_background": "light"
          }
        }
      ]
    },
    {
      "cell_type": "markdown",
      "metadata": {
        "id": "mpwanurrfb5q"
      },
      "source": [
        "## Multiple servers\n",
        "\n",
        "Now let's try the other two queueing strategies:\n",
        "\n",
        "1.  One queue with two checkout counters.\n",
        "2.  Two queues, one for each counter.\n",
        "\n",
        "The following figure shows the three scenarios:\n",
        "\n",
        "![](https://github.com/AllenDowney/ModSim/raw/main/figs/queue.png)\n",
        "\n",
        "Write an update function for one queue with two servers."
      ]
    },
    {
      "cell_type": "code",
      "metadata": {
        "id": "JmqYCbJXfb5q"
      },
      "source": [
        "\"\"\" \n",
        "x - the total number of customer in the store, including the one checking out\n",
        "t - the number of minutes that have elapsed in the simulation\n",
        "\"\"\"\n",
        "\n",
        "def update_func1(x, t, system):\n",
        "            \n",
        "  \"\"\" Check if the customers are done at check out\"\"\"\n",
        "  # if both servers are busy, check whether the\n",
        "  # second is complete\n",
        "  \n",
        "  if x > 1:\n",
        "    if flip(system.mu):\n",
        "      x -= 1\n",
        "  \n",
        "  # check whether the first is complete\n",
        "  if x > 0:\n",
        "    if flip(system.mu):\n",
        "      x -= 1\n",
        "  \n",
        "  if flip(system.lam):\n",
        "    x += 1\n",
        "\n",
        "  return x"
      ],
      "execution_count": 19,
      "outputs": []
    },
    {
      "cell_type": "markdown",
      "metadata": {
        "id": "v0sZ6kZzfb5r"
      },
      "source": [
        "Use this update function to simulate the system, plot the results, and print the metrics."
      ]
    },
    {
      "cell_type": "code",
      "metadata": {
        "id": "95-yeHQyfb5r",
        "colab": {
          "base_uri": "https://localhost:8080/",
          "height": 332
        },
        "outputId": "c14d91b7-2af5-4be5-e60c-b45dae28b607"
      },
      "source": [
        "system=make_system(lam,mu)\n",
        "print(lam,mu)\n",
        "results2 = run_simulation(system, update_func1)\n",
        "#results1.plot(label='results1')\n",
        "plt.plot(results2, label='label')\n",
        "decorate(title='Customer Checkout',\n",
        "         xlabel='Time (mins)',\n",
        "         ylabel='Number of customer')\n",
        "compute_metrics(results2, system)"
      ],
      "execution_count": 20,
      "outputs": [
        {
          "output_type": "stream",
          "text": [
            "0.125 0.2\n"
          ],
          "name": "stdout"
        },
        {
          "output_type": "execute_result",
          "data": {
            "text/plain": [
              "(0.8272425249169435, 6.617940199335548)"
            ]
          },
          "metadata": {
            "tags": []
          },
          "execution_count": 20
        },
        {
          "output_type": "display_data",
          "data": {
            "image/png": "[encoded data removed]",
            "text/plain": [
              "<Figure size 432x288 with 1 Axes>"
            ]
          },
          "metadata": {
            "tags": [],
            "needs_background": "light"
          }
        }
      ]
    },
    {
      "cell_type": "markdown",
      "metadata": {
        "id": "HUbVXSa1fb5r"
      },
      "source": [
        "Since we have two checkout counters now, we can consider values for $\\lambda$ that exceed $\\mu$.\n",
        "\n",
        "Create a new array of values for `lam` from 10% to 160% of `mu`."
      ]
    },
    {
      "cell_type": "code",
      "metadata": {
        "id": "Qz2NNqjTfb5s"
      },
      "source": [
        "counter=2\n",
        "lam_array2 = linspace(0.1*mu, 0.8*counter*mu, 101)"
      ],
      "execution_count": 21,
      "outputs": []
    },
    {
      "cell_type": "markdown",
      "metadata": {
        "id": "W2XYsjwWfb5s"
      },
      "source": [
        "Use your sweep function to simulate the two server, one queue scenario with a range of values for `lam`.\n",
        "\n",
        "Plot the results and print the average value of `W` across all values of `lam`."
      ]
    },
    {
      "cell_type": "code",
      "metadata": {
        "id": "wFDtQiGlfb5s",
        "colab": {
          "base_uri": "https://localhost:8080/"
        },
        "outputId": "2e20dc8e-e9de-4470-e1b2-e9c75f7a4992"
      },
      "source": [
        "sweep2 = sweep_lam(lam_array2, mu, update_func1)\n",
        "sweep2.mean()"
      ],
      "execution_count": 22,
      "outputs": [
        {
          "output_type": "execute_result",
          "data": {
            "text/plain": [
              "6.107548279708789"
            ]
          },
          "metadata": {
            "tags": []
          },
          "execution_count": 22
        }
      ]
    },
    {
      "cell_type": "code",
      "metadata": {
        "id": "qB4CA94zfb5t",
        "colab": {
          "base_uri": "https://localhost:8080/",
          "height": 297
        },
        "outputId": "7de169a0-0cbc-44a2-f04c-91880cf43319"
      },
      "source": [
        "plt.scatter(sweep2.index, sweep2)\n",
        "decorate(xlabel='Lamda, the arrival rate',\n",
        "         ylabel='Average Time Customer Spend')"
      ],
      "execution_count": 23,
      "outputs": [
        {
          "output_type": "display_data",
          "data": {
            "image/png": "[encoded data removed]",
            "text/plain": [
              "<Figure size 432x288 with 1 Axes>"
            ]
          },
          "metadata": {
            "tags": [],
            "needs_background": "light"
          }
        }
      ]
    },
    {
      "cell_type": "markdown",
      "metadata": {
        "id": "dQxYDULRfb5t"
      },
      "source": [
        "## Multiple queues\n",
        "\n",
        "To simulate the scenario with two separate queues, we need two state variables to keep track of customers in each queue.\n",
        "\n",
        "Write an update function that takes `x1`, `x2`, `t`, and `system` as parameters and returns `x1` and `x2` as return values.  f you are not sure how to return more than one return value, see `compute_metrics`.\n",
        "\n",
        "When a customer arrives, which queue do they join?"
      ]
    },
    {
      "cell_type": "code",
      "metadata": {
        "id": "djikYu5sfb5t"
      },
      "source": [
        "def update_func2(x1, x2, t, system):\n",
        "            \n",
        "  \"\"\" Check if the customers are done at check out\"\"\"\n",
        "  # if both servers are busy, check whether the\n",
        "  # second is complete\n",
        "  \n",
        "  if x1 > 1:\n",
        "    if flip(system.mu):\n",
        "      x1 -= 1\n",
        "  \n",
        "  # check whether the first is complete\n",
        "  if x2 > 0:\n",
        "    if flip(system.mu):\n",
        "      x2 -= 1\n",
        "  \n",
        "  if flip(system.lam):\n",
        "    if x1 > x2:\n",
        "      x2 += 1\n",
        "    else:\n",
        "      x1 += 1\n",
        "\n",
        "  return x1, x2"
      ],
      "execution_count": 24,
      "outputs": []
    },
    {
      "cell_type": "markdown",
      "metadata": {
        "id": "6Lw5AJg7fb5u"
      },
      "source": [
        "Write a version of `run_simulation` that works with this update function."
      ]
    },
    {
      "cell_type": "code",
      "metadata": {
        "id": "sCOv3EVVfb5u"
      },
      "source": [
        "def run_simulation(system, update_func):\n",
        "    \"\"\"Simulate a queueing system.\n",
        "    \n",
        "    system: System object\n",
        "    update_func: function object\n",
        "    \"\"\"\n",
        "    x1 = 0\n",
        "    x2 = 0\n",
        "    results = TimeSeries()\n",
        "    results[0]=x1+x2\n",
        "\n",
        "    for t in linrange(0, system.duration):\n",
        "        x1, x2 = update_func(x1, x2, t, system)\n",
        "        results[t+1] = x1 + x2\n",
        "\n",
        "    return results"
      ],
      "execution_count": 25,
      "outputs": []
    },
    {
      "cell_type": "markdown",
      "metadata": {
        "id": "0j_vDUnqfb5v"
      },
      "source": [
        "Test your functions by running a simulation with a single value of `lam`."
      ]
    },
    {
      "cell_type": "code",
      "metadata": {
        "id": "abcmm87wfb5w",
        "colab": {
          "base_uri": "https://localhost:8080/"
        },
        "outputId": "1efab879-6fa5-47be-aa02-0ed7447af4a2"
      },
      "source": [
        "system = make_system(lam, mu)\n",
        "results3=run_simulation(system, update_func2)\n",
        "results3"
      ],
      "execution_count": 26,
      "outputs": [
        {
          "output_type": "execute_result",
          "data": {
            "text/plain": [
              "Time\n",
              "0      0\n",
              "1      1\n",
              "2      1\n",
              "3      1\n",
              "4      2\n",
              "      ..\n",
              "597    1\n",
              "598    1\n",
              "599    1\n",
              "600    1\n",
              "601    1\n",
              "Name: Quantity, Length: 602, dtype: int64"
            ]
          },
          "metadata": {
            "tags": []
          },
          "execution_count": 26
        }
      ]
    },
    {
      "cell_type": "markdown",
      "metadata": {
        "id": "xENEzuUBfb5x"
      },
      "source": [
        "Sweep a range of values for `lam`, plot the results, and print the average wait time across all values of `lam`.\n",
        "\n",
        "How do the results compare to the scenario with two servers and one queue."
      ]
    },
    {
      "cell_type": "code",
      "metadata": {
        "id": "3WSkdGLafb5x",
        "colab": {
          "base_uri": "https://localhost:8080/"
        },
        "outputId": "2f475389-8c15-4043-c6e2-b2e982c5b5ca"
      },
      "source": [
        "sweep3 = sweep_lam(lam_array, mu, update_func2)\n",
        "sweep3.mean()"
      ],
      "execution_count": 27,
      "outputs": [
        {
          "output_type": "execute_result",
          "data": {
            "text/plain": [
              "19.888128788954937"
            ]
          },
          "metadata": {
            "tags": []
          },
          "execution_count": 27
        }
      ]
    },
    {
      "cell_type": "code",
      "metadata": {
        "id": "QjF7RLbYfb5x",
        "colab": {
          "base_uri": "https://localhost:8080/",
          "height": 297
        },
        "outputId": "2a26d2c3-6db9-490a-9dd7-169ce78f88c3"
      },
      "source": [
        "plt.scatter(sweep3.index, sweep3)\n",
        "decorate(xlabel='Lamda, the arrival rate',\n",
        "         ylabel='Average Time Customer Spend',\n",
        "         title='2 counters, 2 lines')"
      ],
      "execution_count": 33,
      "outputs": [
        {
          "output_type": "display_data",
          "data": {
            "image/png": "[encoded data removed]",
            "text/plain": [
              "<Figure size 432x288 with 1 Axes>"
            ]
          },
          "metadata": {
            "tags": [],
            "needs_background": "light"
          }
        }
      ]
    },
    {
      "cell_type": "code",
      "metadata": {
        "id": "aOnEiH2efb5y"
      },
      "source": [
        "# Solution goes here"
      ],
      "execution_count": 29,
      "outputs": []
    },
    {
      "cell_type": "code",
      "metadata": {
        "id": "19Km8lwGfb5y"
      },
      "source": [
        ""
      ],
      "execution_count": 29,
      "outputs": []
    }
  ]
}