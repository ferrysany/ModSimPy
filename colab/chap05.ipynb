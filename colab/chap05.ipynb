{
  "nbformat": 4,
  "nbformat_minor": 0,
  "metadata": {
    "kernelspec": {
      "display_name": "Python 3",
      "language": "python",
      "name": "python3"
    },
    "language_info": {
      "codemirror_mode": {
        "name": "ipython",
        "version": 3
      },
      "file_extension": ".py",
      "mimetype": "text/x-python",
      "name": "python",
      "nbconvert_exporter": "python",
      "pygments_lexer": "ipython3",
      "version": "3.7.9"
    },
    "colab": {
      "name": "chap05.ipynb",
      "provenance": []
    }
  },
  "cells": [
    {
      "cell_type": "markdown",
      "metadata": {
        "id": "iPE3oY-oHF4k"
      },
      "source": [
        "# Chapter 5"
      ]
    },
    {
      "cell_type": "markdown",
      "metadata": {
        "tags": [],
        "id": "OL-k7bYZHF4q"
      },
      "source": [
        "*Modeling and Simulation in Python* Edit by Chun San Yip 14 June 2021\n",
        "\n",
        "Copyright 2021 Allen Downey\n",
        "\n",
        "License: [Creative Commons Attribution-NonCommercial-ShareAlike 4.0 International](https://creativecommons.org/licenses/by-nc-sa/4.0/)"
      ]
    },
    {
      "cell_type": "code",
      "metadata": {
        "tags": [],
        "id": "SKoI-0GzHF4u"
      },
      "source": [
        "# check if the libraries we need are installed\n",
        "\n",
        "try:\n",
        "    import pint\n",
        "except ImportError:\n",
        "    !pip install pint\n",
        "    import pint\n",
        "    \n",
        "try:\n",
        "    from modsim import *\n",
        "except ImportError:\n",
        "    !pip install modsimpy\n",
        "    from modsim import *"
      ],
      "execution_count": null,
      "outputs": []
    },
    {
      "cell_type": "markdown",
      "metadata": {
        "id": "yD_qlKjoHF4w"
      },
      "source": [
        "## Reading data\n",
        "\n",
        "Pandas is a library that provides tools for reading and processing data.  `read_html` reads a web page from a file or the Internet and creates one `DataFrame` for each table on the page."
      ]
    },
    {
      "cell_type": "code",
      "metadata": {
        "id": "-w9PSt6GHF4x"
      },
      "source": [
        "from pandas import read_html"
      ],
      "execution_count": 2,
      "outputs": []
    },
    {
      "cell_type": "markdown",
      "metadata": {
        "id": "HQwRgN-NHF4x"
      },
      "source": [
        "The following cell downloads a copy of https://en.wikipedia.org/wiki/World_population_estimates"
      ]
    },
    {
      "cell_type": "code",
      "metadata": {
        "id": "XUfgy8SYHF4y"
      },
      "source": [
        "import os\n",
        "\n",
        "filename = 'World_population_estimates.html'\n",
        "\n",
        "if not os.path.exists(filename):\n",
        "    !wget https://raw.githubusercontent.com/AllenDowney/ModSimPy/master/data/World_population_estimates.html"
      ],
      "execution_count": null,
      "outputs": []
    },
    {
      "cell_type": "code",
      "metadata": {
        "colab": {
          "base_uri": "https://localhost:8080/"
        },
        "id": "r06mR0RHHF4z",
        "outputId": "b6ffe2f0-9295-4e6a-ace5-feb17082dbb5"
      },
      "source": [
        "tables = read_html(filename, header=0, index_col=0, decimal='M')\n",
        "len(tables)"
      ],
      "execution_count": 4,
      "outputs": [
        {
          "output_type": "execute_result",
          "data": {
            "text/plain": [
              "6"
            ]
          },
          "metadata": {
            "tags": []
          },
          "execution_count": 4
        }
      ]
    },
    {
      "cell_type": "markdown",
      "metadata": {
        "id": "5_yvjBxaHF40"
      },
      "source": [
        "The arguments of `read_html` specify the file to read and how to interpret the tables in the file.  The result, `tables`, is a sequence of `DataFrame` objects; `len(tables)` reports the length of the sequence.\n",
        "\n",
        "We can select the `DataFrame` we want using the bracket operator.  The tables are numbered from 0, so `tables[2]` is actually the third table on the page.\n",
        "\n",
        "`head` selects the header and the first five rows."
      ]
    },
    {
      "cell_type": "code",
      "metadata": {
        "scrolled": true,
        "id": "yXWwe2T8HF41"
      },
      "source": [
        "table2 = tables[2]\n",
        "table2.head()"
      ],
      "execution_count": null,
      "outputs": []
    },
    {
      "cell_type": "markdown",
      "metadata": {
        "id": "dCRWa6o-HF42"
      },
      "source": [
        "`tail` selects the last five rows."
      ]
    },
    {
      "cell_type": "code",
      "metadata": {
        "id": "bamRq_drHF45"
      },
      "source": [
        "table2.tail()"
      ],
      "execution_count": null,
      "outputs": []
    },
    {
      "cell_type": "markdown",
      "metadata": {
        "id": "1ln86agCHF46"
      },
      "source": [
        "Long column names are awkard to work with, but we can replace them with abbreviated names."
      ]
    },
    {
      "cell_type": "code",
      "metadata": {
        "id": "k4VOfUYFHF47"
      },
      "source": [
        "table2.columns = ['census', 'prb', 'un', 'maddison', \n",
        "                  'hyde', 'tanton', 'biraben', 'mj', \n",
        "                  'thomlinson', 'durand', 'clark']"
      ],
      "execution_count": 7,
      "outputs": []
    },
    {
      "cell_type": "markdown",
      "metadata": {
        "id": "2AY8uySnHF47"
      },
      "source": [
        "Here's what the DataFrame looks like now.  "
      ]
    },
    {
      "cell_type": "code",
      "metadata": {
        "colab": {
          "base_uri": "https://localhost:8080/",
          "height": 237
        },
        "id": "0IYk34OqHF48",
        "outputId": "ab6f3be7-a7f2-41c6-a9f8-ecf7c4301424"
      },
      "source": [
        "table2.head()"
      ],
      "execution_count": 8,
      "outputs": [
        {
          "output_type": "execute_result",
          "data": {
            "text/html": [
              "<div>\n",
              "<style scoped>\n",
              "    .dataframe tbody tr th:only-of-type {\n",
              "        vertical-align: middle;\n",
              "    }\n",
              "\n",
              "    .dataframe tbody tr th {\n",
              "        vertical-align: top;\n",
              "    }\n",
              "\n",
              "    .dataframe thead th {\n",
              "        text-align: right;\n",
              "    }\n",
              "</style>\n",
              "<table border=\"1\" class=\"dataframe\">\n",
              "  <thead>\n",
              "    <tr style=\"text-align: right;\">\n",
              "      <th></th>\n",
              "      <th>census</th>\n",
              "      <th>prb</th>\n",
              "      <th>un</th>\n",
              "      <th>maddison</th>\n",
              "      <th>hyde</th>\n",
              "      <th>tanton</th>\n",
              "      <th>biraben</th>\n",
              "      <th>mj</th>\n",
              "      <th>thomlinson</th>\n",
              "      <th>durand</th>\n",
              "      <th>clark</th>\n",
              "    </tr>\n",
              "    <tr>\n",
              "      <th>Year</th>\n",
              "      <th></th>\n",
              "      <th></th>\n",
              "      <th></th>\n",
              "      <th></th>\n",
              "      <th></th>\n",
              "      <th></th>\n",
              "      <th></th>\n",
              "      <th></th>\n",
              "      <th></th>\n",
              "      <th></th>\n",
              "      <th></th>\n",
              "    </tr>\n",
              "  </thead>\n",
              "  <tbody>\n",
              "    <tr>\n",
              "      <th>1950</th>\n",
              "      <td>2557628654</td>\n",
              "      <td>2.516000e+09</td>\n",
              "      <td>2.525149e+09</td>\n",
              "      <td>2.544000e+09</td>\n",
              "      <td>2.527960e+09</td>\n",
              "      <td>2.400000e+09</td>\n",
              "      <td>2.527000e+09</td>\n",
              "      <td>2.500000e+09</td>\n",
              "      <td>2.400000e+09</td>\n",
              "      <td>NaN</td>\n",
              "      <td>2.486000e+09</td>\n",
              "    </tr>\n",
              "    <tr>\n",
              "      <th>1951</th>\n",
              "      <td>2594939877</td>\n",
              "      <td>NaN</td>\n",
              "      <td>2.572851e+09</td>\n",
              "      <td>2.571663e+09</td>\n",
              "      <td>NaN</td>\n",
              "      <td>NaN</td>\n",
              "      <td>NaN</td>\n",
              "      <td>NaN</td>\n",
              "      <td>NaN</td>\n",
              "      <td>NaN</td>\n",
              "      <td>NaN</td>\n",
              "    </tr>\n",
              "    <tr>\n",
              "      <th>1952</th>\n",
              "      <td>2636772306</td>\n",
              "      <td>NaN</td>\n",
              "      <td>2.619292e+09</td>\n",
              "      <td>2.617949e+09</td>\n",
              "      <td>NaN</td>\n",
              "      <td>NaN</td>\n",
              "      <td>NaN</td>\n",
              "      <td>NaN</td>\n",
              "      <td>NaN</td>\n",
              "      <td>NaN</td>\n",
              "      <td>NaN</td>\n",
              "    </tr>\n",
              "    <tr>\n",
              "      <th>1953</th>\n",
              "      <td>2682053389</td>\n",
              "      <td>NaN</td>\n",
              "      <td>2.665865e+09</td>\n",
              "      <td>2.665959e+09</td>\n",
              "      <td>NaN</td>\n",
              "      <td>NaN</td>\n",
              "      <td>NaN</td>\n",
              "      <td>NaN</td>\n",
              "      <td>NaN</td>\n",
              "      <td>NaN</td>\n",
              "      <td>NaN</td>\n",
              "    </tr>\n",
              "    <tr>\n",
              "      <th>1954</th>\n",
              "      <td>2730228104</td>\n",
              "      <td>NaN</td>\n",
              "      <td>2.713172e+09</td>\n",
              "      <td>2.716927e+09</td>\n",
              "      <td>NaN</td>\n",
              "      <td>NaN</td>\n",
              "      <td>NaN</td>\n",
              "      <td>NaN</td>\n",
              "      <td>NaN</td>\n",
              "      <td>NaN</td>\n",
              "      <td>NaN</td>\n",
              "    </tr>\n",
              "  </tbody>\n",
              "</table>\n",
              "</div>"
            ],
            "text/plain": [
              "          census           prb            un  ...    thomlinson  durand         clark\n",
              "Year                                          ...                                    \n",
              "1950  2557628654  2.516000e+09  2.525149e+09  ...  2.400000e+09     NaN  2.486000e+09\n",
              "1951  2594939877           NaN  2.572851e+09  ...           NaN     NaN           NaN\n",
              "1952  2636772306           NaN  2.619292e+09  ...           NaN     NaN           NaN\n",
              "1953  2682053389           NaN  2.665865e+09  ...           NaN     NaN           NaN\n",
              "1954  2730228104           NaN  2.713172e+09  ...           NaN     NaN           NaN\n",
              "\n",
              "[5 rows x 11 columns]"
            ]
          },
          "metadata": {
            "tags": []
          },
          "execution_count": 8
        }
      ]
    },
    {
      "cell_type": "markdown",
      "metadata": {
        "id": "Hi2zwKG2HF49"
      },
      "source": [
        "The first column, which is labeled `Year`, is special.  It is the **index** for this `DataFrame`, which means it contains the labels for the rows.\n",
        "\n",
        "Some of the values use scientific notation; for example, `2.544000e+09` is shorthand for $2.544 \\cdot 10^9$ or 2.544 billion.\n",
        "\n",
        "`NaN` is a special value that indicates missing data."
      ]
    },
    {
      "cell_type": "markdown",
      "metadata": {
        "id": "8pBb-0xGHF4-"
      },
      "source": [
        "### Series\n",
        "\n",
        "We can use dot notation to select a column from a `DataFrame`.  The result is a `Series`, which is like a `DataFrame` with a single column."
      ]
    },
    {
      "cell_type": "code",
      "metadata": {
        "colab": {
          "base_uri": "https://localhost:8080/"
        },
        "id": "EqY5l84xHF4-",
        "outputId": "3bd17f42-d110-4b5d-eada-fac68fbb3559"
      },
      "source": [
        "census = table2.census\n",
        "census.head()"
      ],
      "execution_count": 9,
      "outputs": [
        {
          "output_type": "execute_result",
          "data": {
            "text/plain": [
              "Year\n",
              "1950    2557628654\n",
              "1951    2594939877\n",
              "1952    2636772306\n",
              "1953    2682053389\n",
              "1954    2730228104\n",
              "Name: census, dtype: int64"
            ]
          },
          "metadata": {
            "tags": []
          },
          "execution_count": 9
        }
      ]
    },
    {
      "cell_type": "code",
      "metadata": {
        "colab": {
          "base_uri": "https://localhost:8080/"
        },
        "id": "RkvvaZGYHF4-",
        "outputId": "a0da5455-001d-4a21-8927-b0cd6f54d14b"
      },
      "source": [
        "census.tail()"
      ],
      "execution_count": 10,
      "outputs": [
        {
          "output_type": "execute_result",
          "data": {
            "text/plain": [
              "Year\n",
              "2012    7013871313\n",
              "2013    7092128094\n",
              "2014    7169968185\n",
              "2015    7247892788\n",
              "2016    7325996709\n",
              "Name: census, dtype: int64"
            ]
          },
          "metadata": {
            "tags": []
          },
          "execution_count": 10
        }
      ]
    },
    {
      "cell_type": "markdown",
      "metadata": {
        "id": "WYS0-BN7HF4_"
      },
      "source": [
        "Like a `DataFrame`, a `Series` contains an index, which labels the rows.\n",
        "\n",
        "`1e9` is scientific notation for $1 \\cdot 10^9$ or 1 billion."
      ]
    },
    {
      "cell_type": "markdown",
      "metadata": {
        "id": "aU_OUgtsHF4_"
      },
      "source": [
        "From here on, we will work in units of billions."
      ]
    },
    {
      "cell_type": "code",
      "metadata": {
        "colab": {
          "base_uri": "https://localhost:8080/"
        },
        "id": "8JJ7oszbHF4_",
        "outputId": "baf7586c-6380-491d-8542-71f15fbd69c0"
      },
      "source": [
        "un = table2.un / 1e9\n",
        "un.head()"
      ],
      "execution_count": 19,
      "outputs": [
        {
          "output_type": "execute_result",
          "data": {
            "text/plain": [
              "Year\n",
              "1950    2.525149\n",
              "1951    2.572851\n",
              "1952    2.619292\n",
              "1953    2.665865\n",
              "1954    2.713172\n",
              "Name: un, dtype: float64"
            ]
          },
          "metadata": {
            "tags": []
          },
          "execution_count": 19
        }
      ]
    },
    {
      "cell_type": "code",
      "metadata": {
        "colab": {
          "base_uri": "https://localhost:8080/"
        },
        "id": "g0X7PmvmHF5A",
        "outputId": "d2b8fe0a-fe2f-4a98-94dc-682796ffaecf"
      },
      "source": [
        "census = table2.census / 1e9\n",
        "census.head()"
      ],
      "execution_count": 12,
      "outputs": [
        {
          "output_type": "execute_result",
          "data": {
            "text/plain": [
              "Year\n",
              "1950    2.557629\n",
              "1951    2.594940\n",
              "1952    2.636772\n",
              "1953    2.682053\n",
              "1954    2.730228\n",
              "Name: census, dtype: float64"
            ]
          },
          "metadata": {
            "tags": []
          },
          "execution_count": 12
        }
      ]
    },
    {
      "cell_type": "markdown",
      "metadata": {
        "id": "tgN0O_qlHF5A"
      },
      "source": [
        "Here's what these estimates look like."
      ]
    },
    {
      "cell_type": "code",
      "metadata": {
        "scrolled": false,
        "colab": {
          "base_uri": "https://localhost:8080/",
          "height": 297
        },
        "id": "hnk8748HHF5A",
        "outputId": "4bc601d1-9a9f-46db-dd8c-fd37e618caf6"
      },
      "source": [
        "plot(census, ':', label='US Census')\n",
        "plot(un, '--', label='UN DESA')\n",
        "    \n",
        "decorate(xlabel='Year',\n",
        "         ylabel='World population (billion)')"
      ],
      "execution_count": 13,
      "outputs": [
        {
          "output_type": "display_data",
          "data": {
            "image/png": "[encoded data removed]",
            "text/plain": [
              "<Figure size 432x288 with 1 Axes>"
            ]
          },
          "metadata": {
            "tags": [],
            "needs_background": "light"
          }
        }
      ]
    },
    {
      "cell_type": "markdown",
      "metadata": {
        "id": "3l4iekJmHF5B"
      },
      "source": [
        "The following expression computes the elementwise differences between the two series, then divides through by the UN value to produce [relative errors](https://en.wikipedia.org/wiki/Approximation_error), then finds the largest element.\n",
        "\n",
        "So the largest relative error between the estimates is about 1.3%."
      ]
    },
    {
      "cell_type": "code",
      "metadata": {
        "colab": {
          "base_uri": "https://localhost:8080/"
        },
        "id": "ZdVcUlWkHF5B",
        "outputId": "5e33c0be-c304-4b62-98eb-d544649aadc9"
      },
      "source": [
        "max(abs(census - un) / un) * 100"
      ],
      "execution_count": 20,
      "outputs": [
        {
          "output_type": "execute_result",
          "data": {
            "text/plain": [
              "1.3821293828998855"
            ]
          },
          "metadata": {
            "tags": []
          },
          "execution_count": 20
        }
      ]
    },
    {
      "cell_type": "markdown",
      "metadata": {
        "id": "Rl2Jm74gHF5B"
      },
      "source": [
        "**Exercise:** Break down that expression into smaller steps and display the intermediate results, to make sure you understand how it works.\n",
        "\n",
        "1.  Compute the elementwise differences, `census - un`\n",
        "2.  Compute the absolute differences, `abs(census - un)`\n",
        "3.  Compute the relative differences, `abs(census - un) / un`\n",
        "4.  Compute the percent differences, `abs(census - un) / un * 100`\n"
      ]
    },
    {
      "cell_type": "code",
      "metadata": {
        "scrolled": true,
        "colab": {
          "base_uri": "https://localhost:8080/"
        },
        "id": "vvuQKby4HF5B",
        "outputId": "cde36e90-0434-46ee-fed8-8a9175afe95d"
      },
      "source": [
        "census-un"
      ],
      "execution_count": 21,
      "outputs": [
        {
          "output_type": "execute_result",
          "data": {
            "text/plain": [
              "Year\n",
              "1950    0.032480\n",
              "1951    0.022089\n",
              "1952    0.017480\n",
              "1953    0.016188\n",
              "1954    0.017056\n",
              "          ...   \n",
              "2012   -0.066201\n",
              "2013   -0.069991\n",
              "2014   -0.073816\n",
              "2015   -0.101579\n",
              "2016         NaN\n",
              "Length: 67, dtype: float64"
            ]
          },
          "metadata": {
            "tags": []
          },
          "execution_count": 21
        }
      ]
    },
    {
      "cell_type": "code",
      "metadata": {
        "scrolled": true,
        "colab": {
          "base_uri": "https://localhost:8080/"
        },
        "id": "GVJSlr7VHF5B",
        "outputId": "a0d181c0-ce0a-4492-af2e-821eb63ecad8"
      },
      "source": [
        "abs(census-un)"
      ],
      "execution_count": 22,
      "outputs": [
        {
          "output_type": "execute_result",
          "data": {
            "text/plain": [
              "Year\n",
              "1950    0.032480\n",
              "1951    0.022089\n",
              "1952    0.017480\n",
              "1953    0.016188\n",
              "1954    0.017056\n",
              "          ...   \n",
              "2012    0.066201\n",
              "2013    0.069991\n",
              "2014    0.073816\n",
              "2015    0.101579\n",
              "2016         NaN\n",
              "Length: 67, dtype: float64"
            ]
          },
          "metadata": {
            "tags": []
          },
          "execution_count": 22
        }
      ]
    },
    {
      "cell_type": "code",
      "metadata": {
        "scrolled": true,
        "colab": {
          "base_uri": "https://localhost:8080/"
        },
        "id": "SPTLRwB_HF5B",
        "outputId": "43d3fdcf-c29e-496e-ad76-0bf69978c207"
      },
      "source": [
        "abs(census - un) / un"
      ],
      "execution_count": 23,
      "outputs": [
        {
          "output_type": "execute_result",
          "data": {
            "text/plain": [
              "Year\n",
              "1950    0.012862\n",
              "1951    0.008585\n",
              "1952    0.006674\n",
              "1953    0.006072\n",
              "1954    0.006286\n",
              "          ...   \n",
              "2012    0.009350\n",
              "2013    0.009772\n",
              "2014    0.010190\n",
              "2015    0.013821\n",
              "2016         NaN\n",
              "Length: 67, dtype: float64"
            ]
          },
          "metadata": {
            "tags": []
          },
          "execution_count": 23
        }
      ]
    },
    {
      "cell_type": "code",
      "metadata": {
        "colab": {
          "base_uri": "https://localhost:8080/"
        },
        "id": "CYB2B6liHF5C",
        "outputId": "e0f08b43-d74a-4487-860e-929cb8bf417b"
      },
      "source": [
        "abs(census - un) / un * 100"
      ],
      "execution_count": 24,
      "outputs": [
        {
          "output_type": "execute_result",
          "data": {
            "text/plain": [
              "Year\n",
              "1950    1.286247\n",
              "1951    0.858540\n",
              "1952    0.667365\n",
              "1953    0.607232\n",
              "1954    0.628640\n",
              "          ...   \n",
              "2012    0.935034\n",
              "2013    0.977243\n",
              "2014    1.019023\n",
              "2015    1.382129\n",
              "2016         NaN\n",
              "Length: 67, dtype: float64"
            ]
          },
          "metadata": {
            "tags": []
          },
          "execution_count": 24
        }
      ]
    },
    {
      "cell_type": "markdown",
      "metadata": {
        "id": "yqC3O7EIHF5C"
      },
      "source": [
        "`max` and `abs` are built-in functions provided by Python, but NumPy also provides version that are a little more general.  When you import `modsim`, you get the NumPy versions of these functions."
      ]
    },
    {
      "cell_type": "markdown",
      "metadata": {
        "id": "Begn8UVKHF5D"
      },
      "source": [
        "### Constant growth"
      ]
    },
    {
      "cell_type": "markdown",
      "metadata": {
        "id": "_RxpSAa8HF5D"
      },
      "source": [
        "We can select a value from a `Series` using bracket notation.  Here's the first element:"
      ]
    },
    {
      "cell_type": "code",
      "metadata": {
        "colab": {
          "base_uri": "https://localhost:8080/"
        },
        "id": "ZfEQcyG6HF5D",
        "outputId": "04e4aa0c-d8b0-436c-e75f-421854362217"
      },
      "source": [
        "census[1950]"
      ],
      "execution_count": 34,
      "outputs": [
        {
          "output_type": "execute_result",
          "data": {
            "text/plain": [
              "2.557628654"
            ]
          },
          "metadata": {
            "tags": []
          },
          "execution_count": 34
        }
      ]
    },
    {
      "cell_type": "markdown",
      "metadata": {
        "id": "Fz3PmF8MHF5D"
      },
      "source": [
        "And the last value."
      ]
    },
    {
      "cell_type": "code",
      "metadata": {
        "colab": {
          "base_uri": "https://localhost:8080/"
        },
        "id": "_J44zrGSHF5E",
        "outputId": "c47cb545-566f-46d7-f63c-b755c24aeeec"
      },
      "source": [
        "census[2016]"
      ],
      "execution_count": 35,
      "outputs": [
        {
          "output_type": "execute_result",
          "data": {
            "text/plain": [
              "7.325996709"
            ]
          },
          "metadata": {
            "tags": []
          },
          "execution_count": 35
        }
      ]
    },
    {
      "cell_type": "markdown",
      "metadata": {
        "id": "GNBkf8h8HF5E"
      },
      "source": [
        "But rather than \"hard code\" those dates, we can get the first and last labels from the `Series`:"
      ]
    },
    {
      "cell_type": "code",
      "metadata": {
        "id": "60c5WHJPHF5E"
      },
      "source": [
        "t_0 = get_first_label(census)"
      ],
      "execution_count": 43,
      "outputs": []
    },
    {
      "cell_type": "code",
      "metadata": {
        "id": "5IwDaNlqHF5E"
      },
      "source": [
        "t_end = get_last_label(census)"
      ],
      "execution_count": 44,
      "outputs": []
    },
    {
      "cell_type": "code",
      "metadata": {
        "id": "E4TPprrQHF5F"
      },
      "source": [
        "elapsed_time = t_end - t_0"
      ],
      "execution_count": 38,
      "outputs": []
    },
    {
      "cell_type": "markdown",
      "metadata": {
        "id": "L7xeINEqHF5F"
      },
      "source": [
        "And we can get the first and last values:"
      ]
    },
    {
      "cell_type": "code",
      "metadata": {
        "id": "CtHyFe18HF5G"
      },
      "source": [
        "p_0 = get_first_value(census)"
      ],
      "execution_count": 45,
      "outputs": []
    },
    {
      "cell_type": "code",
      "metadata": {
        "id": "YiQiKDLGHF5I"
      },
      "source": [
        "p_end = get_last_value(census)"
      ],
      "execution_count": 46,
      "outputs": []
    },
    {
      "cell_type": "markdown",
      "metadata": {
        "id": "qzkfMRFKHF5J"
      },
      "source": [
        "Then we can compute the average annual growth in billions of people per year."
      ]
    },
    {
      "cell_type": "code",
      "metadata": {
        "id": "glAZa0lWHF5J"
      },
      "source": [
        "total_growth = p_end - p_0"
      ],
      "execution_count": 47,
      "outputs": []
    },
    {
      "cell_type": "code",
      "metadata": {
        "id": "3iKi6GMlHF5J"
      },
      "source": [
        "annual_growth = total_growth / elapsed_time"
      ],
      "execution_count": 62,
      "outputs": []
    },
    {
      "cell_type": "markdown",
      "metadata": {
        "id": "r--bqUFAHF5K"
      },
      "source": [
        "### TimeSeries"
      ]
    },
    {
      "cell_type": "markdown",
      "metadata": {
        "id": "gsltgerOHF5K"
      },
      "source": [
        "Now let's create a `TimeSeries` to contain values generated by a linear growth model."
      ]
    },
    {
      "cell_type": "code",
      "metadata": {
        "id": "6ZLEKlnPHF5K"
      },
      "source": [
        "results = TimeSeries()"
      ],
      "execution_count": 59,
      "outputs": []
    },
    {
      "cell_type": "markdown",
      "metadata": {
        "id": "Mn0WcJASHF5K"
      },
      "source": [
        "Initially the `TimeSeries` is empty, but we can initialize it so the starting value, in 1950, is the 1950 population estimated by the US Census."
      ]
    },
    {
      "cell_type": "code",
      "metadata": {
        "colab": {
          "base_uri": "https://localhost:8080/",
          "height": 80
        },
        "id": "3lPdt511HF5K",
        "outputId": "17ccfb79-7805-4bd0-b67c-29a0f91600cd"
      },
      "source": [
        "results[t_0] = census[t_0]\n",
        "results"
      ],
      "execution_count": 51,
      "outputs": [
        {
          "output_type": "execute_result",
          "data": {
            "text/html": [
              "<div>\n",
              "<style scoped>\n",
              "    .dataframe tbody tr th:only-of-type {\n",
              "        vertical-align: middle;\n",
              "    }\n",
              "\n",
              "    .dataframe tbody tr th {\n",
              "        vertical-align: top;\n",
              "    }\n",
              "\n",
              "    .dataframe thead th {\n",
              "        text-align: right;\n",
              "    }\n",
              "</style>\n",
              "<table border=\"1\" class=\"dataframe\">\n",
              "  <thead>\n",
              "    <tr style=\"text-align: right;\">\n",
              "      <th></th>\n",
              "      <th>values</th>\n",
              "    </tr>\n",
              "  </thead>\n",
              "  <tbody>\n",
              "    <tr>\n",
              "      <th>1950</th>\n",
              "      <td>2.557629</td>\n",
              "    </tr>\n",
              "  </tbody>\n",
              "</table>\n",
              "</div>"
            ],
            "text/plain": [
              "1950    2.557629\n",
              "dtype: float64"
            ]
          },
          "metadata": {
            "tags": []
          },
          "execution_count": 51
        }
      ]
    },
    {
      "cell_type": "markdown",
      "metadata": {
        "id": "SfzjPn0gHF5L"
      },
      "source": [
        "After that, the population in the model grows by a constant amount each year."
      ]
    },
    {
      "cell_type": "code",
      "metadata": {
        "id": "_23TZCdsHF5M"
      },
      "source": [
        "for t in linrange(t_0, t_end):\n",
        "    results[t+1] = results[t] + annual_growth"
      ],
      "execution_count": 53,
      "outputs": []
    },
    {
      "cell_type": "markdown",
      "metadata": {
        "id": "jqf8dbd7HF5M"
      },
      "source": [
        "Here's what the results looks like, compared to the actual data."
      ]
    },
    {
      "cell_type": "code",
      "metadata": {
        "colab": {
          "base_uri": "https://localhost:8080/",
          "height": 297
        },
        "id": "BSUvVaqlHF5N",
        "outputId": "80b454e8-63c1-4c8c-ad4d-013a6638a945"
      },
      "source": [
        "plot(census, ':', label='US Census')\n",
        "plot(un, '--', label='UN DESA')\n",
        "plot(results, color='gray', label='model')\n",
        "\n",
        "decorate(xlabel='Year', \n",
        "         ylabel='World population (billion)',\n",
        "         title='Constant growth')"
      ],
      "execution_count": 54,
      "outputs": [
        {
          "output_type": "display_data",
          "data": {
            "image/png": "[encoded data removed]",
            "text/plain": [
              "<Figure size 432x288 with 1 Axes>"
            ]
          },
          "metadata": {
            "tags": [],
            "needs_background": "light"
          }
        }
      ]
    },
    {
      "cell_type": "markdown",
      "metadata": {
        "id": "scpaSz0iHF5O"
      },
      "source": [
        "The model fits the data pretty well after 1990, but not so well before."
      ]
    },
    {
      "cell_type": "markdown",
      "metadata": {
        "id": "wWPFNNZXHF5O"
      },
      "source": [
        "### Exercises\n",
        "\n",
        "**Optional Exercise:**  Try fitting the model using data from 1970 to the present, and see if that does a better job.\n",
        "\n",
        "Hint: \n",
        "\n",
        "1. Copy the code from above and make a few changes.  Test your code after each small change.\n",
        "\n",
        "2. Make sure your `TimeSeries` starts in 1950, even though the estimated annual growth is based on later data.\n",
        "\n",
        "3. You might want to add a constant to the starting value to match the data better."
      ]
    },
    {
      "cell_type": "code",
      "metadata": {
        "colab": {
          "base_uri": "https://localhost:8080/",
          "height": 297
        },
        "id": "Z1IiNUM-HF5P",
        "outputId": "1b849d0b-1e33-46fa-ba17-e14190b7b49a"
      },
      "source": [
        "results2 = TimeSeries()\n",
        "results2[t_0] = census[t_0]-0.4\n",
        "\n",
        "total_growth2 = p_end - census[1970]\n",
        "elapsed_time2 = t_end - 1970\n",
        "\n",
        "annual_growth2 = total_growth2 / elapsed_time2\n",
        "\n",
        "for t in linrange(t_0, t_end):\n",
        "    results2[t+1] = results2[t] + annual_growth2\n",
        "\n",
        "plot(census, ':', label='US Census')\n",
        "plot(un, '--', label='UN DESA')\n",
        "plot(results2, color='gray', label='model')\n",
        "\n",
        "decorate(xlabel='Year', \n",
        "         ylabel='World population (billion)',\n",
        "         title='Constant growth by changing annual_growth rate')"
      ],
      "execution_count": 75,
      "outputs": [
        {
          "output_type": "display_data",
          "data": {
            "image/png": "[encoded data removed]",
            "text/plain": [
              "<Figure size 432x288 with 1 Axes>"
            ]
          },
          "metadata": {
            "tags": [],
            "needs_background": "light"
          }
        }
      ]
    },
    {
      "cell_type": "code",
      "metadata": {
        "colab": {
          "base_uri": "https://localhost:8080/"
        },
        "id": "3r95bb-cHF5P",
        "outputId": "9eaeae93-ba91-4a73-826d-1b1323dfd5fa"
      },
      "source": [
        "census.loc[1960:1970]"
      ],
      "execution_count": 58,
      "outputs": [
        {
          "output_type": "execute_result",
          "data": {
            "text/plain": [
              "Year\n",
              "1960    3.043002\n",
              "1961    3.083967\n",
              "1962    3.140093\n",
              "1963    3.209828\n",
              "1964    3.281201\n",
              "1965    3.350426\n",
              "1966    3.420678\n",
              "1967    3.490334\n",
              "1968    3.562314\n",
              "1969    3.637159\n",
              "1970    3.712698\n",
              "Name: census, dtype: float64"
            ]
          },
          "metadata": {
            "tags": []
          },
          "execution_count": 58
        }
      ]
    },
    {
      "cell_type": "code",
      "metadata": {
        "id": "I-bGN_PUHF5P"
      },
      "source": [
        ""
      ],
      "execution_count": 74,
      "outputs": []
    }
  ]
}