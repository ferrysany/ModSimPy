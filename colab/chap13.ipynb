{
  "nbformat": 4,
  "nbformat_minor": 0,
  "metadata": {
    "kernelspec": {
      "display_name": "Python 3",
      "language": "python",
      "name": "python3"
    },
    "language_info": {
      "codemirror_mode": {
        "name": "ipython",
        "version": 3
      },
      "file_extension": ".py",
      "mimetype": "text/x-python",
      "name": "python",
      "nbconvert_exporter": "python",
      "pygments_lexer": "ipython3",
      "version": "3.7.9"
    },
    "colab": {
      "name": "chap13.ipynb",
      "provenance": []
    }
  },
  "cells": [
    {
      "cell_type": "markdown",
      "metadata": {
        "id": "Krn5EJ6or12O"
      },
      "source": [
        "# Chapter 13"
      ]
    },
    {
      "cell_type": "markdown",
      "metadata": {
        "tags": [],
        "id": "DsoL0WYor12R"
      },
      "source": [
        "*Modeling and Simulation in Python* - Chun San Yip， Final Exam.\n",
        "\n",
        "Copyright 2021 Allen Downey\n",
        "\n",
        "License: [Creative Commons Attribution-NonCommercial-ShareAlike 4.0 International](https://creativecommons.org/licenses/by-nc-sa/4.0/)"
      ]
    },
    {
      "cell_type": "code",
      "metadata": {
        "tags": [],
        "id": "bg9KYQ8br12T"
      },
      "source": [
        "# check if the libraries we need are installed\n",
        "\n",
        "try:\n",
        "    import pint\n",
        "except ImportError:\n",
        "    !pip install pint\n",
        "    import pint\n",
        "    \n",
        "try:\n",
        "    from modsim import *\n",
        "except ImportError:\n",
        "    !pip install modsimpy\n",
        "    from modsim import *"
      ],
      "execution_count": null,
      "outputs": []
    },
    {
      "cell_type": "markdown",
      "metadata": {
        "id": "1KRQ7kZOr12W"
      },
      "source": [
        "### Code from previous chapters"
      ]
    },
    {
      "cell_type": "markdown",
      "metadata": {
        "id": "p0JzFfgzr12X"
      },
      "source": [
        "`make_system`, `plot_results`, and `calc_total_infected` are unchanged."
      ]
    },
    {
      "cell_type": "code",
      "metadata": {
        "id": "3F54lLi7r12Y"
      },
      "source": [
        "def make_system(beta, gamma):\n",
        "    \"\"\"Make a system object for the SIR model.\n",
        "    \n",
        "    beta: contact rate in days\n",
        "    gamma: recovery rate in days\n",
        "    \n",
        "    returns: System object\n",
        "    \"\"\"\n",
        "    init = State(S=89, I=1, R=0)\n",
        "    init /= np.sum(init)\n",
        "\n",
        "    t0 = 0\n",
        "    t_end = 7 * 14\n",
        "\n",
        "    return System(init=init, t0=t0, t_end=t_end,\n",
        "                  beta=beta, gamma=gamma)"
      ],
      "execution_count": null,
      "outputs": []
    },
    {
      "cell_type": "code",
      "metadata": {
        "id": "6AB14gVRr12Z"
      },
      "source": [
        "def plot_results(S, I, R):\n",
        "    \"\"\"Plot the results of a SIR model.\n",
        "    \n",
        "    S: TimeSeries\n",
        "    I: TimeSeries\n",
        "    R: TimeSeries\n",
        "    \"\"\"\n",
        "    plot(S, '--', label='Susceptible')\n",
        "    plot(I, '-', label='Infected')\n",
        "    plot(R, ':', label='Recovered')\n",
        "    decorate(xlabel='Time (days)',\n",
        "             ylabel='Fraction of population')"
      ],
      "execution_count": null,
      "outputs": []
    },
    {
      "cell_type": "code",
      "metadata": {
        "id": "n88_pawQr12Z"
      },
      "source": [
        "def calc_total_infected(results):\n",
        "    \"\"\"Fraction of population infected during the simulation.\n",
        "    \n",
        "    results: DataFrame with columns S, I, R\n",
        "    \n",
        "    returns: fraction of population\n",
        "    \"\"\"\n",
        "    return get_first_value(results.S) - get_last_value(results.S)"
      ],
      "execution_count": null,
      "outputs": []
    },
    {
      "cell_type": "code",
      "metadata": {
        "id": "oD4Amr6Zr12a"
      },
      "source": [
        "def run_simulation(system, update_func):\n",
        "    \"\"\"Runs a simulation of the system.\n",
        "        \n",
        "    system: System object\n",
        "    update_func: function that updates state\n",
        "    \n",
        "    returns: TimeFrame\n",
        "    \"\"\"\n",
        "    init, t0, t_end = system.init, system.t0, system.t_end\n",
        "    \n",
        "    frame = TimeFrame(columns=init.index)\n",
        "    frame.row[t0] = init\n",
        "    \n",
        "    for t in linrange(t0, t_end):\n",
        "        frame.row[t+1] = update_func(frame.row[t], t, system)\n",
        "    \n",
        "    return frame"
      ],
      "execution_count": null,
      "outputs": []
    },
    {
      "cell_type": "code",
      "metadata": {
        "id": "got_Wx8tr12i"
      },
      "source": [
        "def update_func(state, t, system):\n",
        "    \"\"\"Update the SIR model.\n",
        "    \n",
        "    state: State (s, i, r)\n",
        "    t: time\n",
        "    system: System object\n",
        "    \n",
        "    returns: State (sir)\n",
        "    \"\"\"\n",
        "    beta, gamma = system.beta, system.gamma\n",
        "    s, i, r = state\n",
        "\n",
        "    infected = beta * i * s    \n",
        "    recovered = gamma * i\n",
        "    \n",
        "    s -= infected\n",
        "    i += infected - recovered\n",
        "    r += recovered\n",
        "    \n",
        "    return State(S=s, I=i, R=r)"
      ],
      "execution_count": null,
      "outputs": []
    },
    {
      "cell_type": "markdown",
      "metadata": {
        "id": "77-rg2PSr12k"
      },
      "source": [
        "### Sweeping beta"
      ]
    },
    {
      "cell_type": "markdown",
      "metadata": {
        "id": "agnsuFrtr12l"
      },
      "source": [
        "Make a range of values for `beta`, with constant `gamma`."
      ]
    },
    {
      "cell_type": "code",
      "metadata": {
        "id": "9AbE6o4Fr12m"
      },
      "source": [
        "beta_array = [0.1, 0.2, 0.3, 0.4, 0.5, 0.6, 0.7, 0.8, 0.9, 1.0 , 1.1]\n",
        "gamma = 0.2"
      ],
      "execution_count": null,
      "outputs": []
    },
    {
      "cell_type": "markdown",
      "metadata": {
        "id": "WG459KDQr12m"
      },
      "source": [
        "Run the simulation once for each value of `beta` and print total infections."
      ]
    },
    {
      "cell_type": "code",
      "metadata": {
        "id": "SY6Ytrszr12m"
      },
      "source": [
        "for beta in beta_array:\n",
        "    system = make_system(beta, gamma)\n",
        "    results = run_simulation(system, update_func)\n",
        "    print(system.beta, calc_total_infected(results))"
      ],
      "execution_count": null,
      "outputs": []
    },
    {
      "cell_type": "markdown",
      "metadata": {
        "id": "4Dt5Wf-cr12m"
      },
      "source": [
        "Wrap that loop in a function and return a `SweepSeries` object."
      ]
    },
    {
      "cell_type": "code",
      "metadata": {
        "id": "kh9NrLVLr12n"
      },
      "source": [
        "def sweep_beta(beta_array, gamma):\n",
        "    \"\"\"Sweep a range of values for beta.\n",
        "    \n",
        "    beta_array: array of beta values\n",
        "    gamma: recovery rate\n",
        "    \n",
        "    returns: SweepSeries that maps from beta to total infected\n",
        "    \"\"\"\n",
        "    sweep = SweepSeries()\n",
        "    for beta in beta_array:\n",
        "        system = make_system(beta, gamma)\n",
        "        results = run_simulation(system, update_func)\n",
        "        sweep[system.beta] = calc_total_infected(results)\n",
        "    return sweep"
      ],
      "execution_count": null,
      "outputs": []
    },
    {
      "cell_type": "markdown",
      "metadata": {
        "id": "rwO8t7ajr12n"
      },
      "source": [
        "Sweep `beta` and plot the results."
      ]
    },
    {
      "cell_type": "code",
      "metadata": {
        "id": "YXTnrrzZr12n"
      },
      "source": [
        "infected_sweep = sweep_beta(beta_array, gamma)"
      ],
      "execution_count": null,
      "outputs": []
    },
    {
      "cell_type": "code",
      "metadata": {
        "id": "jIDyXsMGr12o"
      },
      "source": [
        "label = 'gamma = ' + str(gamma)\n",
        "plot(infected_sweep, label=label)\n",
        "\n",
        "decorate(xlabel='Contact rate (beta)',\n",
        "         ylabel='Fraction infected')\n",
        "\n"
      ],
      "execution_count": null,
      "outputs": []
    },
    {
      "cell_type": "markdown",
      "metadata": {
        "id": "PJ0e7RKJr12o"
      },
      "source": [
        "### Sweeping gamma"
      ]
    },
    {
      "cell_type": "markdown",
      "metadata": {
        "id": "sY2icYjkr12p"
      },
      "source": [
        "Using the same array of values for `beta`"
      ]
    },
    {
      "cell_type": "code",
      "metadata": {
        "id": "2E87qeLMr12p"
      },
      "source": [
        "beta_array"
      ],
      "execution_count": null,
      "outputs": []
    },
    {
      "cell_type": "markdown",
      "metadata": {
        "id": "fXq4eSbVr12q"
      },
      "source": [
        "And now an array of values for `gamma`"
      ]
    },
    {
      "cell_type": "code",
      "metadata": {
        "id": "yWI8UxM3r12q"
      },
      "source": [
        "gamma_array = [0.2, 0.4, 0.6, 0.8]"
      ],
      "execution_count": null,
      "outputs": []
    },
    {
      "cell_type": "markdown",
      "metadata": {
        "id": "9DRNhSWUr12q"
      },
      "source": [
        "For each value of `gamma`, sweep `beta` and plot the results."
      ]
    },
    {
      "cell_type": "code",
      "metadata": {
        "id": "2GARRupWr12r"
      },
      "source": [
        "plt.figure(figsize=(7, 4))\n",
        "\n",
        "for gamma in gamma_array:\n",
        "    infected_sweep = sweep_beta(beta_array, gamma)\n",
        "    label = 'gamma = ' + str(gamma)\n",
        "    plot(infected_sweep, label=label)\n",
        "    \n",
        "decorate(xlabel='Contact rate (beta)',\n",
        "         ylabel='Fraction infected',\n",
        "         loc='upper left')\n",
        "\n",
        "plt.legend(bbox_to_anchor=(1.02, 1.02))\n",
        "plt.tight_layout()\n"
      ],
      "execution_count": null,
      "outputs": []
    },
    {
      "cell_type": "markdown",
      "metadata": {
        "id": "qJj9J-2Tr12r"
      },
      "source": [
        "**Exercise:**  Suppose the infectious period for the Freshman Plague is known to be 2 days on average, and suppose during one particularly bad year, 40% of the class is infected at some point.  Estimate the time between contacts."
      ]
    },
    {
      "cell_type": "code",
      "metadata": {
        "id": "e4Wbnqhkr12s"
      },
      "source": [
        "# Solution goes here"
      ],
      "execution_count": null,
      "outputs": []
    },
    {
      "cell_type": "code",
      "metadata": {
        "id": "xvF2gh6Ar12s"
      },
      "source": [
        "# Solution goes here"
      ],
      "execution_count": null,
      "outputs": []
    },
    {
      "cell_type": "code",
      "metadata": {
        "id": "0jddab0Kr12s"
      },
      "source": [
        "# Solution goes here"
      ],
      "execution_count": null,
      "outputs": []
    },
    {
      "cell_type": "markdown",
      "metadata": {
        "id": "Jxb2s2Uer12t"
      },
      "source": [
        "## SweepFrame\n",
        "\n",
        "The following sweeps two parameters and stores the results in a `SweepFrame`"
      ]
    },
    {
      "cell_type": "code",
      "metadata": {
        "id": "4hMyDCQwr12t"
      },
      "source": [
        "def sweep_parameters(beta_array, gamma_array):\n",
        "    \"\"\"Sweep a range of values for beta and gamma.\n",
        "    \n",
        "    beta_array: array of infection rates\n",
        "    gamma_array: array of recovery rates\n",
        "    \n",
        "    returns: SweepFrame with one row for each beta\n",
        "             and one column for each gamma\n",
        "    \"\"\"\n",
        "    frame = SweepFrame(columns=gamma_array)\n",
        "    for gamma in gamma_array:\n",
        "        frame[gamma] = sweep_beta(beta_array, gamma)\n",
        "    return frame"
      ],
      "execution_count": null,
      "outputs": []
    },
    {
      "cell_type": "markdown",
      "metadata": {
        "id": "i01UEKywr12t"
      },
      "source": [
        "Here's what the `SweepFrame` look like."
      ]
    },
    {
      "cell_type": "code",
      "metadata": {
        "id": "qnmNYc68r12t"
      },
      "source": [
        "frame = sweep_parameters(beta_array, gamma_array)\n",
        "frame.head()"
      ],
      "execution_count": null,
      "outputs": []
    },
    {
      "cell_type": "markdown",
      "metadata": {
        "id": "lyo3_OxPr12t"
      },
      "source": [
        "And here's how we can plot the results."
      ]
    },
    {
      "cell_type": "code",
      "metadata": {
        "id": "V3AD4Hxdr12u"
      },
      "source": [
        "for gamma in gamma_array:\n",
        "    label = 'gamma = ' + str(gamma)\n",
        "    plot(frame[gamma], label=label)\n",
        "    \n",
        "decorate(xlabel='Contact rate (beta)',\n",
        "         ylabel='Fraction infected',\n",
        "         title='',\n",
        "         loc='upper left')"
      ],
      "execution_count": null,
      "outputs": []
    },
    {
      "cell_type": "markdown",
      "metadata": {
        "id": "gQyWDQh_r12u"
      },
      "source": [
        "We can also plot one line for each value of `beta`, although there are a lot of them."
      ]
    },
    {
      "cell_type": "code",
      "metadata": {
        "id": "Vlxg9NZcr12u"
      },
      "source": [
        "plt.figure(figsize=(7, 4))\n",
        "\n",
        "\n",
        "for beta in [1.1, 0.9, 0.7, 0.5, 0.3]:\n",
        "    label = 'beta = ' + str(beta)\n",
        "    plot(frame.row[beta], label=label)\n",
        "    \n",
        "decorate(xlabel='Recovery rate (gamma)',\n",
        "         ylabel='Fraction infected')\n",
        "\n",
        "plt.legend(bbox_to_anchor=(1.02, 1.02))\n",
        "plt.tight_layout()\n"
      ],
      "execution_count": null,
      "outputs": []
    },
    {
      "cell_type": "markdown",
      "metadata": {
        "id": "-sI2kU02r12v"
      },
      "source": [
        "It's often useful to separate the code that generates results from the code that plots the results, so we can run the simulations once, save the results, and then use them for different analysis, visualization, etc.\n",
        "\n",
        "After running `sweep_parameters`, we have a `SweepFrame` with one row for each value of `beta` and one column for each value of `gamma`."
      ]
    },
    {
      "cell_type": "code",
      "metadata": {
        "scrolled": true,
        "id": "UbiN4K46r12w"
      },
      "source": [
        "contour(frame)\n",
        "\n",
        "decorate(xlabel='Recovery rate (gamma)',\n",
        "         ylabel='Contact rate (beta)',\n",
        "         title='Fraction infected, contour plot')"
      ],
      "execution_count": null,
      "outputs": []
    },
    {
      "cell_type": "code",
      "metadata": {
        "id": "rYrbymbTr12w"
      },
      "source": [
        ""
      ],
      "execution_count": null,
      "outputs": []
    }
  ]
}