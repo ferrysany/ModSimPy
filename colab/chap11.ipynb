{
  "nbformat": 4,
  "nbformat_minor": 0,
  "metadata": {
    "kernelspec": {
      "display_name": "Python 3",
      "language": "python",
      "name": "python3"
    },
    "language_info": {
      "codemirror_mode": {
        "name": "ipython",
        "version": 3
      },
      "file_extension": ".py",
      "mimetype": "text/x-python",
      "name": "python",
      "nbconvert_exporter": "python",
      "pygments_lexer": "ipython3",
      "version": "3.7.9"
    },
    "colab": {
      "name": "chap11.ipynb",
      "provenance": []
    }
  },
  "cells": [
    {
      "cell_type": "markdown",
      "metadata": {
        "id": "l0sqtYtKeIbP"
      },
      "source": [
        "# Chapter 11"
      ]
    },
    {
      "cell_type": "markdown",
      "metadata": {
        "tags": [],
        "id": "iiaJC4vbeIbY"
      },
      "source": [
        "*Modeling and Simulation in Python* Edit by Chun San Yip 1 July 2021\n",
        "\n",
        "Copyright 2021 Allen Downey\n",
        "\n",
        "License: [Creative Commons Attribution-NonCommercial-ShareAlike 4.0 International](https://creativecommons.org/licenses/by-nc-sa/4.0/)"
      ]
    },
    {
      "cell_type": "code",
      "metadata": {
        "tags": [],
        "id": "7AWouhGPeIbb"
      },
      "source": [
        "# check if the libraries we need are installed\n",
        "\n",
        "try:\n",
        "    import pint\n",
        "except ImportError:\n",
        "    !pip install pint\n",
        "    import pint\n",
        "    \n",
        "try:\n",
        "    from modsim import *\n",
        "except ImportError:\n",
        "    !pip install modsimpy\n",
        "    from modsim import *"
      ],
      "execution_count": null,
      "outputs": []
    },
    {
      "cell_type": "markdown",
      "metadata": {
        "id": "NzmAUON9eIbe"
      },
      "source": [
        "### SIR implementation\n",
        "\n",
        "We'll use a `State` object to represent the number (or fraction) of people in each compartment."
      ]
    },
    {
      "cell_type": "code",
      "metadata": {
        "id": "-gtLBbnreIbg"
      },
      "source": [
        "init = State(S=89, I=1, R=0)"
      ],
      "execution_count": 19,
      "outputs": []
    },
    {
      "cell_type": "markdown",
      "metadata": {
        "id": "jgAN_BIxeIbi"
      },
      "source": [
        "To convert from number of people to fractions, we divide through by the total."
      ]
    },
    {
      "cell_type": "code",
      "metadata": {
        "id": "qlVR3ZMYeIbj"
      },
      "source": [
        "init /= sum(init)"
      ],
      "execution_count": 20,
      "outputs": []
    },
    {
      "cell_type": "markdown",
      "metadata": {
        "id": "KSTMgbIGeIbk"
      },
      "source": [
        "`make_system` creates a `System` object with the given parameters."
      ]
    },
    {
      "cell_type": "code",
      "metadata": {
        "id": "EMoizfN6eIbn"
      },
      "source": [
        "def make_system(beta, gamma):\n",
        "    \"\"\"Make a system object for the SIR model.\n",
        "    \n",
        "    beta: contact rate in days\n",
        "    gamma: recovery rate in days\n",
        "    \n",
        "    returns: System object\n",
        "    \"\"\"\n",
        "    init = State(S=89, I=1, R=0)\n",
        "    init /= sum(init)\n",
        "\n",
        "    t0 = 0\n",
        "    t_end = 7 * 14\n",
        "\n",
        "    return System(init=init, t0=t0, t_end=t_end,\n",
        "                  beta=beta, gamma=gamma)"
      ],
      "execution_count": 21,
      "outputs": []
    },
    {
      "cell_type": "markdown",
      "metadata": {
        "id": "ZbHfzw4beIbr"
      },
      "source": [
        "Here's an example with hypothetical values for `beta` and `gamma`."
      ]
    },
    {
      "cell_type": "code",
      "metadata": {
        "id": "JTtJATV8eIbr"
      },
      "source": [
        "tc = 3      # time between contacts in days \n",
        "tr = 4      # recovery time in days\n",
        "\n",
        "beta = 1 / tc      # contact rate in per day\n",
        "gamma = 1 / tr     # recovery rate in per day\n",
        "\n",
        "system = make_system(beta, gamma)"
      ],
      "execution_count": 22,
      "outputs": []
    },
    {
      "cell_type": "markdown",
      "metadata": {
        "id": "m1TGqfkZeIbu"
      },
      "source": [
        "The update function takes the state during the current time step and returns the state during the next time step."
      ]
    },
    {
      "cell_type": "code",
      "metadata": {
        "id": "AMgxLQqKeIbu"
      },
      "source": [
        "def update_func(state, t, system):\n",
        "    \"\"\"Update the SIR model.\n",
        "    \n",
        "    state: State with variables S, I, R\n",
        "    t: time step\n",
        "    system: System with beta and gamma\n",
        "    \n",
        "    returns: State object\n",
        "    \"\"\"\n",
        "    s, i, r = state\n",
        "\n",
        "    infected = system.beta * i * s    \n",
        "    recovered = system.gamma * i\n",
        "    \n",
        "    s -= infected\n",
        "    i += infected - recovered\n",
        "    r += recovered\n",
        "    \n",
        "    return State(S=s, I=i, R=r)"
      ],
      "execution_count": 23,
      "outputs": []
    },
    {
      "cell_type": "markdown",
      "metadata": {
        "id": "2C4RkHaLeIbw"
      },
      "source": [
        "To run a single time step, we call it like this:"
      ]
    },
    {
      "cell_type": "code",
      "metadata": {
        "id": "gioLJGokeIbx"
      },
      "source": [
        "state = update_func(init, 0, system)"
      ],
      "execution_count": 25,
      "outputs": []
    },
    {
      "cell_type": "markdown",
      "metadata": {
        "id": "LxWWaoUCeIbx"
      },
      "source": [
        "Now we can run a simulation by calling the update function for each time step."
      ]
    },
    {
      "cell_type": "code",
      "metadata": {
        "id": "xPzI7WkMeIbz"
      },
      "source": [
        "def run_simulation(system, update_func):\n",
        "    \"\"\"Runs a simulation of the system.\n",
        "    \n",
        "    system: System object\n",
        "    update_func: function that updates state\n",
        "    \n",
        "    returns: State object for final state\n",
        "    \"\"\"\n",
        "    state = system.init\n",
        "    \n",
        "    for t in linrange(system.t0, system.t_end):\n",
        "        state = update_func(state, t, system)\n",
        "        \n",
        "    return state"
      ],
      "execution_count": 26,
      "outputs": []
    },
    {
      "cell_type": "markdown",
      "metadata": {
        "id": "A6D0IZLjeIb0"
      },
      "source": [
        "The result is the state of the system at `t_end`"
      ]
    },
    {
      "cell_type": "code",
      "metadata": {
        "scrolled": true,
        "colab": {
          "base_uri": "https://localhost:8080/",
          "height": 143
        },
        "id": "tuAynrgNeIb1",
        "outputId": "af01f4bc-c607-45b3-c244-c738c488dae6"
      },
      "source": [
        "run_simulation(system, update_func)"
      ],
      "execution_count": 27,
      "outputs": [
        {
          "output_type": "execute_result",
          "data": {
            "text/html": [
              "<div>\n",
              "<style scoped>\n",
              "    .dataframe tbody tr th:only-of-type {\n",
              "        vertical-align: middle;\n",
              "    }\n",
              "\n",
              "    .dataframe tbody tr th {\n",
              "        vertical-align: top;\n",
              "    }\n",
              "\n",
              "    .dataframe thead th {\n",
              "        text-align: right;\n",
              "    }\n",
              "</style>\n",
              "<table border=\"1\" class=\"dataframe\">\n",
              "  <thead>\n",
              "    <tr style=\"text-align: right;\">\n",
              "      <th></th>\n",
              "      <th>values</th>\n",
              "    </tr>\n",
              "  </thead>\n",
              "  <tbody>\n",
              "    <tr>\n",
              "      <th>S</th>\n",
              "      <td>0.520568</td>\n",
              "    </tr>\n",
              "    <tr>\n",
              "      <th>I</th>\n",
              "      <td>0.000666</td>\n",
              "    </tr>\n",
              "    <tr>\n",
              "      <th>R</th>\n",
              "      <td>0.478766</td>\n",
              "    </tr>\n",
              "  </tbody>\n",
              "</table>\n",
              "</div>"
            ],
            "text/plain": [
              "S    0.520568\n",
              "I    0.000666\n",
              "R    0.478766\n",
              "dtype: float64"
            ]
          },
          "metadata": {
            "tags": []
          },
          "execution_count": 27
        }
      ]
    },
    {
      "cell_type": "markdown",
      "metadata": {
        "id": "CGYiRMMfeIb2"
      },
      "source": [
        "**Exercise**  Suppose the time between contacts is 4 days and the recovery time is 5 days.  After 14 weeks, how many students, total, have been infected?\n",
        "\n",
        "Hint: what is the change in `S` between the beginning and the end of the simulation?"
      ]
    },
    {
      "cell_type": "code",
      "metadata": {
        "colab": {
          "base_uri": "https://localhost:8080/"
        },
        "id": "H-TRR9peeIb3",
        "outputId": "788abde6-1283-4b24-e275-b393180f7b9a"
      },
      "source": [
        "tc = 4      # time between contacts in days \n",
        "tr = 5      # recovery time in days\n",
        "\n",
        "beta = 1 / tc      # contact rate in per day\n",
        "gamma = 1 / tr     # recovery rate in per day\n",
        "\n",
        "system1 = make_system(beta, gamma)\n",
        "\n",
        "S, I, R = run_simulation(system1, update_func)\n",
        "\n",
        "89-S*90\n"
      ],
      "execution_count": 30,
      "outputs": [
        {
          "output_type": "execute_result",
          "data": {
            "text/plain": [
              "34.08459698173312"
            ]
          },
          "metadata": {
            "tags": []
          },
          "execution_count": 30
        }
      ]
    },
    {
      "cell_type": "markdown",
      "metadata": {
        "id": "Gs-c3Nmwzcew"
      },
      "source": [
        "34 students were infected."
      ]
    },
    {
      "cell_type": "markdown",
      "metadata": {
        "id": "vYNp8RtGeIb4"
      },
      "source": [
        "### Using TimeSeries objects"
      ]
    },
    {
      "cell_type": "markdown",
      "metadata": {
        "id": "s8eBqra3eIb5"
      },
      "source": [
        "If we want to store the state of the system at each time step, we can use one `TimeSeries` object for each state variable."
      ]
    },
    {
      "cell_type": "code",
      "metadata": {
        "id": "jvPNKMMxeIb6"
      },
      "source": [
        "def run_simulation(system, update_func):\n",
        "    \"\"\"Runs a simulation of the system.\n",
        "    \n",
        "    Add three Series objects to the System: S, I, R\n",
        "    \n",
        "    system: System object\n",
        "    update_func: function that updates state\n",
        "    \"\"\"\n",
        "    S = TimeSeries()\n",
        "    I = TimeSeries()\n",
        "    R = TimeSeries()\n",
        "\n",
        "    state = system.init\n",
        "    t0 = system.t0\n",
        "    S[t0], I[t0], R[t0] = state\n",
        "    \n",
        "    for t in linrange(system.t0, system.t_end):\n",
        "        state = update_func(state, t, system)\n",
        "        S[t+1], I[t+1], R[t+1] = state\n",
        "    \n",
        "    return S, I, R"
      ],
      "execution_count": 11,
      "outputs": []
    },
    {
      "cell_type": "markdown",
      "metadata": {
        "id": "EVzIo_ZceIb9"
      },
      "source": [
        "Here's how we call it."
      ]
    },
    {
      "cell_type": "code",
      "metadata": {
        "id": "Bm_0BJNQeIb9"
      },
      "source": [
        "tc = 3      # time between contacts in days \n",
        "tr = 4      # recovery time in days\n",
        "\n",
        "beta = 1 / tc      # contact rate in per day\n",
        "gamma = 1 / tr     # recovery rate in per day\n",
        "\n",
        "system = make_system(beta, gamma)\n",
        "S, I, R = run_simulation(system, update_func)"
      ],
      "execution_count": 12,
      "outputs": []
    },
    {
      "cell_type": "markdown",
      "metadata": {
        "id": "L0wguPIleIb-"
      },
      "source": [
        "And then we can plot the results."
      ]
    },
    {
      "cell_type": "code",
      "metadata": {
        "id": "q72qa81heIb_"
      },
      "source": [
        "def plot_results(S, I, R):\n",
        "    \"\"\"Plot the results of a SIR model.\n",
        "    \n",
        "    S: TimeSeries\n",
        "    I: TimeSeries\n",
        "    R: TimeSeries\n",
        "    \"\"\"\n",
        "    plot(S, '--', label='Susceptible')\n",
        "    plot(I, '-', label='Infected')\n",
        "    plot(R, ':', label='Recovered')\n",
        "    decorate(xlabel='Time (days)',\n",
        "             ylabel='Fraction of population')"
      ],
      "execution_count": 13,
      "outputs": []
    },
    {
      "cell_type": "markdown",
      "metadata": {
        "id": "Ur9XHnWveIcB"
      },
      "source": [
        "Here's what they look like."
      ]
    },
    {
      "cell_type": "code",
      "metadata": {
        "colab": {
          "base_uri": "https://localhost:8080/",
          "height": 297
        },
        "id": "vmuwAhqOeIcB",
        "outputId": "3981d7eb-4bdb-4293-fda8-503f37011601"
      },
      "source": [
        "plot_results(S, I, R)\n"
      ],
      "execution_count": 14,
      "outputs": [
        {
          "output_type": "display_data",
          "data": {
            "image/png": "[encoded data removed]",
            "text/plain": [
              "<Figure size 432x288 with 1 Axes>"
            ]
          },
          "metadata": {
            "tags": [],
            "needs_background": "light"
          }
        }
      ]
    },
    {
      "cell_type": "markdown",
      "metadata": {
        "id": "rsPmbuGZeIcB"
      },
      "source": [
        "### Using a DataFrame"
      ]
    },
    {
      "cell_type": "markdown",
      "metadata": {
        "id": "i9Mi1gZveIcC"
      },
      "source": [
        "Instead of making three `TimeSeries` objects, we can use one `DataFrame`.\n",
        "\n",
        "We have to use `row` to selects rows, rather than columns.  But then Pandas does the right thing, matching up the state variables with the columns of the `DataFrame`."
      ]
    },
    {
      "cell_type": "code",
      "metadata": {
        "id": "UzhUuyVxeIcC"
      },
      "source": [
        "def run_simulation(system, update_func):\n",
        "    \"\"\"Runs a simulation of the system.\n",
        "        \n",
        "    system: System object\n",
        "    update_func: function that updates state\n",
        "    \n",
        "    returns: TimeFrame\n",
        "    \"\"\"\n",
        "    frame = TimeFrame(columns=system.init.index)\n",
        "    frame.row[system.t0] = system.init\n",
        "    \n",
        "    for t in linrange(system.t0, system.t_end):\n",
        "        frame.row[t+1] = update_func(frame.row[t], t, system)\n",
        "    \n",
        "    return frame"
      ],
      "execution_count": 15,
      "outputs": []
    },
    {
      "cell_type": "markdown",
      "metadata": {
        "id": "vYe_a733eIcE"
      },
      "source": [
        "Here's how we run it, and what the result looks like."
      ]
    },
    {
      "cell_type": "code",
      "metadata": {
        "colab": {
          "base_uri": "https://localhost:8080/",
          "height": 206
        },
        "id": "MG58AeO6eIcF",
        "outputId": "24b00790-bbe6-49f5-944b-8f1f705d3a54"
      },
      "source": [
        "tc = 3      # time between contacts in days \n",
        "tr = 4      # recovery time in days\n",
        "\n",
        "beta = 1 / tc      # contact rate in per day\n",
        "gamma = 1 / tr     # recovery rate in per day\n",
        "\n",
        "system = make_system(beta, gamma)\n",
        "results = run_simulation(system, update_func)\n",
        "results.head()"
      ],
      "execution_count": 16,
      "outputs": [
        {
          "output_type": "execute_result",
          "data": {
            "text/html": [
              "<div>\n",
              "<style scoped>\n",
              "    .dataframe tbody tr th:only-of-type {\n",
              "        vertical-align: middle;\n",
              "    }\n",
              "\n",
              "    .dataframe tbody tr th {\n",
              "        vertical-align: top;\n",
              "    }\n",
              "\n",
              "    .dataframe thead th {\n",
              "        text-align: right;\n",
              "    }\n",
              "</style>\n",
              "<table border=\"1\" class=\"dataframe\">\n",
              "  <thead>\n",
              "    <tr style=\"text-align: right;\">\n",
              "      <th></th>\n",
              "      <th>S</th>\n",
              "      <th>I</th>\n",
              "      <th>R</th>\n",
              "    </tr>\n",
              "  </thead>\n",
              "  <tbody>\n",
              "    <tr>\n",
              "      <th>0</th>\n",
              "      <td>0.988889</td>\n",
              "      <td>0.011111</td>\n",
              "      <td>0.000000</td>\n",
              "    </tr>\n",
              "    <tr>\n",
              "      <th>1</th>\n",
              "      <td>0.985226</td>\n",
              "      <td>0.011996</td>\n",
              "      <td>0.002778</td>\n",
              "    </tr>\n",
              "    <tr>\n",
              "      <th>2</th>\n",
              "      <td>0.981287</td>\n",
              "      <td>0.012936</td>\n",
              "      <td>0.005777</td>\n",
              "    </tr>\n",
              "    <tr>\n",
              "      <th>3</th>\n",
              "      <td>0.977055</td>\n",
              "      <td>0.013934</td>\n",
              "      <td>0.009011</td>\n",
              "    </tr>\n",
              "    <tr>\n",
              "      <th>4</th>\n",
              "      <td>0.972517</td>\n",
              "      <td>0.014988</td>\n",
              "      <td>0.012494</td>\n",
              "    </tr>\n",
              "  </tbody>\n",
              "</table>\n",
              "</div>"
            ],
            "text/plain": [
              "          S         I         R\n",
              "0  0.988889  0.011111  0.000000\n",
              "1  0.985226  0.011996  0.002778\n",
              "2  0.981287  0.012936  0.005777\n",
              "3  0.977055  0.013934  0.009011\n",
              "4  0.972517  0.014988  0.012494"
            ]
          },
          "metadata": {
            "tags": []
          },
          "execution_count": 16
        }
      ]
    },
    {
      "cell_type": "markdown",
      "metadata": {
        "id": "g5K2UQCXeIcG"
      },
      "source": [
        "We can extract the results and plot them."
      ]
    },
    {
      "cell_type": "code",
      "metadata": {
        "colab": {
          "base_uri": "https://localhost:8080/",
          "height": 297
        },
        "id": "wluBwjiJeIcI",
        "outputId": "bcbda115-fbf1-4a20-da78-aafa01eef856"
      },
      "source": [
        "plot_results(results.S, results.I, results.R)"
      ],
      "execution_count": 17,
      "outputs": [
        {
          "output_type": "display_data",
          "data": {
            "image/png": "[encoded data removed]",
            "text/plain": [
              "<Figure size 432x288 with 1 Axes>"
            ]
          },
          "metadata": {
            "tags": [],
            "needs_background": "light"
          }
        }
      ]
    },
    {
      "cell_type": "markdown",
      "metadata": {
        "id": "HhRNJunbeIcK"
      },
      "source": [
        "## Exercises\n",
        "\n",
        "**Exercise**  Suppose the time between contacts is 4 days and the recovery time is 5 days.  Simulate this scenario for 14 weeks and plot the results."
      ]
    },
    {
      "cell_type": "code",
      "metadata": {
        "id": "IPrd-XbGeIcL"
      },
      "source": [
        "# Solution goes here"
      ],
      "execution_count": 18,
      "outputs": []
    }
  ]
}