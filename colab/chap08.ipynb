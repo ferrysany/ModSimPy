{
  "nbformat": 4,
  "nbformat_minor": 0,
  "metadata": {
    "kernelspec": {
      "display_name": "Python 3",
      "language": "python",
      "name": "python3"
    },
    "language_info": {
      "codemirror_mode": {
        "name": "ipython",
        "version": 3
      },
      "file_extension": ".py",
      "mimetype": "text/x-python",
      "name": "python",
      "nbconvert_exporter": "python",
      "pygments_lexer": "ipython3",
      "version": "3.7.9"
    },
    "colab": {
      "name": "chap08.ipynb",
      "provenance": []
    }
  },
  "cells": [
    {
      "cell_type": "markdown",
      "metadata": {
        "id": "0_YM0iUXpVVp"
      },
      "source": [
        "# Chapter 8"
      ]
    },
    {
      "cell_type": "markdown",
      "metadata": {
        "tags": [],
        "id": "-h5aOosbpVVw"
      },
      "source": [
        "*Modeling and Simulation in Python* edit by Chun San Yip \n",
        "\n",
        "Copyright 2021 Allen Downey\n",
        "\n",
        "License: [Creative Commons Attribution-NonCommercial-ShareAlike 4.0 International](https://creativecommons.org/licenses/by-nc-sa/4.0/)"
      ]
    },
    {
      "cell_type": "code",
      "metadata": {
        "tags": [],
        "colab": {
          "base_uri": "https://localhost:8080/"
        },
        "id": "WOcq5JVupVVy",
        "outputId": "35b218d6-1fe5-41dc-c014-a3d7638f9054"
      },
      "source": [
        "# check if the libraries we need are installed\n",
        "\n",
        "try:\n",
        "    import pint\n",
        "except ImportError:\n",
        "    !pip install pint\n",
        "    import pint\n",
        "    \n",
        "try:\n",
        "    from modsim import *\n",
        "except ImportError:\n",
        "    !pip install modsimpy\n",
        "    from modsim import *"
      ],
      "execution_count": 1,
      "outputs": [
        {
          "output_type": "stream",
          "text": [
            "Collecting pint\n",
            "\u001b[?25l  Downloading https://files.pythonhosted.org/packages/33/de/53a77b82553579affab7438d299f850acbc1c4dd741c5ce52594513cb0ef/Pint-0.17-py2.py3-none-any.whl (204kB)\n",
            "\r\u001b[K     |█▋                              | 10kB 11.6MB/s eta 0:00:01\r\u001b[K     |███▏                            | 20kB 15.4MB/s eta 0:00:01\r\u001b[K     |████▉                           | 30kB 18.1MB/s eta 0:00:01\r\u001b[K     |██████▍                         | 40kB 19.4MB/s eta 0:00:01\r\u001b[K     |████████                        | 51kB 20.7MB/s eta 0:00:01\r\u001b[K     |█████████▋                      | 61kB 20.6MB/s eta 0:00:01\r\u001b[K     |███████████▏                    | 71kB 21.4MB/s eta 0:00:01\r\u001b[K     |████████████▉                   | 81kB 20.1MB/s eta 0:00:01\r\u001b[K     |██████████████▍                 | 92kB 20.8MB/s eta 0:00:01\r\u001b[K     |████████████████                | 102kB 21.6MB/s eta 0:00:01\r\u001b[K     |█████████████████▋              | 112kB 21.6MB/s eta 0:00:01\r\u001b[K     |███████████████████▏            | 122kB 21.6MB/s eta 0:00:01\r\u001b[K     |████████████████████▉           | 133kB 21.6MB/s eta 0:00:01\r\u001b[K     |██████████████████████▍         | 143kB 21.6MB/s eta 0:00:01\r\u001b[K     |████████████████████████        | 153kB 21.6MB/s eta 0:00:01\r\u001b[K     |█████████████████████████▋      | 163kB 21.6MB/s eta 0:00:01\r\u001b[K     |███████████████████████████▏    | 174kB 21.6MB/s eta 0:00:01\r\u001b[K     |████████████████████████████▊   | 184kB 21.6MB/s eta 0:00:01\r\u001b[K     |██████████████████████████████▍ | 194kB 21.6MB/s eta 0:00:01\r\u001b[K     |████████████████████████████████| 204kB 21.6MB/s eta 0:00:01\r\u001b[K     |████████████████████████████████| 215kB 21.6MB/s \n",
            "\u001b[?25hRequirement already satisfied: packaging in /usr/local/lib/python3.7/dist-packages (from pint) (20.9)\n",
            "Requirement already satisfied: importlib-metadata; python_version < \"3.8\" in /usr/local/lib/python3.7/dist-packages (from pint) (4.5.0)\n",
            "Requirement already satisfied: pyparsing>=2.0.2 in /usr/local/lib/python3.7/dist-packages (from packaging->pint) (2.4.7)\n",
            "Requirement already satisfied: zipp>=0.5 in /usr/local/lib/python3.7/dist-packages (from importlib-metadata; python_version < \"3.8\"->pint) (3.4.1)\n",
            "Requirement already satisfied: typing-extensions>=3.6.4; python_version < \"3.8\" in /usr/local/lib/python3.7/dist-packages (from importlib-metadata; python_version < \"3.8\"->pint) (3.7.4.3)\n",
            "Installing collected packages: pint\n",
            "Successfully installed pint-0.17\n",
            "Collecting modsimpy\n",
            "  Downloading https://files.pythonhosted.org/packages/ee/ef/c170df0ee5311cda90a10fc71d1610b9a1cb2241fadbf04bf0f57ff161e9/modsimpy-1.1.3.tar.gz\n",
            "Building wheels for collected packages: modsimpy\n",
            "  Building wheel for modsimpy (setup.py) ... \u001b[?25l\u001b[?25hdone\n",
            "  Created wheel for modsimpy: filename=modsimpy-1.1.3-cp37-none-any.whl size=20356 sha256=320ca19d048dd8e88c672c62d6b9761a2c58334c786c267fb67afb8ae2915c02\n",
            "  Stored in directory: /root/.cache/pip/wheels/59/34/ac/e82f103fbfb5d961b1a4d2b8e89bb6629a4c0b242e5373cbfa\n",
            "Successfully built modsimpy\n",
            "Installing collected packages: modsimpy\n",
            "Successfully installed modsimpy-1.1.3\n"
          ],
          "name": "stdout"
        }
      ]
    },
    {
      "cell_type": "code",
      "metadata": {
        "id": "eYIJJJNPpVV0"
      },
      "source": [
        "# Configure Jupyter so figures appear in the notebook\n",
        "%matplotlib inline\n",
        "\n",
        "# import functions from the modsim.py module\n",
        "from modsim import *"
      ],
      "execution_count": 3,
      "outputs": []
    },
    {
      "cell_type": "markdown",
      "metadata": {
        "id": "0DDBEYaFpVV0"
      },
      "source": [
        "### Functions from the previous chapter"
      ]
    },
    {
      "cell_type": "code",
      "metadata": {
        "id": "1maBu1MOpVV1"
      },
      "source": [
        "def plot_results(census, un, timeseries, title):\n",
        "    \"\"\"Plot the estimates and the model.\n",
        "    \n",
        "    census: TimeSeries of population estimates\n",
        "    un: TimeSeries of population estimates\n",
        "    timeseries: TimeSeries of simulation results\n",
        "    title: string\n",
        "    \"\"\"\n",
        "    plot(census, ':', label='US Census')\n",
        "    plot(un, '--', label='UN DESA')\n",
        "    plot(timeseries, color='gray', label='model')\n",
        "    \n",
        "    decorate(xlabel='Year', \n",
        "             ylabel='World population (billion)',\n",
        "             title=title)"
      ],
      "execution_count": 4,
      "outputs": []
    },
    {
      "cell_type": "code",
      "metadata": {
        "id": "8UNCFPjGpVV2"
      },
      "source": [
        "def run_simulation(system, update_func):\n",
        "    \"\"\"Simulate the system using any update function.\n",
        "    \n",
        "    system: System object\n",
        "    update_func: function that computes the population next year\n",
        "    \n",
        "    returns: TimeSeries\n",
        "    \"\"\"\n",
        "    results = TimeSeries()\n",
        "    results[system.t_0] = system.p_0\n",
        "    \n",
        "    for t in linrange(system.t_0, system.t_end):\n",
        "        results[t+1] = update_func(results[t], t, system)\n",
        "        \n",
        "    return results"
      ],
      "execution_count": null,
      "outputs": []
    },
    {
      "cell_type": "markdown",
      "metadata": {
        "id": "ZbrI5dj-pVV4"
      },
      "source": [
        "### Reading the data"
      ]
    },
    {
      "cell_type": "code",
      "metadata": {
        "id": "QdetVNyYpVV6"
      },
      "source": [
        "# Get the data file\n",
        "\n",
        "import os\n",
        "\n",
        "filename = 'World_population_estimates2.csv'\n",
        "if not os.path.exists(filename):\n",
        "    !wget https://raw.githubusercontent.com/AllenDowney/ModSimPy/master/data/World_population_estimates2.csv"
      ],
      "execution_count": null,
      "outputs": []
    },
    {
      "cell_type": "code",
      "metadata": {
        "id": "vlfyzU9ppVV8"
      },
      "source": [
        "table2 = pd.read_csv('World_population_estimates2.csv')\n",
        "table2.index = table2.Year\n",
        "table2.head()"
      ],
      "execution_count": null,
      "outputs": []
    },
    {
      "cell_type": "code",
      "metadata": {
        "id": "S4Mx5F6cpVV9"
      },
      "source": [
        "un = table2.un / 1e9\n",
        "census = table2.census / 1e9\n",
        "plot(census, ':', label='US Census')\n",
        "plot(un, '--', label='UN DESA')\n",
        "    \n",
        "decorate(xlabel='Year', \n",
        "             ylabel='World population (billion)',\n",
        "             title='Estimated world population')"
      ],
      "execution_count": null,
      "outputs": []
    },
    {
      "cell_type": "markdown",
      "metadata": {
        "id": "XEDkde5ppVV-"
      },
      "source": [
        "### Running the quadratic model"
      ]
    },
    {
      "cell_type": "markdown",
      "metadata": {
        "id": "QUIaOwSFpVV_"
      },
      "source": [
        "Here's the update function for the quadratic growth model with parameters `alpha` and `beta`."
      ]
    },
    {
      "cell_type": "code",
      "metadata": {
        "id": "hJBtvhc-pVV_"
      },
      "source": [
        "def update_func_quad(pop, t, system):\n",
        "    \"\"\"Update population based on a quadratic model.\n",
        "    \n",
        "    pop: current population in billions\n",
        "    t: what year it is\n",
        "    system: system object with model parameters\n",
        "    \"\"\"\n",
        "    net_growth = system.alpha * pop + system.beta * pop**2\n",
        "    return pop + net_growth"
      ],
      "execution_count": null,
      "outputs": []
    },
    {
      "cell_type": "markdown",
      "metadata": {
        "id": "NIoHJP-wpVWA"
      },
      "source": [
        "Extract the starting time and population."
      ]
    },
    {
      "cell_type": "code",
      "metadata": {
        "id": "zBgkucrmpVWA"
      },
      "source": [
        "t_0 = get_first_label(census)\n",
        "t_end = get_last_label(census)\n",
        "p_0 = get_first_value(census)"
      ],
      "execution_count": null,
      "outputs": []
    },
    {
      "cell_type": "markdown",
      "metadata": {
        "id": "ql_vrD8IpVWB"
      },
      "source": [
        "Initialize the system object."
      ]
    },
    {
      "cell_type": "code",
      "metadata": {
        "scrolled": true,
        "id": "k8qYDNHDpVWB"
      },
      "source": [
        "system = System(t_0=t_0, \n",
        "                t_end=t_end,\n",
        "                p_0=p_0,\n",
        "                alpha=0.025,\n",
        "                beta=-0.0018)"
      ],
      "execution_count": null,
      "outputs": []
    },
    {
      "cell_type": "markdown",
      "metadata": {
        "id": "Pf-yWDnYpVWB"
      },
      "source": [
        "Run the model and plot results."
      ]
    },
    {
      "cell_type": "code",
      "metadata": {
        "id": "EPMBLXHhpVWB"
      },
      "source": [
        "results = run_simulation(system, update_func_quad)\n",
        "plot_results(census, un, results, 'Quadratic model')"
      ],
      "execution_count": null,
      "outputs": []
    },
    {
      "cell_type": "markdown",
      "metadata": {
        "id": "vJBlG3rHpVWB"
      },
      "source": [
        "### Generating projections"
      ]
    },
    {
      "cell_type": "markdown",
      "metadata": {
        "id": "92nr3Bc-pVWB"
      },
      "source": [
        "To generate projections, all we have to do is change `t_end`"
      ]
    },
    {
      "cell_type": "code",
      "metadata": {
        "scrolled": false,
        "id": "eSvLbxXCpVWC"
      },
      "source": [
        "system.t_end = 2250\n",
        "results = run_simulation(system, update_func_quad)\n",
        "plot_results(census, un, results, 'World population projection')"
      ],
      "execution_count": null,
      "outputs": []
    },
    {
      "cell_type": "markdown",
      "metadata": {
        "id": "T4rSrRtzpVWC"
      },
      "source": [
        "The population in the model converges on the equilibrium population, `-alpha/beta`"
      ]
    },
    {
      "cell_type": "code",
      "metadata": {
        "id": "z2Mm-jZrpVWC"
      },
      "source": [
        "results[system.t_end]"
      ],
      "execution_count": null,
      "outputs": []
    },
    {
      "cell_type": "code",
      "metadata": {
        "id": "Dg7lXLflpVWD"
      },
      "source": [
        "-system.alpha / system.beta"
      ],
      "execution_count": null,
      "outputs": []
    },
    {
      "cell_type": "markdown",
      "metadata": {
        "id": "V8XkAxpZpVWD"
      },
      "source": [
        "**Exercise:**  What happens if we start with an initial population above the carrying capacity, like 20 billion?  Run the model with initial populations between 1 and 20 billion, and plot the results on the same axes."
      ]
    },
    {
      "cell_type": "code",
      "metadata": {
        "id": "NjJbDIcOpVWD"
      },
      "source": [
        "# Solution goes here"
      ],
      "execution_count": null,
      "outputs": []
    },
    {
      "cell_type": "markdown",
      "metadata": {
        "id": "3uJLLeIupVWD"
      },
      "source": [
        "### Comparing projections"
      ]
    },
    {
      "cell_type": "markdown",
      "metadata": {
        "id": "Q-cLnTLKpVWD"
      },
      "source": [
        "We can compare the projection from our model with projections produced by people who know what they are doing."
      ]
    },
    {
      "cell_type": "code",
      "metadata": {
        "id": "N3c3anoJpVWE"
      },
      "source": [
        "# Get the data file\n",
        "\n",
        "import os\n",
        "\n",
        "filename = 'World_population_estimates3.csv'\n",
        "if not os.path.exists(filename):\n",
        "    !wget https://raw.githubusercontent.com/AllenDowney/ModSimPy/master/data/World_population_estimates3.csv\n"
      ],
      "execution_count": null,
      "outputs": []
    },
    {
      "cell_type": "code",
      "metadata": {
        "id": "Ydg-RLv0pVWE"
      },
      "source": [
        "def read_table3(filename = 'data/World_population_estimates.html'):\n",
        "    tables = pd.read_html(filename, header=0, index_col=0, decimal='M')\n",
        "    table3 = tables[3]\n",
        "    table3.columns = ['census', 'prb', 'un']\n",
        "    return table3"
      ],
      "execution_count": null,
      "outputs": []
    },
    {
      "cell_type": "code",
      "metadata": {
        "id": "yViKl4ccpVWE"
      },
      "source": [
        "#table3 = read_table3()\n",
        "#table3.to_csv('data/World_population_estimates3.csv')"
      ],
      "execution_count": null,
      "outputs": []
    },
    {
      "cell_type": "code",
      "metadata": {
        "id": "RfeLLL_apVWF"
      },
      "source": [
        "table3 = pd.read_csv('World_population_estimates3.csv')\n",
        "table3.index = table3.Year\n",
        "table3.head()"
      ],
      "execution_count": null,
      "outputs": []
    },
    {
      "cell_type": "markdown",
      "metadata": {
        "id": "5bBFMNZupVWF"
      },
      "source": [
        "`NaN` is a special value that represents missing data, in this case because some agencies did not publish projections for some years."
      ]
    },
    {
      "cell_type": "markdown",
      "metadata": {
        "id": "ijHqbm3RpVWF"
      },
      "source": [
        "This function plots projections from the UN DESA and U.S. Census.  It uses `dropna` to remove the `NaN` values from each series before plotting it."
      ]
    },
    {
      "cell_type": "code",
      "metadata": {
        "id": "EJe4VxBOpVWG"
      },
      "source": [
        "def plot_projections(table):\n",
        "    \"\"\"Plot world population projections.\n",
        "    \n",
        "    table: DataFrame with columns 'un' and 'census'\n",
        "    \"\"\"\n",
        "    census_proj = table.census / 1e9\n",
        "    un_proj = table.un / 1e9\n",
        "    \n",
        "    plot(census_proj.dropna(), ':', color='C0', label='US Census')\n",
        "    plot(un_proj.dropna(), '--', color='C1', label='UN DESA')"
      ],
      "execution_count": null,
      "outputs": []
    },
    {
      "cell_type": "markdown",
      "metadata": {
        "id": "jNXOqUGTpVWG"
      },
      "source": [
        "Run the model until 2100, which is as far as the other projections go."
      ]
    },
    {
      "cell_type": "code",
      "metadata": {
        "id": "NI34nu3EpVWG"
      },
      "source": [
        "system = System(t_0=t_0, \n",
        "                t_end=2100,\n",
        "                p_0=p_0,\n",
        "                alpha=0.025,\n",
        "                beta=-0.0018)"
      ],
      "execution_count": null,
      "outputs": []
    },
    {
      "cell_type": "code",
      "metadata": {
        "id": "69_AnQGhpVWG"
      },
      "source": [
        "results = run_simulation(system, update_func_quad)\n",
        "\n",
        "plt.axvspan(1950, 2016, color='C0', alpha=0.05)\n",
        "plot_results(census, un, results, 'World population projections')\n",
        "plot_projections(table3)"
      ],
      "execution_count": null,
      "outputs": []
    },
    {
      "cell_type": "markdown",
      "metadata": {
        "id": "MWpCXMSdpVWI"
      },
      "source": [
        "People who know what they are doing expect the growth rate to decline more sharply than our model projects."
      ]
    },
    {
      "cell_type": "markdown",
      "metadata": {
        "id": "D20CaVqbpVWJ"
      },
      "source": [
        "## Exercises\n",
        "\n",
        "**Exercise:** The net growth rate of world population has been declining for several decades.  That observation suggests one more way to generate projections, by extrapolating observed changes in growth rate.\n",
        "\n",
        "The `modsim` library provides a function, `compute_rel_diff`, that computes relative differences of the elements in a sequence.\n",
        "\n",
        "Here's how we can use it to compute the relative differences in the `census` and `un` estimates:"
      ]
    },
    {
      "cell_type": "code",
      "metadata": {
        "id": "kcjtnJh-pVWJ"
      },
      "source": [
        "alpha_census = compute_rel_diff(census)\n",
        "plot(alpha_census, label='US Census')\n",
        "\n",
        "alpha_un = compute_rel_diff(un)\n",
        "plot(alpha_un, label='UN DESA')\n",
        "\n",
        "decorate(xlabel='Year', label='Net growth rate')"
      ],
      "execution_count": null,
      "outputs": []
    },
    {
      "cell_type": "markdown",
      "metadata": {
        "id": "0eZD6MWepVWK"
      },
      "source": [
        "Other than a bump around 1990, net growth rate has been declining roughly linearly since 1965.  As an exercise, you can use this data to make a projection of world population until 2100.\n",
        "\n",
        "1. Define a function, `alpha_func`, that takes `t` as a parameter and returns an estimate of the net growth rate at time `t`, based on a linear function `alpha = intercept + slope * t`.  Choose values of `slope` and `intercept` to fit the observed net growth rates since 1965.\n",
        "\n",
        "2. Call your function with a range of `ts` from 1960 to 2020 and plot the results.\n",
        "\n",
        "3. Create a `System` object that includes `alpha_func` as a system variable.\n",
        "\n",
        "4. Define an update function that uses `alpha_func` to compute the net growth rate at the given time `t`.\n",
        "\n",
        "5. Test your update function with `t_0 = 1960` and `p_0 = census[t_0]`.\n",
        "\n",
        "6. Run a simulation from 1960 to 2100 with your update function, and plot the results.\n",
        "\n",
        "7. Compare your projections with those from the US Census and UN."
      ]
    },
    {
      "cell_type": "code",
      "metadata": {
        "id": "8JwS4y86pVWK"
      },
      "source": [
        "# Solution goes here"
      ],
      "execution_count": null,
      "outputs": []
    },
    {
      "cell_type": "code",
      "metadata": {
        "id": "Al01bvZvpVWL"
      },
      "source": [
        "# Solution goes here"
      ],
      "execution_count": null,
      "outputs": []
    },
    {
      "cell_type": "code",
      "metadata": {
        "id": "e9tw5VcdpVWL"
      },
      "source": [
        "# Solution goes here"
      ],
      "execution_count": null,
      "outputs": []
    },
    {
      "cell_type": "code",
      "metadata": {
        "id": "LoIST0t4pVWM"
      },
      "source": [
        "# Solution goes here"
      ],
      "execution_count": null,
      "outputs": []
    },
    {
      "cell_type": "code",
      "metadata": {
        "id": "L84ndKkrpVWM"
      },
      "source": [
        "# Solution goes here"
      ],
      "execution_count": null,
      "outputs": []
    },
    {
      "cell_type": "code",
      "metadata": {
        "id": "4VIwgglIpVWN"
      },
      "source": [
        "# Solution goes here"
      ],
      "execution_count": null,
      "outputs": []
    },
    {
      "cell_type": "code",
      "metadata": {
        "id": "RX7tSjsYpVWO"
      },
      "source": [
        "# Solution goes here"
      ],
      "execution_count": null,
      "outputs": []
    },
    {
      "cell_type": "code",
      "metadata": {
        "id": "rlQDxjSNpVWP"
      },
      "source": [
        "# Solution goes here"
      ],
      "execution_count": null,
      "outputs": []
    },
    {
      "cell_type": "markdown",
      "metadata": {
        "id": "fg6MiOijpVWP"
      },
      "source": [
        "**Related viewing:** You might be interested in this [video by Hans Rosling about the demographic changes we expect in this century](https://www.youtube.com/watch?v=ezVk1ahRF78)."
      ]
    },
    {
      "cell_type": "code",
      "metadata": {
        "id": "4cX1kY7-pVWQ"
      },
      "source": [
        ""
      ],
      "execution_count": null,
      "outputs": []
    }
  ]
}