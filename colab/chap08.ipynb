{
  "nbformat": 4,
  "nbformat_minor": 0,
  "metadata": {
    "kernelspec": {
      "display_name": "Python 3",
      "language": "python",
      "name": "python3"
    },
    "language_info": {
      "codemirror_mode": {
        "name": "ipython",
        "version": 3
      },
      "file_extension": ".py",
      "mimetype": "text/x-python",
      "name": "python",
      "nbconvert_exporter": "python",
      "pygments_lexer": "ipython3",
      "version": "3.7.9"
    },
    "colab": {
      "name": "chap08.ipynb",
      "provenance": []
    }
  },
  "cells": [
    {
      "cell_type": "markdown",
      "metadata": {
        "id": "0_YM0iUXpVVp"
      },
      "source": [
        "# Chapter 8"
      ]
    },
    {
      "cell_type": "markdown",
      "metadata": {
        "tags": [],
        "id": "-h5aOosbpVVw"
      },
      "source": [
        "*Modeling and Simulation in Python* edit by Chun San Yip \n",
        "\n",
        "Copyright 2021 Allen Downey\n",
        "\n",
        "License: [Creative Commons Attribution-NonCommercial-ShareAlike 4.0 International](https://creativecommons.org/licenses/by-nc-sa/4.0/)"
      ]
    },
    {
      "cell_type": "code",
      "metadata": {
        "tags": [],
        "id": "WOcq5JVupVVy"
      },
      "source": [
        "# check if the libraries we need are installed\n",
        "\n",
        "try:\n",
        "    import pint\n",
        "except ImportError:\n",
        "    !pip install pint\n",
        "    import pint\n",
        "    \n",
        "try:\n",
        "    from modsim import *\n",
        "except ImportError:\n",
        "    !pip install modsimpy\n",
        "    from modsim import *"
      ],
      "execution_count": null,
      "outputs": []
    },
    {
      "cell_type": "code",
      "metadata": {
        "id": "eYIJJJNPpVV0"
      },
      "source": [
        "# Configure Jupyter so figures appear in the notebook\n",
        "%matplotlib inline\n",
        "\n",
        "# import functions from the modsim.py module\n",
        "from modsim import *"
      ],
      "execution_count": 5,
      "outputs": []
    },
    {
      "cell_type": "markdown",
      "metadata": {
        "id": "0DDBEYaFpVV0"
      },
      "source": [
        "### Functions from the previous chapter"
      ]
    },
    {
      "cell_type": "code",
      "metadata": {
        "id": "1maBu1MOpVV1"
      },
      "source": [
        "def plot_results(census, un, timeseries, title):\n",
        "    \"\"\"Plot the estimates and the model.\n",
        "    \n",
        "    census: TimeSeries of population estimates\n",
        "    un: TimeSeries of population estimates\n",
        "    timeseries: TimeSeries of simulation results\n",
        "    title: string\n",
        "    \"\"\"\n",
        "    plot(census, ':', label='US Census')\n",
        "    plot(un, '--', label='UN DESA')\n",
        "    plot(timeseries, color='gray', label='model')\n",
        "    \n",
        "    decorate(xlabel='Year', \n",
        "             ylabel='World population (billion)',\n",
        "             title=title)"
      ],
      "execution_count": 6,
      "outputs": []
    },
    {
      "cell_type": "code",
      "metadata": {
        "id": "8UNCFPjGpVV2"
      },
      "source": [
        "def run_simulation(system, update_func):\n",
        "    \"\"\"Simulate the system using any update function.\n",
        "    \n",
        "    system: System object\n",
        "    update_func: function that computes the population next year\n",
        "    \n",
        "    returns: TimeSeries\n",
        "    \"\"\"\n",
        "    results = TimeSeries()\n",
        "    results[system.t_0] = system.p_0\n",
        "    \n",
        "    for t in linrange(system.t_0, system.t_end):\n",
        "        results[t+1] = update_func(results[t], t, system)\n",
        "        \n",
        "    return results"
      ],
      "execution_count": 8,
      "outputs": []
    },
    {
      "cell_type": "markdown",
      "metadata": {
        "id": "ZbrI5dj-pVV4"
      },
      "source": [
        "### Reading the data"
      ]
    },
    {
      "cell_type": "code",
      "metadata": {
        "id": "QdetVNyYpVV6"
      },
      "source": [
        "# Get the data file\n",
        "\n",
        "import os\n",
        "\n",
        "filename = 'World_population_estimates2.csv'\n",
        "if not os.path.exists(filename):\n",
        "    !wget https://raw.githubusercontent.com/AllenDowney/ModSimPy/master/data/World_population_estimates2.csv"
      ],
      "execution_count": 11,
      "outputs": []
    },
    {
      "cell_type": "code",
      "metadata": {
        "colab": {
          "base_uri": "https://localhost:8080/",
          "height": 257
        },
        "id": "vlfyzU9ppVV8",
        "outputId": "2df7340b-6955-4ba7-d5c2-d815461e9cc2"
      },
      "source": [
        "table2 = pd.read_csv('World_population_estimates2.csv')\n",
        "table2.index = table2.Year\n",
        "table2.head()"
      ],
      "execution_count": 12,
      "outputs": [
        {
          "output_type": "execute_result",
          "data": {
            "text/html": [
              "<div>\n",
              "<style scoped>\n",
              "    .dataframe tbody tr th:only-of-type {\n",
              "        vertical-align: middle;\n",
              "    }\n",
              "\n",
              "    .dataframe tbody tr th {\n",
              "        vertical-align: top;\n",
              "    }\n",
              "\n",
              "    .dataframe thead th {\n",
              "        text-align: right;\n",
              "    }\n",
              "</style>\n",
              "<table border=\"1\" class=\"dataframe\">\n",
              "  <thead>\n",
              "    <tr style=\"text-align: right;\">\n",
              "      <th></th>\n",
              "      <th>Year</th>\n",
              "      <th>census</th>\n",
              "      <th>prb</th>\n",
              "      <th>un</th>\n",
              "      <th>maddison</th>\n",
              "      <th>hyde</th>\n",
              "      <th>tanton</th>\n",
              "      <th>biraben</th>\n",
              "      <th>mj</th>\n",
              "      <th>thomlinson</th>\n",
              "      <th>durand</th>\n",
              "      <th>clark</th>\n",
              "    </tr>\n",
              "    <tr>\n",
              "      <th>Year</th>\n",
              "      <th></th>\n",
              "      <th></th>\n",
              "      <th></th>\n",
              "      <th></th>\n",
              "      <th></th>\n",
              "      <th></th>\n",
              "      <th></th>\n",
              "      <th></th>\n",
              "      <th></th>\n",
              "      <th></th>\n",
              "      <th></th>\n",
              "      <th></th>\n",
              "    </tr>\n",
              "  </thead>\n",
              "  <tbody>\n",
              "    <tr>\n",
              "      <th>1950</th>\n",
              "      <td>1950</td>\n",
              "      <td>2557628654</td>\n",
              "      <td>2.516000e+09</td>\n",
              "      <td>2.525149e+09</td>\n",
              "      <td>2.544000e+09</td>\n",
              "      <td>2.527960e+09</td>\n",
              "      <td>2.400000e+09</td>\n",
              "      <td>2.527000e+09</td>\n",
              "      <td>2.500000e+09</td>\n",
              "      <td>2.400000e+09</td>\n",
              "      <td>NaN</td>\n",
              "      <td>2.486000e+09</td>\n",
              "    </tr>\n",
              "    <tr>\n",
              "      <th>1951</th>\n",
              "      <td>1951</td>\n",
              "      <td>2594939877</td>\n",
              "      <td>NaN</td>\n",
              "      <td>2.572851e+09</td>\n",
              "      <td>2.571663e+09</td>\n",
              "      <td>NaN</td>\n",
              "      <td>NaN</td>\n",
              "      <td>NaN</td>\n",
              "      <td>NaN</td>\n",
              "      <td>NaN</td>\n",
              "      <td>NaN</td>\n",
              "      <td>NaN</td>\n",
              "    </tr>\n",
              "    <tr>\n",
              "      <th>1952</th>\n",
              "      <td>1952</td>\n",
              "      <td>2636772306</td>\n",
              "      <td>NaN</td>\n",
              "      <td>2.619292e+09</td>\n",
              "      <td>2.617949e+09</td>\n",
              "      <td>NaN</td>\n",
              "      <td>NaN</td>\n",
              "      <td>NaN</td>\n",
              "      <td>NaN</td>\n",
              "      <td>NaN</td>\n",
              "      <td>NaN</td>\n",
              "      <td>NaN</td>\n",
              "    </tr>\n",
              "    <tr>\n",
              "      <th>1953</th>\n",
              "      <td>1953</td>\n",
              "      <td>2682053389</td>\n",
              "      <td>NaN</td>\n",
              "      <td>2.665865e+09</td>\n",
              "      <td>2.665959e+09</td>\n",
              "      <td>NaN</td>\n",
              "      <td>NaN</td>\n",
              "      <td>NaN</td>\n",
              "      <td>NaN</td>\n",
              "      <td>NaN</td>\n",
              "      <td>NaN</td>\n",
              "      <td>NaN</td>\n",
              "    </tr>\n",
              "    <tr>\n",
              "      <th>1954</th>\n",
              "      <td>1954</td>\n",
              "      <td>2730228104</td>\n",
              "      <td>NaN</td>\n",
              "      <td>2.713172e+09</td>\n",
              "      <td>2.716927e+09</td>\n",
              "      <td>NaN</td>\n",
              "      <td>NaN</td>\n",
              "      <td>NaN</td>\n",
              "      <td>NaN</td>\n",
              "      <td>NaN</td>\n",
              "      <td>NaN</td>\n",
              "      <td>NaN</td>\n",
              "    </tr>\n",
              "  </tbody>\n",
              "</table>\n",
              "</div>"
            ],
            "text/plain": [
              "      Year      census           prb  ...    thomlinson  durand         clark\n",
              "Year                                  ...                                    \n",
              "1950  1950  2557628654  2.516000e+09  ...  2.400000e+09     NaN  2.486000e+09\n",
              "1951  1951  2594939877           NaN  ...           NaN     NaN           NaN\n",
              "1952  1952  2636772306           NaN  ...           NaN     NaN           NaN\n",
              "1953  1953  2682053389           NaN  ...           NaN     NaN           NaN\n",
              "1954  1954  2730228104           NaN  ...           NaN     NaN           NaN\n",
              "\n",
              "[5 rows x 12 columns]"
            ]
          },
          "metadata": {
            "tags": []
          },
          "execution_count": 12
        }
      ]
    },
    {
      "cell_type": "code",
      "metadata": {
        "colab": {
          "base_uri": "https://localhost:8080/",
          "height": 297
        },
        "id": "S4Mx5F6cpVV9",
        "outputId": "a89fc10a-ee16-4a89-f3b9-9c60a6b97029"
      },
      "source": [
        "un = table2.un / 1e9\n",
        "census = table2.census / 1e9\n",
        "plot(census, ':', label='US Census')\n",
        "plot(un, '--', label='UN DESA')\n",
        "    \n",
        "decorate(xlabel='Year', \n",
        "             ylabel='World population (billion)',\n",
        "             title='Estimated world population')"
      ],
      "execution_count": 13,
      "outputs": [
        {
          "output_type": "display_data",
          "data": {
            "image/png": "[encoded data removed]",
            "text/plain": [
              "<Figure size 432x288 with 1 Axes>"
            ]
          },
          "metadata": {
            "tags": [],
            "needs_background": "light"
          }
        }
      ]
    },
    {
      "cell_type": "markdown",
      "metadata": {
        "id": "XEDkde5ppVV-"
      },
      "source": [
        "### Running the quadratic model"
      ]
    },
    {
      "cell_type": "markdown",
      "metadata": {
        "id": "QUIaOwSFpVV_"
      },
      "source": [
        "Here's the update function for the quadratic growth model with parameters `alpha` and `beta`."
      ]
    },
    {
      "cell_type": "code",
      "metadata": {
        "id": "hJBtvhc-pVV_"
      },
      "source": [
        "def update_func_quad(pop, t, system):\n",
        "    \"\"\"Update population based on a quadratic model.\n",
        "    \n",
        "    pop: current population in billions\n",
        "    t: what year it is\n",
        "    system: system object with model parameters\n",
        "    \"\"\"\n",
        "    net_growth = system.alpha * pop + system.beta * pop**2\n",
        "    return pop + net_growth"
      ],
      "execution_count": 23,
      "outputs": []
    },
    {
      "cell_type": "markdown",
      "metadata": {
        "id": "NIoHJP-wpVWA"
      },
      "source": [
        "Extract the starting time and population."
      ]
    },
    {
      "cell_type": "code",
      "metadata": {
        "id": "zBgkucrmpVWA"
      },
      "source": [
        "t_0 = get_first_label(census)\n",
        "t_end = get_last_label(census)\n",
        "p_0 = get_first_value(census)"
      ],
      "execution_count": 29,
      "outputs": []
    },
    {
      "cell_type": "markdown",
      "metadata": {
        "id": "ql_vrD8IpVWB"
      },
      "source": [
        "Initialize the system object."
      ]
    },
    {
      "cell_type": "code",
      "metadata": {
        "scrolled": true,
        "id": "k8qYDNHDpVWB"
      },
      "source": [
        "system = System(t_0=t_0, \n",
        "                t_end=t_end,\n",
        "                p_0=p_0,\n",
        "                alpha=0.025,\n",
        "                beta=-0.0018)"
      ],
      "execution_count": 25,
      "outputs": []
    },
    {
      "cell_type": "markdown",
      "metadata": {
        "id": "Pf-yWDnYpVWB"
      },
      "source": [
        "Run the model and plot results."
      ]
    },
    {
      "cell_type": "code",
      "metadata": {
        "colab": {
          "base_uri": "https://localhost:8080/",
          "height": 297
        },
        "id": "EPMBLXHhpVWB",
        "outputId": "dca275ec-17df-4bfb-b8dc-b6d39649300f"
      },
      "source": [
        "results = run_simulation(system, update_func_quad)\n",
        "plot_results(census, un, results, 'Quadratic model')"
      ],
      "execution_count": 21,
      "outputs": [
        {
          "output_type": "display_data",
          "data": {
            "image/png": "[encoded data removed]",
            "text/plain": [
              "<Figure size 432x288 with 1 Axes>"
            ]
          },
          "metadata": {
            "tags": [],
            "needs_background": "light"
          }
        }
      ]
    },
    {
      "cell_type": "markdown",
      "metadata": {
        "id": "vJBlG3rHpVWB"
      },
      "source": [
        "### Generating projections"
      ]
    },
    {
      "cell_type": "markdown",
      "metadata": {
        "id": "92nr3Bc-pVWB"
      },
      "source": [
        "To generate projections, all we have to do is change `t_end`"
      ]
    },
    {
      "cell_type": "code",
      "metadata": {
        "scrolled": false,
        "colab": {
          "base_uri": "https://localhost:8080/",
          "height": 297
        },
        "id": "eSvLbxXCpVWC",
        "outputId": "4895ce3d-e2dd-4bfd-f81c-d9b95e5fc6f1"
      },
      "source": [
        "system.t_end = 2250\n",
        "results = run_simulation(system, update_func_quad)\n",
        "plot_results(census, un, results, 'World population projection')"
      ],
      "execution_count": 22,
      "outputs": [
        {
          "output_type": "display_data",
          "data": {
            "image/png": "[encoded data removed]",
            "text/plain": [
              "<Figure size 432x288 with 1 Axes>"
            ]
          },
          "metadata": {
            "tags": [],
            "needs_background": "light"
          }
        }
      ]
    },
    {
      "cell_type": "markdown",
      "metadata": {
        "id": "T4rSrRtzpVWC"
      },
      "source": [
        "The population in the model converges on the equilibrium population, `-alpha/beta`"
      ]
    },
    {
      "cell_type": "code",
      "metadata": {
        "colab": {
          "base_uri": "https://localhost:8080/"
        },
        "id": "z2Mm-jZrpVWC",
        "outputId": "358ee837-689a-4514-c0c6-65189640ccc1"
      },
      "source": [
        "results[system.t_end]"
      ],
      "execution_count": 26,
      "outputs": [
        {
          "output_type": "execute_result",
          "data": {
            "text/plain": [
              "7.482254004183811"
            ]
          },
          "metadata": {
            "tags": []
          },
          "execution_count": 26
        }
      ]
    },
    {
      "cell_type": "code",
      "metadata": {
        "colab": {
          "base_uri": "https://localhost:8080/"
        },
        "id": "Dg7lXLflpVWD",
        "outputId": "4d8acdf2-c950-452c-d17a-1e4ecb77edf6"
      },
      "source": [
        "-system.alpha / system.beta"
      ],
      "execution_count": 27,
      "outputs": [
        {
          "output_type": "execute_result",
          "data": {
            "text/plain": [
              "13.88888888888889"
            ]
          },
          "metadata": {
            "tags": []
          },
          "execution_count": 27
        }
      ]
    },
    {
      "cell_type": "markdown",
      "metadata": {
        "id": "V8XkAxpZpVWD"
      },
      "source": [
        "**Exercise:**  What happens if we start with an initial population above the carrying capacity, like 20 billion?  Run the model with initial populations between 1 and 20 billion, and plot the results on the same axes."
      ]
    },
    {
      "cell_type": "code",
      "metadata": {
        "id": "NjJbDIcOpVWD"
      },
      "source": [
        "system.pop_0=20\n",
        "results = run_simulation(system, update_func_quad)\n",
        "plot_results(census, un, results, 'Quadratic model')\n"
      ],
      "execution_count": null,
      "outputs": []
    },
    {
      "cell_type": "markdown",
      "metadata": {
        "id": "3uJLLeIupVWD"
      },
      "source": [
        "### Comparing projections"
      ]
    },
    {
      "cell_type": "markdown",
      "metadata": {
        "id": "Q-cLnTLKpVWD"
      },
      "source": [
        "We can compare the projection from our model with projections produced by people who know what they are doing."
      ]
    },
    {
      "cell_type": "code",
      "metadata": {
        "id": "N3c3anoJpVWE"
      },
      "source": [
        "# Get the data file\n",
        "\n",
        "import os\n",
        "\n",
        "filename = 'World_population_estimates3.csv'\n",
        "if not os.path.exists(filename):\n",
        "    !wget https://raw.githubusercontent.com/AllenDowney/ModSimPy/master/data/World_population_estimates3.csv\n"
      ],
      "execution_count": null,
      "outputs": []
    },
    {
      "cell_type": "code",
      "metadata": {
        "id": "Ydg-RLv0pVWE"
      },
      "source": [
        "def read_table3(filename = 'data/World_population_estimates.html'):\n",
        "    tables = pd.read_html(filename, header=0, index_col=0, decimal='M')\n",
        "    table3 = tables[3]\n",
        "    table3.columns = ['census', 'prb', 'un']\n",
        "    return table3"
      ],
      "execution_count": null,
      "outputs": []
    },
    {
      "cell_type": "code",
      "metadata": {
        "id": "yViKl4ccpVWE"
      },
      "source": [
        "#table3 = read_table3()\n",
        "#table3.to_csv('data/World_population_estimates3.csv')"
      ],
      "execution_count": null,
      "outputs": []
    },
    {
      "cell_type": "code",
      "metadata": {
        "id": "RfeLLL_apVWF"
      },
      "source": [
        "table3 = pd.read_csv('World_population_estimates3.csv')\n",
        "table3.index = table3.Year\n",
        "table3.head()"
      ],
      "execution_count": null,
      "outputs": []
    },
    {
      "cell_type": "markdown",
      "metadata": {
        "id": "5bBFMNZupVWF"
      },
      "source": [
        "`NaN` is a special value that represents missing data, in this case because some agencies did not publish projections for some years."
      ]
    },
    {
      "cell_type": "markdown",
      "metadata": {
        "id": "ijHqbm3RpVWF"
      },
      "source": [
        "This function plots projections from the UN DESA and U.S. Census.  It uses `dropna` to remove the `NaN` values from each series before plotting it."
      ]
    },
    {
      "cell_type": "code",
      "metadata": {
        "id": "EJe4VxBOpVWG"
      },
      "source": [
        "def plot_projections(table):\n",
        "    \"\"\"Plot world population projections.\n",
        "    \n",
        "    table: DataFrame with columns 'un' and 'census'\n",
        "    \"\"\"\n",
        "    census_proj = table.census / 1e9\n",
        "    un_proj = table.un / 1e9\n",
        "    \n",
        "    plot(census_proj.dropna(), ':', color='C0', label='US Census')\n",
        "    plot(un_proj.dropna(), '--', color='C1', label='UN DESA')"
      ],
      "execution_count": null,
      "outputs": []
    },
    {
      "cell_type": "markdown",
      "metadata": {
        "id": "jNXOqUGTpVWG"
      },
      "source": [
        "Run the model until 2100, which is as far as the other projections go."
      ]
    },
    {
      "cell_type": "code",
      "metadata": {
        "id": "NI34nu3EpVWG"
      },
      "source": [
        "system = System(t_0=t_0, \n",
        "                t_end=2100,\n",
        "                p_0=p_0,\n",
        "                alpha=0.025,\n",
        "                beta=-0.0018)"
      ],
      "execution_count": null,
      "outputs": []
    },
    {
      "cell_type": "code",
      "metadata": {
        "id": "69_AnQGhpVWG"
      },
      "source": [
        "results = run_simulation(system, update_func_quad)\n",
        "\n",
        "plt.axvspan(1950, 2016, color='C0', alpha=0.05)\n",
        "plot_results(census, un, results, 'World population projections')\n",
        "plot_projections(table3)"
      ],
      "execution_count": null,
      "outputs": []
    },
    {
      "cell_type": "markdown",
      "metadata": {
        "id": "MWpCXMSdpVWI"
      },
      "source": [
        "People who know what they are doing expect the growth rate to decline more sharply than our model projects."
      ]
    },
    {
      "cell_type": "markdown",
      "metadata": {
        "id": "D20CaVqbpVWJ"
      },
      "source": [
        "## Exercises\n",
        "\n",
        "**Exercise:** The net growth rate of world population has been declining for several decades.  That observation suggests one more way to generate projections, by extrapolating observed changes in growth rate.\n",
        "\n",
        "The `modsim` library provides a function, `compute_rel_diff`, that computes relative differences of the elements in a sequence.\n",
        "\n",
        "Here's how we can use it to compute the relative differences in the `census` and `un` estimates:"
      ]
    },
    {
      "cell_type": "code",
      "metadata": {
        "id": "kcjtnJh-pVWJ"
      },
      "source": [
        "alpha_census = compute_rel_diff(census)\n",
        "plot(alpha_census, label='US Census')\n",
        "\n",
        "alpha_un = compute_rel_diff(un)\n",
        "plot(alpha_un, label='UN DESA')\n",
        "\n",
        "decorate(xlabel='Year', label='Net growth rate')"
      ],
      "execution_count": null,
      "outputs": []
    },
    {
      "cell_type": "markdown",
      "metadata": {
        "id": "0eZD6MWepVWK"
      },
      "source": [
        "Other than a bump around 1990, net growth rate has been declining roughly linearly since 1965.  As an exercise, you can use this data to make a projection of world population until 2100.\n",
        "\n",
        "1. Define a function, `alpha_func`, that takes `t` as a parameter and returns an estimate of the net growth rate at time `t`, based on a linear function `alpha = intercept + slope * t`.  Choose values of `slope` and `intercept` to fit the observed net growth rates since 1965.\n",
        "\n",
        "2. Call your function with a range of `ts` from 1960 to 2020 and plot the results.\n",
        "\n",
        "3. Create a `System` object that includes `alpha_func` as a system variable.\n",
        "\n",
        "4. Define an update function that uses `alpha_func` to compute the net growth rate at the given time `t`.\n",
        "\n",
        "5. Test your update function with `t_0 = 1960` and `p_0 = census[t_0]`.\n",
        "\n",
        "6. Run a simulation from 1960 to 2100 with your update function, and plot the results.\n",
        "\n",
        "7. Compare your projections with those from the US Census and UN."
      ]
    },
    {
      "cell_type": "code",
      "metadata": {
        "id": "8JwS4y86pVWK"
      },
      "source": [
        "# Solution goes here"
      ],
      "execution_count": null,
      "outputs": []
    },
    {
      "cell_type": "code",
      "metadata": {
        "id": "Al01bvZvpVWL"
      },
      "source": [
        "# Solution goes here"
      ],
      "execution_count": null,
      "outputs": []
    },
    {
      "cell_type": "code",
      "metadata": {
        "id": "e9tw5VcdpVWL"
      },
      "source": [
        "# Solution goes here"
      ],
      "execution_count": null,
      "outputs": []
    },
    {
      "cell_type": "code",
      "metadata": {
        "id": "LoIST0t4pVWM"
      },
      "source": [
        "# Solution goes here"
      ],
      "execution_count": null,
      "outputs": []
    },
    {
      "cell_type": "code",
      "metadata": {
        "id": "L84ndKkrpVWM"
      },
      "source": [
        "# Solution goes here"
      ],
      "execution_count": null,
      "outputs": []
    },
    {
      "cell_type": "code",
      "metadata": {
        "id": "4VIwgglIpVWN"
      },
      "source": [
        "# Solution goes here"
      ],
      "execution_count": null,
      "outputs": []
    },
    {
      "cell_type": "code",
      "metadata": {
        "id": "RX7tSjsYpVWO"
      },
      "source": [
        "# Solution goes here"
      ],
      "execution_count": null,
      "outputs": []
    },
    {
      "cell_type": "code",
      "metadata": {
        "id": "rlQDxjSNpVWP"
      },
      "source": [
        "# Solution goes here"
      ],
      "execution_count": null,
      "outputs": []
    },
    {
      "cell_type": "markdown",
      "metadata": {
        "id": "fg6MiOijpVWP"
      },
      "source": [
        "**Related viewing:** You might be interested in this [video by Hans Rosling about the demographic changes we expect in this century](https://www.youtube.com/watch?v=ezVk1ahRF78)."
      ]
    },
    {
      "cell_type": "code",
      "metadata": {
        "id": "4cX1kY7-pVWQ"
      },
      "source": [
        ""
      ],
      "execution_count": null,
      "outputs": []
    }
  ]
}