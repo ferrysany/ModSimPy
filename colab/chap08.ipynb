{
  "nbformat": 4,
  "nbformat_minor": 0,
  "metadata": {
    "kernelspec": {
      "display_name": "Python 3",
      "language": "python",
      "name": "python3"
    },
    "language_info": {
      "codemirror_mode": {
        "name": "ipython",
        "version": 3
      },
      "file_extension": ".py",
      "mimetype": "text/x-python",
      "name": "python",
      "nbconvert_exporter": "python",
      "pygments_lexer": "ipython3",
      "version": "3.7.9"
    },
    "colab": {
      "name": "chap08.ipynb",
      "provenance": []
    }
  },
  "cells": [
    {
      "cell_type": "markdown",
      "metadata": {
        "id": "0_YM0iUXpVVp"
      },
      "source": [
        "# Chapter 8"
      ]
    },
    {
      "cell_type": "markdown",
      "metadata": {
        "tags": [],
        "id": "-h5aOosbpVVw"
      },
      "source": [
        "*Modeling and Simulation in Python* edit by Chun San Yip \n",
        "\n",
        "Copyright 2021 Allen Downey\n",
        "\n",
        "License: [Creative Commons Attribution-NonCommercial-ShareAlike 4.0 International](https://creativecommons.org/licenses/by-nc-sa/4.0/)"
      ]
    },
    {
      "cell_type": "code",
      "metadata": {
        "tags": [],
        "id": "WOcq5JVupVVy"
      },
      "source": [
        "# check if the libraries we need are installed\n",
        "\n",
        "try:\n",
        "    import pint\n",
        "except ImportError:\n",
        "    !pip install pint\n",
        "    import pint\n",
        "    \n",
        "try:\n",
        "    from modsim import *\n",
        "except ImportError:\n",
        "    !pip install modsimpy\n",
        "    from modsim import *"
      ],
      "execution_count": 1,
      "outputs": []
    },
    {
      "cell_type": "code",
      "metadata": {
        "id": "eYIJJJNPpVV0"
      },
      "source": [
        "# Configure Jupyter so figures appear in the notebook\n",
        "%matplotlib inline\n",
        "\n",
        "# import functions from the modsim.py module\n",
        "from modsim import *"
      ],
      "execution_count": 2,
      "outputs": []
    },
    {
      "cell_type": "markdown",
      "metadata": {
        "id": "0DDBEYaFpVV0"
      },
      "source": [
        "### Functions from the previous chapter"
      ]
    },
    {
      "cell_type": "code",
      "metadata": {
        "id": "1maBu1MOpVV1"
      },
      "source": [
        "def plot_results(census, un, timeseries, title):\n",
        "    \"\"\"Plot the estimates and the model.\n",
        "    \n",
        "    census: TimeSeries of population estimates\n",
        "    un: TimeSeries of population estimates\n",
        "    timeseries: TimeSeries of simulation results\n",
        "    title: string\n",
        "    \"\"\"\n",
        "    plot(census, ':', label='US Census')\n",
        "    plot(un, '--', label='UN DESA')\n",
        "    plot(timeseries, color='gray', label='model')\n",
        "    \n",
        "    decorate(xlabel='Year', \n",
        "             ylabel='World population (billion)',\n",
        "             title=title)"
      ],
      "execution_count": 3,
      "outputs": []
    },
    {
      "cell_type": "code",
      "metadata": {
        "id": "8UNCFPjGpVV2"
      },
      "source": [
        "def run_simulation(system, update_func):\n",
        "    \"\"\"Simulate the system using any update function.\n",
        "    \n",
        "    system: System object\n",
        "    update_func: function that computes the population next year\n",
        "    \n",
        "    returns: TimeSeries\n",
        "    \"\"\"\n",
        "    results = TimeSeries()\n",
        "    results[system.t_0] = system.p_0\n",
        "    \n",
        "    for t in linrange(system.t_0, system.t_end):\n",
        "        results[t+1] = update_func(results[t], t, system)\n",
        "        \n",
        "    return results"
      ],
      "execution_count": 4,
      "outputs": []
    },
    {
      "cell_type": "markdown",
      "metadata": {
        "id": "ZbrI5dj-pVV4"
      },
      "source": [
        "### Reading the data"
      ]
    },
    {
      "cell_type": "code",
      "metadata": {
        "id": "QdetVNyYpVV6"
      },
      "source": [
        "# Get the data file\n",
        "\n",
        "import os\n",
        "\n",
        "filename = 'World_population_estimates2.csv'\n",
        "if not os.path.exists(filename):\n",
        "    !wget https://raw.githubusercontent.com/AllenDowney/ModSimPy/master/data/World_population_estimates2.csv"
      ],
      "execution_count": 5,
      "outputs": []
    },
    {
      "cell_type": "code",
      "metadata": {
        "colab": {
          "base_uri": "https://localhost:8080/",
          "height": 237
        },
        "id": "vlfyzU9ppVV8",
        "outputId": "2ff7ed6b-2b81-4c65-df66-95dc07079bc0"
      },
      "source": [
        "table2 = pd.read_csv('World_population_estimates2.csv')\n",
        "table2.index = table2.Year\n",
        "table2.head()"
      ],
      "execution_count": 6,
      "outputs": [
        {
          "output_type": "execute_result",
          "data": {
            "text/html": [
              "<div>\n",
              "<style scoped>\n",
              "    .dataframe tbody tr th:only-of-type {\n",
              "        vertical-align: middle;\n",
              "    }\n",
              "\n",
              "    .dataframe tbody tr th {\n",
              "        vertical-align: top;\n",
              "    }\n",
              "\n",
              "    .dataframe thead th {\n",
              "        text-align: right;\n",
              "    }\n",
              "</style>\n",
              "<table border=\"1\" class=\"dataframe\">\n",
              "  <thead>\n",
              "    <tr style=\"text-align: right;\">\n",
              "      <th></th>\n",
              "      <th>Year</th>\n",
              "      <th>census</th>\n",
              "      <th>prb</th>\n",
              "      <th>un</th>\n",
              "      <th>maddison</th>\n",
              "      <th>hyde</th>\n",
              "      <th>tanton</th>\n",
              "      <th>biraben</th>\n",
              "      <th>mj</th>\n",
              "      <th>thomlinson</th>\n",
              "      <th>durand</th>\n",
              "      <th>clark</th>\n",
              "    </tr>\n",
              "    <tr>\n",
              "      <th>Year</th>\n",
              "      <th></th>\n",
              "      <th></th>\n",
              "      <th></th>\n",
              "      <th></th>\n",
              "      <th></th>\n",
              "      <th></th>\n",
              "      <th></th>\n",
              "      <th></th>\n",
              "      <th></th>\n",
              "      <th></th>\n",
              "      <th></th>\n",
              "      <th></th>\n",
              "    </tr>\n",
              "  </thead>\n",
              "  <tbody>\n",
              "    <tr>\n",
              "      <th>1950</th>\n",
              "      <td>1950</td>\n",
              "      <td>2557628654</td>\n",
              "      <td>2.516000e+09</td>\n",
              "      <td>2.525149e+09</td>\n",
              "      <td>2.544000e+09</td>\n",
              "      <td>2.527960e+09</td>\n",
              "      <td>2.400000e+09</td>\n",
              "      <td>2.527000e+09</td>\n",
              "      <td>2.500000e+09</td>\n",
              "      <td>2.400000e+09</td>\n",
              "      <td>NaN</td>\n",
              "      <td>2.486000e+09</td>\n",
              "    </tr>\n",
              "    <tr>\n",
              "      <th>1951</th>\n",
              "      <td>1951</td>\n",
              "      <td>2594939877</td>\n",
              "      <td>NaN</td>\n",
              "      <td>2.572851e+09</td>\n",
              "      <td>2.571663e+09</td>\n",
              "      <td>NaN</td>\n",
              "      <td>NaN</td>\n",
              "      <td>NaN</td>\n",
              "      <td>NaN</td>\n",
              "      <td>NaN</td>\n",
              "      <td>NaN</td>\n",
              "      <td>NaN</td>\n",
              "    </tr>\n",
              "    <tr>\n",
              "      <th>1952</th>\n",
              "      <td>1952</td>\n",
              "      <td>2636772306</td>\n",
              "      <td>NaN</td>\n",
              "      <td>2.619292e+09</td>\n",
              "      <td>2.617949e+09</td>\n",
              "      <td>NaN</td>\n",
              "      <td>NaN</td>\n",
              "      <td>NaN</td>\n",
              "      <td>NaN</td>\n",
              "      <td>NaN</td>\n",
              "      <td>NaN</td>\n",
              "      <td>NaN</td>\n",
              "    </tr>\n",
              "    <tr>\n",
              "      <th>1953</th>\n",
              "      <td>1953</td>\n",
              "      <td>2682053389</td>\n",
              "      <td>NaN</td>\n",
              "      <td>2.665865e+09</td>\n",
              "      <td>2.665959e+09</td>\n",
              "      <td>NaN</td>\n",
              "      <td>NaN</td>\n",
              "      <td>NaN</td>\n",
              "      <td>NaN</td>\n",
              "      <td>NaN</td>\n",
              "      <td>NaN</td>\n",
              "      <td>NaN</td>\n",
              "    </tr>\n",
              "    <tr>\n",
              "      <th>1954</th>\n",
              "      <td>1954</td>\n",
              "      <td>2730228104</td>\n",
              "      <td>NaN</td>\n",
              "      <td>2.713172e+09</td>\n",
              "      <td>2.716927e+09</td>\n",
              "      <td>NaN</td>\n",
              "      <td>NaN</td>\n",
              "      <td>NaN</td>\n",
              "      <td>NaN</td>\n",
              "      <td>NaN</td>\n",
              "      <td>NaN</td>\n",
              "      <td>NaN</td>\n",
              "    </tr>\n",
              "  </tbody>\n",
              "</table>\n",
              "</div>"
            ],
            "text/plain": [
              "      Year      census           prb  ...    thomlinson  durand         clark\n",
              "Year                                  ...                                    \n",
              "1950  1950  2557628654  2.516000e+09  ...  2.400000e+09     NaN  2.486000e+09\n",
              "1951  1951  2594939877           NaN  ...           NaN     NaN           NaN\n",
              "1952  1952  2636772306           NaN  ...           NaN     NaN           NaN\n",
              "1953  1953  2682053389           NaN  ...           NaN     NaN           NaN\n",
              "1954  1954  2730228104           NaN  ...           NaN     NaN           NaN\n",
              "\n",
              "[5 rows x 12 columns]"
            ]
          },
          "metadata": {
            "tags": []
          },
          "execution_count": 6
        }
      ]
    },
    {
      "cell_type": "code",
      "metadata": {
        "colab": {
          "base_uri": "https://localhost:8080/",
          "height": 297
        },
        "id": "S4Mx5F6cpVV9",
        "outputId": "8dd58cfd-d0b4-4297-e60f-ff32f7296489"
      },
      "source": [
        "un = table2.un / 1e9\n",
        "census = table2.census / 1e9\n",
        "plot(census, ':', label='US Census')\n",
        "plot(un, '--', label='UN DESA')\n",
        "    \n",
        "decorate(xlabel='Year', \n",
        "             ylabel='World population (billion)',\n",
        "             title='Estimated world population')"
      ],
      "execution_count": 7,
      "outputs": [
        {
          "output_type": "display_data",
          "data": {
            "image/png": "[encoded data removed]",
            "text/plain": [
              "<Figure size 432x288 with 1 Axes>"
            ]
          },
          "metadata": {
            "tags": [],
            "needs_background": "light"
          }
        }
      ]
    },
    {
      "cell_type": "markdown",
      "metadata": {
        "id": "XEDkde5ppVV-"
      },
      "source": [
        "### Running the quadratic model"
      ]
    },
    {
      "cell_type": "markdown",
      "metadata": {
        "id": "QUIaOwSFpVV_"
      },
      "source": [
        "Here's the update function for the quadratic growth model with parameters `alpha` and `beta`."
      ]
    },
    {
      "cell_type": "code",
      "metadata": {
        "id": "hJBtvhc-pVV_"
      },
      "source": [
        "def update_func_quad(pop, t, system):\n",
        "    \"\"\"Update population based on a quadratic model.\n",
        "    \n",
        "    pop: current population in billions\n",
        "    t: what year it is\n",
        "    system: system object with model parameters\n",
        "    \"\"\"\n",
        "    net_growth = system.alpha * pop + system.beta * pop**2\n",
        "    return pop + net_growth"
      ],
      "execution_count": 8,
      "outputs": []
    },
    {
      "cell_type": "markdown",
      "metadata": {
        "id": "NIoHJP-wpVWA"
      },
      "source": [
        "Extract the starting time and population."
      ]
    },
    {
      "cell_type": "code",
      "metadata": {
        "id": "zBgkucrmpVWA"
      },
      "source": [
        "t_0 = get_first_label(census)\n",
        "t_end = get_last_label(census)\n",
        "p_0 = get_first_value(census)"
      ],
      "execution_count": 9,
      "outputs": []
    },
    {
      "cell_type": "markdown",
      "metadata": {
        "id": "ql_vrD8IpVWB"
      },
      "source": [
        "Initialize the system object."
      ]
    },
    {
      "cell_type": "code",
      "metadata": {
        "scrolled": true,
        "id": "k8qYDNHDpVWB"
      },
      "source": [
        "system = System(t_0=t_0, \n",
        "                t_end=t_end,\n",
        "                p_0=p_0,\n",
        "                alpha=0.025,\n",
        "                beta=-0.0018)"
      ],
      "execution_count": 10,
      "outputs": []
    },
    {
      "cell_type": "markdown",
      "metadata": {
        "id": "Pf-yWDnYpVWB"
      },
      "source": [
        "Run the model and plot results."
      ]
    },
    {
      "cell_type": "code",
      "metadata": {
        "colab": {
          "base_uri": "https://localhost:8080/",
          "height": 297
        },
        "id": "EPMBLXHhpVWB",
        "outputId": "cfc6002d-c768-4184-9d52-d927807d064f"
      },
      "source": [
        "results = run_simulation(system, update_func_quad)\n",
        "plot_results(census, un, results, 'Quadratic model')"
      ],
      "execution_count": 11,
      "outputs": [
        {
          "output_type": "display_data",
          "data": {
            "image/png": "[encoded data removed]",
            "text/plain": [
              "<Figure size 432x288 with 1 Axes>"
            ]
          },
          "metadata": {
            "tags": [],
            "needs_background": "light"
          }
        }
      ]
    },
    {
      "cell_type": "markdown",
      "metadata": {
        "id": "vJBlG3rHpVWB"
      },
      "source": [
        "### Generating projections"
      ]
    },
    {
      "cell_type": "markdown",
      "metadata": {
        "id": "92nr3Bc-pVWB"
      },
      "source": [
        "To generate projections, all we have to do is change `t_end`"
      ]
    },
    {
      "cell_type": "code",
      "metadata": {
        "scrolled": false,
        "colab": {
          "base_uri": "https://localhost:8080/",
          "height": 297
        },
        "id": "eSvLbxXCpVWC",
        "outputId": "5014aed2-c3d2-42a5-e899-dd3da47f0369"
      },
      "source": [
        "system.t_end = 2250\n",
        "results = run_simulation(system, update_func_quad)\n",
        "plot_results(census, un, results, 'World population projection')"
      ],
      "execution_count": 12,
      "outputs": [
        {
          "output_type": "display_data",
          "data": {
            "image/png": "[encoded data removed]",
            "text/plain": [
              "<Figure size 432x288 with 1 Axes>"
            ]
          },
          "metadata": {
            "tags": [],
            "needs_background": "light"
          }
        }
      ]
    },
    {
      "cell_type": "markdown",
      "metadata": {
        "id": "T4rSrRtzpVWC"
      },
      "source": [
        "The population in the model converges on the equilibrium population, `-alpha/beta`"
      ]
    },
    {
      "cell_type": "code",
      "metadata": {
        "colab": {
          "base_uri": "https://localhost:8080/"
        },
        "id": "z2Mm-jZrpVWC",
        "outputId": "b5ed83a0-e85c-49cd-f0b2-7a6df5bff0c2"
      },
      "source": [
        "results[system.t_end]"
      ],
      "execution_count": 13,
      "outputs": [
        {
          "output_type": "execute_result",
          "data": {
            "text/plain": [
              "13.856665141368708"
            ]
          },
          "metadata": {
            "tags": []
          },
          "execution_count": 13
        }
      ]
    },
    {
      "cell_type": "code",
      "metadata": {
        "colab": {
          "base_uri": "https://localhost:8080/"
        },
        "id": "Dg7lXLflpVWD",
        "outputId": "b8a7835e-ec3f-4156-f9e9-e85cfd7472ab"
      },
      "source": [
        "-system.alpha / system.beta"
      ],
      "execution_count": 14,
      "outputs": [
        {
          "output_type": "execute_result",
          "data": {
            "text/plain": [
              "13.88888888888889"
            ]
          },
          "metadata": {
            "tags": []
          },
          "execution_count": 14
        }
      ]
    },
    {
      "cell_type": "markdown",
      "metadata": {
        "id": "V8XkAxpZpVWD"
      },
      "source": [
        "**Exercise:**  What happens if we start with an initial population above the carrying capacity, like 20 billion?  Run the model with initial populations between 1 and 20 billion, and plot the results on the same axes."
      ]
    },
    {
      "cell_type": "code",
      "metadata": {
        "colab": {
          "base_uri": "https://localhost:8080/",
          "height": 297
        },
        "id": "NjJbDIcOpVWD",
        "outputId": "12ee5fed-6bb4-4163-9de3-f1cbf6b3fa52"
      },
      "source": [
        "system1 = System(t_0=t_0, \n",
        "                t_end=t_end,\n",
        "                p_0=20,\n",
        "                alpha=0.025,\n",
        "                beta=-0.0018)\n",
        "results1 = run_simulation(system1, update_func_quad)\n",
        "\n",
        "system.t_end = 2015\n",
        "results = run_simulation(system, update_func_quad)\n",
        "\n",
        "def plot_results1(census, un, timeseries1, timeseries2, title):\n",
        "\n",
        "    plot(census, ':', label='US Census')\n",
        "    plot(un, '--', label='UN DESA')\n",
        "    plot(timeseries1, color='gray', label='model1')\n",
        "    plot(timeseries2, color='red', label='model2')\n",
        "    \n",
        "    decorate(xlabel='Year', \n",
        "             ylabel='World population (billion)',\n",
        "             title=title)\n",
        "    \n",
        "plot_results1(census, un, results, results1, 'Quadratic model with different initial population')\n"
      ],
      "execution_count": 15,
      "outputs": [
        {
          "output_type": "display_data",
          "data": {
            "image/png": "[encoded data removed]",
            "text/plain": [
              "<Figure size 432x288 with 1 Axes>"
            ]
          },
          "metadata": {
            "tags": [],
            "needs_background": "light"
          }
        }
      ]
    },
    {
      "cell_type": "markdown",
      "metadata": {
        "id": "3uJLLeIupVWD"
      },
      "source": [
        "### Comparing projections"
      ]
    },
    {
      "cell_type": "markdown",
      "metadata": {
        "id": "Q-cLnTLKpVWD"
      },
      "source": [
        "We can compare the projection from our model with projections produced by people who know what they are doing."
      ]
    },
    {
      "cell_type": "code",
      "metadata": {
        "id": "N3c3anoJpVWE"
      },
      "source": [
        "# Get the data file\n",
        "\n",
        "import os\n",
        "\n",
        "filename = 'World_population_estimates3.csv'\n",
        "if not os.path.exists(filename):\n",
        "    !wget https://raw.githubusercontent.com/AllenDowney/ModSimPy/master/data/World_population_estimates3.csv\n"
      ],
      "execution_count": 16,
      "outputs": []
    },
    {
      "cell_type": "code",
      "metadata": {
        "id": "Ydg-RLv0pVWE"
      },
      "source": [
        "def read_table3(filename = 'data/World_population_estimates.html'):\n",
        "    tables = pd.read_html(filename, header=0, index_col=0, decimal='M')\n",
        "    table3 = tables[3]\n",
        "    table3.columns = ['census', 'prb', 'un']\n",
        "    return table3"
      ],
      "execution_count": 17,
      "outputs": []
    },
    {
      "cell_type": "code",
      "metadata": {
        "id": "yViKl4ccpVWE"
      },
      "source": [
        "#table3 = read_table3()\n",
        "#table3.to_csv('data/World_population_estimates3.csv')"
      ],
      "execution_count": 18,
      "outputs": []
    },
    {
      "cell_type": "code",
      "metadata": {
        "colab": {
          "base_uri": "https://localhost:8080/",
          "height": 237
        },
        "id": "RfeLLL_apVWF",
        "outputId": "819e501c-50ae-4af9-fc04-1c2abca31f69"
      },
      "source": [
        "table3 = pd.read_csv('World_population_estimates3.csv')\n",
        "table3.index = table3.Year\n",
        "table3.head()"
      ],
      "execution_count": 19,
      "outputs": [
        {
          "output_type": "execute_result",
          "data": {
            "text/html": [
              "<div>\n",
              "<style scoped>\n",
              "    .dataframe tbody tr th:only-of-type {\n",
              "        vertical-align: middle;\n",
              "    }\n",
              "\n",
              "    .dataframe tbody tr th {\n",
              "        vertical-align: top;\n",
              "    }\n",
              "\n",
              "    .dataframe thead th {\n",
              "        text-align: right;\n",
              "    }\n",
              "</style>\n",
              "<table border=\"1\" class=\"dataframe\">\n",
              "  <thead>\n",
              "    <tr style=\"text-align: right;\">\n",
              "      <th></th>\n",
              "      <th>Year</th>\n",
              "      <th>census</th>\n",
              "      <th>prb</th>\n",
              "      <th>un</th>\n",
              "    </tr>\n",
              "    <tr>\n",
              "      <th>Year</th>\n",
              "      <th></th>\n",
              "      <th></th>\n",
              "      <th></th>\n",
              "      <th></th>\n",
              "    </tr>\n",
              "  </thead>\n",
              "  <tbody>\n",
              "    <tr>\n",
              "      <th>2016</th>\n",
              "      <td>2016</td>\n",
              "      <td>7.334772e+09</td>\n",
              "      <td>NaN</td>\n",
              "      <td>7.432663e+09</td>\n",
              "    </tr>\n",
              "    <tr>\n",
              "      <th>2017</th>\n",
              "      <td>2017</td>\n",
              "      <td>7.412779e+09</td>\n",
              "      <td>NaN</td>\n",
              "      <td>NaN</td>\n",
              "    </tr>\n",
              "    <tr>\n",
              "      <th>2018</th>\n",
              "      <td>2018</td>\n",
              "      <td>7.490428e+09</td>\n",
              "      <td>NaN</td>\n",
              "      <td>NaN</td>\n",
              "    </tr>\n",
              "    <tr>\n",
              "      <th>2019</th>\n",
              "      <td>2019</td>\n",
              "      <td>7.567403e+09</td>\n",
              "      <td>NaN</td>\n",
              "      <td>NaN</td>\n",
              "    </tr>\n",
              "    <tr>\n",
              "      <th>2020</th>\n",
              "      <td>2020</td>\n",
              "      <td>7.643402e+09</td>\n",
              "      <td>NaN</td>\n",
              "      <td>7.758157e+09</td>\n",
              "    </tr>\n",
              "  </tbody>\n",
              "</table>\n",
              "</div>"
            ],
            "text/plain": [
              "      Year        census  prb            un\n",
              "Year                                       \n",
              "2016  2016  7.334772e+09  NaN  7.432663e+09\n",
              "2017  2017  7.412779e+09  NaN           NaN\n",
              "2018  2018  7.490428e+09  NaN           NaN\n",
              "2019  2019  7.567403e+09  NaN           NaN\n",
              "2020  2020  7.643402e+09  NaN  7.758157e+09"
            ]
          },
          "metadata": {
            "tags": []
          },
          "execution_count": 19
        }
      ]
    },
    {
      "cell_type": "markdown",
      "metadata": {
        "id": "5bBFMNZupVWF"
      },
      "source": [
        "`NaN` is a special value that represents missing data, in this case because some agencies did not publish projections for some years."
      ]
    },
    {
      "cell_type": "markdown",
      "metadata": {
        "id": "ijHqbm3RpVWF"
      },
      "source": [
        "This function plots projections from the UN DESA and U.S. Census.  It uses `dropna` to remove the `NaN` values from each series before plotting it."
      ]
    },
    {
      "cell_type": "code",
      "metadata": {
        "id": "EJe4VxBOpVWG"
      },
      "source": [
        "def plot_projections(table):\n",
        "    \"\"\"Plot world population projections.\n",
        "    \n",
        "    table: DataFrame with columns 'un' and 'census'\n",
        "    \"\"\"\n",
        "    census_proj = table.census / 1e9\n",
        "    un_proj = table.un / 1e9\n",
        "    \n",
        "    plot(census_proj.dropna(), ':', color='C0', label='US Census')\n",
        "    plot(un_proj.dropna(), '--', color='C1', label='UN DESA')"
      ],
      "execution_count": 20,
      "outputs": []
    },
    {
      "cell_type": "markdown",
      "metadata": {
        "id": "jNXOqUGTpVWG"
      },
      "source": [
        "Run the model until 2100, which is as far as the other projections go."
      ]
    },
    {
      "cell_type": "code",
      "metadata": {
        "id": "NI34nu3EpVWG"
      },
      "source": [
        "system = System(t_0=t_0, \n",
        "                t_end=2100,\n",
        "                p_0=p_0,\n",
        "                alpha=0.025,\n",
        "                beta=-0.0018)"
      ],
      "execution_count": 21,
      "outputs": []
    },
    {
      "cell_type": "code",
      "metadata": {
        "colab": {
          "base_uri": "https://localhost:8080/",
          "height": 297
        },
        "id": "69_AnQGhpVWG",
        "outputId": "d5529b91-a317-49dc-cf0f-23b170a8335d"
      },
      "source": [
        "results = run_simulation(system, update_func_quad)\n",
        "\n",
        "plt.axvspan(1950, 2016, color='C0', alpha=0.05)\n",
        "plot_results(census, un, results, 'World population projections')\n",
        "plot_projections(table3)"
      ],
      "execution_count": 22,
      "outputs": [
        {
          "output_type": "display_data",
          "data": {
            "image/png": "[encoded data removed]",
            "text/plain": [
              "<Figure size 432x288 with 1 Axes>"
            ]
          },
          "metadata": {
            "tags": [],
            "needs_background": "light"
          }
        }
      ]
    },
    {
      "cell_type": "markdown",
      "metadata": {
        "id": "MWpCXMSdpVWI"
      },
      "source": [
        "People who know what they are doing expect the growth rate to decline more sharply than our model projects."
      ]
    },
    {
      "cell_type": "markdown",
      "metadata": {
        "id": "D20CaVqbpVWJ"
      },
      "source": [
        "## Exercises\n",
        "\n",
        "**Exercise:** The net growth rate of world population has been declining for several decades.  That observation suggests one more way to generate projections, by extrapolating observed changes in growth rate.\n",
        "\n",
        "The `modsim` library provides a function, `compute_rel_diff`, that computes relative differences of the elements in a sequence.\n",
        "\n",
        "Here's how we can use it to compute the relative differences in the `census` and `un` estimates:"
      ]
    },
    {
      "cell_type": "code",
      "metadata": {
        "colab": {
          "base_uri": "https://localhost:8080/",
          "height": 523
        },
        "id": "kcjtnJh-pVWJ",
        "outputId": "54273697-3478-40d0-b813-6b0285f77dcd"
      },
      "source": [
        "alpha_census = compute_rel_diff(census)\n",
        "plot(alpha_census, label='US Census')\n",
        "\n",
        "alpha_un = compute_rel_diff(un)\n",
        "plot(alpha_un, label='UN DESA')\n",
        "\n",
        "decorate(xlabel='Year', label='Net growth rate')\n",
        "print(alpha_un)\n"
      ],
      "execution_count": 35,
      "outputs": [
        {
          "output_type": "stream",
          "text": [
            "Year\n",
            "1950    0.018891\n",
            "1951    0.018050\n",
            "1952    0.017781\n",
            "1953    0.017745\n",
            "1954    0.017868\n",
            "          ...   \n",
            "2012    0.011588\n",
            "2013    0.011402\n",
            "2014    0.014590\n",
            "2015         NaN\n",
            "2016         NaN\n",
            "Length: 67, dtype: float64\n"
          ],
          "name": "stdout"
        },
        {
          "output_type": "display_data",
          "data": {
            "image/png": "[encoded data removed]",
            "text/plain": [
              "<Figure size 432x288 with 1 Axes>"
            ]
          },
          "metadata": {
            "tags": [],
            "needs_background": "light"
          }
        }
      ]
    },
    {
      "cell_type": "markdown",
      "metadata": {
        "id": "0eZD6MWepVWK"
      },
      "source": [
        "Other than a bump around 1990, net growth rate has been declining roughly linearly since 1965.  As an exercise, you can use this data to make a projection of world population until 2100.\n",
        "\n",
        "1. Define a function, `alpha_func`, that takes `t` as a parameter and returns an estimate of the net growth rate at time `t`, based on a linear function `alpha = intercept + slope * t`.  Choose values of `slope` and `intercept` to fit the observed net growth rates since 1965.\n",
        "\n",
        "2. Call your function with a range of `ts` from 1960 to 2020 and plot the results.\n",
        "\n",
        "3. Create a `System` object that includes `alpha_func` as a system variable.\n",
        "\n",
        "4. Define an update function that uses `alpha_func` to compute the net growth rate at the given time `t`.\n",
        "\n",
        "5. Test your update function with `t_0 = 1960` and `p_0 = census[t_0]`.\n",
        "\n",
        "6. Run a simulation from 1960 to 2100 with your update function, and plot the results.\n",
        "\n",
        "7. Compare your projections with those from the US Census and UN."
      ]
    },
    {
      "cell_type": "code",
      "metadata": {
        "id": "8JwS4y86pVWK"
      },
      "source": [
        "def alpha_func(t):\n",
        "  intercept = 0.765\n",
        "  slope = -0.0003778\n",
        "  alpha = intercept + slope * t\n",
        "  return alpha\n"
      ],
      "execution_count": 51,
      "outputs": []
    },
    {
      "cell_type": "code",
      "metadata": {
        "colab": {
          "base_uri": "https://localhost:8080/",
          "height": 289
        },
        "id": "Al01bvZvpVWL",
        "outputId": "bc70d11e-c3c3-4340-faf0-162990449d53"
      },
      "source": [
        "growth_rate = TimeSeries()\n",
        "for ts in linrange(1960,2020):\n",
        "  growth_rate[ts]=alpha_func(ts)\n",
        "\n",
        "plot(growth_rate, label='Growth Rate')"
      ],
      "execution_count": 65,
      "outputs": [
        {
          "output_type": "execute_result",
          "data": {
            "text/plain": [
              "[<matplotlib.lines.Line2D at 0x7f132531c150>]"
            ]
          },
          "metadata": {
            "tags": []
          },
          "execution_count": 65
        },
        {
          "output_type": "display_data",
          "data": {
            "image/png": "[encoded data removed]",
            "text/plain": [
              "<Figure size 432x288 with 1 Axes>"
            ]
          },
          "metadata": {
            "tags": [],
            "needs_background": "light"
          }
        }
      ]
    },
    {
      "cell_type": "code",
      "metadata": {
        "id": "e9tw5VcdpVWL"
      },
      "source": [
        "system2 = System(t_0=t_0, \n",
        "                t_end=t_end,\n",
        "                p_0=p_0,\n",
        "                alpha=alpha_func(t_0),\n",
        "                beta=-0.0018)"
      ],
      "execution_count": 69,
      "outputs": []
    },
    {
      "cell_type": "code",
      "metadata": {
        "id": "LoIST0t4pVWM"
      },
      "source": [
        "def update_func_alpha(pop, t, system):\n",
        "    \"\"\"Update population based on a quadratic model and variable alpha.\n",
        "    \n",
        "    pop: current population in billions\n",
        "    t: what year it is\n",
        "    system: system object with model parameters\n",
        "    \"\"\"\n",
        "    net_growth = system.alpha * pop + system.beta * pop**2\n",
        "    return pop + net_growth"
      ],
      "execution_count": 70,
      "outputs": []
    },
    {
      "cell_type": "code",
      "metadata": {
        "colab": {
          "base_uri": "https://localhost:8080/"
        },
        "id": "L84ndKkrpVWM",
        "outputId": "84d670c0-2d4e-4962-c329-65e44c464494"
      },
      "source": [
        "t_0 = 1960\n",
        "p_0 = census[t_0]\n",
        "print(t_0, p_0)\n",
        "update_func_alpha(p_0, t_0, system2)"
      ],
      "execution_count": 71,
      "outputs": [
        {
          "output_type": "stream",
          "text": [
            "1960 3.043001508\n"
          ],
          "name": "stdout"
        },
        {
          "output_type": "execute_result",
          "data": {
            "text/plain": [
              "3.1009238162442534"
            ]
          },
          "metadata": {
            "tags": []
          },
          "execution_count": 71
        }
      ]
    },
    {
      "cell_type": "code",
      "metadata": {
        "colab": {
          "base_uri": "https://localhost:8080/",
          "height": 289
        },
        "id": "4VIwgglIpVWN",
        "outputId": "c9646593-b718-4ff8-db28-30953bdd4f9b"
      },
      "source": [
        "system2.t_0 = 1960\n",
        "system2.t_end = 2100\n",
        "results3=TimeSeries()\n",
        "\n",
        "results3 = run_simulation(system2, update_func_alpha)\n",
        "\n",
        "plot(results3, ':', label='Population based on alpha function')\n"
      ],
      "execution_count": 76,
      "outputs": [
        {
          "output_type": "execute_result",
          "data": {
            "text/plain": [
              "[<matplotlib.lines.Line2D at 0x7f1325127410>]"
            ]
          },
          "metadata": {
            "tags": []
          },
          "execution_count": 76
        },
        {
          "output_type": "display_data",
          "data": {
            "image/png": "[encoded data removed]",
            "text/plain": [
              "<Figure size 432x288 with 1 Axes>"
            ]
          },
          "metadata": {
            "tags": [],
            "needs_background": "light"
          }
        }
      ]
    },
    {
      "cell_type": "code",
      "metadata": {
        "colab": {
          "base_uri": "https://localhost:8080/",
          "height": 297
        },
        "id": "RX7tSjsYpVWO",
        "outputId": "a810983b-783a-45a6-e78b-7056a6cf2d57"
      },
      "source": [
        "plot_results(census, un, results3, 'World population projections')"
      ],
      "execution_count": 77,
      "outputs": [
        {
          "output_type": "display_data",
          "data": {
            "image/png": "[encoded data removed]",
            "text/plain": [
              "<Figure size 432x288 with 1 Axes>"
            ]
          },
          "metadata": {
            "tags": [],
            "needs_background": "light"
          }
        }
      ]
    },
    {
      "cell_type": "code",
      "metadata": {
        "id": "rlQDxjSNpVWP"
      },
      "source": [
        "# Solution goes here"
      ],
      "execution_count": 31,
      "outputs": []
    },
    {
      "cell_type": "markdown",
      "metadata": {
        "id": "fg6MiOijpVWP"
      },
      "source": [
        "**Related viewing:** You might be interested in this [video by Hans Rosling about the demographic changes we expect in this century](https://www.youtube.com/watch?v=ezVk1ahRF78)."
      ]
    },
    {
      "cell_type": "code",
      "metadata": {
        "id": "4cX1kY7-pVWQ"
      },
      "source": [
        ""
      ],
      "execution_count": 31,
      "outputs": []
    }
  ]
}