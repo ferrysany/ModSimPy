{
  "nbformat": 4,
  "nbformat_minor": 0,
  "metadata": {
    "kernelspec": {
      "display_name": "Python 3",
      "language": "python",
      "name": "python3"
    },
    "language_info": {
      "codemirror_mode": {
        "name": "ipython",
        "version": 3
      },
      "file_extension": ".py",
      "mimetype": "text/x-python",
      "name": "python",
      "nbconvert_exporter": "python",
      "pygments_lexer": "ipython3",
      "version": "3.7.9"
    },
    "colab": {
      "name": "chap03.ipynb",
      "provenance": []
    }
  },
  "cells": [
    {
      "cell_type": "markdown",
      "metadata": {
        "id": "r7MxV54KCu2S"
      },
      "source": [
        "# Chapter 3"
      ]
    },
    {
      "cell_type": "markdown",
      "metadata": {
        "tags": [],
        "id": "zoe_3W9vCu2U"
      },
      "source": [
        "*Modeling and Simulation in Python* Edit by Chun San Yip (07 June 2021)\n",
        "\n",
        "Copyright 2021 Allen Downey\n",
        "\n",
        "License: [Creative Commons Attribution-NonCommercial-ShareAlike 4.0 International](https://creativecommons.org/licenses/by-nc-sa/4.0/)"
      ]
    },
    {
      "cell_type": "code",
      "metadata": {
        "tags": [],
        "colab": {
          "base_uri": "https://localhost:8080/"
        },
        "id": "w7fTDgw0Cu2Y",
        "outputId": "e71f814e-c622-4084-c2d9-c67939429d34"
      },
      "source": [
        "# check if the libraries we need are installed\n",
        "\n",
        "try:\n",
        "    import pint\n",
        "except ImportError:\n",
        "    !pip install pint\n",
        "    import pint\n",
        "    \n",
        "try:\n",
        "    from modsim import *\n",
        "except ImportError:\n",
        "    !pip install modsimpy\n",
        "    from modsim import *"
      ],
      "execution_count": 1,
      "outputs": [
        {
          "output_type": "stream",
          "text": [
            "Collecting pint\n",
            "\u001b[?25l  Downloading https://files.pythonhosted.org/packages/33/de/53a77b82553579affab7438d299f850acbc1c4dd741c5ce52594513cb0ef/Pint-0.17-py2.py3-none-any.whl (204kB)\n",
            "\u001b[K     |████████████████████████████████| 215kB 3.7MB/s \n",
            "\u001b[?25hRequirement already satisfied: packaging in /usr/local/lib/python3.7/dist-packages (from pint) (20.9)\n",
            "Requirement already satisfied: importlib-metadata; python_version < \"3.8\" in /usr/local/lib/python3.7/dist-packages (from pint) (4.0.1)\n",
            "Requirement already satisfied: pyparsing>=2.0.2 in /usr/local/lib/python3.7/dist-packages (from packaging->pint) (2.4.7)\n",
            "Requirement already satisfied: typing-extensions>=3.6.4; python_version < \"3.8\" in /usr/local/lib/python3.7/dist-packages (from importlib-metadata; python_version < \"3.8\"->pint) (3.7.4.3)\n",
            "Requirement already satisfied: zipp>=0.5 in /usr/local/lib/python3.7/dist-packages (from importlib-metadata; python_version < \"3.8\"->pint) (3.4.1)\n",
            "Installing collected packages: pint\n",
            "Successfully installed pint-0.17\n",
            "Collecting modsimpy\n",
            "  Downloading https://files.pythonhosted.org/packages/ee/ef/c170df0ee5311cda90a10fc71d1610b9a1cb2241fadbf04bf0f57ff161e9/modsimpy-1.1.3.tar.gz\n",
            "Building wheels for collected packages: modsimpy\n",
            "  Building wheel for modsimpy (setup.py) ... \u001b[?25l\u001b[?25hdone\n",
            "  Created wheel for modsimpy: filename=modsimpy-1.1.3-cp37-none-any.whl size=20356 sha256=201f145a48437d4cd2bd8aa4efe5b1ec20261981a31baf821bc6adfeabb81f76\n",
            "  Stored in directory: /root/.cache/pip/wheels/59/34/ac/e82f103fbfb5d961b1a4d2b8e89bb6629a4c0b242e5373cbfa\n",
            "Successfully built modsimpy\n",
            "Installing collected packages: modsimpy\n",
            "Successfully installed modsimpy-1.1.3\n"
          ],
          "name": "stdout"
        }
      ]
    },
    {
      "cell_type": "markdown",
      "metadata": {
        "id": "Jrn6YMIiCu2Z"
      },
      "source": [
        "## More than one State object\n",
        "\n",
        "Here's the code from the previous chapter, with two changes:\n",
        "\n",
        "1. I've added DocStrings that explain what each function does, and what parameters it takes.\n",
        "\n",
        "2. I've added a parameter named `state` to the functions so they work with whatever `State` object we give them, instead of always using `bikeshare`.  That makes it possible to work with more than one `State` object."
      ]
    },
    {
      "cell_type": "code",
      "metadata": {
        "id": "rWNkJy0ZCu2a"
      },
      "source": [
        "def step(state, p1, p2):\n",
        "    \"\"\"Simulate one minute of time.\n",
        "    \n",
        "    state: bikeshare State object\n",
        "    p1: probability of an Olin->Wellesley customer arrival\n",
        "    p2: probability of a Wellesley->Olin customer arrival\n",
        "    \"\"\"\n",
        "    if flip(p1):\n",
        "        bike_to_wellesley(state)\n",
        "    \n",
        "    if flip(p2):\n",
        "        bike_to_olin(state)\n",
        "        \n",
        "def bike_to_wellesley(state):\n",
        "    \"\"\"Move one bike from Olin to Wellesley.\n",
        "    \n",
        "    state: bikeshare State object\n",
        "    \"\"\"\n",
        "    state.olin -= 1\n",
        "    state.wellesley += 1\n",
        "    \n",
        "def bike_to_olin(state):\n",
        "    \"\"\"Move one bike from Wellesley to Olin.\n",
        "    \n",
        "    state: bikeshare State object\n",
        "    \"\"\"\n",
        "    state.wellesley -= 1\n",
        "    state.olin += 1\n",
        "    \n",
        "def decorate_bikeshare():\n",
        "    \"\"\"Add a title and label the axes.\"\"\"\n",
        "    decorate(title='Olin-Wellesley Bikeshare',\n",
        "             xlabel='Time step (min)', \n",
        "             ylabel='Number of bikes')"
      ],
      "execution_count": 2,
      "outputs": []
    },
    {
      "cell_type": "markdown",
      "metadata": {
        "id": "GcuiSj-8Cu2b"
      },
      "source": [
        "And here's `run_simulation`, which is a solution to the exercise at the end of the previous notebook."
      ]
    },
    {
      "cell_type": "code",
      "metadata": {
        "id": "00h1GyFVCu2c"
      },
      "source": [
        "def run_simulation(state, p1, p2, num_steps):\n",
        "    \"\"\"Simulate the given number of time steps.\n",
        "    \n",
        "    state: State object\n",
        "    p1: probability of an Olin->Wellesley customer arrival\n",
        "    p2: probability of a Wellesley->Olin customer arrival\n",
        "    num_steps: number of time steps\n",
        "    \"\"\"\n",
        "    results = TimeSeries()    \n",
        "    for i in range(num_steps):\n",
        "        step(state, p1, p2)\n",
        "        results[i] = state.olin\n",
        "        \n",
        "    plot(results, label='Olin')"
      ],
      "execution_count": 3,
      "outputs": []
    },
    {
      "cell_type": "markdown",
      "metadata": {
        "id": "xAfeYlTUCu2d"
      },
      "source": [
        "Now we can create more than one `State` object:"
      ]
    },
    {
      "cell_type": "code",
      "metadata": {
        "id": "AH4cVp6tCu2d"
      },
      "source": [
        "bikeshare1 = State(olin=10, wellesley=2)"
      ],
      "execution_count": 4,
      "outputs": []
    },
    {
      "cell_type": "code",
      "metadata": {
        "id": "5kCjl5ssCu2f"
      },
      "source": [
        "bikeshare2 = State(olin=2, wellesley=10)"
      ],
      "execution_count": 5,
      "outputs": []
    },
    {
      "cell_type": "markdown",
      "metadata": {
        "id": "ftO3n2heCu2h"
      },
      "source": [
        "Whenever we call a function, we indicate which `State` object to work with:"
      ]
    },
    {
      "cell_type": "code",
      "metadata": {
        "id": "ysxQxU0wCu2j"
      },
      "source": [
        "bike_to_olin(bikeshare1)"
      ],
      "execution_count": 6,
      "outputs": []
    },
    {
      "cell_type": "code",
      "metadata": {
        "id": "gedSjSMFCu2j"
      },
      "source": [
        "bike_to_wellesley(bikeshare2)"
      ],
      "execution_count": 7,
      "outputs": []
    },
    {
      "cell_type": "markdown",
      "metadata": {
        "id": "cYnoX2YwCu2k"
      },
      "source": [
        "And you can confirm that the different objects are getting updated independently:"
      ]
    },
    {
      "cell_type": "code",
      "metadata": {
        "colab": {
          "base_uri": "https://localhost:8080/",
          "height": 112
        },
        "id": "VSdg3pTiCu2k",
        "outputId": "92bb8700-66b6-4dc0-f2ea-d0bb7bcd741a"
      },
      "source": [
        "bikeshare1"
      ],
      "execution_count": 8,
      "outputs": [
        {
          "output_type": "execute_result",
          "data": {
            "text/html": [
              "<div>\n",
              "<style scoped>\n",
              "    .dataframe tbody tr th:only-of-type {\n",
              "        vertical-align: middle;\n",
              "    }\n",
              "\n",
              "    .dataframe tbody tr th {\n",
              "        vertical-align: top;\n",
              "    }\n",
              "\n",
              "    .dataframe thead th {\n",
              "        text-align: right;\n",
              "    }\n",
              "</style>\n",
              "<table border=\"1\" class=\"dataframe\">\n",
              "  <thead>\n",
              "    <tr style=\"text-align: right;\">\n",
              "      <th></th>\n",
              "      <th>values</th>\n",
              "    </tr>\n",
              "  </thead>\n",
              "  <tbody>\n",
              "    <tr>\n",
              "      <th>olin</th>\n",
              "      <td>11</td>\n",
              "    </tr>\n",
              "    <tr>\n",
              "      <th>wellesley</th>\n",
              "      <td>1</td>\n",
              "    </tr>\n",
              "  </tbody>\n",
              "</table>\n",
              "</div>"
            ],
            "text/plain": [
              "olin         11\n",
              "wellesley     1\n",
              "dtype: int64"
            ]
          },
          "metadata": {
            "tags": []
          },
          "execution_count": 8
        }
      ]
    },
    {
      "cell_type": "code",
      "metadata": {
        "colab": {
          "base_uri": "https://localhost:8080/",
          "height": 112
        },
        "id": "vq_JKVYbCu2k",
        "outputId": "5f71d22a-cd1c-4fde-9f23-28a003314a57"
      },
      "source": [
        "bikeshare2"
      ],
      "execution_count": 9,
      "outputs": [
        {
          "output_type": "execute_result",
          "data": {
            "text/html": [
              "<div>\n",
              "<style scoped>\n",
              "    .dataframe tbody tr th:only-of-type {\n",
              "        vertical-align: middle;\n",
              "    }\n",
              "\n",
              "    .dataframe tbody tr th {\n",
              "        vertical-align: top;\n",
              "    }\n",
              "\n",
              "    .dataframe thead th {\n",
              "        text-align: right;\n",
              "    }\n",
              "</style>\n",
              "<table border=\"1\" class=\"dataframe\">\n",
              "  <thead>\n",
              "    <tr style=\"text-align: right;\">\n",
              "      <th></th>\n",
              "      <th>values</th>\n",
              "    </tr>\n",
              "  </thead>\n",
              "  <tbody>\n",
              "    <tr>\n",
              "      <th>olin</th>\n",
              "      <td>1</td>\n",
              "    </tr>\n",
              "    <tr>\n",
              "      <th>wellesley</th>\n",
              "      <td>11</td>\n",
              "    </tr>\n",
              "  </tbody>\n",
              "</table>\n",
              "</div>"
            ],
            "text/plain": [
              "olin          1\n",
              "wellesley    11\n",
              "dtype: int64"
            ]
          },
          "metadata": {
            "tags": []
          },
          "execution_count": 9
        }
      ]
    },
    {
      "cell_type": "markdown",
      "metadata": {
        "id": "QK1uJoL2Cu2l"
      },
      "source": [
        "## Negative bikes"
      ]
    },
    {
      "cell_type": "markdown",
      "metadata": {
        "id": "nS0aga5ACu2l"
      },
      "source": [
        "In the code we have so far, the number of bikes at one of the locations can go negative, and the number of bikes at the other location can exceed the actual number of bikes in the system.\n",
        "\n",
        "If you run this simulation a few times, it happens often."
      ]
    },
    {
      "cell_type": "code",
      "metadata": {
        "colab": {
          "base_uri": "https://localhost:8080/",
          "height": 297
        },
        "id": "7-D_eG_sCu2l",
        "outputId": "296300c8-25be-4a75-a409-845fa94238bf"
      },
      "source": [
        "bikeshare = State(olin=10, wellesley=2)\n",
        "run_simulation(bikeshare, 0.4, 0.2, 60)\n",
        "decorate_bikeshare()"
      ],
      "execution_count": 10,
      "outputs": [
        {
          "output_type": "display_data",
          "data": {
            "image/png": "[encoded data removed]",
            "text/plain": [
              "<Figure size 432x288 with 1 Axes>"
            ]
          },
          "metadata": {
            "tags": [],
            "needs_background": "light"
          }
        }
      ]
    },
    {
      "cell_type": "markdown",
      "metadata": {
        "id": "I6LhN0LECu2m"
      },
      "source": [
        "We can fix this problem using the `return` statement to exit the function early if an update would cause negative bikes."
      ]
    },
    {
      "cell_type": "code",
      "metadata": {
        "id": "08kSIuVBCu2m"
      },
      "source": [
        "def bike_to_wellesley(state):\n",
        "    \"\"\"Move one bike from Olin to Wellesley.\n",
        "    \n",
        "    state: bikeshare State object\n",
        "    \"\"\"\n",
        "    if state.olin == 0:\n",
        "        return\n",
        "    state.olin -= 1\n",
        "    state.wellesley += 1\n",
        "    \n",
        "def bike_to_olin(state):\n",
        "    \"\"\"Move one bike from Wellesley to Olin.\n",
        "    \n",
        "    state: bikeshare State object\n",
        "    \"\"\"\n",
        "    if state.wellesley == 0:\n",
        "        return\n",
        "    state.wellesley -= 1\n",
        "    state.olin += 1"
      ],
      "execution_count": 11,
      "outputs": []
    },
    {
      "cell_type": "markdown",
      "metadata": {
        "id": "e5AVH_puCu2m"
      },
      "source": [
        "Now if you run the simulation again, it should behave."
      ]
    },
    {
      "cell_type": "code",
      "metadata": {
        "colab": {
          "base_uri": "https://localhost:8080/",
          "height": 297
        },
        "id": "Za7vR2wrCu2m",
        "outputId": "961444e3-7922-4f0d-d941-5e1fecede342"
      },
      "source": [
        "bikeshare = State(olin=10, wellesley=2)\n",
        "run_simulation(bikeshare, 0.4, 0.2, 60)\n",
        "decorate_bikeshare()"
      ],
      "execution_count": 12,
      "outputs": [
        {
          "output_type": "display_data",
          "data": {
            "image/png": "[encoded data removed]",
            "text/plain": [
              "<Figure size 432x288 with 1 Axes>"
            ]
          },
          "metadata": {
            "tags": [],
            "needs_background": "light"
          }
        }
      ]
    },
    {
      "cell_type": "markdown",
      "metadata": {
        "id": "tCt8GKWNCu2n"
      },
      "source": [
        "## Comparison operators"
      ]
    },
    {
      "cell_type": "markdown",
      "metadata": {
        "id": "zOEQiBq4Cu2n"
      },
      "source": [
        "The `if` statements in the previous section used the comparison operator `==`.  The other comparison operators are listed in the book.\n",
        "\n",
        "It is easy to confuse the comparison operator `==` with the assignment operator `=`.\n",
        "\n",
        "Remember that `=` creates a variable or gives an existing variable a new value."
      ]
    },
    {
      "cell_type": "code",
      "metadata": {
        "id": "V40W6zTGCu2n"
      },
      "source": [
        "x = 5"
      ],
      "execution_count": 13,
      "outputs": []
    },
    {
      "cell_type": "markdown",
      "metadata": {
        "id": "LEoA40kbCu2o"
      },
      "source": [
        "Whereas `==` compares two values and returns `True` if they are equal."
      ]
    },
    {
      "cell_type": "code",
      "metadata": {
        "colab": {
          "base_uri": "https://localhost:8080/"
        },
        "id": "KEYIsiPkCu2o",
        "outputId": "20ba22a0-dcc8-4699-b412-46bcead3dccf"
      },
      "source": [
        "x == 5"
      ],
      "execution_count": 14,
      "outputs": [
        {
          "output_type": "execute_result",
          "data": {
            "text/plain": [
              "True"
            ]
          },
          "metadata": {
            "tags": []
          },
          "execution_count": 14
        }
      ]
    },
    {
      "cell_type": "markdown",
      "metadata": {
        "id": "Tsrar4p9Cu2o"
      },
      "source": [
        "You can use `==` in an `if` statement."
      ]
    },
    {
      "cell_type": "code",
      "metadata": {
        "colab": {
          "base_uri": "https://localhost:8080/"
        },
        "id": "nrvabwhCCu2p",
        "outputId": "b6826457-63af-4155-d953-bcf0853f1492"
      },
      "source": [
        "if x == 5:\n",
        "    print('yes, x is 5')"
      ],
      "execution_count": 15,
      "outputs": [
        {
          "output_type": "stream",
          "text": [
            "yes, x is 5\n"
          ],
          "name": "stdout"
        }
      ]
    },
    {
      "cell_type": "markdown",
      "metadata": {
        "id": "w1oonDNOCu2p"
      },
      "source": [
        "But if you use `=` in an `if` statement, you get an error."
      ]
    },
    {
      "cell_type": "code",
      "metadata": {
        "colab": {
          "base_uri": "https://localhost:8080/"
        },
        "id": "NFKrWhOFCu2p",
        "outputId": "917dabf9-a546-49e2-800c-801056bc330c"
      },
      "source": [
        "# If you remove the # from the if statement and run it, you'll get\n",
        "# SyntaxError: invalid syntax\n",
        "\n",
        "if x == 5:\n",
        "    print('yes, x is 5')\n",
        "else:\n",
        "    print('no, x is not 5')\n",
        "  "
      ],
      "execution_count": 18,
      "outputs": [
        {
          "output_type": "stream",
          "text": [
            "yes, x is 5\n"
          ],
          "name": "stdout"
        }
      ]
    },
    {
      "cell_type": "markdown",
      "metadata": {
        "id": "m2OwIx7nCu2q"
      },
      "source": [
        "**Exercise:** Add an `else` clause to the `if` statement above, and print an appropriate message.\n",
        "\n",
        "Replace the `==` operator with one or two of the other comparison operators, and confirm they do what you expect."
      ]
    },
    {
      "cell_type": "markdown",
      "metadata": {
        "id": "b-btGKjJCu2q"
      },
      "source": [
        "## Metrics"
      ]
    },
    {
      "cell_type": "markdown",
      "metadata": {
        "id": "s6Wa4tuYCu2q"
      },
      "source": [
        "Now that we have a working simulation, we'll use it to evaluate alternative designs and see how good or bad they are.  The metric we'll use is the number of customers who arrive and find no bikes available, which might indicate a design problem."
      ]
    },
    {
      "cell_type": "markdown",
      "metadata": {
        "id": "hMPvl4yYCu2r"
      },
      "source": [
        "First we'll make a new `State` object that creates and initializes additional state variables to keep track of the metrics."
      ]
    },
    {
      "cell_type": "code",
      "metadata": {
        "id": "DG-HdLlOCu2s"
      },
      "source": [
        "bikeshare = State(olin=10, wellesley=2, \n",
        "                  olin_empty=0, wellesley_empty=0)"
      ],
      "execution_count": null,
      "outputs": []
    },
    {
      "cell_type": "markdown",
      "metadata": {
        "id": "7yqE-wWuCu2s"
      },
      "source": [
        "Next we need versions of `bike_to_wellesley` and `bike_to_olin` that update the metrics."
      ]
    },
    {
      "cell_type": "code",
      "metadata": {
        "id": "I-mx6tjUCu2s"
      },
      "source": [
        "def bike_to_wellesley(state):\n",
        "    \"\"\"Move one bike from Olin to Wellesley.\n",
        "    \n",
        "    state: bikeshare State object\n",
        "    \"\"\"\n",
        "    if state.olin == 0:\n",
        "        state.olin_empty += 1\n",
        "        return\n",
        "    state.olin -= 1\n",
        "    state.wellesley += 1\n",
        "    \n",
        "def bike_to_olin(state):\n",
        "    \"\"\"Move one bike from Wellesley to Olin.\n",
        "    \n",
        "    state: bikeshare State object\n",
        "    \"\"\"\n",
        "    if state.wellesley == 0:\n",
        "        state.wellesley_empty += 1\n",
        "        return\n",
        "    state.wellesley -= 1\n",
        "    state.olin += 1"
      ],
      "execution_count": null,
      "outputs": []
    },
    {
      "cell_type": "markdown",
      "metadata": {
        "id": "gl3ZZ7V6Cu2t"
      },
      "source": [
        "Now when we run a simulation, it keeps track of unhappy customers."
      ]
    },
    {
      "cell_type": "code",
      "metadata": {
        "id": "XHjsn88KCu2t"
      },
      "source": [
        "run_simulation(bikeshare, 0.4, 0.2, 60)\n",
        "decorate_bikeshare()"
      ],
      "execution_count": null,
      "outputs": []
    },
    {
      "cell_type": "markdown",
      "metadata": {
        "id": "pVq-Nu4ACu2t"
      },
      "source": [
        "After the simulation, we can print the number of unhappy customers at each location."
      ]
    },
    {
      "cell_type": "code",
      "metadata": {
        "id": "b6T1-_AoCu2t"
      },
      "source": [
        "bikeshare.olin_empty"
      ],
      "execution_count": null,
      "outputs": []
    },
    {
      "cell_type": "code",
      "metadata": {
        "id": "mV5g0TauCu2u"
      },
      "source": [
        "bikeshare.wellesley_empty"
      ],
      "execution_count": null,
      "outputs": []
    },
    {
      "cell_type": "markdown",
      "metadata": {
        "id": "NX9c2ms4Cu2v"
      },
      "source": [
        "## Exercises\n",
        "\n",
        "**Exercise:** As another metric, we might be interested in the time until the first customer arrives and doesn't find a bike.  To make that work, we have to add a \"clock\" to keep track of how many time steps have elapsed:\n",
        "\n",
        "1. Create a new `State` object with an additional state variable, `clock`, initialized to 0. \n",
        "\n",
        "2. Write a modified version of `step` that adds one to the clock each time it is invoked.\n",
        "\n",
        "Test your code by running the simulation and check the value of `clock` at the end."
      ]
    },
    {
      "cell_type": "code",
      "metadata": {
        "id": "piSxzPqYCu2w"
      },
      "source": [
        "bikeshare = State(olin=10, wellesley=2, \n",
        "                  olin_empty=0, wellesley_empty=0,\n",
        "                  clock=0)"
      ],
      "execution_count": null,
      "outputs": []
    },
    {
      "cell_type": "code",
      "metadata": {
        "id": "67cNAqpzCu2y"
      },
      "source": [
        "# Solution goes here"
      ],
      "execution_count": null,
      "outputs": []
    },
    {
      "cell_type": "code",
      "metadata": {
        "id": "HcgqqRYBCu2z"
      },
      "source": [
        "# Solution goes here"
      ],
      "execution_count": null,
      "outputs": []
    },
    {
      "cell_type": "code",
      "metadata": {
        "id": "D7i_1lqRCu2z"
      },
      "source": [
        "# Solution goes here"
      ],
      "execution_count": null,
      "outputs": []
    },
    {
      "cell_type": "markdown",
      "metadata": {
        "id": "APnj13fECu20"
      },
      "source": [
        "**Exercise:** Continuing the previous exercise, let's record the time when the first customer arrives and doesn't find a bike.\n",
        "\n",
        "1. Create a new `State` object with an additional state variable, `t_first_empty`, initialized to -1 as a special value to indicate that it has not been set. \n",
        "\n",
        "2. Write a modified version of `step` that checks whether`olin_empty` and `wellesley_empty` are 0.  If not, it should set `t_first_empty` to `clock` (but only if `t_first_empty` has not already been set).\n",
        "\n",
        "Test your code by running the simulation and printing the values of `olin_empty`, `wellesley_empty`, and `t_first_empty` at the end."
      ]
    },
    {
      "cell_type": "code",
      "metadata": {
        "id": "2IxdAcggCu20"
      },
      "source": [
        "# Solution goes here"
      ],
      "execution_count": null,
      "outputs": []
    },
    {
      "cell_type": "code",
      "metadata": {
        "id": "UEYWCj5hCu21"
      },
      "source": [
        "# Solution goes here"
      ],
      "execution_count": null,
      "outputs": []
    },
    {
      "cell_type": "code",
      "metadata": {
        "id": "Tv9aP9eECu21"
      },
      "source": [
        "# Solution goes here"
      ],
      "execution_count": null,
      "outputs": []
    },
    {
      "cell_type": "code",
      "metadata": {
        "id": "6EJ0ZIdzCu22"
      },
      "source": [
        "# Solution goes here"
      ],
      "execution_count": null,
      "outputs": []
    }
  ]
}