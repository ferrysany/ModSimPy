{
  "nbformat": 4,
  "nbformat_minor": 0,
  "metadata": {
    "kernelspec": {
      "display_name": "Python 3",
      "language": "python",
      "name": "python3"
    },
    "language_info": {
      "codemirror_mode": {
        "name": "ipython",
        "version": 3
      },
      "file_extension": ".py",
      "mimetype": "text/x-python",
      "name": "python",
      "nbconvert_exporter": "python",
      "pygments_lexer": "ipython3",
      "version": "3.7.9"
    },
    "colab": {
      "name": "chap09.ipynb",
      "provenance": []
    }
  },
  "cells": [
    {
      "cell_type": "markdown",
      "metadata": {
        "id": "N-YKrO1nyJaS"
      },
      "source": [
        "# Chapter 9"
      ]
    },
    {
      "cell_type": "markdown",
      "metadata": {
        "tags": [],
        "id": "ZjoBDXnEyJaZ"
      },
      "source": [
        "*Modeling and Simulation in Python* Edit by Chun San Yip 27 Jun 2021\n",
        "\n",
        "Copyright 2021 Allen Downey\n",
        "\n",
        "License: [Creative Commons Attribution-NonCommercial-ShareAlike 4.0 International](https://creativecommons.org/licenses/by-nc-sa/4.0/)"
      ]
    },
    {
      "cell_type": "code",
      "metadata": {
        "tags": [],
        "id": "5WzwKmULyJae"
      },
      "source": [
        "# check if the libraries we need are installed\n",
        "\n",
        "try:\n",
        "    import pint\n",
        "except ImportError:\n",
        "    !pip install pint\n",
        "    import pint\n",
        "    \n",
        "try:\n",
        "    from modsim import *\n",
        "except ImportError:\n",
        "    !pip install modsimpy\n",
        "    from modsim import *"
      ],
      "execution_count": 2,
      "outputs": []
    },
    {
      "cell_type": "markdown",
      "metadata": {
        "id": "sHt3BsylyJal"
      },
      "source": [
        "The following displays SymPy expressions and provides the option of showing results in LaTeX format."
      ]
    },
    {
      "cell_type": "code",
      "metadata": {
        "id": "2BvNqShTyJap"
      },
      "source": [
        "from sympy.printing import latex\n",
        "\n",
        "def show(expr, show_latex=False):\n",
        "    \"\"\"Display a SymPy expression.\n",
        "    \n",
        "    expr: SymPy expression\n",
        "    show_latex: boolean\n",
        "    \"\"\"\n",
        "    if show_latex:\n",
        "        print(latex(expr))\n",
        "    return expr"
      ],
      "execution_count": 3,
      "outputs": []
    },
    {
      "cell_type": "markdown",
      "metadata": {
        "id": "5sc62UYCyJa8"
      },
      "source": [
        "### Analysis with SymPy"
      ]
    },
    {
      "cell_type": "markdown",
      "metadata": {
        "id": "kD5jhkN1yJbB"
      },
      "source": [
        "Create a symbol for time."
      ]
    },
    {
      "cell_type": "code",
      "metadata": {
        "colab": {
          "base_uri": "https://localhost:8080/",
          "height": 39
        },
        "id": "QsljzdjByJbC",
        "outputId": "f769f37e-c6aa-46c7-e6a3-5eab8e1b2175"
      },
      "source": [
        "import sympy as sp\n",
        "\n",
        "t = sp.symbols('t')\n",
        "t"
      ],
      "execution_count": 4,
      "outputs": [
        {
          "output_type": "execute_result",
          "data": {
            "text/latex": "$\\displaystyle t$",
            "text/plain": [
              "t"
            ]
          },
          "metadata": {
            "tags": []
          },
          "execution_count": 4
        }
      ]
    },
    {
      "cell_type": "markdown",
      "metadata": {
        "id": "x0FXpYjQyJbD"
      },
      "source": [
        "If you combine symbols and numbers, you get symbolic expressions."
      ]
    },
    {
      "cell_type": "code",
      "metadata": {
        "colab": {
          "base_uri": "https://localhost:8080/",
          "height": 39
        },
        "id": "uy1xj9D6yJbF",
        "outputId": "711f79b6-0e2a-484b-a6a3-56ccf6f3e71d"
      },
      "source": [
        "expr = t + 1\n",
        "expr"
      ],
      "execution_count": 5,
      "outputs": [
        {
          "output_type": "execute_result",
          "data": {
            "text/latex": "$\\displaystyle t + 1$",
            "text/plain": [
              "t + 1"
            ]
          },
          "metadata": {
            "tags": []
          },
          "execution_count": 5
        }
      ]
    },
    {
      "cell_type": "markdown",
      "metadata": {
        "id": "XHhEz_3LyJbH"
      },
      "source": [
        "The result is an `Add` object, which just represents the sum without trying to compute it."
      ]
    },
    {
      "cell_type": "code",
      "metadata": {
        "id": "g8k1gWYwyJbI"
      },
      "source": [
        "type(expr)"
      ],
      "execution_count": null,
      "outputs": []
    },
    {
      "cell_type": "markdown",
      "metadata": {
        "id": "3bB78Q4vyJbJ"
      },
      "source": [
        "`subs` can be used to replace a symbol with a number, which allows the addition to proceed."
      ]
    },
    {
      "cell_type": "code",
      "metadata": {
        "colab": {
          "base_uri": "https://localhost:8080/",
          "height": 37
        },
        "id": "3N0OHs1YyJbK",
        "outputId": "e13066fe-9371-4fd8-eee2-90be865c84dc"
      },
      "source": [
        "expr.subs(t, 2)"
      ],
      "execution_count": 6,
      "outputs": [
        {
          "output_type": "execute_result",
          "data": {
            "text/latex": "$\\displaystyle 3$",
            "text/plain": [
              "3"
            ]
          },
          "metadata": {
            "tags": []
          },
          "execution_count": 6
        }
      ]
    },
    {
      "cell_type": "markdown",
      "metadata": {
        "id": "DBfo2yxOyJbK"
      },
      "source": [
        "`f` is a special class of symbol that represents a function."
      ]
    },
    {
      "cell_type": "code",
      "metadata": {
        "colab": {
          "base_uri": "https://localhost:8080/"
        },
        "id": "VYEVmxRzyJbL",
        "outputId": "b198f7d5-56f4-46e6-98bf-9c08a64f3651"
      },
      "source": [
        "f = sp.Function('f')\n",
        "f"
      ],
      "execution_count": 7,
      "outputs": [
        {
          "output_type": "execute_result",
          "data": {
            "text/plain": [
              "f"
            ]
          },
          "metadata": {
            "tags": []
          },
          "execution_count": 7
        }
      ]
    },
    {
      "cell_type": "markdown",
      "metadata": {
        "id": "uwtumAlwyJbM"
      },
      "source": [
        "The type of `f` is `UndefinedFunction`"
      ]
    },
    {
      "cell_type": "code",
      "metadata": {
        "colab": {
          "base_uri": "https://localhost:8080/"
        },
        "id": "epPb2_VVyJbO",
        "outputId": "4ca7d8e5-8384-43f9-ce95-cf3534428c98"
      },
      "source": [
        "type(f)"
      ],
      "execution_count": 8,
      "outputs": [
        {
          "output_type": "execute_result",
          "data": {
            "text/plain": [
              "sympy.core.function.UndefinedFunction"
            ]
          },
          "metadata": {
            "tags": []
          },
          "execution_count": 8
        }
      ]
    },
    {
      "cell_type": "markdown",
      "metadata": {
        "id": "MD1YRzf-yJbQ"
      },
      "source": [
        "SymPy understands that `f(t)` means `f` evaluated at `t`, but it doesn't try to evaluate it yet."
      ]
    },
    {
      "cell_type": "code",
      "metadata": {
        "colab": {
          "base_uri": "https://localhost:8080/",
          "height": 39
        },
        "id": "ILQ6FHvByJbQ",
        "outputId": "b55f4947-4c54-4665-fa7d-290c71e6e8df"
      },
      "source": [
        "f(t)"
      ],
      "execution_count": 9,
      "outputs": [
        {
          "output_type": "execute_result",
          "data": {
            "text/latex": "$\\displaystyle f{\\left(t \\right)}$",
            "text/plain": [
              "f(t)"
            ]
          },
          "metadata": {
            "tags": []
          },
          "execution_count": 9
        }
      ]
    },
    {
      "cell_type": "markdown",
      "metadata": {
        "id": "nAEkgyF8yJbR"
      },
      "source": [
        "`diff` returns a `Derivative` object that represents the time derivative of `f`"
      ]
    },
    {
      "cell_type": "code",
      "metadata": {
        "colab": {
          "base_uri": "https://localhost:8080/",
          "height": 52
        },
        "id": "D3JBDYcfyJbs",
        "outputId": "bb3ef1ff-e514-4118-8fd6-777b0721a240"
      },
      "source": [
        "dfdt = sp.diff(f(t), t)\n",
        "dfdt"
      ],
      "execution_count": 11,
      "outputs": [
        {
          "output_type": "execute_result",
          "data": {
            "text/latex": "$\\displaystyle \\frac{d}{d t} f{\\left(t \\right)}$",
            "text/plain": [
              "Derivative(f(t), t)"
            ]
          },
          "metadata": {
            "tags": []
          },
          "execution_count": 11
        }
      ]
    },
    {
      "cell_type": "code",
      "metadata": {
        "colab": {
          "base_uri": "https://localhost:8080/"
        },
        "id": "Y3mGpWqPyJbu",
        "outputId": "6ff7932c-849a-4ab8-8f74-744c793b856e"
      },
      "source": [
        "type(dfdt)"
      ],
      "execution_count": 12,
      "outputs": [
        {
          "output_type": "execute_result",
          "data": {
            "text/plain": [
              "sympy.core.function.Derivative"
            ]
          },
          "metadata": {
            "tags": []
          },
          "execution_count": 12
        }
      ]
    },
    {
      "cell_type": "markdown",
      "metadata": {
        "id": "r3eaeZxuyJby"
      },
      "source": [
        "We need a symbol for `alpha`"
      ]
    },
    {
      "cell_type": "code",
      "metadata": {
        "colab": {
          "base_uri": "https://localhost:8080/",
          "height": 39
        },
        "id": "sHjKb1jryJby",
        "outputId": "5b3ea586-d524-4b5a-fbc8-358a73a1f828"
      },
      "source": [
        "alpha = sp.symbols('alpha')\n",
        "alpha"
      ],
      "execution_count": 13,
      "outputs": [
        {
          "output_type": "execute_result",
          "data": {
            "text/latex": "$\\displaystyle \\alpha$",
            "text/plain": [
              "alpha"
            ]
          },
          "metadata": {
            "tags": []
          },
          "execution_count": 13
        }
      ]
    },
    {
      "cell_type": "markdown",
      "metadata": {
        "id": "0lhAwkAVyJbz"
      },
      "source": [
        "Now we can write the differential equation for proportional growth."
      ]
    },
    {
      "cell_type": "code",
      "metadata": {
        "colab": {
          "base_uri": "https://localhost:8080/",
          "height": 52
        },
        "id": "1D6NnYaDyJbz",
        "outputId": "24361331-9b4d-4123-8a2f-7df3f2d13022"
      },
      "source": [
        "eq1 = sp.Eq(dfdt, alpha*f(t))\n",
        "eq1"
      ],
      "execution_count": 14,
      "outputs": [
        {
          "output_type": "execute_result",
          "data": {
            "text/latex": "$\\displaystyle \\frac{d}{d t} f{\\left(t \\right)} = \\alpha f{\\left(t \\right)}$",
            "text/plain": [
              "Eq(Derivative(f(t), t), alpha*f(t))"
            ]
          },
          "metadata": {
            "tags": []
          },
          "execution_count": 14
        }
      ]
    },
    {
      "cell_type": "markdown",
      "metadata": {
        "id": "nlszUN0CyJb0"
      },
      "source": [
        "And use `dsolve` to solve it.  The result is the general solution."
      ]
    },
    {
      "cell_type": "code",
      "metadata": {
        "colab": {
          "base_uri": "https://localhost:8080/",
          "height": 39
        },
        "id": "lkJ1o4qRyJb0",
        "outputId": "d0fe8c1e-4fad-467d-f1e9-0350c27c0ad2"
      },
      "source": [
        "solution_eq = sp.dsolve(eq1)\n",
        "solution_eq"
      ],
      "execution_count": 15,
      "outputs": [
        {
          "output_type": "execute_result",
          "data": {
            "text/latex": "$\\displaystyle f{\\left(t \\right)} = C_{1} e^{\\alpha t}$",
            "text/plain": [
              "Eq(f(t), C1*exp(alpha*t))"
            ]
          },
          "metadata": {
            "tags": []
          },
          "execution_count": 15
        }
      ]
    },
    {
      "cell_type": "markdown",
      "metadata": {
        "id": "uu84B_RbyJb0"
      },
      "source": [
        "We can tell it's a general solution because it contains an unspecified constant, `C1`.\n",
        "\n",
        "In this example, finding the particular solution is easy: we just replace `C1` with `p_0`"
      ]
    },
    {
      "cell_type": "code",
      "metadata": {
        "id": "o1lRD9Y-yJb2"
      },
      "source": [
        "C1, p_0 = sp.symbols('C1 p_0')"
      ],
      "execution_count": 17,
      "outputs": []
    },
    {
      "cell_type": "code",
      "metadata": {
        "colab": {
          "base_uri": "https://localhost:8080/",
          "height": 39
        },
        "id": "s_nZW8_vyJb2",
        "outputId": "caf30a9b-d72c-471e-c6c8-f17596ce064c"
      },
      "source": [
        "particular = solution_eq.subs(C1, p_0)\n",
        "particular"
      ],
      "execution_count": 18,
      "outputs": [
        {
          "output_type": "execute_result",
          "data": {
            "text/latex": "$\\displaystyle f{\\left(t \\right)} = p_{0} e^{\\alpha t}$",
            "text/plain": [
              "Eq(f(t), p_0*exp(alpha*t))"
            ]
          },
          "metadata": {
            "tags": []
          },
          "execution_count": 18
        }
      ]
    },
    {
      "cell_type": "markdown",
      "metadata": {
        "id": "FP8ECFzMyJb3"
      },
      "source": [
        "In the next example, we have to work a little harder to find the particular solution."
      ]
    },
    {
      "cell_type": "markdown",
      "metadata": {
        "id": "l5UI01KOyJb3"
      },
      "source": [
        "### Solving the quadratic growth equation \n",
        "\n",
        "We'll use the (r, K) parameterization, so we'll need two more symbols:"
      ]
    },
    {
      "cell_type": "code",
      "metadata": {
        "id": "2yqNBiaUyJb4"
      },
      "source": [
        "r, K = sp.symbols('r K')"
      ],
      "execution_count": 46,
      "outputs": []
    },
    {
      "cell_type": "markdown",
      "metadata": {
        "id": "XVAgiVzVyJb4"
      },
      "source": [
        "Now we can write the differential equation."
      ]
    },
    {
      "cell_type": "code",
      "metadata": {
        "colab": {
          "base_uri": "https://localhost:8080/",
          "height": 58
        },
        "id": "uYV7wAlqyJb5",
        "outputId": "dd3be0f3-b231-4ba4-9df7-cc2514f907ff"
      },
      "source": [
        "eq2 = sp.Eq(sp.diff(f(t), t), r * f(t) * (1 - f(t)/K))\n",
        "eq2"
      ],
      "execution_count": 33,
      "outputs": [
        {
          "output_type": "execute_result",
          "data": {
            "text/latex": "$\\displaystyle \\frac{d}{d t} f{\\left(t \\right)} = r \\left(1 - \\frac{f{\\left(t \\right)}}{K}\\right) f{\\left(t \\right)}$",
            "text/plain": [
              "Eq(Derivative(f(t), t), r*(1 - f(t)/K)*f(t))"
            ]
          },
          "metadata": {
            "tags": []
          },
          "execution_count": 33
        }
      ]
    },
    {
      "cell_type": "markdown",
      "metadata": {
        "id": "vQWU_8L9yJb5"
      },
      "source": [
        "And solve it."
      ]
    },
    {
      "cell_type": "code",
      "metadata": {
        "colab": {
          "base_uri": "https://localhost:8080/"
        },
        "id": "1rfp_7MsyJb6",
        "outputId": "a0e50004-2fd4-46a6-c589-629f3bf71f64"
      },
      "source": [
        "solution_eq = sp.dsolve(eq2)\n",
        "solution_eq"
      ],
      "execution_count": 48,
      "outputs": [
        {
          "output_type": "execute_result",
          "data": {
            "text/latex": "$\\displaystyle f{\\left(t \\right)} = \\frac{K e^{C_{1} K + r t}}{e^{C_{1} K + r t} - 1}$",
            "text/plain": [
              "Eq(f(t), K*exp(C1*K + r*t)/(exp(C1*K + r*t) - 1))"
            ]
          },
          "metadata": {
            "tags": []
          },
          "execution_count": 48
        }
      ]
    },
    {
      "cell_type": "markdown",
      "metadata": {
        "id": "5vnQ0kLJyJb6"
      },
      "source": [
        "The result, `solution_eq`, contains `rhs`, which is the right-hand side of the solution."
      ]
    },
    {
      "cell_type": "code",
      "metadata": {
        "colab": {
          "base_uri": "https://localhost:8080/",
          "height": 56
        },
        "id": "RQA2I-5yyJb7",
        "outputId": "5514647c-b15c-4101-e0e3-a3e5b0806078"
      },
      "source": [
        "general = solution_eq.rhs\n",
        "general"
      ],
      "execution_count": 35,
      "outputs": [
        {
          "output_type": "execute_result",
          "data": {
            "text/latex": "$\\displaystyle \\frac{K e^{C_{1} K + r t}}{e^{C_{1} K + r t} - 1}$",
            "text/plain": [
              "K*exp(C1*K + r*t)/(exp(C1*K + r*t) - 1)"
            ]
          },
          "metadata": {
            "tags": []
          },
          "execution_count": 35
        }
      ]
    },
    {
      "cell_type": "markdown",
      "metadata": {
        "id": "yjmtH4KEyJb7"
      },
      "source": [
        "We can evaluate the right-hand side at $t=0$"
      ]
    },
    {
      "cell_type": "code",
      "metadata": {
        "colab": {
          "base_uri": "https://localhost:8080/",
          "height": 56
        },
        "id": "I7RI0cbByJb8",
        "outputId": "10bc05f4-b323-41ee-d213-60e72b13db67"
      },
      "source": [
        "at_0 = general.subs(t, 0)\n",
        "at_0"
      ],
      "execution_count": 36,
      "outputs": [
        {
          "output_type": "execute_result",
          "data": {
            "text/latex": "$\\displaystyle \\frac{K e^{C_{1} K}}{e^{C_{1} K} - 1}$",
            "text/plain": [
              "K*exp(C1*K)/(exp(C1*K) - 1)"
            ]
          },
          "metadata": {
            "tags": []
          },
          "execution_count": 36
        }
      ]
    },
    {
      "cell_type": "markdown",
      "metadata": {
        "id": "PyU6s36RyJb8"
      },
      "source": [
        "Now we want to find the value of `C1` that makes `f(0) = p_0`.\n",
        "\n",
        "So we'll create the equation `at_0 = p_0` and solve for `C1`.  Because this is just an algebraic identity, not a differential equation, we use `solve`, not `dsolve`.\n",
        "\n",
        "The result from `solve` is a list of solutions.  In this case, [we have reason to expect only one solution](https://en.wikipedia.org/wiki/Picard%E2%80%93Lindel%C3%B6f_theorem), but we still get a list, so we have to use the bracket operator, `[0]`, to select the first one."
      ]
    },
    {
      "cell_type": "code",
      "metadata": {
        "colab": {
          "base_uri": "https://localhost:8080/"
        },
        "id": "fkypE5ShyJb9",
        "outputId": "b49ca1d5-2acc-47b9-ff4d-77b77f043842"
      },
      "source": [
        "solutions = sp.solve(sp.Eq(at_0, p_0), C1)\n",
        "type(solutions), len(solutions)"
      ],
      "execution_count": 37,
      "outputs": [
        {
          "output_type": "execute_result",
          "data": {
            "text/plain": [
              "(list, 1)"
            ]
          },
          "metadata": {
            "tags": []
          },
          "execution_count": 37
        }
      ]
    },
    {
      "cell_type": "code",
      "metadata": {
        "colab": {
          "base_uri": "https://localhost:8080/",
          "height": 66
        },
        "id": "pnPnMpXByJb-",
        "outputId": "d6809764-6ce9-499c-b946-f9006d0efce5"
      },
      "source": [
        "value_of_C1 = solutions[0]\n",
        "value_of_C1"
      ],
      "execution_count": 38,
      "outputs": [
        {
          "output_type": "execute_result",
          "data": {
            "text/latex": "$\\displaystyle \\frac{\\log{\\left(- \\frac{p_{0}}{K - p_{0}} \\right)}}{K}$",
            "text/plain": [
              "log(-p_0/(K - p_0))/K"
            ]
          },
          "metadata": {
            "tags": []
          },
          "execution_count": 38
        }
      ]
    },
    {
      "cell_type": "markdown",
      "metadata": {
        "id": "A5DawSe6yJb-"
      },
      "source": [
        "Now in the general solution, we want to replace `C1` with the value of `C1` we just figured out."
      ]
    },
    {
      "cell_type": "code",
      "metadata": {
        "colab": {
          "base_uri": "https://localhost:8080/",
          "height": 71
        },
        "id": "5aSAAlfayJb_",
        "outputId": "845adf32-b3cd-4098-bc37-7b275fb1633e"
      },
      "source": [
        "particular = general.subs(C1, value_of_C1)\n",
        "particular"
      ],
      "execution_count": 39,
      "outputs": [
        {
          "output_type": "execute_result",
          "data": {
            "text/latex": "$\\displaystyle - \\frac{K p_{0} e^{r t}}{\\left(K - p_{0}\\right) \\left(- \\frac{p_{0} e^{r t}}{K - p_{0}} - 1\\right)}$",
            "text/plain": [
              "-K*p_0*exp(r*t)/((K - p_0)*(-p_0*exp(r*t)/(K - p_0) - 1))"
            ]
          },
          "metadata": {
            "tags": []
          },
          "execution_count": 39
        }
      ]
    },
    {
      "cell_type": "markdown",
      "metadata": {
        "id": "an9QRPheyJcA"
      },
      "source": [
        "The result is complicated, but SymPy provides a method that tries to simplify it."
      ]
    },
    {
      "cell_type": "code",
      "metadata": {
        "colab": {
          "base_uri": "https://localhost:8080/",
          "height": 57
        },
        "id": "y5QRg8XlyJcB",
        "outputId": "9a5eb799-b4ab-4732-97ee-9aa90c2ead04"
      },
      "source": [
        "particular = sp.simplify(particular)\n",
        "particular"
      ],
      "execution_count": 40,
      "outputs": [
        {
          "output_type": "execute_result",
          "data": {
            "text/latex": "$\\displaystyle \\frac{K p_{0} e^{r t}}{K + p_{0} e^{r t} - p_{0}}$",
            "text/plain": [
              "K*p_0*exp(r*t)/(K + p_0*exp(r*t) - p_0)"
            ]
          },
          "metadata": {
            "tags": []
          },
          "execution_count": 40
        }
      ]
    },
    {
      "cell_type": "markdown",
      "metadata": {
        "id": "l9fRYDinyJcB"
      },
      "source": [
        "Often simplicity is in the eye of the beholder, but that's about as simple as this expression gets.\n",
        "\n",
        "Just to double-check, we can evaluate it at `t=0` and confirm that we get `p_0`"
      ]
    },
    {
      "cell_type": "code",
      "metadata": {
        "colab": {
          "base_uri": "https://localhost:8080/",
          "height": 39
        },
        "id": "fO6bk4EWyJcC",
        "outputId": "adf21c53-ce0d-4771-9b95-7288308811bf"
      },
      "source": [
        "particular.subs(t, 0)"
      ],
      "execution_count": 41,
      "outputs": [
        {
          "output_type": "execute_result",
          "data": {
            "text/latex": "$\\displaystyle p_{0}$",
            "text/plain": [
              "p_0"
            ]
          },
          "metadata": {
            "tags": []
          },
          "execution_count": 41
        }
      ]
    },
    {
      "cell_type": "markdown",
      "metadata": {
        "id": "uXMfzcNayJcD"
      },
      "source": [
        "This solution is called the [logistic function](https://en.wikipedia.org/wiki/Population_growth#Logistic_equation).\n",
        "\n",
        "In some places you'll see it written in a different form:\n",
        "\n",
        "$f(t) = \\frac{K}{1 + A e^{-rt}}$\n",
        "\n",
        "where $A = (K - p_0) / p_0$.\n",
        "\n",
        "We can use SymPy to confirm that these two forms are equivalent.  First we represent the alternative version of the logistic function:"
      ]
    },
    {
      "cell_type": "code",
      "metadata": {
        "colab": {
          "base_uri": "https://localhost:8080/",
          "height": 55
        },
        "id": "xWei72-wyJcE",
        "outputId": "81ca0b87-7311-4be3-9573-80b7927ba22f"
      },
      "source": [
        "A = (K - p_0) / p_0\n",
        "A"
      ],
      "execution_count": 42,
      "outputs": [
        {
          "output_type": "execute_result",
          "data": {
            "text/latex": "$\\displaystyle \\frac{K - p_{0}}{p_{0}}$",
            "text/plain": [
              "(K - p_0)/p_0"
            ]
          },
          "metadata": {
            "tags": []
          },
          "execution_count": 42
        }
      ]
    },
    {
      "cell_type": "code",
      "metadata": {
        "colab": {
          "base_uri": "https://localhost:8080/",
          "height": 63
        },
        "id": "yMMm5z38yJcE",
        "outputId": "04434a6d-f6b0-47e6-da92-bfcaa67a01ce"
      },
      "source": [
        "logistic = K / (1 + A * sp.exp(-r*t))\n",
        "logistic"
      ],
      "execution_count": 43,
      "outputs": [
        {
          "output_type": "execute_result",
          "data": {
            "text/latex": "$\\displaystyle \\frac{K}{1 + \\frac{\\left(K - p_{0}\\right) e^{- r t}}{p_{0}}}$",
            "text/plain": [
              "K/(1 + (K - p_0)*exp(-r*t)/p_0)"
            ]
          },
          "metadata": {
            "tags": []
          },
          "execution_count": 43
        }
      ]
    },
    {
      "cell_type": "markdown",
      "metadata": {
        "id": "uZBj6EhMyJcF"
      },
      "source": [
        "To see whether two expressions are equivalent, we can check whether their difference simplifies to 0."
      ]
    },
    {
      "cell_type": "code",
      "metadata": {
        "scrolled": true,
        "colab": {
          "base_uri": "https://localhost:8080/",
          "height": 37
        },
        "id": "kD551TVvyJcF",
        "outputId": "d5e2a5a0-6452-4018-8e21-8905d26868e9"
      },
      "source": [
        "sp.simplify(particular - logistic)"
      ],
      "execution_count": 44,
      "outputs": [
        {
          "output_type": "execute_result",
          "data": {
            "text/latex": "$\\displaystyle 0$",
            "text/plain": [
              "0"
            ]
          },
          "metadata": {
            "tags": []
          },
          "execution_count": 44
        }
      ]
    },
    {
      "cell_type": "markdown",
      "metadata": {
        "id": "TuKKnQ7GyJcF"
      },
      "source": [
        "This test only works one way: if SymPy says the difference reduces to 0, the expressions are definitely equivalent (and not just numerically close).\n",
        "\n",
        "But if SymPy can't find a way to simplify the result to 0, that doesn't necessarily mean there isn't one.  Testing whether two expressions are equivalent is a surprisingly hard problem; in fact, there is no algorithm that can solve it in general."
      ]
    },
    {
      "cell_type": "markdown",
      "metadata": {
        "id": "NeZATvZDyJcG"
      },
      "source": [
        "### Exercises\n",
        "\n",
        "**Exercise:** Solve the quadratic growth equation using the alternative parameterization\n",
        "\n",
        "$\\frac{df(t)}{dt} = \\alpha f(t) + \\beta f^2(t) $"
      ]
    },
    {
      "cell_type": "code",
      "metadata": {
        "id": "B-DCJLpGyJcG"
      },
      "source": [
        "# Solution goes here"
      ],
      "execution_count": null,
      "outputs": []
    },
    {
      "cell_type": "code",
      "metadata": {
        "id": "nLtS6Jf6yJcH"
      },
      "source": [
        "# Solution goes here"
      ],
      "execution_count": null,
      "outputs": []
    },
    {
      "cell_type": "code",
      "metadata": {
        "id": "bDRNi4sEyJcH"
      },
      "source": [
        "# Solution goes here"
      ],
      "execution_count": null,
      "outputs": []
    },
    {
      "cell_type": "code",
      "metadata": {
        "id": "BUlD_uJ-yJcI"
      },
      "source": [
        "# Solution goes here"
      ],
      "execution_count": null,
      "outputs": []
    },
    {
      "cell_type": "code",
      "metadata": {
        "id": "T-OdnGLUyJcI"
      },
      "source": [
        "# Solution goes here"
      ],
      "execution_count": null,
      "outputs": []
    },
    {
      "cell_type": "code",
      "metadata": {
        "id": "1nI9mzv2yJcJ"
      },
      "source": [
        "# Solution goes here"
      ],
      "execution_count": null,
      "outputs": []
    },
    {
      "cell_type": "code",
      "metadata": {
        "id": "zweRZv07yJcJ"
      },
      "source": [
        "# Solution goes here"
      ],
      "execution_count": null,
      "outputs": []
    },
    {
      "cell_type": "markdown",
      "metadata": {
        "id": "-hiO7JClyJcJ"
      },
      "source": [
        "**Exercise:**  Use [WolframAlpha](https://www.wolframalpha.com/) to solve the quadratic growth model, using either or both forms of parameterization:\n",
        "\n",
        "    df(t) / dt = alpha f(t) + beta f(t)^2\n",
        "\n",
        "or\n",
        "\n",
        "    df(t) / dt = r f(t) (1 - f(t)/K)\n",
        "\n",
        "Find the general solution and also the particular solution where `f(0) = p_0`."
      ]
    },
    {
      "cell_type": "code",
      "metadata": {
        "id": "Ydcn68WxyJcK"
      },
      "source": [
        ""
      ],
      "execution_count": null,
      "outputs": []
    }
  ]
}