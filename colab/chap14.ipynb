{
  "nbformat": 4,
  "nbformat_minor": 0,
  "metadata": {
    "kernelspec": {
      "display_name": "Python 3",
      "language": "python",
      "name": "python3"
    },
    "language_info": {
      "codemirror_mode": {
        "name": "ipython",
        "version": 3
      },
      "file_extension": ".py",
      "mimetype": "text/x-python",
      "name": "python",
      "nbconvert_exporter": "python",
      "pygments_lexer": "ipython3",
      "version": "3.7.9"
    },
    "colab": {
      "name": "chap14.ipynb",
      "provenance": []
    }
  },
  "cells": [
    {
      "cell_type": "markdown",
      "metadata": {
        "id": "ldCqTSAtYi0P"
      },
      "source": [
        "# Chapter 14"
      ]
    },
    {
      "cell_type": "markdown",
      "metadata": {
        "tags": [],
        "id": "tfLqgaqMYi0Y"
      },
      "source": [
        "*Modeling and Simulation in Python* Chun San Yip Final Exam\n",
        "\n",
        "Copyright 2021 Allen Downey\n",
        "\n",
        "License: [Creative Commons Attribution-NonCommercial-ShareAlike 4.0 International](https://creativecommons.org/licenses/by-nc-sa/4.0/)"
      ]
    },
    {
      "cell_type": "code",
      "metadata": {
        "tags": [],
        "id": "DrI2kU7dYi0g"
      },
      "source": [
        "# check if the libraries we need are installed\n",
        "\n",
        "try:\n",
        "    import pint\n",
        "except ImportError:\n",
        "    !pip install pint\n",
        "    import pint\n",
        "    \n",
        "try:\n",
        "    from modsim import *\n",
        "except ImportError:\n",
        "    !pip install modsimpy\n",
        "    from modsim import *"
      ],
      "execution_count": 23,
      "outputs": []
    },
    {
      "cell_type": "markdown",
      "metadata": {
        "id": "tA6p4KUBYi0k"
      },
      "source": [
        "### Code from previous chapters"
      ]
    },
    {
      "cell_type": "code",
      "metadata": {
        "id": "jT2NtFYcYi0l"
      },
      "source": [
        "def make_system(beta, gamma):\n",
        "    \"\"\"Make a system object for the SIR model.\n",
        "    \n",
        "    beta: contact rate in days\n",
        "    gamma: recovery rate in days\n",
        "    \n",
        "    returns: System object\n",
        "    \"\"\"\n",
        "    init = State(S=89, I=1, R=0)\n",
        "    init /= np.sum(init)\n",
        "\n",
        "    t0 = 0\n",
        "    t_end = 7 * 14\n",
        "\n",
        "    return System(init=init, t0=t0, t_end=t_end,\n",
        "                  beta=beta, gamma=gamma)"
      ],
      "execution_count": 30,
      "outputs": []
    },
    {
      "cell_type": "code",
      "metadata": {
        "id": "HFiSQ6EfYi0n"
      },
      "source": [
        "def update_func(state, t, system):\n",
        "    \"\"\"Update the SIR model.\n",
        "    \n",
        "    state: State (s, i, r)\n",
        "    t: time\n",
        "    system: System object\n",
        "    \n",
        "    returns: State (sir)\n",
        "    \"\"\"\n",
        "    s, i, r = state\n",
        "\n",
        "    infected = system.beta * i * s    \n",
        "    recovered = system.gamma * i\n",
        "    \n",
        "    s -= infected\n",
        "    i += infected - recovered\n",
        "    r += recovered\n",
        "    \n",
        "    return State(S=s, I=i, R=r)"
      ],
      "execution_count": 31,
      "outputs": []
    },
    {
      "cell_type": "code",
      "metadata": {
        "id": "zpqWezbyYi0p"
      },
      "source": [
        "def run_simulation(system, update_func):\n",
        "    \"\"\"Runs a simulation of the system.\n",
        "        \n",
        "    system: System object\n",
        "    update_func: function that updates state\n",
        "    \n",
        "    returns: TimeFrame\n",
        "    \"\"\"\n",
        "    init, t0, t_end = system.init, system.t0, system.t_end\n",
        "    \n",
        "    frame = TimeFrame(columns=init.index)\n",
        "    frame.row[t0] = init\n",
        "    \n",
        "    for t in linrange(t0, t_end):\n",
        "        frame.row[t+1] = update_func(frame.row[t], t, system)\n",
        "    \n",
        "    return frame"
      ],
      "execution_count": 32,
      "outputs": []
    },
    {
      "cell_type": "code",
      "metadata": {
        "id": "Hme1Weg2Yi0q"
      },
      "source": [
        "def calc_total_infected(results):\n",
        "    \"\"\"Fraction of population infected during the simulation.\n",
        "    \n",
        "    results: DataFrame with columns S, I, R\n",
        "    \n",
        "    returns: fraction of population\n",
        "    \"\"\"\n",
        "    return get_first_value(results.S) - get_last_value(results.S)"
      ],
      "execution_count": 34,
      "outputs": []
    },
    {
      "cell_type": "code",
      "metadata": {
        "id": "wzCL0guZYi0s"
      },
      "source": [
        "def sweep_beta(beta_array, gamma):\n",
        "    \"\"\"Sweep a range of values for beta.\n",
        "    \n",
        "    beta_array: array of beta values\n",
        "    gamma: recovery rate\n",
        "    \n",
        "    returns: SweepSeries that maps from beta to total infected\n",
        "    \"\"\"\n",
        "    sweep = SweepSeries()\n",
        "    for beta in beta_array:\n",
        "        system = make_system(beta, gamma)\n",
        "        results = run_simulation(system, update_func)\n",
        "        sweep[system.beta] = calc_total_infected(results)\n",
        "    return sweep"
      ],
      "execution_count": 35,
      "outputs": []
    },
    {
      "cell_type": "code",
      "metadata": {
        "id": "1D5HvcS7Yi0v"
      },
      "source": [
        "def sweep_parameters(beta_array, gamma_array):\n",
        "    \"\"\"Sweep a range of values for beta and gamma.\n",
        "    \n",
        "    beta_array: array of infection rates\n",
        "    gamma_array: array of recovery rates\n",
        "    \n",
        "    returns: SweepFrame with one row for each beta\n",
        "             and one column for each gamma\n",
        "    \"\"\"\n",
        "    frame = SweepFrame(columns=gamma_array)\n",
        "    for gamma in gamma_array:\n",
        "        frame[gamma] = sweep_beta(beta_array, gamma)\n",
        "    return frame"
      ],
      "execution_count": 36,
      "outputs": []
    },
    {
      "cell_type": "markdown",
      "metadata": {
        "id": "f2B1a3jiYi0x"
      },
      "source": [
        "### Contact number"
      ]
    },
    {
      "cell_type": "markdown",
      "metadata": {
        "id": "PoFEkAv8Yi0y"
      },
      "source": [
        "Here's the `SweepFrame` from the previous chapter, with one row for each value of `beta` and one column for each value of `gamma`."
      ]
    },
    {
      "cell_type": "code",
      "metadata": {
        "colab": {
          "base_uri": "https://localhost:8080/",
          "height": 206
        },
        "id": "vdxwlnoEYi0z",
        "outputId": "33e26b44-5a59-4bf1-a606-bbb4c594f670"
      },
      "source": [
        "beta_array = [0.1, 0.2, 0.3, 0.4, 0.5, 0.6, 0.7, 0.8, 0.9, 1.0 , 1.1]\n",
        "gamma_array = [0.2, 0.4, 0.6, 0.8]\n",
        "frame = sweep_parameters(beta_array, gamma_array)\n",
        "frame.head()"
      ],
      "execution_count": 37,
      "outputs": [
        {
          "output_type": "execute_result",
          "data": {
            "text/html": [
              "<div>\n",
              "<style scoped>\n",
              "    .dataframe tbody tr th:only-of-type {\n",
              "        vertical-align: middle;\n",
              "    }\n",
              "\n",
              "    .dataframe tbody tr th {\n",
              "        vertical-align: top;\n",
              "    }\n",
              "\n",
              "    .dataframe thead th {\n",
              "        text-align: right;\n",
              "    }\n",
              "</style>\n",
              "<table border=\"1\" class=\"dataframe\">\n",
              "  <thead>\n",
              "    <tr style=\"text-align: right;\">\n",
              "      <th></th>\n",
              "      <th>0.2</th>\n",
              "      <th>0.4</th>\n",
              "      <th>0.6</th>\n",
              "      <th>0.8</th>\n",
              "    </tr>\n",
              "  </thead>\n",
              "  <tbody>\n",
              "    <tr>\n",
              "      <th>0.1</th>\n",
              "      <td>0.010756</td>\n",
              "      <td>0.003642</td>\n",
              "      <td>0.002191</td>\n",
              "      <td>0.001567</td>\n",
              "    </tr>\n",
              "    <tr>\n",
              "      <th>0.2</th>\n",
              "      <td>0.118984</td>\n",
              "      <td>0.010763</td>\n",
              "      <td>0.005447</td>\n",
              "      <td>0.003644</td>\n",
              "    </tr>\n",
              "    <tr>\n",
              "      <th>0.3</th>\n",
              "      <td>0.589095</td>\n",
              "      <td>0.030185</td>\n",
              "      <td>0.010771</td>\n",
              "      <td>0.006526</td>\n",
              "    </tr>\n",
              "    <tr>\n",
              "      <th>0.4</th>\n",
              "      <td>0.801339</td>\n",
              "      <td>0.131563</td>\n",
              "      <td>0.020917</td>\n",
              "      <td>0.010780</td>\n",
              "    </tr>\n",
              "    <tr>\n",
              "      <th>0.5</th>\n",
              "      <td>0.896577</td>\n",
              "      <td>0.396409</td>\n",
              "      <td>0.046140</td>\n",
              "      <td>0.017640</td>\n",
              "    </tr>\n",
              "  </tbody>\n",
              "</table>\n",
              "</div>"
            ],
            "text/plain": [
              "          0.2       0.4       0.6       0.8\n",
              "0.1  0.010756  0.003642  0.002191  0.001567\n",
              "0.2  0.118984  0.010763  0.005447  0.003644\n",
              "0.3  0.589095  0.030185  0.010771  0.006526\n",
              "0.4  0.801339  0.131563  0.020917  0.010780\n",
              "0.5  0.896577  0.396409  0.046140  0.017640"
            ]
          },
          "metadata": {
            "tags": []
          },
          "execution_count": 37
        }
      ]
    },
    {
      "cell_type": "markdown",
      "metadata": {
        "id": "-QXyeAb2Yi0z"
      },
      "source": [
        ""
      ]
    },
    {
      "cell_type": "code",
      "metadata": {
        "colab": {
          "base_uri": "https://localhost:8080/"
        },
        "id": "vgJh_tfOYi00",
        "outputId": "d15333af-9069-45fa-e6db-c5fe95d617ce"
      },
      "source": [
        "frame.shape"
      ],
      "execution_count": 38,
      "outputs": [
        {
          "output_type": "execute_result",
          "data": {
            "text/plain": [
              "(11, 4)"
            ]
          },
          "metadata": {
            "tags": []
          },
          "execution_count": 38
        }
      ]
    },
    {
      "cell_type": "markdown",
      "metadata": {
        "id": "uFvTM1UeYi00"
      },
      "source": [
        "The following loop shows how we can loop through the columns and rows of the `SweepFrame`.  With 11 rows and 4 columns, there are 44 elements."
      ]
    },
    {
      "cell_type": "code",
      "metadata": {
        "colab": {
          "base_uri": "https://localhost:8080/"
        },
        "id": "r7rub0N4Yi00",
        "outputId": "8df835d9-2908-496e-ad2c-dfb421e4edd6"
      },
      "source": [
        "for gamma in frame.columns:\n",
        "    column = frame[gamma]\n",
        "    for beta in column.index:\n",
        "        frac_infected = column[beta]\n",
        "        print(beta, gamma, frac_infected)"
      ],
      "execution_count": 10,
      "outputs": [
        {
          "output_type": "stream",
          "text": [
            "0.1 0.2 0.010756340768063644\n",
            "0.2 0.2 0.11898421353185373\n",
            "0.3 0.2 0.5890954199973404\n",
            "0.4 0.2 0.8013385277185551\n",
            "0.5 0.2 0.8965769637207062\n",
            "0.6 0.2 0.942929291399791\n",
            "0.7 0.2 0.966299311298026\n",
            "0.8 0.2 0.9781518959989762\n",
            "0.9 0.2 0.9840568957948106\n",
            "1.0 0.2 0.9868823507202488\n",
            "1.1 0.2 0.988148177093735\n",
            "0.1 0.4 0.0036416926514175607\n",
            "0.2 0.4 0.010763463373360094\n",
            "0.3 0.4 0.030184952469116566\n",
            "0.4 0.4 0.131562924303259\n",
            "0.5 0.4 0.3964094037932606\n",
            "0.6 0.4 0.5979016626615987\n",
            "0.7 0.4 0.7284704154876106\n",
            "0.8 0.4 0.8144604459153759\n",
            "0.9 0.4 0.8722697237137128\n",
            "1.0 0.4 0.9116692168795855\n",
            "1.1 0.4 0.9386802509510287\n",
            "0.1 0.6 0.002190722188881611\n",
            "0.2 0.6 0.005446688837466351\n",
            "0.3 0.6 0.010771139974975585\n",
            "0.4 0.6 0.020916599304195316\n",
            "0.5 0.6 0.04614035896610047\n",
            "0.6 0.6 0.13288938996079536\n",
            "0.7 0.6 0.3118432512847451\n",
            "0.8 0.6 0.47832565854255393\n",
            "0.9 0.6 0.605687582114665\n",
            "1.0 0.6 0.7014254793376209\n",
            "1.1 0.6 0.7738176405451065\n",
            "0.1 0.8 0.0015665254038139675\n",
            "0.2 0.8 0.003643953969662994\n",
            "0.3 0.8 0.006526163529085194\n",
            "0.4 0.8 0.010779807499500693\n",
            "0.5 0.8 0.017639902596349066\n",
            "0.6 0.8 0.030291868201986594\n",
            "0.7 0.8 0.05882382948158804\n",
            "0.8 0.8 0.13358889291095588\n",
            "0.9 0.8 0.2668895539427739\n",
            "1.0 0.8 0.40375121210421994\n",
            "1.1 0.8 0.519583469821867\n"
          ],
          "name": "stdout"
        }
      ]
    },
    {
      "cell_type": "markdown",
      "metadata": {
        "id": "RhFgMlb5Yi01"
      },
      "source": [
        "Now we can wrap that loop in a function and plot the results.  For each element of the `SweepFrame`, we have `beta`, `gamma`, and `frac_infected`, and we plot `beta/gamma` on the x-axis and `frac_infected` on the y-axis."
      ]
    },
    {
      "cell_type": "code",
      "metadata": {
        "id": "MLOiE2bBYi01"
      },
      "source": [
        "def plot_sweep_frame(frame):\n",
        "    \"\"\"Plot the values from a SweepFrame.\n",
        "    \n",
        "    For each (beta, gamma), compute the contact number,\n",
        "    beta/gamma\n",
        "    \n",
        "    frame: SweepFrame with one row per beta, one column per gamma\n",
        "    \"\"\"\n",
        "    for gamma in frame.columns:\n",
        "        column = frame[gamma]\n",
        "        for beta in column.index:\n",
        "            frac_infected = column[beta]\n",
        "            plot(beta/gamma, frac_infected, 'ro')"
      ],
      "execution_count": 11,
      "outputs": []
    },
    {
      "cell_type": "markdown",
      "metadata": {
        "id": "TLrzCoKmYi02"
      },
      "source": [
        "Here's what it looks like:"
      ]
    },
    {
      "cell_type": "code",
      "metadata": {
        "colab": {
          "base_uri": "https://localhost:8080/",
          "height": 297
        },
        "id": "__rnPcYFYi02",
        "outputId": "3ced3dac-6ba7-42fa-c21f-fb5114562ff8"
      },
      "source": [
        "plot_sweep_frame(frame)\n",
        "\n",
        "decorate(xlabel='Contact number (beta/gamma)',\n",
        "         ylabel='Fraction infected')\n",
        "\n"
      ],
      "execution_count": 12,
      "outputs": [
        {
          "output_type": "display_data",
          "data": {
            "image/png": "[encoded data removed]",
            "text/plain": [
              "<Figure size 432x288 with 1 Axes>"
            ]
          },
          "metadata": {
            "tags": [],
            "needs_background": "light"
          }
        }
      ]
    },
    {
      "cell_type": "markdown",
      "metadata": {
        "id": "WLoGTh-hYi02"
      },
      "source": [
        "It turns out that the ratio `beta/gamma`, called the \"contact number\" is sufficient to predict the total number of infections; we don't have to know `beta` and `gamma` separately.\n",
        "\n",
        "We can see that in the previous plot: when we plot the fraction infected versus the contact number, the results fall close to a curve."
      ]
    },
    {
      "cell_type": "markdown",
      "metadata": {
        "id": "TphjxSEYYi02"
      },
      "source": [
        "### Analysis"
      ]
    },
    {
      "cell_type": "markdown",
      "metadata": {
        "id": "xtRlpGlLYi03"
      },
      "source": [
        "In the book we figured out the relationship between $c$ and $s_{\\infty}$ analytically.  Now we can compute it for a range of values:"
      ]
    },
    {
      "cell_type": "code",
      "metadata": {
        "id": "Hwj_h57wYi03"
      },
      "source": [
        "s_inf_array = linspace(0.0001, 0.9999, 101);"
      ],
      "execution_count": 39,
      "outputs": []
    },
    {
      "cell_type": "code",
      "metadata": {
        "id": "1A7FhZgaYi03"
      },
      "source": [
        "c_array = log(s_inf_array) / (s_inf_array - 1);"
      ],
      "execution_count": 40,
      "outputs": []
    },
    {
      "cell_type": "markdown",
      "metadata": {
        "id": "J62MuR9QYi04"
      },
      "source": [
        "`total_infected` is the change in $s$ from the beginning to the end."
      ]
    },
    {
      "cell_type": "code",
      "metadata": {
        "id": "qJUEwS0yYi04"
      },
      "source": [
        "frac_infected = 1 - s_inf_array\n",
        "frac_infected_series = Series(frac_infected, index=c_array);"
      ],
      "execution_count": 15,
      "outputs": []
    },
    {
      "cell_type": "markdown",
      "metadata": {
        "id": "yTi29MB-Yi05"
      },
      "source": [
        "Now we can plot the analytic results and compare them to the simulations."
      ]
    },
    {
      "cell_type": "code",
      "metadata": {
        "colab": {
          "base_uri": "https://localhost:8080/",
          "height": 297
        },
        "id": "Lo760tC_Yi05",
        "outputId": "70b5be17-ba54-482b-bb3d-cfcea66a4359"
      },
      "source": [
        "plot_sweep_frame(frame)\n",
        "plot(frac_infected_series, label='Analysis')\n",
        "\n",
        "decorate(xlabel='Contact number (c)',\n",
        "         ylabel='Fraction infected')\n",
        "\n"
      ],
      "execution_count": 16,
      "outputs": [
        {
          "output_type": "display_data",
          "data": {
            "image/png": "[encoded data removed]",
            "text/plain": [
              "<Figure size 432x288 with 1 Axes>"
            ]
          },
          "metadata": {
            "tags": [],
            "needs_background": "light"
          }
        }
      ]
    },
    {
      "cell_type": "markdown",
      "metadata": {
        "id": "uw-lv1lbYi05"
      },
      "source": [
        "The agreement is generally good, except for values of `c` less than 1."
      ]
    },
    {
      "cell_type": "markdown",
      "metadata": {
        "id": "aYp7D_zZYi05"
      },
      "source": [
        "## Exercises"
      ]
    },
    {
      "cell_type": "markdown",
      "metadata": {
        "id": "aOoOytyUYi06"
      },
      "source": [
        "**Exercise:**  If we didn't know about contact numbers, we might have explored other possibilities, like the difference between `beta` and `gamma`, rather than their ratio.\n",
        "\n",
        "Write a version of `plot_sweep_frame`, called `plot_sweep_frame_difference`, that plots the fraction infected versus the difference `beta-gamma`.\n",
        "\n",
        "What do the results look like, and what does that imply? "
      ]
    },
    {
      "cell_type": "code",
      "metadata": {
        "id": "sNpeVH71Yi06"
      },
      "source": [
        "def plot_sweep_frame_difference(frame):\n",
        "    \"\"\"Plot the values from a SweepFrame.\n",
        "    \n",
        "    For each (beta, gamma), compute the contact number,\n",
        "    beta/gamma\n",
        "    \n",
        "    frame: SweepFrame with one row per beta, one column per gamma\n",
        "    \"\"\"\n",
        "    for gamma in frame.columns:\n",
        "        column = frame[gamma]\n",
        "        for beta in column.index:\n",
        "            frac_infected = column[beta]\n",
        "            plot(beta-gamma, frac_infected, 'ro')"
      ],
      "execution_count": 42,
      "outputs": []
    },
    {
      "cell_type": "code",
      "metadata": {
        "colab": {
          "base_uri": "https://localhost:8080/",
          "height": 297
        },
        "id": "cBAe2QP-Yi07",
        "outputId": "511fbaf5-b32f-4d2d-fddf-35d2a81b1faf"
      },
      "source": [
        "plot_sweep_frame_difference(frame)\n",
        "\n",
        "decorate(xlabel='Difference (beta-gamma)',\n",
        "         ylabel='Fraction infected')"
      ],
      "execution_count": 44,
      "outputs": [
        {
          "output_type": "display_data",
          "data": {
            "image/png": "[encoded data removed]",
            "text/plain": [
              "<Figure size 432x288 with 1 Axes>"
            ]
          },
          "metadata": {
            "tags": [],
            "needs_background": "light"
          }
        }
      ]
    },
    {
      "cell_type": "code",
      "metadata": {
        "id": "Znoxq-U9Yi07"
      },
      "source": [
        ""
      ],
      "execution_count": 19,
      "outputs": []
    },
    {
      "cell_type": "markdown",
      "metadata": {
        "id": "oZoJ2q0dYi07"
      },
      "source": [
        "**Exercise:** Suppose you run a survey at the end of the semester and find that 26% of students had the Freshman Plague at some point.\n",
        "\n",
        "What is your best estimate of `c`?\n",
        "\n",
        "Hint: if you print `frac_infected_series`, you can read off the answer. "
      ]
    },
    {
      "cell_type": "code",
      "metadata": {
        "scrolled": true,
        "colab": {
          "base_uri": "https://localhost:8080/"
        },
        "id": "Tj1lfhKPYi08",
        "outputId": "7e1b9969-0f98-496a-f0e5-ef5d01ac10c3"
      },
      "source": [
        "print(frac_infected_series.iloc[70:80])"
      ],
      "execution_count": 61,
      "outputs": [
        {
          "output_type": "stream",
          "text": [
            "1.188948    0.300040\n",
            "1.181034    0.290042\n",
            "1.173263    0.280044\n",
            "1.165630    0.270046\n",
            "1.158132    0.260048\n",
            "1.150765    0.250050\n",
            "1.143524    0.240052\n",
            "1.136407    0.230054\n",
            "1.129409    0.220056\n",
            "1.122527    0.210058\n",
            "dtype: float64\n"
          ],
          "name": "stdout"
        }
      ]
    },
    {
      "cell_type": "code",
      "metadata": {
        "id": "H4CcoZ7fYi08"
      },
      "source": [
        "The best estimate of c is 1.158"
      ],
      "execution_count": 21,
      "outputs": []
    },
    {
      "cell_type": "code",
      "metadata": {
        "id": "B-LtYTdjYi08"
      },
      "source": [
        ""
      ],
      "execution_count": 21,
      "outputs": []
    }
  ]
}