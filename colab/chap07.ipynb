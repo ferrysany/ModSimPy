{
  "nbformat": 4,
  "nbformat_minor": 0,
  "metadata": {
    "kernelspec": {
      "display_name": "Python 3",
      "language": "python",
      "name": "python3"
    },
    "language_info": {
      "codemirror_mode": {
        "name": "ipython",
        "version": 3
      },
      "file_extension": ".py",
      "mimetype": "text/x-python",
      "name": "python",
      "nbconvert_exporter": "python",
      "pygments_lexer": "ipython3",
      "version": "3.7.9"
    },
    "colab": {
      "name": "chap07.ipynb",
      "provenance": []
    }
  },
  "cells": [
    {
      "cell_type": "markdown",
      "metadata": {
        "id": "aD40efaGygw4"
      },
      "source": [
        "# Chapter 7"
      ]
    },
    {
      "cell_type": "markdown",
      "metadata": {
        "tags": [],
        "id": "UybVyT0rygxA"
      },
      "source": [
        "*Modeling and Simulation in Python* Edit by Chun San Yip 20 June 2021\n",
        "\n",
        "Copyright 2021 Allen Downey\n",
        "\n",
        "License: [Creative Commons Attribution-NonCommercial-ShareAlike 4.0 International](https://creativecommons.org/licenses/by-nc-sa/4.0/)"
      ]
    },
    {
      "cell_type": "code",
      "metadata": {
        "tags": [],
        "id": "VL4xnAS-ygxE"
      },
      "source": [
        "# check if the libraries we need are installed\n",
        "\n",
        "try:\n",
        "    import pint\n",
        "except ImportError:\n",
        "    !pip install pint\n",
        "    import pint\n",
        "    \n",
        "try:\n",
        "    from modsim import *\n",
        "except ImportError:\n",
        "    !pip install modsimpy\n",
        "    from modsim import *"
      ],
      "execution_count": 51,
      "outputs": []
    },
    {
      "cell_type": "markdown",
      "metadata": {
        "id": "77k6xwPTygxJ"
      },
      "source": [
        "### Code from the previous chapter"
      ]
    },
    {
      "cell_type": "code",
      "metadata": {
        "id": "VCsqQ4qkygxL"
      },
      "source": [
        "import os\n",
        "\n",
        "filename = 'World_population_estimates.html'\n",
        "\n",
        "if not os.path.exists(filename):\n",
        "    !wget https://raw.githubusercontent.com/AllenDowney/ModSimPy/master/data/World_population_estimates.html"
      ],
      "execution_count": 52,
      "outputs": []
    },
    {
      "cell_type": "code",
      "metadata": {
        "id": "D2uof7SxygxL"
      },
      "source": [
        "from pandas import read_html\n",
        "\n",
        "tables = read_html(filename, header=0, index_col=0, decimal='M')\n",
        "table2 = tables[2]\n",
        "table2.columns = ['census', 'prb', 'un', 'maddison', \n",
        "                  'hyde', 'tanton', 'biraben', 'mj', \n",
        "                  'thomlinson', 'durand', 'clark']"
      ],
      "execution_count": 3,
      "outputs": []
    },
    {
      "cell_type": "code",
      "metadata": {
        "colab": {
          "base_uri": "https://localhost:8080/"
        },
        "id": "cn0f4khoygxO",
        "outputId": "b7fe18c4-8334-45c7-d675-0c9492350f53"
      },
      "source": [
        "un = table2.un / 1e9\n",
        "un.head()"
      ],
      "execution_count": 53,
      "outputs": [
        {
          "output_type": "execute_result",
          "data": {
            "text/plain": [
              "Year\n",
              "1950    2.525149\n",
              "1951    2.572851\n",
              "1952    2.619292\n",
              "1953    2.665865\n",
              "1954    2.713172\n",
              "Name: un, dtype: float64"
            ]
          },
          "metadata": {
            "tags": []
          },
          "execution_count": 53
        }
      ]
    },
    {
      "cell_type": "code",
      "metadata": {
        "colab": {
          "base_uri": "https://localhost:8080/"
        },
        "id": "IypSE8ezygxS",
        "outputId": "73ec697e-d40c-4fbd-dd17-3375a648b5d2"
      },
      "source": [
        "census = table2.census / 1e9\n",
        "census.head()"
      ],
      "execution_count": 54,
      "outputs": [
        {
          "output_type": "execute_result",
          "data": {
            "text/plain": [
              "Year\n",
              "1950    2.557629\n",
              "1951    2.594940\n",
              "1952    2.636772\n",
              "1953    2.682053\n",
              "1954    2.730228\n",
              "Name: census, dtype: float64"
            ]
          },
          "metadata": {
            "tags": []
          },
          "execution_count": 54
        }
      ]
    },
    {
      "cell_type": "code",
      "metadata": {
        "id": "aiF0uIOZygxZ"
      },
      "source": [
        "def plot_results(census, un, timeseries, title):\n",
        "    \"\"\"Plot the estimates and the model.\n",
        "    \n",
        "    census: TimeSeries of population estimates\n",
        "    un: TimeSeries of population estimates\n",
        "    timeseries: TimeSeries of simulation results\n",
        "    title: string\n",
        "    \"\"\"\n",
        "    plot(census, ':', label='US Census')\n",
        "    plot(un, '--', label='UN DESA')\n",
        "    plot(timeseries, color='gray', label='model')\n",
        "    \n",
        "    decorate(xlabel='Year', \n",
        "             ylabel='World population (billion)',\n",
        "             title=title)"
      ],
      "execution_count": 55,
      "outputs": []
    },
    {
      "cell_type": "code",
      "metadata": {
        "id": "9OVoZ8dHygxd"
      },
      "source": [
        "def run_simulation(system, update_func):\n",
        "    \"\"\"Simulate the system using any update function.\n",
        "    \n",
        "    system: System object\n",
        "    update_func: function that computes the population next year\n",
        "    \n",
        "    returns: TimeSeries\n",
        "    \"\"\"\n",
        "    results = TimeSeries()\n",
        "    results[system.t_0] = system.p_0\n",
        "    \n",
        "    for t in linrange(system.t_0, system.t_end):\n",
        "        results[t+1] = update_func(results[t], t, system)\n",
        "        \n",
        "    return results"
      ],
      "execution_count": 56,
      "outputs": []
    },
    {
      "cell_type": "markdown",
      "metadata": {
        "id": "fzyzumpVygxh"
      },
      "source": [
        "### Quadratic growth"
      ]
    },
    {
      "cell_type": "markdown",
      "metadata": {
        "id": "3iPvUUPUygxl"
      },
      "source": [
        "Here's the implementation of the quadratic growth model."
      ]
    },
    {
      "cell_type": "code",
      "metadata": {
        "id": "RR4g3njRygxm"
      },
      "source": [
        "def update_func_quad(pop, t, system):\n",
        "    \"\"\"Compute the population next year with a quadratic model.\n",
        "    \n",
        "    pop: current population\n",
        "    t: current year\n",
        "    system: system object containing parameters of the model\n",
        "    \n",
        "    returns: population next year\n",
        "    \"\"\"\n",
        "    net_growth = system.alpha * pop + system.beta * pop**2\n",
        "    return pop + net_growth"
      ],
      "execution_count": 57,
      "outputs": []
    },
    {
      "cell_type": "markdown",
      "metadata": {
        "id": "Mu7L1Reeygxo"
      },
      "source": [
        "Here's a `System` object with the parameters `alpha` and `beta`:"
      ]
    },
    {
      "cell_type": "code",
      "metadata": {
        "id": "XWq57fchygxp"
      },
      "source": [
        "t_0 = get_first_label(census)\n",
        "t_end = get_last_label(census)\n",
        "p_0 = census[t_0]\n",
        "\n",
        "system = System(t_0=t_0, \n",
        "                t_end=t_end,\n",
        "                p_0=p_0,\n",
        "                alpha=0.0265,\n",
        "                beta=-0.0022)"
      ],
      "execution_count": 58,
      "outputs": []
    },
    {
      "cell_type": "markdown",
      "metadata": {
        "id": "o4dRSwSQygxq"
      },
      "source": [
        "And here are the results."
      ]
    },
    {
      "cell_type": "code",
      "metadata": {
        "colab": {
          "base_uri": "https://localhost:8080/",
          "height": 297
        },
        "id": "W1jK1FcBygxs",
        "outputId": "e9344670-52fc-4a69-c669-a95f9620b36e"
      },
      "source": [
        "results = run_simulation(system, update_func_quad)\n",
        "plot_results(census, un, results, 'Quadratic model')"
      ],
      "execution_count": 59,
      "outputs": [
        {
          "output_type": "display_data",
          "data": {
            "image/png": "[encoded data removed]",
            "text/plain": [
              "<Figure size 432x288 with 1 Axes>"
            ]
          },
          "metadata": {
            "tags": []
          }
        }
      ]
    },
    {
      "cell_type": "markdown",
      "metadata": {
        "id": "cX3L0OJEygxt"
      },
      "source": [
        "**Exercise:**  Can you find values for the parameters that make the model fit better? The value I created above look a little better."
      ]
    },
    {
      "cell_type": "markdown",
      "metadata": {
        "id": "khaZQm2Wygxt"
      },
      "source": [
        "### Equilibrium\n",
        "\n",
        "To understand the quadratic model better, let's plot net growth as a function of population."
      ]
    },
    {
      "cell_type": "code",
      "metadata": {
        "id": "0LEa4DwZygxu"
      },
      "source": [
        "pop_array = linspace(0, 15, 100)\n",
        "net_growth_array = system.alpha * pop_array + system.beta * pop_array**2\n",
        "None"
      ],
      "execution_count": 61,
      "outputs": []
    },
    {
      "cell_type": "markdown",
      "metadata": {
        "id": "wCNSPyUXygxv"
      },
      "source": [
        "Here's what it looks like."
      ]
    },
    {
      "cell_type": "code",
      "metadata": {
        "colab": {
          "base_uri": "https://localhost:8080/",
          "height": 297
        },
        "id": "BTLciQ0Cygxv",
        "outputId": "0360429a-4996-498f-9709-f1bd5a312c23"
      },
      "source": [
        "sns.set_style('whitegrid')\n",
        "\n",
        "plot(pop_array, net_growth_array)\n",
        "decorate(xlabel='Population (billions)',\n",
        "         ylabel='Net growth (billions)')\n",
        "\n",
        "sns.set_style('white')"
      ],
      "execution_count": 62,
      "outputs": [
        {
          "output_type": "display_data",
          "data": {
            "image/png": "[encoded data removed]",
            "text/plain": [
              "<Figure size 432x288 with 1 Axes>"
            ]
          },
          "metadata": {
            "tags": []
          }
        }
      ]
    },
    {
      "cell_type": "markdown",
      "metadata": {
        "id": "pWChdo61ygxw"
      },
      "source": [
        "Here's what it looks like.  Remember that the x axis is population now, not time."
      ]
    },
    {
      "cell_type": "markdown",
      "metadata": {
        "id": "fU1P9F-Aygxy"
      },
      "source": [
        "It looks like the growth rate passes through 0 when the population is a little less than 14 billion.\n",
        "\n",
        "In the book we found that the net growth is 0 when the population is $-\\alpha/\\beta$:"
      ]
    },
    {
      "cell_type": "code",
      "metadata": {
        "colab": {
          "base_uri": "https://localhost:8080/"
        },
        "id": "K7HXGcYtygxz",
        "outputId": "c1fbb108-1656-4fd8-bbea-380aae8d68a6"
      },
      "source": [
        "-system.alpha / system.beta"
      ],
      "execution_count": 63,
      "outputs": [
        {
          "output_type": "execute_result",
          "data": {
            "text/plain": [
              "12.045454545454545"
            ]
          },
          "metadata": {
            "tags": []
          },
          "execution_count": 63
        }
      ]
    },
    {
      "cell_type": "markdown",
      "metadata": {
        "id": "BgLOPYX1ygx3"
      },
      "source": [
        "This is the equilibrium the population tends toward."
      ]
    },
    {
      "cell_type": "markdown",
      "metadata": {
        "id": "kmESMfaUygx4"
      },
      "source": [
        "`sns` is a library called Seaborn which provides functions that control the appearance of plots.  In this case I want a grid to make it easier to estimate the population where the growth rate crosses through 0."
      ]
    },
    {
      "cell_type": "markdown",
      "metadata": {
        "id": "du9lSD2Gygx7"
      },
      "source": [
        "### Dysfunctions"
      ]
    },
    {
      "cell_type": "markdown",
      "metadata": {
        "id": "xD0WdSbzygx8"
      },
      "source": [
        "When people first learn about functions, there are a few things they often find confusing.  In this section I present and explain some common problems with functions.\n",
        "\n",
        "As an example, suppose you want a function that takes a `System` object, with variables `alpha` and `beta`, as a parameter and computes the carrying capacity, `-alpha/beta`.  Here's a good solution:"
      ]
    },
    {
      "cell_type": "code",
      "metadata": {
        "colab": {
          "base_uri": "https://localhost:8080/"
        },
        "id": "mH3HsTY7ygx9",
        "outputId": "09aa8e23-d86e-4741-c72b-7273fbb9861d"
      },
      "source": [
        "def carrying_capacity(system):\n",
        "    K = -system.alpha / system.beta\n",
        "    return K\n",
        "    \n",
        "sys1 = System(alpha=0.025, beta=-0.0018)\n",
        "pop = carrying_capacity(sys1)\n",
        "print(pop)"
      ],
      "execution_count": 64,
      "outputs": [
        {
          "output_type": "stream",
          "text": [
            "13.88888888888889\n"
          ],
          "name": "stdout"
        }
      ]
    },
    {
      "cell_type": "markdown",
      "metadata": {
        "id": "4-gbutp9ygx-"
      },
      "source": [
        "Now let's see all the ways that can go wrong.\n",
        "\n",
        "**Dysfunction #1:** Not using parameters.  In the following version, the function doesn't take any parameters; when `sys1` appears inside the function, it refers to the object we created outside the function.\n"
      ]
    },
    {
      "cell_type": "code",
      "metadata": {
        "colab": {
          "base_uri": "https://localhost:8080/"
        },
        "id": "atlAqcVTygx-",
        "outputId": "273b5117-c4bb-43bf-bd5e-a6f2b332824e"
      },
      "source": [
        "def carrying_capacity():\n",
        "    K = -sys1.alpha / sys1.beta\n",
        "    return K\n",
        "    \n",
        "sys1 = System(alpha=0.025, beta=-0.0018)\n",
        "pop = carrying_capacity()\n",
        "print(pop)"
      ],
      "execution_count": 65,
      "outputs": [
        {
          "output_type": "stream",
          "text": [
            "13.88888888888889\n"
          ],
          "name": "stdout"
        }
      ]
    },
    {
      "cell_type": "markdown",
      "metadata": {
        "id": "V4UZAKFrygx_"
      },
      "source": [
        "This version actually works, but it is not as versatile as it could be.  If there are several `System` objects, this function can only work with one of them, and only if it is named `system`.\n",
        "\n",
        "**Dysfunction #2:** Clobbering the parameters.  When people first learn about parameters, they often write functions like this:"
      ]
    },
    {
      "cell_type": "code",
      "metadata": {
        "colab": {
          "base_uri": "https://localhost:8080/"
        },
        "id": "Onp1QBfhygyY",
        "outputId": "439792a8-7fb4-4132-b6eb-370c5d3bc72f"
      },
      "source": [
        "def carrying_capacity(system):\n",
        "    system = System(alpha=0.025, beta=-0.0018)\n",
        "    K = -system.alpha / system.beta\n",
        "    return K\n",
        "    \n",
        "sys1 = System(alpha=0.025, beta=-0.0018)\n",
        "pop = carrying_capacity(sys1)\n",
        "print(pop)"
      ],
      "execution_count": 66,
      "outputs": [
        {
          "output_type": "stream",
          "text": [
            "13.88888888888889\n"
          ],
          "name": "stdout"
        }
      ]
    },
    {
      "cell_type": "markdown",
      "metadata": {
        "id": "n8mxGjrbygya"
      },
      "source": [
        "In this example, we have a `System` object named `sys1` that gets passed as an argument to `carrying_capacity`.  But when the function runs, it ignores the argument and immediately replaces it with a new `System` object.  As a result, this function always returns the same value, no matter what argument is passed.\n",
        "\n",
        "When you write a function, you generally don't know what the values of the parameters will be.  Your job is to write a function that works for any valid values.  If you assign your own values to the parameters, you defeat the whole purpose of functions.\n",
        "\n",
        "\n",
        "**Dysfunction #3:** No return value.  Here's a version that computes the value of `K` but doesn't return it."
      ]
    },
    {
      "cell_type": "code",
      "metadata": {
        "colab": {
          "base_uri": "https://localhost:8080/"
        },
        "id": "h88I6XCxygyb",
        "outputId": "78ee26ac-9c27-411c-a185-e28f3a572ef2"
      },
      "source": [
        "def carrying_capacity(system):\n",
        "    K = -system.alpha / system.beta\n",
        "    \n",
        "sys1 = System(alpha=0.025, beta=-0.0018)\n",
        "pop = carrying_capacity(sys1)\n",
        "print(pop)"
      ],
      "execution_count": 67,
      "outputs": [
        {
          "output_type": "stream",
          "text": [
            "None\n"
          ],
          "name": "stdout"
        }
      ]
    },
    {
      "cell_type": "markdown",
      "metadata": {
        "id": "Hw2v9HTtygyb"
      },
      "source": [
        "A function that doesn't have a return statement always returns a special value called `None`, so in this example the value of `pop` is `None`.  If you are debugging a program and find that the value of a variable is `None` when it shouldn't be, a function without a return statement is a likely cause.\n",
        "\n",
        "**Dysfunction #4:** Ignoring the return value.  Finally, here's a version where the function is correct, but the way it's used is not."
      ]
    },
    {
      "cell_type": "code",
      "metadata": {
        "colab": {
          "base_uri": "https://localhost:8080/"
        },
        "id": "iy_M_odYygye",
        "outputId": "de7824a3-56c8-45ba-a8e3-eab2bfa26939"
      },
      "source": [
        "def carrying_capacity(system):\n",
        "    K = -system.alpha / system.beta\n",
        "    return K\n",
        "    \n",
        "sys2 = System(alpha=0.025, beta=-0.0018)\n",
        "carrying_capacity(sys2)\n",
        "\n",
        "# print(K)     This line won't work because K only exists inside the function."
      ],
      "execution_count": 68,
      "outputs": [
        {
          "output_type": "execute_result",
          "data": {
            "text/plain": [
              "13.88888888888889"
            ]
          },
          "metadata": {
            "tags": []
          },
          "execution_count": 68
        }
      ]
    },
    {
      "cell_type": "markdown",
      "metadata": {
        "id": "KJ87E4Q9ygye"
      },
      "source": [
        "In this example, `carrying_capacity` runs and returns `K`, but the return value is dropped.\n",
        "\n",
        "When you call a function that returns a value, you should do something with the result.  Often you assign it to a variable, as in the previous examples, but you can also use it as part of an expression.\n",
        "\n",
        "For example, you could eliminate the temporary variable `pop` like this:"
      ]
    },
    {
      "cell_type": "code",
      "metadata": {
        "colab": {
          "base_uri": "https://localhost:8080/"
        },
        "id": "BgWdx9v9ygyf",
        "outputId": "f20bafc6-2f0b-4c6e-861c-740f937ad1c1"
      },
      "source": [
        "print(carrying_capacity(sys1))"
      ],
      "execution_count": 69,
      "outputs": [
        {
          "output_type": "stream",
          "text": [
            "13.88888888888889\n"
          ],
          "name": "stdout"
        }
      ]
    },
    {
      "cell_type": "markdown",
      "metadata": {
        "id": "b7Tb6Xhzygyg"
      },
      "source": [
        "Or if you had more than one system, you could compute the total carrying capacity like this:\n"
      ]
    },
    {
      "cell_type": "code",
      "metadata": {
        "colab": {
          "base_uri": "https://localhost:8080/"
        },
        "id": "gsktd5jwygyh",
        "outputId": "171c6597-c4cc-49f9-d108-0e75d44b0ea0"
      },
      "source": [
        "total = carrying_capacity(sys1) + carrying_capacity(sys2)\n",
        "total"
      ],
      "execution_count": 70,
      "outputs": [
        {
          "output_type": "execute_result",
          "data": {
            "text/plain": [
              "27.77777777777778"
            ]
          },
          "metadata": {
            "tags": []
          },
          "execution_count": 70
        }
      ]
    },
    {
      "cell_type": "markdown",
      "metadata": {
        "id": "WGmOmd1Mygyi"
      },
      "source": [
        "## Exercises\n",
        "\n",
        "**Exercise:** In the book, I present a different way to parameterize the quadratic model:\n",
        "\n",
        "$ \\Delta p = r p (1 - p / K) $\n",
        "\n",
        "where $r=\\alpha$ and $K=-\\alpha/\\beta$.  Write a version of `update_func` that implements this version of the model.  Test it by computing the values of `r` and `K` that correspond to `alpha=0.025, beta=-0.0018`, and confirm that you get the same results. "
      ]
    },
    {
      "cell_type": "code",
      "metadata": {
        "id": "jHdMeaOpygyj"
      },
      "source": [
        "def update_func_quad_para(pop, t, system):\n",
        "    \"\"\"Compute the population next year with a quadratic model in parameterized way.\n",
        "    \n",
        "    pop: current population\n",
        "    t: current year\n",
        "    system: system object containing parameters of the model\n",
        "    \n",
        "    returns: population next year\n",
        "    \"\"\"\n",
        "    net_growth = system.r * pop*(1-pop/system.K)\n",
        "    return pop + net_growth"
      ],
      "execution_count": 81,
      "outputs": []
    },
    {
      "cell_type": "code",
      "metadata": {
        "id": "HYL_WInwygyk"
      },
      "source": [
        "alpha = 0.025\n",
        "beta = -0.0018\n",
        "system.r=alpha\n",
        "system.K=-alpha/beta"
      ],
      "execution_count": 82,
      "outputs": []
    },
    {
      "cell_type": "code",
      "metadata": {
        "colab": {
          "base_uri": "https://localhost:8080/",
          "height": 297
        },
        "id": "pTTLxQUtygyl",
        "outputId": "1fd22e0b-46ab-4656-b9fa-4bfec902aa33"
      },
      "source": [
        "results = run_simulation(system, update_func_quad_para)\n",
        "plot_results(census, un, results, 'Quadratic model in Parameterized way')"
      ],
      "execution_count": 83,
      "outputs": [
        {
          "output_type": "display_data",
          "data": {
            "image/png": "[encoded data removed]",
            "text/plain": [
              "<Figure size 432x288 with 1 Axes>"
            ]
          },
          "metadata": {
            "tags": []
          }
        }
      ]
    },
    {
      "cell_type": "code",
      "metadata": {
        "id": "11Bpvovhygyl"
      },
      "source": [
        ""
      ],
      "execution_count": null,
      "outputs": []
    }
  ]
}