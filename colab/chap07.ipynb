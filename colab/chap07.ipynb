{
  "nbformat": 4,
  "nbformat_minor": 0,
  "metadata": {
    "kernelspec": {
      "display_name": "Python 3",
      "language": "python",
      "name": "python3"
    },
    "language_info": {
      "codemirror_mode": {
        "name": "ipython",
        "version": 3
      },
      "file_extension": ".py",
      "mimetype": "text/x-python",
      "name": "python",
      "nbconvert_exporter": "python",
      "pygments_lexer": "ipython3",
      "version": "3.7.9"
    },
    "colab": {
      "name": "chap07.ipynb",
      "provenance": []
    }
  },
  "cells": [
    {
      "cell_type": "markdown",
      "metadata": {
        "id": "aD40efaGygw4"
      },
      "source": [
        "# Chapter 7"
      ]
    },
    {
      "cell_type": "markdown",
      "metadata": {
        "tags": [],
        "id": "UybVyT0rygxA"
      },
      "source": [
        "*Modeling and Simulation in Python* Edit by Chun San Yip 20 June 2021\n",
        "\n",
        "Copyright 2021 Allen Downey\n",
        "\n",
        "License: [Creative Commons Attribution-NonCommercial-ShareAlike 4.0 International](https://creativecommons.org/licenses/by-nc-sa/4.0/)"
      ]
    },
    {
      "cell_type": "code",
      "metadata": {
        "tags": [],
        "id": "VL4xnAS-ygxE"
      },
      "source": [
        "# check if the libraries we need are installed\n",
        "\n",
        "try:\n",
        "    import pint\n",
        "except ImportError:\n",
        "    !pip install pint\n",
        "    import pint\n",
        "    \n",
        "try:\n",
        "    from modsim import *\n",
        "except ImportError:\n",
        "    !pip install modsimpy\n",
        "    from modsim import *"
      ],
      "execution_count": null,
      "outputs": []
    },
    {
      "cell_type": "markdown",
      "metadata": {
        "id": "77k6xwPTygxJ"
      },
      "source": [
        "### Code from the previous chapter"
      ]
    },
    {
      "cell_type": "code",
      "metadata": {
        "id": "VCsqQ4qkygxL"
      },
      "source": [
        "import os\n",
        "\n",
        "filename = 'World_population_estimates.html'\n",
        "\n",
        "if not os.path.exists(filename):\n",
        "    !wget https://raw.githubusercontent.com/AllenDowney/ModSimPy/master/data/World_population_estimates.html"
      ],
      "execution_count": null,
      "outputs": []
    },
    {
      "cell_type": "code",
      "metadata": {
        "id": "D2uof7SxygxL"
      },
      "source": [
        "from pandas import read_html\n",
        "\n",
        "tables = read_html(filename, header=0, index_col=0, decimal='M')\n",
        "table2 = tables[2]\n",
        "table2.columns = ['census', 'prb', 'un', 'maddison', \n",
        "                  'hyde', 'tanton', 'biraben', 'mj', \n",
        "                  'thomlinson', 'durand', 'clark']"
      ],
      "execution_count": null,
      "outputs": []
    },
    {
      "cell_type": "code",
      "metadata": {
        "id": "cn0f4khoygxO"
      },
      "source": [
        "un = table2.un / 1e9\n",
        "un.head()"
      ],
      "execution_count": null,
      "outputs": []
    },
    {
      "cell_type": "code",
      "metadata": {
        "id": "IypSE8ezygxS"
      },
      "source": [
        "census = table2.census / 1e9\n",
        "census.head()"
      ],
      "execution_count": null,
      "outputs": []
    },
    {
      "cell_type": "code",
      "metadata": {
        "id": "aiF0uIOZygxZ"
      },
      "source": [
        "def plot_results(census, un, timeseries, title):\n",
        "    \"\"\"Plot the estimates and the model.\n",
        "    \n",
        "    census: TimeSeries of population estimates\n",
        "    un: TimeSeries of population estimates\n",
        "    timeseries: TimeSeries of simulation results\n",
        "    title: string\n",
        "    \"\"\"\n",
        "    plot(census, ':', label='US Census')\n",
        "    plot(un, '--', label='UN DESA')\n",
        "    plot(timeseries, color='gray', label='model')\n",
        "    \n",
        "    decorate(xlabel='Year', \n",
        "             ylabel='World population (billion)',\n",
        "             title=title)"
      ],
      "execution_count": null,
      "outputs": []
    },
    {
      "cell_type": "code",
      "metadata": {
        "id": "9OVoZ8dHygxd"
      },
      "source": [
        "def run_simulation(system, update_func):\n",
        "    \"\"\"Simulate the system using any update function.\n",
        "    \n",
        "    system: System object\n",
        "    update_func: function that computes the population next year\n",
        "    \n",
        "    returns: TimeSeries\n",
        "    \"\"\"\n",
        "    results = TimeSeries()\n",
        "    results[system.t_0] = system.p_0\n",
        "    \n",
        "    for t in linrange(system.t_0, system.t_end):\n",
        "        results[t+1] = update_func(results[t], t, system)\n",
        "        \n",
        "    return results"
      ],
      "execution_count": null,
      "outputs": []
    },
    {
      "cell_type": "markdown",
      "metadata": {
        "id": "fzyzumpVygxh"
      },
      "source": [
        "### Quadratic growth"
      ]
    },
    {
      "cell_type": "markdown",
      "metadata": {
        "id": "3iPvUUPUygxl"
      },
      "source": [
        "Here's the implementation of the quadratic growth model."
      ]
    },
    {
      "cell_type": "code",
      "metadata": {
        "id": "RR4g3njRygxm"
      },
      "source": [
        "def update_func_quad(pop, t, system):\n",
        "    \"\"\"Compute the population next year with a quadratic model.\n",
        "    \n",
        "    pop: current population\n",
        "    t: current year\n",
        "    system: system object containing parameters of the model\n",
        "    \n",
        "    returns: population next year\n",
        "    \"\"\"\n",
        "    net_growth = system.alpha * pop + system.beta * pop**2\n",
        "    return pop + net_growth"
      ],
      "execution_count": null,
      "outputs": []
    },
    {
      "cell_type": "markdown",
      "metadata": {
        "id": "Mu7L1Reeygxo"
      },
      "source": [
        "Here's a `System` object with the parameters `alpha` and `beta`:"
      ]
    },
    {
      "cell_type": "code",
      "metadata": {
        "id": "XWq57fchygxp"
      },
      "source": [
        "t_0 = get_first_label(census)\n",
        "t_end = get_last_label(census)\n",
        "p_0 = census[t_0]\n",
        "\n",
        "system = System(t_0=t_0, \n",
        "                t_end=t_end,\n",
        "                p_0=p_0,\n",
        "                alpha=0.025,\n",
        "                beta=-0.0018)"
      ],
      "execution_count": null,
      "outputs": []
    },
    {
      "cell_type": "markdown",
      "metadata": {
        "id": "o4dRSwSQygxq"
      },
      "source": [
        "And here are the results."
      ]
    },
    {
      "cell_type": "code",
      "metadata": {
        "id": "W1jK1FcBygxs"
      },
      "source": [
        "results = run_simulation(system, update_func_quad)\n",
        "plot_results(census, un, results, 'Quadratic model')"
      ],
      "execution_count": null,
      "outputs": []
    },
    {
      "cell_type": "markdown",
      "metadata": {
        "id": "cX3L0OJEygxt"
      },
      "source": [
        "**Exercise:**  Can you find values for the parameters that make the model fit better?"
      ]
    },
    {
      "cell_type": "markdown",
      "metadata": {
        "id": "khaZQm2Wygxt"
      },
      "source": [
        "### Equilibrium\n",
        "\n",
        "To understand the quadratic model better, let's plot net growth as a function of population."
      ]
    },
    {
      "cell_type": "code",
      "metadata": {
        "id": "0LEa4DwZygxu"
      },
      "source": [
        "pop_array = linspace(0, 15, 100)\n",
        "net_growth_array = system.alpha * pop_array + system.beta * pop_array**2\n",
        "None"
      ],
      "execution_count": null,
      "outputs": []
    },
    {
      "cell_type": "markdown",
      "metadata": {
        "id": "wCNSPyUXygxv"
      },
      "source": [
        "Here's what it looks like."
      ]
    },
    {
      "cell_type": "code",
      "metadata": {
        "id": "BTLciQ0Cygxv"
      },
      "source": [
        "sns.set_style('whitegrid')\n",
        "\n",
        "plot(pop_array, net_growth_array)\n",
        "decorate(xlabel='Population (billions)',\n",
        "         ylabel='Net growth (billions)')\n",
        "\n",
        "sns.set_style('white')"
      ],
      "execution_count": null,
      "outputs": []
    },
    {
      "cell_type": "markdown",
      "metadata": {
        "id": "pWChdo61ygxw"
      },
      "source": [
        "Here's what it looks like.  Remember that the x axis is population now, not time."
      ]
    },
    {
      "cell_type": "markdown",
      "metadata": {
        "id": "fU1P9F-Aygxy"
      },
      "source": [
        "It looks like the growth rate passes through 0 when the population is a little less than 14 billion.\n",
        "\n",
        "In the book we found that the net growth is 0 when the population is $-\\alpha/\\beta$:"
      ]
    },
    {
      "cell_type": "code",
      "metadata": {
        "id": "K7HXGcYtygxz"
      },
      "source": [
        "-system.alpha / system.beta"
      ],
      "execution_count": null,
      "outputs": []
    },
    {
      "cell_type": "markdown",
      "metadata": {
        "id": "BgLOPYX1ygx3"
      },
      "source": [
        "This is the equilibrium the population tends toward."
      ]
    },
    {
      "cell_type": "markdown",
      "metadata": {
        "id": "kmESMfaUygx4"
      },
      "source": [
        "`sns` is a library called Seaborn which provides functions that control the appearance of plots.  In this case I want a grid to make it easier to estimate the population where the growth rate crosses through 0."
      ]
    },
    {
      "cell_type": "markdown",
      "metadata": {
        "id": "du9lSD2Gygx7"
      },
      "source": [
        "### Dysfunctions"
      ]
    },
    {
      "cell_type": "markdown",
      "metadata": {
        "id": "xD0WdSbzygx8"
      },
      "source": [
        "When people first learn about functions, there are a few things they often find confusing.  In this section I present and explain some common problems with functions.\n",
        "\n",
        "As an example, suppose you want a function that takes a `System` object, with variables `alpha` and `beta`, as a parameter and computes the carrying capacity, `-alpha/beta`.  Here's a good solution:"
      ]
    },
    {
      "cell_type": "code",
      "metadata": {
        "id": "mH3HsTY7ygx9"
      },
      "source": [
        "def carrying_capacity(system):\n",
        "    K = -system.alpha / system.beta\n",
        "    return K\n",
        "    \n",
        "sys1 = System(alpha=0.025, beta=-0.0018)\n",
        "pop = carrying_capacity(sys1)\n",
        "print(pop)"
      ],
      "execution_count": null,
      "outputs": []
    },
    {
      "cell_type": "markdown",
      "metadata": {
        "id": "4-gbutp9ygx-"
      },
      "source": [
        "Now let's see all the ways that can go wrong.\n",
        "\n",
        "**Dysfunction #1:** Not using parameters.  In the following version, the function doesn't take any parameters; when `sys1` appears inside the function, it refers to the object we created outside the function.\n"
      ]
    },
    {
      "cell_type": "code",
      "metadata": {
        "id": "atlAqcVTygx-"
      },
      "source": [
        "def carrying_capacity():\n",
        "    K = -sys1.alpha / sys1.beta\n",
        "    return K\n",
        "    \n",
        "sys1 = System(alpha=0.025, beta=-0.0018)\n",
        "pop = carrying_capacity()\n",
        "print(pop)"
      ],
      "execution_count": null,
      "outputs": []
    },
    {
      "cell_type": "markdown",
      "metadata": {
        "id": "V4UZAKFrygx_"
      },
      "source": [
        "This version actually works, but it is not as versatile as it could be.  If there are several `System` objects, this function can only work with one of them, and only if it is named `system`.\n",
        "\n",
        "**Dysfunction #2:** Clobbering the parameters.  When people first learn about parameters, they often write functions like this:"
      ]
    },
    {
      "cell_type": "code",
      "metadata": {
        "id": "Onp1QBfhygyY"
      },
      "source": [
        "def carrying_capacity(system):\n",
        "    system = System(alpha=0.025, beta=-0.0018)\n",
        "    K = -system.alpha / system.beta\n",
        "    return K\n",
        "    \n",
        "sys1 = System(alpha=0.025, beta=-0.0018)\n",
        "pop = carrying_capacity(sys1)\n",
        "print(pop)"
      ],
      "execution_count": null,
      "outputs": []
    },
    {
      "cell_type": "markdown",
      "metadata": {
        "id": "n8mxGjrbygya"
      },
      "source": [
        "In this example, we have a `System` object named `sys1` that gets passed as an argument to `carrying_capacity`.  But when the function runs, it ignores the argument and immediately replaces it with a new `System` object.  As a result, this function always returns the same value, no matter what argument is passed.\n",
        "\n",
        "When you write a function, you generally don't know what the values of the parameters will be.  Your job is to write a function that works for any valid values.  If you assign your own values to the parameters, you defeat the whole purpose of functions.\n",
        "\n",
        "\n",
        "**Dysfunction #3:** No return value.  Here's a version that computes the value of `K` but doesn't return it."
      ]
    },
    {
      "cell_type": "code",
      "metadata": {
        "id": "h88I6XCxygyb"
      },
      "source": [
        "def carrying_capacity(system):\n",
        "    K = -system.alpha / system.beta\n",
        "    \n",
        "sys1 = System(alpha=0.025, beta=-0.0018)\n",
        "pop = carrying_capacity(sys1)\n",
        "print(pop)"
      ],
      "execution_count": null,
      "outputs": []
    },
    {
      "cell_type": "markdown",
      "metadata": {
        "id": "Hw2v9HTtygyb"
      },
      "source": [
        "A function that doesn't have a return statement always returns a special value called `None`, so in this example the value of `pop` is `None`.  If you are debugging a program and find that the value of a variable is `None` when it shouldn't be, a function without a return statement is a likely cause.\n",
        "\n",
        "**Dysfunction #4:** Ignoring the return value.  Finally, here's a version where the function is correct, but the way it's used is not."
      ]
    },
    {
      "cell_type": "code",
      "metadata": {
        "id": "iy_M_odYygye"
      },
      "source": [
        "def carrying_capacity(system):\n",
        "    K = -system.alpha / system.beta\n",
        "    return K\n",
        "    \n",
        "sys2 = System(alpha=0.025, beta=-0.0018)\n",
        "carrying_capacity(sys2)\n",
        "\n",
        "# print(K)     This line won't work because K only exists inside the function."
      ],
      "execution_count": null,
      "outputs": []
    },
    {
      "cell_type": "markdown",
      "metadata": {
        "id": "KJ87E4Q9ygye"
      },
      "source": [
        "In this example, `carrying_capacity` runs and returns `K`, but the return value is dropped.\n",
        "\n",
        "When you call a function that returns a value, you should do something with the result.  Often you assign it to a variable, as in the previous examples, but you can also use it as part of an expression.\n",
        "\n",
        "For example, you could eliminate the temporary variable `pop` like this:"
      ]
    },
    {
      "cell_type": "code",
      "metadata": {
        "id": "BgWdx9v9ygyf"
      },
      "source": [
        "print(carrying_capacity(sys1))"
      ],
      "execution_count": null,
      "outputs": []
    },
    {
      "cell_type": "markdown",
      "metadata": {
        "id": "b7Tb6Xhzygyg"
      },
      "source": [
        "Or if you had more than one system, you could compute the total carrying capacity like this:\n"
      ]
    },
    {
      "cell_type": "code",
      "metadata": {
        "id": "gsktd5jwygyh"
      },
      "source": [
        "total = carrying_capacity(sys1) + carrying_capacity(sys2)\n",
        "total"
      ],
      "execution_count": null,
      "outputs": []
    },
    {
      "cell_type": "markdown",
      "metadata": {
        "id": "WGmOmd1Mygyi"
      },
      "source": [
        "## Exercises\n",
        "\n",
        "**Exercise:** In the book, I present a different way to parameterize the quadratic model:\n",
        "\n",
        "$ \\Delta p = r p (1 - p / K) $\n",
        "\n",
        "where $r=\\alpha$ and $K=-\\alpha/\\beta$.  Write a version of `update_func` that implements this version of the model.  Test it by computing the values of `r` and `K` that correspond to `alpha=0.025, beta=-0.0018`, and confirm that you get the same results. "
      ]
    },
    {
      "cell_type": "code",
      "metadata": {
        "id": "jHdMeaOpygyj"
      },
      "source": [
        "# Solution goes here"
      ],
      "execution_count": null,
      "outputs": []
    },
    {
      "cell_type": "code",
      "metadata": {
        "id": "HYL_WInwygyk"
      },
      "source": [
        "# Solution goes here"
      ],
      "execution_count": null,
      "outputs": []
    },
    {
      "cell_type": "code",
      "metadata": {
        "id": "pTTLxQUtygyl"
      },
      "source": [
        "# Solution goes here"
      ],
      "execution_count": null,
      "outputs": []
    },
    {
      "cell_type": "code",
      "metadata": {
        "id": "11Bpvovhygyl"
      },
      "source": [
        ""
      ],
      "execution_count": null,
      "outputs": []
    }
  ]
}