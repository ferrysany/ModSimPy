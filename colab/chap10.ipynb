{
  "nbformat": 4,
  "nbformat_minor": 0,
  "metadata": {
    "kernelspec": {
      "display_name": "Python 3",
      "language": "python",
      "name": "python3"
    },
    "language_info": {
      "codemirror_mode": {
        "name": "ipython",
        "version": 3
      },
      "file_extension": ".py",
      "mimetype": "text/x-python",
      "name": "python",
      "nbconvert_exporter": "python",
      "pygments_lexer": "ipython3",
      "version": "3.7.9"
    },
    "colab": {
      "name": "chap10.ipynb",
      "provenance": []
    }
  },
  "cells": [
    {
      "cell_type": "markdown",
      "metadata": {
        "id": "M-MA_DjqAxMO"
      },
      "source": [
        "# Chapter 10"
      ]
    },
    {
      "cell_type": "markdown",
      "metadata": {
        "tags": [],
        "id": "SuBpqjzAAxMm"
      },
      "source": [
        "*Modeling and Simulation in Python* Chun San Yip Summer 2021\n",
        "\n",
        "Copyright 2021 Allen Downey\n",
        "\n",
        "License: [Creative Commons Attribution-NonCommercial-ShareAlike 4.0 International](https://creativecommons.org/licenses/by-nc-sa/4.0/)"
      ]
    },
    {
      "cell_type": "code",
      "metadata": {
        "tags": [],
        "id": "aIxFbqjKAxMr",
        "outputId": "73370a8a-6d6c-4640-98fb-b156b4d38e3d",
        "colab": {
          "base_uri": "https://localhost:8080/"
        }
      },
      "source": [
        "# check if the libraries we need are installed\n",
        "\n",
        "try:\n",
        "    import pint\n",
        "except ImportError:\n",
        "    !pip install pint\n",
        "    import pint\n",
        "    \n",
        "try:\n",
        "    from modsim import *\n",
        "except ImportError:\n",
        "    !pip install modsimpy\n",
        "    from modsim import *"
      ],
      "execution_count": 1,
      "outputs": [
        {
          "output_type": "stream",
          "text": [
            "Collecting pint\n",
            "\u001b[?25l  Downloading https://files.pythonhosted.org/packages/33/de/53a77b82553579affab7438d299f850acbc1c4dd741c5ce52594513cb0ef/Pint-0.17-py2.py3-none-any.whl (204kB)\n",
            "\r\u001b[K     |█▋                              | 10kB 16.9MB/s eta 0:00:01\r\u001b[K     |███▏                            | 20kB 22.0MB/s eta 0:00:01\r\u001b[K     |████▉                           | 30kB 25.4MB/s eta 0:00:01\r\u001b[K     |██████▍                         | 40kB 28.1MB/s eta 0:00:01\r\u001b[K     |████████                        | 51kB 31.1MB/s eta 0:00:01\r\u001b[K     |█████████▋                      | 61kB 33.0MB/s eta 0:00:01\r\u001b[K     |███████████▏                    | 71kB 33.6MB/s eta 0:00:01\r\u001b[K     |████████████▉                   | 81kB 30.3MB/s eta 0:00:01\r\u001b[K     |██████████████▍                 | 92kB 31.3MB/s eta 0:00:01\r\u001b[K     |████████████████                | 102kB 29.8MB/s eta 0:00:01\r\u001b[K     |█████████████████▋              | 112kB 29.8MB/s eta 0:00:01\r\u001b[K     |███████████████████▏            | 122kB 29.8MB/s eta 0:00:01\r\u001b[K     |████████████████████▉           | 133kB 29.8MB/s eta 0:00:01\r\u001b[K     |██████████████████████▍         | 143kB 29.8MB/s eta 0:00:01\r\u001b[K     |████████████████████████        | 153kB 29.8MB/s eta 0:00:01\r\u001b[K     |█████████████████████████▋      | 163kB 29.8MB/s eta 0:00:01\r\u001b[K     |███████████████████████████▏    | 174kB 29.8MB/s eta 0:00:01\r\u001b[K     |████████████████████████████▊   | 184kB 29.8MB/s eta 0:00:01\r\u001b[K     |██████████████████████████████▍ | 194kB 29.8MB/s eta 0:00:01\r\u001b[K     |████████████████████████████████| 204kB 29.8MB/s eta 0:00:01\r\u001b[K     |████████████████████████████████| 215kB 29.8MB/s \n",
            "\u001b[?25hRequirement already satisfied: importlib-metadata; python_version < \"3.8\" in /usr/local/lib/python3.7/dist-packages (from pint) (4.5.0)\n",
            "Requirement already satisfied: packaging in /usr/local/lib/python3.7/dist-packages (from pint) (20.9)\n",
            "Requirement already satisfied: zipp>=0.5 in /usr/local/lib/python3.7/dist-packages (from importlib-metadata; python_version < \"3.8\"->pint) (3.4.1)\n",
            "Requirement already satisfied: typing-extensions>=3.6.4; python_version < \"3.8\" in /usr/local/lib/python3.7/dist-packages (from importlib-metadata; python_version < \"3.8\"->pint) (3.7.4.3)\n",
            "Requirement already satisfied: pyparsing>=2.0.2 in /usr/local/lib/python3.7/dist-packages (from packaging->pint) (2.4.7)\n",
            "Installing collected packages: pint\n",
            "Successfully installed pint-0.17\n",
            "Collecting modsimpy\n",
            "  Downloading https://files.pythonhosted.org/packages/ee/ef/c170df0ee5311cda90a10fc71d1610b9a1cb2241fadbf04bf0f57ff161e9/modsimpy-1.1.3.tar.gz\n",
            "Building wheels for collected packages: modsimpy\n",
            "  Building wheel for modsimpy (setup.py) ... \u001b[?25l\u001b[?25hdone\n",
            "  Created wheel for modsimpy: filename=modsimpy-1.1.3-cp37-none-any.whl size=20356 sha256=c97432a8a5a5df1e9af44fceda3e5207a9b4de692a541a2d8633caef634a310a\n",
            "  Stored in directory: /root/.cache/pip/wheels/59/34/ac/e82f103fbfb5d961b1a4d2b8e89bb6629a4c0b242e5373cbfa\n",
            "Successfully built modsimpy\n",
            "Installing collected packages: modsimpy\n",
            "Successfully installed modsimpy-1.1.3\n"
          ],
          "name": "stdout"
        }
      ]
    },
    {
      "cell_type": "markdown",
      "metadata": {
        "id": "LabxIL2fAxMw"
      },
      "source": [
        "### Under the hood\n",
        "\n",
        "To get a `DataFrame` and a `Series`, I'll read the world population data and select a column.\n",
        "\n",
        "`DataFrame` and `Series` contain a variable called `shape` that indicates the number of rows and columns."
      ]
    },
    {
      "cell_type": "code",
      "metadata": {
        "id": "uzrJil2zAxM0"
      },
      "source": [
        "import os\n",
        "\n",
        "filename = 'World_population_estimates.html'\n",
        "\n",
        "if not os.path.exists(filename):\n",
        "    !wget https://raw.githubusercontent.com/AllenDowney/ModSimPy/master/data/World_population_estimates.html"
      ],
      "execution_count": null,
      "outputs": []
    },
    {
      "cell_type": "code",
      "metadata": {
        "id": "QBURE3suAxM1"
      },
      "source": [
        "from pandas import read_html\n",
        "\n",
        "tables = read_html(filename, header=0, index_col=0, decimal='M')\n",
        "table2 = tables[2]\n",
        "table2.columns = ['census', 'prb', 'un', 'maddison', \n",
        "                  'hyde', 'tanton', 'biraben', 'mj', \n",
        "                  'thomlinson', 'durand', 'clark']\n",
        "table2.shape"
      ],
      "execution_count": null,
      "outputs": []
    },
    {
      "cell_type": "code",
      "metadata": {
        "id": "3ZwhpY4nAxM3"
      },
      "source": [
        "census = table2.census / 1e9\n",
        "census.shape"
      ],
      "execution_count": null,
      "outputs": []
    },
    {
      "cell_type": "code",
      "metadata": {
        "id": "l0jsqgG_AxM5"
      },
      "source": [
        "un = table2.un / 1e9\n",
        "un.shape"
      ],
      "execution_count": null,
      "outputs": []
    },
    {
      "cell_type": "markdown",
      "metadata": {
        "id": "AaoCtx_8AxM6"
      },
      "source": [
        "A `DataFrame` contains `index`, which labels the rows.  It is an `Int64Index`, which is similar to a NumPy array."
      ]
    },
    {
      "cell_type": "code",
      "metadata": {
        "scrolled": true,
        "id": "diHtQUyBAxM8"
      },
      "source": [
        "table2.index"
      ],
      "execution_count": null,
      "outputs": []
    },
    {
      "cell_type": "markdown",
      "metadata": {
        "id": "wa3EHtv_AxM9"
      },
      "source": [
        "And `columns`, which labels the columns."
      ]
    },
    {
      "cell_type": "code",
      "metadata": {
        "scrolled": true,
        "id": "EYRWTW1PAxM_"
      },
      "source": [
        "table2.columns"
      ],
      "execution_count": null,
      "outputs": []
    },
    {
      "cell_type": "markdown",
      "metadata": {
        "id": "003sC8kVAxNA"
      },
      "source": [
        "And `values`, which is an array of values."
      ]
    },
    {
      "cell_type": "code",
      "metadata": {
        "scrolled": false,
        "id": "v_wERQ9NAxND"
      },
      "source": [
        "table2.values"
      ],
      "execution_count": null,
      "outputs": []
    },
    {
      "cell_type": "markdown",
      "metadata": {
        "id": "AvJIeaqeAxND"
      },
      "source": [
        "A `Series` does not have `columns`, but it does have `name`."
      ]
    },
    {
      "cell_type": "code",
      "metadata": {
        "scrolled": true,
        "id": "LE-__w0AAxNE"
      },
      "source": [
        "census.name"
      ],
      "execution_count": null,
      "outputs": []
    },
    {
      "cell_type": "markdown",
      "metadata": {
        "id": "9rqmDgeFAxNF"
      },
      "source": [
        "It contains `values`, which is an array."
      ]
    },
    {
      "cell_type": "code",
      "metadata": {
        "id": "WXxpv3FNAxNF"
      },
      "source": [
        "census.values"
      ],
      "execution_count": null,
      "outputs": []
    },
    {
      "cell_type": "markdown",
      "metadata": {
        "id": "KefQhVf_AxNG"
      },
      "source": [
        "And it contains `index`:"
      ]
    },
    {
      "cell_type": "code",
      "metadata": {
        "id": "PfeHe89QAxNG"
      },
      "source": [
        "census.index"
      ],
      "execution_count": null,
      "outputs": []
    },
    {
      "cell_type": "markdown",
      "metadata": {
        "id": "YpTdgmFIAxNH"
      },
      "source": [
        "If you ever wonder what kind of object a variable refers to, you can use the `type` function.  The result indicates what type the object is, and the module where that type is defined.\n",
        "\n",
        "`DataFrame`, `Int64Index`, `Index`, and `Series` are defined by Pandas.\n",
        "\n",
        "`ndarray` is defined by NumPy."
      ]
    },
    {
      "cell_type": "code",
      "metadata": {
        "id": "a4IW2D7QAxNI"
      },
      "source": [
        "type(table2)"
      ],
      "execution_count": null,
      "outputs": []
    },
    {
      "cell_type": "code",
      "metadata": {
        "id": "L0cMiUmhAxNI"
      },
      "source": [
        "type(table2.index)"
      ],
      "execution_count": null,
      "outputs": []
    },
    {
      "cell_type": "code",
      "metadata": {
        "id": "DjFqTdohAxNJ"
      },
      "source": [
        "type(table2.columns)"
      ],
      "execution_count": null,
      "outputs": []
    },
    {
      "cell_type": "code",
      "metadata": {
        "id": "BYSxOlSwAxNJ"
      },
      "source": [
        "type(table2.values)"
      ],
      "execution_count": null,
      "outputs": []
    },
    {
      "cell_type": "code",
      "metadata": {
        "id": "F9LKVAYCAxNK"
      },
      "source": [
        "type(census)"
      ],
      "execution_count": null,
      "outputs": []
    },
    {
      "cell_type": "code",
      "metadata": {
        "id": "AIRIFp_xAxNK"
      },
      "source": [
        "type(census.index)"
      ],
      "execution_count": null,
      "outputs": []
    },
    {
      "cell_type": "code",
      "metadata": {
        "scrolled": true,
        "id": "y56TDLc0AxNK"
      },
      "source": [
        "type(census.values)"
      ],
      "execution_count": null,
      "outputs": []
    },
    {
      "cell_type": "markdown",
      "metadata": {
        "id": "vH_tp9CVAxNL"
      },
      "source": [
        "## Optional exercise\n",
        "\n",
        "The following exercise provides a chance to practice what you have learned so far, and maybe develop a different growth model.  If you feel comfortable with what we have done so far, you might want to give it a try.\n",
        "\n",
        "**Optional Exercise:** On the Wikipedia page about world population estimates, the first table contains estimates for prehistoric populations.  The following cells process this table and plot some of the results."
      ]
    },
    {
      "cell_type": "code",
      "metadata": {
        "id": "lBIn7euoAxNL"
      },
      "source": [
        "filename = 'World_population_estimates.html'\n",
        "tables = read_html(filename, header=0, index_col=0, decimal='M')\n",
        "len(tables)"
      ],
      "execution_count": null,
      "outputs": []
    },
    {
      "cell_type": "markdown",
      "metadata": {
        "id": "1Y-f6ca7AxNL"
      },
      "source": [
        "Select `tables[1]`, which is the second table on the page."
      ]
    },
    {
      "cell_type": "code",
      "metadata": {
        "id": "NOVFpJXhAxNL"
      },
      "source": [
        "table1 = tables[1]\n",
        "table1.head()"
      ],
      "execution_count": null,
      "outputs": []
    },
    {
      "cell_type": "markdown",
      "metadata": {
        "id": "LqrMxrdeAxNM"
      },
      "source": [
        "Not all agencies and researchers provided estimates for the same dates.  Again `NaN` is the special value that indicates missing data."
      ]
    },
    {
      "cell_type": "code",
      "metadata": {
        "id": "EGXdJvWDAxNN"
      },
      "source": [
        "table1.tail()"
      ],
      "execution_count": null,
      "outputs": []
    },
    {
      "cell_type": "markdown",
      "metadata": {
        "id": "JlE3PrKYAxNN"
      },
      "source": [
        "Again, we'll replace the long column names with more convenient abbreviations."
      ]
    },
    {
      "cell_type": "code",
      "metadata": {
        "id": "IGCVsA2hAxNO"
      },
      "source": [
        "table1.columns = ['PRB', 'UN', 'Maddison', 'HYDE', 'Tanton', \n",
        "                  'Biraben', 'McEvedy & Jones', 'Thomlinson', 'Durand', 'Clark']"
      ],
      "execution_count": null,
      "outputs": []
    },
    {
      "cell_type": "markdown",
      "metadata": {
        "id": "Qe2YJ8zGAxNO"
      },
      "source": [
        "Some of the estimates are in a form Pandas doesn't recognize as numbers, but we can coerce them to be numeric."
      ]
    },
    {
      "cell_type": "code",
      "metadata": {
        "id": "Csf9ox_gAxNP"
      },
      "source": [
        "for col in table1.columns:\n",
        "    table1[col] = pd.to_numeric(table1[col], errors='coerce')"
      ],
      "execution_count": null,
      "outputs": []
    },
    {
      "cell_type": "markdown",
      "metadata": {
        "id": "3pnlYRx-AxNP"
      },
      "source": [
        "Here are the results.  Notice that we are working in millions now, not billions."
      ]
    },
    {
      "cell_type": "code",
      "metadata": {
        "scrolled": false,
        "id": "DgG-2EQgAxNQ"
      },
      "source": [
        "table1.plot()\n",
        "decorate(xlim=[-10000, 2000], xlabel='Year', \n",
        "         ylabel='World population (millions)',\n",
        "         title='Prehistoric population estimates')\n",
        "plt.legend(fontsize='small');"
      ],
      "execution_count": null,
      "outputs": []
    },
    {
      "cell_type": "markdown",
      "metadata": {
        "id": "TQJ59zkuAxNQ"
      },
      "source": [
        "We can use `xlim` to zoom in on everything after Year 0."
      ]
    },
    {
      "cell_type": "code",
      "metadata": {
        "id": "YCEtQ-D1AxNR"
      },
      "source": [
        "table1.plot()\n",
        "decorate(xlim=[0, 2000], xlabel='Year', \n",
        "         ylabel='World population (millions)',\n",
        "         title='CE population estimates')\n",
        "plt.legend(fontsize='small');"
      ],
      "execution_count": null,
      "outputs": []
    },
    {
      "cell_type": "markdown",
      "metadata": {
        "id": "HIVnBTfAAxNR"
      },
      "source": [
        "See if you can find a model that fits these data well from Year 0 to 1950.\n",
        "\n",
        "How well does your best model predict actual population growth from 1950 to the present?"
      ]
    },
    {
      "cell_type": "code",
      "metadata": {
        "id": "f33p0wcLAxNS"
      },
      "source": [
        "# Solution goes here"
      ],
      "execution_count": null,
      "outputs": []
    },
    {
      "cell_type": "code",
      "metadata": {
        "id": "gTBZ1LbYAxNT"
      },
      "source": [
        "# Solution goes here"
      ],
      "execution_count": null,
      "outputs": []
    },
    {
      "cell_type": "code",
      "metadata": {
        "id": "QxUS8Vn6AxNX"
      },
      "source": [
        ""
      ],
      "execution_count": null,
      "outputs": []
    }
  ]
}