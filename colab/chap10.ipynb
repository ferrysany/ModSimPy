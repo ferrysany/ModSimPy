{
  "nbformat": 4,
  "nbformat_minor": 0,
  "metadata": {
    "kernelspec": {
      "display_name": "Python 3",
      "language": "python",
      "name": "python3"
    },
    "language_info": {
      "codemirror_mode": {
        "name": "ipython",
        "version": 3
      },
      "file_extension": ".py",
      "mimetype": "text/x-python",
      "name": "python",
      "nbconvert_exporter": "python",
      "pygments_lexer": "ipython3",
      "version": "3.7.9"
    },
    "colab": {
      "name": "chap10.ipynb",
      "provenance": []
    }
  },
  "cells": [
    {
      "cell_type": "markdown",
      "metadata": {
        "id": "M-MA_DjqAxMO"
      },
      "source": [
        "# Chapter 10"
      ]
    },
    {
      "cell_type": "markdown",
      "metadata": {
        "tags": [],
        "id": "SuBpqjzAAxMm"
      },
      "source": [
        "*Modeling and Simulation in Python* Chun San Yip Summer 2021\n",
        "\n",
        "Copyright 2021 Allen Downey\n",
        "\n",
        "License: [Creative Commons Attribution-NonCommercial-ShareAlike 4.0 International](https://creativecommons.org/licenses/by-nc-sa/4.0/)"
      ]
    },
    {
      "cell_type": "code",
      "metadata": {
        "tags": [],
        "id": "aIxFbqjKAxMr"
      },
      "source": [
        "# check if the libraries we need are installed\n",
        "\n",
        "try:\n",
        "    import pint\n",
        "except ImportError:\n",
        "    !pip install pint\n",
        "    import pint\n",
        "    \n",
        "try:\n",
        "    from modsim import *\n",
        "except ImportError:\n",
        "    !pip install modsimpy\n",
        "    from modsim import *"
      ],
      "execution_count": null,
      "outputs": []
    },
    {
      "cell_type": "markdown",
      "metadata": {
        "id": "LabxIL2fAxMw"
      },
      "source": [
        "### Under the hood\n",
        "\n",
        "To get a `DataFrame` and a `Series`, I'll read the world population data and select a column.\n",
        "\n",
        "`DataFrame` and `Series` contain a variable called `shape` that indicates the number of rows and columns."
      ]
    },
    {
      "cell_type": "code",
      "metadata": {
        "colab": {
          "base_uri": "https://localhost:8080/"
        },
        "id": "uzrJil2zAxM0",
        "outputId": "760b09bf-ba8d-4e1d-ef5b-77c209888719"
      },
      "source": [
        "import os\n",
        "\n",
        "filename = 'World_population_estimates.html'\n",
        "\n",
        "if not os.path.exists(filename):\n",
        "    !wget https://raw.githubusercontent.com/AllenDowney/ModSimPy/master/data/World_population_estimates.html"
      ],
      "execution_count": 2,
      "outputs": [
        {
          "output_type": "stream",
          "text": [
            "--2021-07-01 04:25:19--  https://raw.githubusercontent.com/AllenDowney/ModSimPy/master/data/World_population_estimates.html\n",
            "Resolving raw.githubusercontent.com (raw.githubusercontent.com)... 185.199.111.133, 185.199.108.133, 185.199.109.133, ...\n",
            "Connecting to raw.githubusercontent.com (raw.githubusercontent.com)|185.199.111.133|:443... connected.\n",
            "HTTP request sent, awaiting response... 200 OK\n",
            "Length: 141997 (139K) [text/plain]\n",
            "Saving to: ‘World_population_estimates.html’\n",
            "\n",
            "World_population_es 100%[===================>] 138.67K  --.-KB/s    in 0.009s  \n",
            "\n",
            "2021-07-01 04:25:20 (15.4 MB/s) - ‘World_population_estimates.html’ saved [141997/141997]\n",
            "\n"
          ],
          "name": "stdout"
        }
      ]
    },
    {
      "cell_type": "code",
      "metadata": {
        "colab": {
          "base_uri": "https://localhost:8080/"
        },
        "id": "QBURE3suAxM1",
        "outputId": "886fff58-d2e9-47ca-f885-5ef4ad2e1f7e"
      },
      "source": [
        "from pandas import read_html\n",
        "\n",
        "tables = read_html(filename, header=0, index_col=0, decimal='M')\n",
        "table2 = tables[2]\n",
        "table2.columns = ['census', 'prb', 'un', 'maddison', \n",
        "                  'hyde', 'tanton', 'biraben', 'mj', \n",
        "                  'thomlinson', 'durand', 'clark']\n",
        "table2.shape"
      ],
      "execution_count": 3,
      "outputs": [
        {
          "output_type": "execute_result",
          "data": {
            "text/plain": [
              "(67, 11)"
            ]
          },
          "metadata": {
            "tags": []
          },
          "execution_count": 3
        }
      ]
    },
    {
      "cell_type": "code",
      "metadata": {
        "colab": {
          "base_uri": "https://localhost:8080/"
        },
        "id": "3ZwhpY4nAxM3",
        "outputId": "eb093d71-ccf1-4aeb-a922-66ae5e48bda3"
      },
      "source": [
        "census = table2.census / 1e9\n",
        "census.shape"
      ],
      "execution_count": 4,
      "outputs": [
        {
          "output_type": "execute_result",
          "data": {
            "text/plain": [
              "(67,)"
            ]
          },
          "metadata": {
            "tags": []
          },
          "execution_count": 4
        }
      ]
    },
    {
      "cell_type": "code",
      "metadata": {
        "colab": {
          "base_uri": "https://localhost:8080/"
        },
        "id": "l0jsqgG_AxM5",
        "outputId": "4ab6be0e-3362-4e04-f8ba-09f943e6c756"
      },
      "source": [
        "un = table2.un / 1e9\n",
        "un.shape"
      ],
      "execution_count": 5,
      "outputs": [
        {
          "output_type": "execute_result",
          "data": {
            "text/plain": [
              "(67,)"
            ]
          },
          "metadata": {
            "tags": []
          },
          "execution_count": 5
        }
      ]
    },
    {
      "cell_type": "markdown",
      "metadata": {
        "id": "AaoCtx_8AxM6"
      },
      "source": [
        "A `DataFrame` contains `index`, which labels the rows.  It is an `Int64Index`, which is similar to a NumPy array."
      ]
    },
    {
      "cell_type": "code",
      "metadata": {
        "scrolled": true,
        "colab": {
          "base_uri": "https://localhost:8080/"
        },
        "id": "diHtQUyBAxM8",
        "outputId": "f0eb7705-ade0-413e-f93f-c437c176f22b"
      },
      "source": [
        "table2.index"
      ],
      "execution_count": 6,
      "outputs": [
        {
          "output_type": "execute_result",
          "data": {
            "text/plain": [
              "Int64Index([1950, 1951, 1952, 1953, 1954, 1955, 1956, 1957, 1958, 1959, 1960,\n",
              "            1961, 1962, 1963, 1964, 1965, 1966, 1967, 1968, 1969, 1970, 1971,\n",
              "            1972, 1973, 1974, 1975, 1976, 1977, 1978, 1979, 1980, 1981, 1982,\n",
              "            1983, 1984, 1985, 1986, 1987, 1988, 1989, 1990, 1991, 1992, 1993,\n",
              "            1994, 1995, 1996, 1997, 1998, 1999, 2000, 2001, 2002, 2003, 2004,\n",
              "            2005, 2006, 2007, 2008, 2009, 2010, 2011, 2012, 2013, 2014, 2015,\n",
              "            2016],\n",
              "           dtype='int64', name='Year')"
            ]
          },
          "metadata": {
            "tags": []
          },
          "execution_count": 6
        }
      ]
    },
    {
      "cell_type": "markdown",
      "metadata": {
        "id": "wa3EHtv_AxM9"
      },
      "source": [
        "And `columns`, which labels the columns."
      ]
    },
    {
      "cell_type": "code",
      "metadata": {
        "scrolled": true,
        "colab": {
          "base_uri": "https://localhost:8080/"
        },
        "id": "EYRWTW1PAxM_",
        "outputId": "2d95fe3f-460d-428b-ff9f-7d3bdbcef405"
      },
      "source": [
        "table2.columns"
      ],
      "execution_count": 7,
      "outputs": [
        {
          "output_type": "execute_result",
          "data": {
            "text/plain": [
              "Index(['census', 'prb', 'un', 'maddison', 'hyde', 'tanton', 'biraben', 'mj',\n",
              "       'thomlinson', 'durand', 'clark'],\n",
              "      dtype='object')"
            ]
          },
          "metadata": {
            "tags": []
          },
          "execution_count": 7
        }
      ]
    },
    {
      "cell_type": "markdown",
      "metadata": {
        "id": "003sC8kVAxNA"
      },
      "source": [
        "And `values`, which is an array of values."
      ]
    },
    {
      "cell_type": "code",
      "metadata": {
        "scrolled": false,
        "colab": {
          "base_uri": "https://localhost:8080/"
        },
        "id": "v_wERQ9NAxND",
        "outputId": "c82464a2-44f3-47d4-98f3-6e4aa8ceec89"
      },
      "source": [
        "table2.values"
      ],
      "execution_count": 8,
      "outputs": [
        {
          "output_type": "execute_result",
          "data": {
            "text/plain": [
              "array([[2557628654, 2516000000.0, 2525149000.0, 2544000000.0,\n",
              "        2527960000.0, 2400000000.0, 2527000000.0, 2500000000.0,\n",
              "        2400000000.0, nan, 2486000000.0],\n",
              "       [2594939877, nan, 2572850917.0, 2571663000.0, nan, nan, nan, nan,\n",
              "        nan, nan, nan],\n",
              "       [2636772306, nan, 2619292068.0, 2617949000.0, nan, nan, nan, nan,\n",
              "        nan, nan, nan],\n",
              "       [2682053389, nan, 2665865392.0, 2665959000.0, nan, nan, nan, nan,\n",
              "        nan, nan, nan],\n",
              "       [2730228104, nan, 2713172027.0, 2716927000.0, nan, nan, nan, nan,\n",
              "        nan, nan, nan],\n",
              "       [2782098943, nan, 2761650981.0, 2769074000.0, nan, nan, nan, nan,\n",
              "        nan, nan, nan],\n",
              "       [2835299673, nan, 2811572031.0, 2822502000.0, nan, nan, nan, nan,\n",
              "        nan, nan, nan],\n",
              "       [2891349717, nan, 2863042795.0, 2879934000.0, nan, nan, nan, nan,\n",
              "        nan, nan, nan],\n",
              "       [2948137248, nan, 2916030167.0, 2939254000.0, nan, nan, nan, nan,\n",
              "        nan, nan, nan],\n",
              "       [3000716593, nan, 2970395814.0, 2995909000.0, nan, nan, nan, nan,\n",
              "        nan, nan, nan],\n",
              "       [3043001508, nan, 3026002942.0, 3041507000.0, 3042000000.0, nan,\n",
              "        nan, nan, nan, nan, nan],\n",
              "       [3083966929, nan, 3082830266.0, 3082161000.0, nan, nan, nan, nan,\n",
              "        nan, nan, nan],\n",
              "       [3140093217, nan, 3141071531.0, 3135787000.0, nan, nan, nan, nan,\n",
              "        nan, nan, 3036000000.0],\n",
              "       [3209827882, nan, 3201178277.0, 3201354000.0, nan, nan, nan, nan,\n",
              "        nan, nan, nan],\n",
              "       [3281201306, nan, 3263738832.0, 3266477000.0, nan, nan, nan, nan,\n",
              "        nan, nan, nan],\n",
              "       [3350425793, nan, 3329122479.0, 3333138000.0, nan, nan, nan, nan,\n",
              "        nan, nan, nan],\n",
              "       [3420677923, nan, 3397475247.0, 3402224000.0, nan, nan, nan, nan,\n",
              "        nan, nan, 3288000000.0],\n",
              "       [3490333715, nan, 3468521724.0, 3471464000.0, nan, nan, nan, nan,\n",
              "        nan, nan, nan],\n",
              "       [3562313822, nan, 3541674891.0, 3543086000.0, nan, nan, nan, nan,\n",
              "        nan, nan, nan],\n",
              "       [3637159050, nan, 3616108749.0, 3615743000.0, nan, nan, nan, nan,\n",
              "        nan, nan, nan],\n",
              "       [3712697742, nan, 3691172616.0, 3691157000.0, 3710000000.0, nan,\n",
              "        3637000000.0, nan, 3600000000.0, '3,600,000,000– 3,700,000,000',\n",
              "        3632000000.0],\n",
              "       [3790326948, nan, 3766754345.0, 3769818000.0, nan, nan, nan, nan,\n",
              "        nan, nan, nan],\n",
              "       [3866568653, nan, 3842873611.0, 3846499000.0, nan, nan, nan, nan,\n",
              "        nan, nan, nan],\n",
              "       [3942096442, nan, 3919182332.0, 3922793000.0, 3923000000.0, nan,\n",
              "        nan, nan, nan, nan, 3860000000.0],\n",
              "       [4016608813, nan, 3995304922.0, 3997677000.0, nan, nan, nan, nan,\n",
              "        nan, nan, nan],\n",
              "       [4089083233, nan, 4071020434.0, 4070671000.0, nan, nan, nan,\n",
              "        3900000000.0, 4000000000.0, nan, nan],\n",
              "       [4160185010, nan, 4146135850.0, 4141445000.0, nan, nan, nan, nan,\n",
              "        nan, nan, nan],\n",
              "       [4232084578, nan, 4220816737.0, 4213539000.0, nan, nan, nan, nan,\n",
              "        nan, nan, nan],\n",
              "       [4304105753, nan, 4295664825.0, 4286317000.0, nan, nan, nan, nan,\n",
              "        nan, nan, nan],\n",
              "       [4379013942, nan, 4371527871.0, 4363144000.0, nan, nan, nan, nan,\n",
              "        nan, nan, nan],\n",
              "       [4451362735, nan, 4449048798.0, 4439529000.0, 4461000000.0, nan,\n",
              "        nan, nan, nan, nan, nan],\n",
              "       [4534410125, nan, 4528234634.0, 4514838000.0, nan, nan, nan, nan,\n",
              "        nan, nan, nan],\n",
              "       [4614566561, nan, 4608962418.0, 4587307000.0, nan, nan, nan, nan,\n",
              "        nan, nan, nan],\n",
              "       [4695736743, nan, 4691559840.0, 4676388000.0, nan, nan, nan, nan,\n",
              "        nan, nan, nan],\n",
              "       [4774569391, nan, 4776392828.0, 4756521000.0, nan, nan, nan, nan,\n",
              "        nan, nan, nan],\n",
              "       [4856462699, nan, 4863601517.0, 4837719000.0, nan, 5000000000.0,\n",
              "        nan, nan, nan, nan, nan],\n",
              "       [4940571232, nan, 4953376710.0, 4920968000.0, nan, nan, nan, nan,\n",
              "        nan, nan, nan],\n",
              "       [5027200492, nan, 5045315871.0, 5006672000.0, nan, nan, nan, nan,\n",
              "        nan, nan, nan],\n",
              "       [5114557167, nan, 5138214688.0, 5093306000.0, nan, nan, nan, nan,\n",
              "        nan, nan, nan],\n",
              "       [5201440110, nan, 5230000000.0, 5180540000.0, nan, nan, nan, nan,\n",
              "        nan, nan, nan],\n",
              "       [5288955934, nan, 5320816667.0, 5269029000.0, 5308000000.0, nan,\n",
              "        nan, nan, nan, nan, nan],\n",
              "       [5371585922, nan, 5408908724.0, 5351922000.0, nan, nan, nan, nan,\n",
              "        nan, nan, nan],\n",
              "       [5456136278, nan, 5494899570.0, 5435722000.0, nan, nan, nan, nan,\n",
              "        nan, nan, nan],\n",
              "       [5538268316, nan, 5578865109.0, 5518127000.0, nan, nan, nan, nan,\n",
              "        nan, nan, nan],\n",
              "       [5618682132, nan, 5661086346.0, 5599396000.0, nan, nan, nan, nan,\n",
              "        nan, nan, nan],\n",
              "       [5699202985, 5760000000.0, 5741822412.0, 5681575000.0, nan, nan,\n",
              "        nan, nan, nan, nan, nan],\n",
              "       [5779440593, nan, 5821016750.0, 5762212000.0, nan, nan, nan, nan,\n",
              "        nan, nan, nan],\n",
              "       [5857972543, 5840000000.0, 5898688337.0, 5842122000.0, nan, nan,\n",
              "        nan, nan, nan, nan, nan],\n",
              "       [5935213248, nan, 5975303657.0, 5921366000.0, nan, nan, nan, nan,\n",
              "        nan, nan, nan],\n",
              "       [6012074922, nan, 6051478010.0, 5999622000.0, nan, nan, nan, nan,\n",
              "        nan, nan, nan],\n",
              "       [6088571383, 6067000000.0, 6127700428.0, 6076558000.0,\n",
              "        6145000000.0, nan, nan, 5750000000.0, nan, nan, nan],\n",
              "       [6165219247, 6137000000.0, 6204147026.0, 6154791000.0, nan, nan,\n",
              "        nan, nan, nan, nan, nan],\n",
              "       [6242016348, 6215000000.0, 6280853817.0, 6231704000.0, nan, nan,\n",
              "        nan, nan, nan, nan, nan],\n",
              "       [6318590956, 6314000000.0, 6357991749.0, 6308364000.0, nan, nan,\n",
              "        nan, nan, nan, nan, nan],\n",
              "       [6395699509, 6396000000.0, 6435705595.0, 6374056000.0, nan, nan,\n",
              "        nan, nan, nan, nan, nan],\n",
              "       [6473044732, 6477000000.0, 6514094605.0, 6462987000.0, nan, nan,\n",
              "        nan, nan, nan, nan, nan],\n",
              "       [6551263534, 6555000000.0, 6593227977.0, 6540214000.0, nan, nan,\n",
              "        nan, nan, nan, nan, nan],\n",
              "       [6629913759, 6625000000.0, 6673105937.0, 6616689000.0, nan, nan,\n",
              "        nan, nan, nan, nan, nan],\n",
              "       [6709049780, 6705000000.0, 6753649228.0, 6694832000.0, nan, nan,\n",
              "        nan, nan, nan, nan, nan],\n",
              "       [6788214394, 6809972000.0, 6834721933.0, 6764086000.0, nan, nan,\n",
              "        nan, nan, nan, nan, nan],\n",
              "       [6858584755, 6892319000.0, 6916183482.0, nan, nan, nan, nan, nan,\n",
              "        nan, nan, nan],\n",
              "       [6935999491, 6986951000.0, 6997998760.0, nan, nan, nan, nan, nan,\n",
              "        nan, nan, nan],\n",
              "       [7013871313, 7057075000.0, 7080072417.0, nan, nan, nan, nan, nan,\n",
              "        nan, nan, nan],\n",
              "       [7092128094, 7136796000.0, 7162119434.0, nan, nan, nan, nan, nan,\n",
              "        nan, nan, nan],\n",
              "       [7169968185, 7238184000.0, 7243784000.0, nan, nan, nan, nan, nan,\n",
              "        nan, nan, nan],\n",
              "       [7247892788, 7336435000.0, 7349472000.0, nan, nan, nan, nan, nan,\n",
              "        nan, nan, nan],\n",
              "       [7325996709, 7418151841.0, nan, nan, nan, nan, nan, nan, nan, nan,\n",
              "        nan]], dtype=object)"
            ]
          },
          "metadata": {
            "tags": []
          },
          "execution_count": 8
        }
      ]
    },
    {
      "cell_type": "markdown",
      "metadata": {
        "id": "AvJIeaqeAxND"
      },
      "source": [
        "A `Series` does not have `columns`, but it does have `name`."
      ]
    },
    {
      "cell_type": "code",
      "metadata": {
        "scrolled": true,
        "colab": {
          "base_uri": "https://localhost:8080/",
          "height": 35
        },
        "id": "LE-__w0AAxNE",
        "outputId": "60f37c8d-bd7d-4bb0-8ec2-ec28b5db117f"
      },
      "source": [
        "census.name"
      ],
      "execution_count": 9,
      "outputs": [
        {
          "output_type": "execute_result",
          "data": {
            "application/vnd.google.colaboratory.intrinsic+json": {
              "type": "string"
            },
            "text/plain": [
              "'census'"
            ]
          },
          "metadata": {
            "tags": []
          },
          "execution_count": 9
        }
      ]
    },
    {
      "cell_type": "markdown",
      "metadata": {
        "id": "9rqmDgeFAxNF"
      },
      "source": [
        "It contains `values`, which is an array."
      ]
    },
    {
      "cell_type": "code",
      "metadata": {
        "colab": {
          "base_uri": "https://localhost:8080/"
        },
        "id": "WXxpv3FNAxNF",
        "outputId": "9268120c-8c2d-447d-a0d4-d41dac88854c"
      },
      "source": [
        "census.values"
      ],
      "execution_count": 10,
      "outputs": [
        {
          "output_type": "execute_result",
          "data": {
            "text/plain": [
              "array([2.55762865, 2.59493988, 2.63677231, 2.68205339, 2.7302281 ,\n",
              "       2.78209894, 2.83529967, 2.89134972, 2.94813725, 3.00071659,\n",
              "       3.04300151, 3.08396693, 3.14009322, 3.20982788, 3.28120131,\n",
              "       3.35042579, 3.42067792, 3.49033371, 3.56231382, 3.63715905,\n",
              "       3.71269774, 3.79032695, 3.86656865, 3.94209644, 4.01660881,\n",
              "       4.08908323, 4.16018501, 4.23208458, 4.30410575, 4.37901394,\n",
              "       4.45136274, 4.53441012, 4.61456656, 4.69573674, 4.77456939,\n",
              "       4.8564627 , 4.94057123, 5.02720049, 5.11455717, 5.20144011,\n",
              "       5.28895593, 5.37158592, 5.45613628, 5.53826832, 5.61868213,\n",
              "       5.69920299, 5.77944059, 5.85797254, 5.93521325, 6.01207492,\n",
              "       6.08857138, 6.16521925, 6.24201635, 6.31859096, 6.39569951,\n",
              "       6.47304473, 6.55126353, 6.62991376, 6.70904978, 6.78821439,\n",
              "       6.85858475, 6.93599949, 7.01387131, 7.09212809, 7.16996819,\n",
              "       7.24789279, 7.32599671])"
            ]
          },
          "metadata": {
            "tags": []
          },
          "execution_count": 10
        }
      ]
    },
    {
      "cell_type": "markdown",
      "metadata": {
        "id": "KefQhVf_AxNG"
      },
      "source": [
        "And it contains `index`:"
      ]
    },
    {
      "cell_type": "code",
      "metadata": {
        "colab": {
          "base_uri": "https://localhost:8080/"
        },
        "id": "PfeHe89QAxNG",
        "outputId": "3e7bcbc7-7c40-42b2-f41c-491b7b2fdcc7"
      },
      "source": [
        "census.index"
      ],
      "execution_count": 11,
      "outputs": [
        {
          "output_type": "execute_result",
          "data": {
            "text/plain": [
              "Int64Index([1950, 1951, 1952, 1953, 1954, 1955, 1956, 1957, 1958, 1959, 1960,\n",
              "            1961, 1962, 1963, 1964, 1965, 1966, 1967, 1968, 1969, 1970, 1971,\n",
              "            1972, 1973, 1974, 1975, 1976, 1977, 1978, 1979, 1980, 1981, 1982,\n",
              "            1983, 1984, 1985, 1986, 1987, 1988, 1989, 1990, 1991, 1992, 1993,\n",
              "            1994, 1995, 1996, 1997, 1998, 1999, 2000, 2001, 2002, 2003, 2004,\n",
              "            2005, 2006, 2007, 2008, 2009, 2010, 2011, 2012, 2013, 2014, 2015,\n",
              "            2016],\n",
              "           dtype='int64', name='Year')"
            ]
          },
          "metadata": {
            "tags": []
          },
          "execution_count": 11
        }
      ]
    },
    {
      "cell_type": "markdown",
      "metadata": {
        "id": "YpTdgmFIAxNH"
      },
      "source": [
        "If you ever wonder what kind of object a variable refers to, you can use the `type` function.  The result indicates what type the object is, and the module where that type is defined.\n",
        "\n",
        "`DataFrame`, `Int64Index`, `Index`, and `Series` are defined by Pandas.\n",
        "\n",
        "`ndarray` is defined by NumPy."
      ]
    },
    {
      "cell_type": "code",
      "metadata": {
        "colab": {
          "base_uri": "https://localhost:8080/"
        },
        "id": "a4IW2D7QAxNI",
        "outputId": "67f3b2a5-7ff1-4536-ee5d-a1c3ba056e5d"
      },
      "source": [
        "type(table2)"
      ],
      "execution_count": 12,
      "outputs": [
        {
          "output_type": "execute_result",
          "data": {
            "text/plain": [
              "pandas.core.frame.DataFrame"
            ]
          },
          "metadata": {
            "tags": []
          },
          "execution_count": 12
        }
      ]
    },
    {
      "cell_type": "code",
      "metadata": {
        "colab": {
          "base_uri": "https://localhost:8080/"
        },
        "id": "L0cMiUmhAxNI",
        "outputId": "233c98fd-e8ed-43d0-fdac-e348c183a78f"
      },
      "source": [
        "type(table2.index)"
      ],
      "execution_count": 13,
      "outputs": [
        {
          "output_type": "execute_result",
          "data": {
            "text/plain": [
              "pandas.core.indexes.numeric.Int64Index"
            ]
          },
          "metadata": {
            "tags": []
          },
          "execution_count": 13
        }
      ]
    },
    {
      "cell_type": "code",
      "metadata": {
        "colab": {
          "base_uri": "https://localhost:8080/"
        },
        "id": "DjFqTdohAxNJ",
        "outputId": "70540a2a-1b3f-4376-e0c1-d4da53e15ec3"
      },
      "source": [
        "type(table2.columns)"
      ],
      "execution_count": 14,
      "outputs": [
        {
          "output_type": "execute_result",
          "data": {
            "text/plain": [
              "pandas.core.indexes.base.Index"
            ]
          },
          "metadata": {
            "tags": []
          },
          "execution_count": 14
        }
      ]
    },
    {
      "cell_type": "code",
      "metadata": {
        "colab": {
          "base_uri": "https://localhost:8080/"
        },
        "id": "BYSxOlSwAxNJ",
        "outputId": "c2cd0d3e-5a49-44ab-c3ed-6758fe6d3e13"
      },
      "source": [
        "type(table2.values)"
      ],
      "execution_count": 15,
      "outputs": [
        {
          "output_type": "execute_result",
          "data": {
            "text/plain": [
              "numpy.ndarray"
            ]
          },
          "metadata": {
            "tags": []
          },
          "execution_count": 15
        }
      ]
    },
    {
      "cell_type": "code",
      "metadata": {
        "colab": {
          "base_uri": "https://localhost:8080/"
        },
        "id": "F9LKVAYCAxNK",
        "outputId": "a728dcb2-4797-437f-abe0-7da6197dc945"
      },
      "source": [
        "type(census)"
      ],
      "execution_count": 16,
      "outputs": [
        {
          "output_type": "execute_result",
          "data": {
            "text/plain": [
              "pandas.core.series.Series"
            ]
          },
          "metadata": {
            "tags": []
          },
          "execution_count": 16
        }
      ]
    },
    {
      "cell_type": "code",
      "metadata": {
        "colab": {
          "base_uri": "https://localhost:8080/"
        },
        "id": "AIRIFp_xAxNK",
        "outputId": "b0212c44-7200-4f27-b6e7-e8bf69f32001"
      },
      "source": [
        "type(census.index)"
      ],
      "execution_count": 17,
      "outputs": [
        {
          "output_type": "execute_result",
          "data": {
            "text/plain": [
              "pandas.core.indexes.numeric.Int64Index"
            ]
          },
          "metadata": {
            "tags": []
          },
          "execution_count": 17
        }
      ]
    },
    {
      "cell_type": "code",
      "metadata": {
        "scrolled": true,
        "colab": {
          "base_uri": "https://localhost:8080/"
        },
        "id": "y56TDLc0AxNK",
        "outputId": "a56e317c-6a8e-4c74-c947-6fceebbe26b6"
      },
      "source": [
        "type(census.values)"
      ],
      "execution_count": 18,
      "outputs": [
        {
          "output_type": "execute_result",
          "data": {
            "text/plain": [
              "numpy.ndarray"
            ]
          },
          "metadata": {
            "tags": []
          },
          "execution_count": 18
        }
      ]
    },
    {
      "cell_type": "markdown",
      "metadata": {
        "id": "vH_tp9CVAxNL"
      },
      "source": [
        "## Optional exercise\n",
        "\n",
        "The following exercise provides a chance to practice what you have learned so far, and maybe develop a different growth model.  If you feel comfortable with what we have done so far, you might want to give it a try.\n",
        "\n",
        "**Optional Exercise:** On the Wikipedia page about world population estimates, the first table contains estimates for prehistoric populations.  The following cells process this table and plot some of the results."
      ]
    },
    {
      "cell_type": "code",
      "metadata": {
        "colab": {
          "base_uri": "https://localhost:8080/"
        },
        "id": "lBIn7euoAxNL",
        "outputId": "71ce6e33-dc43-467b-a401-0616f61b224e"
      },
      "source": [
        "filename = 'World_population_estimates.html'\n",
        "tables = read_html(filename, header=0, index_col=0, decimal='M')\n",
        "len(tables)"
      ],
      "execution_count": 19,
      "outputs": [
        {
          "output_type": "execute_result",
          "data": {
            "text/plain": [
              "6"
            ]
          },
          "metadata": {
            "tags": []
          },
          "execution_count": 19
        }
      ]
    },
    {
      "cell_type": "markdown",
      "metadata": {
        "id": "1Y-f6ca7AxNL"
      },
      "source": [
        "Select `tables[1]`, which is the second table on the page."
      ]
    },
    {
      "cell_type": "code",
      "metadata": {
        "colab": {
          "base_uri": "https://localhost:8080/",
          "height": 289
        },
        "id": "NOVFpJXhAxNL",
        "outputId": "c7adc2da-6477-4675-ca63-ab8140622619"
      },
      "source": [
        "table1 = tables[1]\n",
        "table1.head()"
      ],
      "execution_count": 20,
      "outputs": [
        {
          "output_type": "execute_result",
          "data": {
            "text/html": [
              "<div>\n",
              "<style scoped>\n",
              "    .dataframe tbody tr th:only-of-type {\n",
              "        vertical-align: middle;\n",
              "    }\n",
              "\n",
              "    .dataframe tbody tr th {\n",
              "        vertical-align: top;\n",
              "    }\n",
              "\n",
              "    .dataframe thead th {\n",
              "        text-align: right;\n",
              "    }\n",
              "</style>\n",
              "<table border=\"1\" class=\"dataframe\">\n",
              "  <thead>\n",
              "    <tr style=\"text-align: right;\">\n",
              "      <th></th>\n",
              "      <th>Population Reference Bureau (1973–2016)[15]</th>\n",
              "      <th>United Nations Department of Economic and Social Affairs (2015)[16]</th>\n",
              "      <th>Maddison (2008)[17]</th>\n",
              "      <th>HYDE (2010)[citation needed]</th>\n",
              "      <th>Tanton (1994)[18]</th>\n",
              "      <th>Biraben (1980)[19]</th>\n",
              "      <th>McEvedy &amp; Jones (1978)[20]</th>\n",
              "      <th>Thomlinson (1975)[21]</th>\n",
              "      <th>Durand (1974)[22]</th>\n",
              "      <th>Clark (1967)[23]</th>\n",
              "    </tr>\n",
              "    <tr>\n",
              "      <th>Year</th>\n",
              "      <th></th>\n",
              "      <th></th>\n",
              "      <th></th>\n",
              "      <th></th>\n",
              "      <th></th>\n",
              "      <th></th>\n",
              "      <th></th>\n",
              "      <th></th>\n",
              "      <th></th>\n",
              "      <th></th>\n",
              "    </tr>\n",
              "  </thead>\n",
              "  <tbody>\n",
              "    <tr>\n",
              "      <th>-10000</th>\n",
              "      <td>NaN</td>\n",
              "      <td>NaN</td>\n",
              "      <td>NaN</td>\n",
              "      <td>2M[24]</td>\n",
              "      <td>NaN</td>\n",
              "      <td>NaN</td>\n",
              "      <td>4.0</td>\n",
              "      <td>1–10M</td>\n",
              "      <td>NaN</td>\n",
              "      <td>NaN</td>\n",
              "    </tr>\n",
              "    <tr>\n",
              "      <th>-9000</th>\n",
              "      <td>NaN</td>\n",
              "      <td>NaN</td>\n",
              "      <td>NaN</td>\n",
              "      <td>4.</td>\n",
              "      <td>NaN</td>\n",
              "      <td>NaN</td>\n",
              "      <td>NaN</td>\n",
              "      <td>NaN</td>\n",
              "      <td>NaN</td>\n",
              "      <td>NaN</td>\n",
              "    </tr>\n",
              "    <tr>\n",
              "      <th>-8000</th>\n",
              "      <td>5.</td>\n",
              "      <td>NaN</td>\n",
              "      <td>NaN</td>\n",
              "      <td>5.</td>\n",
              "      <td>NaN</td>\n",
              "      <td>NaN</td>\n",
              "      <td>NaN</td>\n",
              "      <td>NaN</td>\n",
              "      <td>5–10M</td>\n",
              "      <td>NaN</td>\n",
              "    </tr>\n",
              "    <tr>\n",
              "      <th>-7000</th>\n",
              "      <td>NaN</td>\n",
              "      <td>NaN</td>\n",
              "      <td>NaN</td>\n",
              "      <td>8.</td>\n",
              "      <td>NaN</td>\n",
              "      <td>NaN</td>\n",
              "      <td>NaN</td>\n",
              "      <td>NaN</td>\n",
              "      <td>NaN</td>\n",
              "      <td>NaN</td>\n",
              "    </tr>\n",
              "    <tr>\n",
              "      <th>-6000</th>\n",
              "      <td>NaN</td>\n",
              "      <td>NaN</td>\n",
              "      <td>NaN</td>\n",
              "      <td>11.</td>\n",
              "      <td>NaN</td>\n",
              "      <td>NaN</td>\n",
              "      <td>NaN</td>\n",
              "      <td>NaN</td>\n",
              "      <td>NaN</td>\n",
              "      <td>NaN</td>\n",
              "    </tr>\n",
              "  </tbody>\n",
              "</table>\n",
              "</div>"
            ],
            "text/plain": [
              "       Population Reference Bureau (1973–2016)[15]  ...  Clark (1967)[23]\n",
              "Year                                                ...                  \n",
              "-10000                                         NaN  ...               NaN\n",
              "-9000                                          NaN  ...               NaN\n",
              "-8000                                           5.  ...               NaN\n",
              "-7000                                          NaN  ...               NaN\n",
              "-6000                                          NaN  ...               NaN\n",
              "\n",
              "[5 rows x 10 columns]"
            ]
          },
          "metadata": {
            "tags": []
          },
          "execution_count": 20
        }
      ]
    },
    {
      "cell_type": "markdown",
      "metadata": {
        "id": "LqrMxrdeAxNM"
      },
      "source": [
        "Not all agencies and researchers provided estimates for the same dates.  Again `NaN` is the special value that indicates missing data."
      ]
    },
    {
      "cell_type": "code",
      "metadata": {
        "colab": {
          "base_uri": "https://localhost:8080/",
          "height": 289
        },
        "id": "EGXdJvWDAxNN",
        "outputId": "bf7be506-26a2-4085-8d72-8954ef70e6ad"
      },
      "source": [
        "table1.tail()"
      ],
      "execution_count": 21,
      "outputs": [
        {
          "output_type": "execute_result",
          "data": {
            "text/html": [
              "<div>\n",
              "<style scoped>\n",
              "    .dataframe tbody tr th:only-of-type {\n",
              "        vertical-align: middle;\n",
              "    }\n",
              "\n",
              "    .dataframe tbody tr th {\n",
              "        vertical-align: top;\n",
              "    }\n",
              "\n",
              "    .dataframe thead th {\n",
              "        text-align: right;\n",
              "    }\n",
              "</style>\n",
              "<table border=\"1\" class=\"dataframe\">\n",
              "  <thead>\n",
              "    <tr style=\"text-align: right;\">\n",
              "      <th></th>\n",
              "      <th>Population Reference Bureau (1973–2016)[15]</th>\n",
              "      <th>United Nations Department of Economic and Social Affairs (2015)[16]</th>\n",
              "      <th>Maddison (2008)[17]</th>\n",
              "      <th>HYDE (2010)[citation needed]</th>\n",
              "      <th>Tanton (1994)[18]</th>\n",
              "      <th>Biraben (1980)[19]</th>\n",
              "      <th>McEvedy &amp; Jones (1978)[20]</th>\n",
              "      <th>Thomlinson (1975)[21]</th>\n",
              "      <th>Durand (1974)[22]</th>\n",
              "      <th>Clark (1967)[23]</th>\n",
              "    </tr>\n",
              "    <tr>\n",
              "      <th>Year</th>\n",
              "      <th></th>\n",
              "      <th></th>\n",
              "      <th></th>\n",
              "      <th></th>\n",
              "      <th></th>\n",
              "      <th></th>\n",
              "      <th></th>\n",
              "      <th></th>\n",
              "      <th></th>\n",
              "      <th></th>\n",
              "    </tr>\n",
              "  </thead>\n",
              "  <tbody>\n",
              "    <tr>\n",
              "      <th>1913</th>\n",
              "      <td>NaN</td>\n",
              "      <td>NaN</td>\n",
              "      <td>1793.</td>\n",
              "      <td>NaN</td>\n",
              "      <td>NaN</td>\n",
              "      <td>NaN</td>\n",
              "      <td>NaN</td>\n",
              "      <td>NaN</td>\n",
              "      <td>NaN</td>\n",
              "      <td>NaN</td>\n",
              "    </tr>\n",
              "    <tr>\n",
              "      <th>1920</th>\n",
              "      <td>NaN</td>\n",
              "      <td>1860.0</td>\n",
              "      <td>1863.</td>\n",
              "      <td>1912.</td>\n",
              "      <td>NaN</td>\n",
              "      <td>NaN</td>\n",
              "      <td>NaN</td>\n",
              "      <td>NaN</td>\n",
              "      <td>NaN</td>\n",
              "      <td>1968.</td>\n",
              "    </tr>\n",
              "    <tr>\n",
              "      <th>1925</th>\n",
              "      <td>NaN</td>\n",
              "      <td>NaN</td>\n",
              "      <td>NaN</td>\n",
              "      <td>NaN</td>\n",
              "      <td>NaN</td>\n",
              "      <td>NaN</td>\n",
              "      <td>2000.0</td>\n",
              "      <td>NaN</td>\n",
              "      <td>NaN</td>\n",
              "      <td>NaN</td>\n",
              "    </tr>\n",
              "    <tr>\n",
              "      <th>1930</th>\n",
              "      <td>NaN</td>\n",
              "      <td>2070.0</td>\n",
              "      <td>NaN</td>\n",
              "      <td>2092.</td>\n",
              "      <td>NaN</td>\n",
              "      <td>NaN</td>\n",
              "      <td>NaN</td>\n",
              "      <td>NaN</td>\n",
              "      <td>NaN</td>\n",
              "      <td>2145.</td>\n",
              "    </tr>\n",
              "    <tr>\n",
              "      <th>1940</th>\n",
              "      <td>NaN</td>\n",
              "      <td>2300.0</td>\n",
              "      <td>2299.</td>\n",
              "      <td>2307.</td>\n",
              "      <td>NaN</td>\n",
              "      <td>NaN</td>\n",
              "      <td>NaN</td>\n",
              "      <td>NaN</td>\n",
              "      <td>NaN</td>\n",
              "      <td>2340.</td>\n",
              "    </tr>\n",
              "  </tbody>\n",
              "</table>\n",
              "</div>"
            ],
            "text/plain": [
              "     Population Reference Bureau (1973–2016)[15]  ...  Clark (1967)[23]\n",
              "Year                                              ...                  \n",
              "1913                                         NaN  ...               NaN\n",
              "1920                                         NaN  ...             1968.\n",
              "1925                                         NaN  ...               NaN\n",
              "1930                                         NaN  ...             2145.\n",
              "1940                                         NaN  ...             2340.\n",
              "\n",
              "[5 rows x 10 columns]"
            ]
          },
          "metadata": {
            "tags": []
          },
          "execution_count": 21
        }
      ]
    },
    {
      "cell_type": "markdown",
      "metadata": {
        "id": "JlE3PrKYAxNN"
      },
      "source": [
        "Again, we'll replace the long column names with more convenient abbreviations."
      ]
    },
    {
      "cell_type": "code",
      "metadata": {
        "id": "IGCVsA2hAxNO"
      },
      "source": [
        "table1.columns = ['PRB', 'UN', 'Maddison', 'HYDE', 'Tanton', \n",
        "                  'Biraben', 'McEvedy & Jones', 'Thomlinson', 'Durand', 'Clark']"
      ],
      "execution_count": 22,
      "outputs": []
    },
    {
      "cell_type": "markdown",
      "metadata": {
        "id": "Qe2YJ8zGAxNO"
      },
      "source": [
        "Some of the estimates are in a form Pandas doesn't recognize as numbers, but we can coerce them to be numeric."
      ]
    },
    {
      "cell_type": "code",
      "metadata": {
        "id": "Csf9ox_gAxNP"
      },
      "source": [
        "for col in table1.columns:\n",
        "    table1[col] = pd.to_numeric(table1[col], errors='coerce')"
      ],
      "execution_count": 23,
      "outputs": []
    },
    {
      "cell_type": "markdown",
      "metadata": {
        "id": "3pnlYRx-AxNP"
      },
      "source": [
        "Here are the results.  Notice that we are working in millions now, not billions."
      ]
    },
    {
      "cell_type": "code",
      "metadata": {
        "scrolled": false,
        "colab": {
          "base_uri": "https://localhost:8080/",
          "height": 297
        },
        "id": "DgG-2EQgAxNQ",
        "outputId": "f9ab9e94-9825-455d-c82c-9a0b89e1e01a"
      },
      "source": [
        "table1.plot()\n",
        "decorate(xlim=[-10000, 2000], xlabel='Year', \n",
        "         ylabel='World population (millions)',\n",
        "         title='Prehistoric population estimates')\n",
        "plt.legend(fontsize='small');"
      ],
      "execution_count": 24,
      "outputs": [
        {
          "output_type": "display_data",
          "data": {
            "image/png": "[encoded data removed]",
            "text/plain": [
              "<Figure size 432x288 with 1 Axes>"
            ]
          },
          "metadata": {
            "tags": [],
            "needs_background": "light"
          }
        }
      ]
    },
    {
      "cell_type": "markdown",
      "metadata": {
        "id": "TQJ59zkuAxNQ"
      },
      "source": [
        "We can use `xlim` to zoom in on everything after Year 0."
      ]
    },
    {
      "cell_type": "code",
      "metadata": {
        "colab": {
          "base_uri": "https://localhost:8080/",
          "height": 297
        },
        "id": "YCEtQ-D1AxNR",
        "outputId": "3c8f40ae-2699-4b65-ba9c-a82bf48f036a"
      },
      "source": [
        "table1.plot()\n",
        "decorate(xlim=[0, 2000], xlabel='Year', \n",
        "         ylabel='World population (millions)',\n",
        "         title='CE population estimates')\n",
        "plt.legend(fontsize='small');"
      ],
      "execution_count": 25,
      "outputs": [
        {
          "output_type": "display_data",
          "data": {
            "image/png": "[encoded data removed]",
            "text/plain": [
              "<Figure size 432x288 with 1 Axes>"
            ]
          },
          "metadata": {
            "tags": [],
            "needs_background": "light"
          }
        }
      ]
    },
    {
      "cell_type": "markdown",
      "metadata": {
        "id": "3iPtJopUVuL4"
      },
      "source": [
        "See if you can find a model that fits these data well from Year 0 to 1950.\n",
        "\n",
        "How well does your best model predict actual population growth from 1950 to the present?"
      ]
    },
    {
      "cell_type": "code",
      "metadata": {
        "colab": {
          "base_uri": "https://localhost:8080/"
        },
        "id": "f33p0wcLAxNS",
        "outputId": "6837730c-1daa-49c6-d551-d377294d1f83"
      },
      "source": [
        "\n",
        "def update_func_quad(pop, t, system):\n",
        "    \"\"\"Update population based on a quadratic model.\n",
        "    \n",
        "    pop: current population in billions\n",
        "    t: what year it is\n",
        "    system: system object with model parameters\n",
        "    \"\"\"\n",
        "    #net_growth = system.r * pop*(1-pop/system.K)\n",
        "    #net_growth = system.alpha * pop + system.beta * pop**2\n",
        "    net_growth = system.alpha * pop\n",
        "    return pop + net_growth\n",
        "\n",
        "\n",
        "def run_simulation(system, update_func):\n",
        "    \"\"\"Simulate the system using any update function.\n",
        "    \n",
        "    system: System object\n",
        "    update_func: function that computes the population next year\n",
        "    \n",
        "    returns: TimeSeries\n",
        "    \"\"\"\n",
        "    results = TimeSeries()\n",
        "    results[system.t_0] = system.p_0\n",
        "    \n",
        "    for t in linrange(system.t_0, system.t_end):\n",
        "        results[t+1] = update_func(results[t], t, system)\n",
        "        \n",
        "    return results\n",
        "\n",
        "hyde=table1.HYDE.dropna()\n",
        "t_0 = hyde.index[0]\n",
        "p_0 = hyde[t_0]\n",
        "print(t_0, p_0)\n",
        "t_end = hyde.index[-1]\n",
        "\n"
      ],
      "execution_count": 109,
      "outputs": [
        {
          "output_type": "stream",
          "text": [
            "-9000 4.0\n"
          ],
          "name": "stdout"
        }
      ]
    },
    {
      "cell_type": "code",
      "metadata": {
        "colab": {
          "base_uri": "https://localhost:8080/",
          "height": 297
        },
        "id": "-vAxK5XSWbu-",
        "outputId": "69b395d4-2c0e-4564-e64a-4411abb1f4f1"
      },
      "source": [
        "system1 = System(t_0=t_0, \n",
        "                t_end=t_end,\n",
        "                p_0=p_0)\n",
        "system1.alpha=0.0004\n",
        "system1.beta=-0.018\n",
        "#system1.r=alpha\n",
        "#system1.K=-alpha/beta\n",
        "\n",
        "results1 = run_simulation(system1, update_func_quad)\n",
        "\n",
        "table1.plot()\n",
        "plot(results1, ':', label='Models')\n",
        "\n",
        "decorate(xlim=[-9000, 2021], xlabel='Year', \n",
        "         ylabel='World population (millions)',\n",
        "         title='CE population estimates')\n",
        "plt.legend(fontsize='small');\n"
      ],
      "execution_count": 147,
      "outputs": [
        {
          "output_type": "display_data",
          "data": {
            "image/png": "[encoded data removed]",
            "text/plain": [
              "<Figure size 432x288 with 1 Axes>"
            ]
          },
          "metadata": {
            "tags": [],
            "needs_background": "light"
          }
        }
      ]
    },
    {
      "cell_type": "markdown",
      "metadata": {
        "id": "qfHXxeqJrweP"
      },
      "source": [
        "A proportional model is used above and it looks fine for the first 11000 years until somewhere around 1000. The population growth exponentially and the model cannot \"catch up\"."
      ]
    },
    {
      "cell_type": "code",
      "metadata": {
        "colab": {
          "base_uri": "https://localhost:8080/",
          "height": 423
        },
        "id": "gTBZ1LbYAxNT",
        "outputId": "685ea719-58b4-4468-97e1-23337ef1f526"
      },
      "source": [
        "results1"
      ],
      "execution_count": 148,
      "outputs": [
        {
          "output_type": "execute_result",
          "data": {
            "text/html": [
              "<div>\n",
              "<style scoped>\n",
              "    .dataframe tbody tr th:only-of-type {\n",
              "        vertical-align: middle;\n",
              "    }\n",
              "\n",
              "    .dataframe tbody tr th {\n",
              "        vertical-align: top;\n",
              "    }\n",
              "\n",
              "    .dataframe thead th {\n",
              "        text-align: right;\n",
              "    }\n",
              "</style>\n",
              "<table border=\"1\" class=\"dataframe\">\n",
              "  <thead>\n",
              "    <tr style=\"text-align: right;\">\n",
              "      <th></th>\n",
              "      <th>values</th>\n",
              "    </tr>\n",
              "  </thead>\n",
              "  <tbody>\n",
              "    <tr>\n",
              "      <th>-9000</th>\n",
              "      <td>4.000000</td>\n",
              "    </tr>\n",
              "    <tr>\n",
              "      <th>-8999</th>\n",
              "      <td>4.001600</td>\n",
              "    </tr>\n",
              "    <tr>\n",
              "      <th>-8998</th>\n",
              "      <td>4.003201</td>\n",
              "    </tr>\n",
              "    <tr>\n",
              "      <th>-8997</th>\n",
              "      <td>4.004802</td>\n",
              "    </tr>\n",
              "    <tr>\n",
              "      <th>-8996</th>\n",
              "      <td>4.006404</td>\n",
              "    </tr>\n",
              "    <tr>\n",
              "      <th>...</th>\n",
              "      <td>...</td>\n",
              "    </tr>\n",
              "    <tr>\n",
              "      <th>1936</th>\n",
              "      <td>317.291121</td>\n",
              "    </tr>\n",
              "    <tr>\n",
              "      <th>1937</th>\n",
              "      <td>317.418037</td>\n",
              "    </tr>\n",
              "    <tr>\n",
              "      <th>1938</th>\n",
              "      <td>317.545004</td>\n",
              "    </tr>\n",
              "    <tr>\n",
              "      <th>1939</th>\n",
              "      <td>317.672022</td>\n",
              "    </tr>\n",
              "    <tr>\n",
              "      <th>1940</th>\n",
              "      <td>317.799091</td>\n",
              "    </tr>\n",
              "  </tbody>\n",
              "</table>\n",
              "<p>10941 rows × 1 columns</p>\n",
              "</div>"
            ],
            "text/plain": [
              "-9000      4.000000\n",
              "-8999      4.001600\n",
              "-8998      4.003201\n",
              "-8997      4.004802\n",
              "-8996      4.006404\n",
              "            ...    \n",
              " 1936    317.291121\n",
              " 1937    317.418037\n",
              " 1938    317.545004\n",
              " 1939    317.672022\n",
              " 1940    317.799091\n",
              "Length: 10941, dtype: float64"
            ]
          },
          "metadata": {
            "tags": []
          },
          "execution_count": 148
        }
      ]
    },
    {
      "cell_type": "code",
      "metadata": {
        "id": "QxUS8Vn6AxNX"
      },
      "source": [
        ""
      ],
      "execution_count": 28,
      "outputs": []
    }
  ]
}