{
  "nbformat": 4,
  "nbformat_minor": 0,
  "metadata": {
    "kernelspec": {
      "display_name": "Python 3",
      "language": "python",
      "name": "python3"
    },
    "language_info": {
      "codemirror_mode": {
        "name": "ipython",
        "version": 3
      },
      "file_extension": ".py",
      "mimetype": "text/x-python",
      "name": "python",
      "nbconvert_exporter": "python",
      "pygments_lexer": "ipython3",
      "version": "3.7.9"
    },
    "colab": {
      "name": "chap06.ipynb",
      "provenance": []
    }
  },
  "cells": [
    {
      "cell_type": "markdown",
      "metadata": {
        "id": "_QjCrl6Ow5so"
      },
      "source": [
        "# Chapter 6"
      ]
    },
    {
      "cell_type": "markdown",
      "metadata": {
        "tags": [],
        "id": "YKlzrRYYw5sq"
      },
      "source": [
        "*Modeling and Simulation in Python* Edit by Chun Yip 14 June 2021\n",
        "\n",
        "Copyright 2021 Allen Downey\n",
        "\n",
        "License: [Creative Commons Attribution-NonCommercial-ShareAlike 4.0 International](https://creativecommons.org/licenses/by-nc-sa/4.0/)"
      ]
    },
    {
      "cell_type": "code",
      "metadata": {
        "tags": [],
        "id": "2fPI2e00w5st",
        "outputId": "af018fb9-91d5-4fc9-acf6-1c593749c210",
        "colab": {
          "base_uri": "https://localhost:8080/"
        }
      },
      "source": [
        "# check if the libraries we need are installed\n",
        "\n",
        "try:\n",
        "    import pint\n",
        "except ImportError:\n",
        "    !pip install pint\n",
        "    import pint\n",
        "    \n",
        "try:\n",
        "    from modsim import *\n",
        "except ImportError:\n",
        "    !pip install modsimpy\n",
        "    from modsim import *"
      ],
      "execution_count": 1,
      "outputs": [
        {
          "output_type": "stream",
          "text": [
            "Collecting pint\n",
            "\u001b[?25l  Downloading https://files.pythonhosted.org/packages/33/de/53a77b82553579affab7438d299f850acbc1c4dd741c5ce52594513cb0ef/Pint-0.17-py2.py3-none-any.whl (204kB)\n",
            "\r\u001b[K     |█▋                              | 10kB 17.8MB/s eta 0:00:01\r\u001b[K     |███▏                            | 20kB 21.5MB/s eta 0:00:01\r\u001b[K     |████▉                           | 30kB 15.7MB/s eta 0:00:01\r\u001b[K     |██████▍                         | 40kB 14.0MB/s eta 0:00:01\r\u001b[K     |████████                        | 51kB 9.3MB/s eta 0:00:01\r\u001b[K     |█████████▋                      | 61kB 10.7MB/s eta 0:00:01\r\u001b[K     |███████████▏                    | 71kB 9.9MB/s eta 0:00:01\r\u001b[K     |████████████▉                   | 81kB 10.8MB/s eta 0:00:01\r\u001b[K     |██████████████▍                 | 92kB 10.0MB/s eta 0:00:01\r\u001b[K     |████████████████                | 102kB 8.7MB/s eta 0:00:01\r\u001b[K     |█████████████████▋              | 112kB 8.7MB/s eta 0:00:01\r\u001b[K     |███████████████████▏            | 122kB 8.7MB/s eta 0:00:01\r\u001b[K     |████████████████████▉           | 133kB 8.7MB/s eta 0:00:01\r\u001b[K     |██████████████████████▍         | 143kB 8.7MB/s eta 0:00:01\r\u001b[K     |████████████████████████        | 153kB 8.7MB/s eta 0:00:01\r\u001b[K     |█████████████████████████▋      | 163kB 8.7MB/s eta 0:00:01\r\u001b[K     |███████████████████████████▏    | 174kB 8.7MB/s eta 0:00:01\r\u001b[K     |████████████████████████████▊   | 184kB 8.7MB/s eta 0:00:01\r\u001b[K     |██████████████████████████████▍ | 194kB 8.7MB/s eta 0:00:01\r\u001b[K     |████████████████████████████████| 204kB 8.7MB/s eta 0:00:01\r\u001b[K     |████████████████████████████████| 215kB 8.7MB/s \n",
            "\u001b[?25hRequirement already satisfied: importlib-metadata; python_version < \"3.8\" in /usr/local/lib/python3.7/dist-packages (from pint) (4.5.0)\n",
            "Requirement already satisfied: packaging in /usr/local/lib/python3.7/dist-packages (from pint) (20.9)\n",
            "Requirement already satisfied: typing-extensions>=3.6.4; python_version < \"3.8\" in /usr/local/lib/python3.7/dist-packages (from importlib-metadata; python_version < \"3.8\"->pint) (3.7.4.3)\n",
            "Requirement already satisfied: zipp>=0.5 in /usr/local/lib/python3.7/dist-packages (from importlib-metadata; python_version < \"3.8\"->pint) (3.4.1)\n",
            "Requirement already satisfied: pyparsing>=2.0.2 in /usr/local/lib/python3.7/dist-packages (from packaging->pint) (2.4.7)\n",
            "Installing collected packages: pint\n",
            "Successfully installed pint-0.17\n",
            "Collecting modsimpy\n",
            "  Downloading https://files.pythonhosted.org/packages/ee/ef/c170df0ee5311cda90a10fc71d1610b9a1cb2241fadbf04bf0f57ff161e9/modsimpy-1.1.3.tar.gz\n",
            "Building wheels for collected packages: modsimpy\n",
            "  Building wheel for modsimpy (setup.py) ... \u001b[?25l\u001b[?25hdone\n",
            "  Created wheel for modsimpy: filename=modsimpy-1.1.3-cp37-none-any.whl size=20356 sha256=2206c208201184d4481d86a048229845bdbc4ae6b7a775f7ab8924c22aa5b1b4\n",
            "  Stored in directory: /root/.cache/pip/wheels/59/34/ac/e82f103fbfb5d961b1a4d2b8e89bb6629a4c0b242e5373cbfa\n",
            "Successfully built modsimpy\n",
            "Installing collected packages: modsimpy\n",
            "Successfully installed modsimpy-1.1.3\n"
          ],
          "name": "stdout"
        }
      ]
    },
    {
      "cell_type": "markdown",
      "metadata": {
        "id": "UJk2GcnRw5su"
      },
      "source": [
        "### Code from the previous chapter\n",
        "\n"
      ]
    },
    {
      "cell_type": "code",
      "metadata": {
        "id": "uR7-Ffuww5sv"
      },
      "source": [
        "import os\n",
        "\n",
        "filename = 'World_population_estimates.html'\n",
        "\n",
        "if not os.path.exists(filename):\n",
        "    !wget https://raw.githubusercontent.com/AllenDowney/ModSimPy/master/data/World_population_estimates.html"
      ],
      "execution_count": null,
      "outputs": []
    },
    {
      "cell_type": "code",
      "metadata": {
        "id": "IM0iHBymw5sw"
      },
      "source": [
        "from pandas import read_html\n",
        "\n",
        "tables = read_html(filename, header=0, index_col=0, decimal='M')\n",
        "table2 = tables[2]\n",
        "table2.columns = ['census', 'prb', 'un', 'maddison', \n",
        "                  'hyde', 'tanton', 'biraben', 'mj', \n",
        "                  'thomlinson', 'durand', 'clark']"
      ],
      "execution_count": null,
      "outputs": []
    },
    {
      "cell_type": "code",
      "metadata": {
        "id": "j3Im3XoJw5sx"
      },
      "source": [
        "un = table2.un / 1e9\n",
        "un.head()"
      ],
      "execution_count": null,
      "outputs": []
    },
    {
      "cell_type": "code",
      "metadata": {
        "id": "djuU-Uolw5s2"
      },
      "source": [
        "census = table2.census / 1e9\n",
        "census.head()"
      ],
      "execution_count": null,
      "outputs": []
    },
    {
      "cell_type": "code",
      "metadata": {
        "id": "EtlCiYRJw5s4"
      },
      "source": [
        "t_0 = get_first_label(census)\n",
        "t_end = get_last_label(census)\n",
        "elapsed_time = t_end - t_0\n",
        "\n",
        "p_0 = get_first_value(census)\n",
        "p_end = get_last_value(census)\n",
        "total_growth = p_end - p_0\n",
        "\n",
        "annual_growth = total_growth / elapsed_time"
      ],
      "execution_count": null,
      "outputs": []
    },
    {
      "cell_type": "markdown",
      "metadata": {
        "id": "WevMteN2w5s6"
      },
      "source": [
        "### System objects"
      ]
    },
    {
      "cell_type": "markdown",
      "metadata": {
        "id": "smFTtXACw5s8"
      },
      "source": [
        "We can rewrite the code from the previous chapter using system objects."
      ]
    },
    {
      "cell_type": "code",
      "metadata": {
        "id": "WMa4ffXKw5s8"
      },
      "source": [
        "system = System(t_0=t_0, \n",
        "                t_end=t_end,\n",
        "                p_0=p_0,\n",
        "                annual_growth=annual_growth)"
      ],
      "execution_count": null,
      "outputs": []
    },
    {
      "cell_type": "markdown",
      "metadata": {
        "id": "4qGHkdD8w5s9"
      },
      "source": [
        "And we can encapsulate the code that runs the model in a function."
      ]
    },
    {
      "cell_type": "code",
      "metadata": {
        "id": "mZp2oOLxw5s9"
      },
      "source": [
        "def run_simulation1(system):\n",
        "    \"\"\"Runs the constant growth model.\n",
        "    \n",
        "    system: System object\n",
        "    \n",
        "    returns: TimeSeries\n",
        "    \"\"\"\n",
        "    results = TimeSeries()\n",
        "    results[system.t_0] = system.p_0\n",
        "    \n",
        "    for t in linrange(system.t_0, system.t_end):\n",
        "        results[t+1] = results[t] + system.annual_growth\n",
        "    \n",
        "    return results"
      ],
      "execution_count": null,
      "outputs": []
    },
    {
      "cell_type": "markdown",
      "metadata": {
        "id": "_OonmsDAw5s-"
      },
      "source": [
        "We can also encapsulate the code that plots the results."
      ]
    },
    {
      "cell_type": "code",
      "metadata": {
        "id": "SdC0W0Z_w5s-"
      },
      "source": [
        "def plot_results(census, un, timeseries, title):\n",
        "    \"\"\"Plot the estimates and the model.\n",
        "    \n",
        "    census: TimeSeries of population estimates\n",
        "    un: TimeSeries of population estimates\n",
        "    timeseries: TimeSeries of simulation results\n",
        "    title: string\n",
        "    \"\"\"\n",
        "    plot(census, ':', label='US Census')\n",
        "    plot(un, '--', label='UN DESA')\n",
        "    plot(timeseries, color='gray', label='model')\n",
        "    \n",
        "    decorate(xlabel='Year', \n",
        "             ylabel='World population (billion)',\n",
        "             title=title)"
      ],
      "execution_count": null,
      "outputs": []
    },
    {
      "cell_type": "markdown",
      "metadata": {
        "id": "0bISh6F-w5s_"
      },
      "source": [
        "Here's how we run it."
      ]
    },
    {
      "cell_type": "code",
      "metadata": {
        "id": "aw4woYwrw5s_"
      },
      "source": [
        "results = run_simulation1(system)\n",
        "plot_results(census, un, results, 'Constant growth model')"
      ],
      "execution_count": null,
      "outputs": []
    },
    {
      "cell_type": "markdown",
      "metadata": {
        "id": "jsh_GI2ow5tA"
      },
      "source": [
        "## Proportional growth"
      ]
    },
    {
      "cell_type": "markdown",
      "metadata": {
        "id": "qq-oVOB6w5tA"
      },
      "source": [
        "Here's a more realistic model where the number of births and deaths is proportional to the current population."
      ]
    },
    {
      "cell_type": "code",
      "metadata": {
        "id": "k3PCKn1gw5tB"
      },
      "source": [
        "def run_simulation2(system):\n",
        "    \"\"\"Run a model with proportional birth and death.\n",
        "    \n",
        "    system: System object\n",
        "    \n",
        "    returns: TimeSeries\n",
        "    \"\"\"\n",
        "    results = TimeSeries()\n",
        "    results[system.t_0] = system.p_0\n",
        "    \n",
        "    for t in linrange(system.t_0, system.t_end):\n",
        "        births = system.birth_rate * results[t]\n",
        "        deaths = system.death_rate * results[t]\n",
        "        results[t+1] = results[t] + births - deaths\n",
        "        \n",
        "    return results"
      ],
      "execution_count": null,
      "outputs": []
    },
    {
      "cell_type": "markdown",
      "metadata": {
        "id": "6t-1ydXGw5tC"
      },
      "source": [
        "I picked a death rate that seemed reasonable and then adjusted the birth rate to fit the data."
      ]
    },
    {
      "cell_type": "code",
      "metadata": {
        "id": "WOTkQeqOw5tD"
      },
      "source": [
        "system.death_rate = 0.01\n",
        "system.birth_rate = 0.027"
      ],
      "execution_count": null,
      "outputs": []
    },
    {
      "cell_type": "markdown",
      "metadata": {
        "id": "pScv8BYXw5tE"
      },
      "source": [
        "Here's what it looks like."
      ]
    },
    {
      "cell_type": "code",
      "metadata": {
        "id": "Xun5tAPew5tF"
      },
      "source": [
        "results = run_simulation2(system)\n",
        "plot_results(census, un, results, 'Proportional model')"
      ],
      "execution_count": null,
      "outputs": []
    },
    {
      "cell_type": "markdown",
      "metadata": {
        "id": "KLZUWdsnw5tG"
      },
      "source": [
        "The model fits the data pretty well for the first 20 years, but not so well after that."
      ]
    },
    {
      "cell_type": "markdown",
      "metadata": {
        "id": "z1bgIlxEw5tI"
      },
      "source": [
        "### Factoring out the update function"
      ]
    },
    {
      "cell_type": "markdown",
      "metadata": {
        "id": "EJd8QKmIw5tI"
      },
      "source": [
        "`run_simulation1` and `run_simulation2` are nearly identical except the body of the loop.  So we can factor that part out into a function."
      ]
    },
    {
      "cell_type": "code",
      "metadata": {
        "id": "rTEdaeYVw5tJ"
      },
      "source": [
        "def update_func1(pop, t, system):\n",
        "    \"\"\"Compute the population next year.\n",
        "    \n",
        "    pop: current population\n",
        "    t: current year\n",
        "    system: system object containing parameters of the model\n",
        "    \n",
        "    returns: population next year\n",
        "    \"\"\"\n",
        "    births = system.birth_rate * pop\n",
        "    deaths = system.death_rate * pop\n",
        "    return pop + births - deaths"
      ],
      "execution_count": null,
      "outputs": []
    },
    {
      "cell_type": "markdown",
      "metadata": {
        "id": "TycxQuvlw5tJ"
      },
      "source": [
        "The name `update_func` refers to a function object."
      ]
    },
    {
      "cell_type": "code",
      "metadata": {
        "id": "QUmgZ1t9w5tK"
      },
      "source": [
        "update_func1"
      ],
      "execution_count": null,
      "outputs": []
    },
    {
      "cell_type": "markdown",
      "metadata": {
        "id": "d4VZWqZCw5tK"
      },
      "source": [
        "Which we can confirm by checking its type."
      ]
    },
    {
      "cell_type": "code",
      "metadata": {
        "id": "7aVssdtKw5tK"
      },
      "source": [
        "type(update_func1)"
      ],
      "execution_count": null,
      "outputs": []
    },
    {
      "cell_type": "markdown",
      "metadata": {
        "id": "r4HlU8_Gw5tL"
      },
      "source": [
        "`run_simulation` takes the update function as a parameter and calls it just like any other function."
      ]
    },
    {
      "cell_type": "code",
      "metadata": {
        "id": "6N-IQQ_nw5tL"
      },
      "source": [
        "def run_simulation(system, update_func):\n",
        "    \"\"\"Simulate the system using any update function.\n",
        "    \n",
        "    system: System object\n",
        "    update_func: function that computes the population next year\n",
        "    \n",
        "    returns: TimeSeries\n",
        "    \"\"\"\n",
        "    results = TimeSeries()\n",
        "    results[system.t_0] = system.p_0\n",
        "    \n",
        "    for t in linrange(system.t_0, system.t_end):\n",
        "        results[t+1] = update_func(results[t], t, system)\n",
        "        \n",
        "    return results"
      ],
      "execution_count": null,
      "outputs": []
    },
    {
      "cell_type": "markdown",
      "metadata": {
        "id": "_REao6ZPw5tL"
      },
      "source": [
        "Here's how we use it."
      ]
    },
    {
      "cell_type": "code",
      "metadata": {
        "id": "lj6zOEfCw5tL"
      },
      "source": [
        "t_0 = get_first_label(census)\n",
        "t_end = get_last_label(census)\n",
        "p_0 = census[t_0]\n",
        "\n",
        "system = System(t_0=t_0, \n",
        "                t_end=t_end,\n",
        "                p_0=p_0,\n",
        "                birth_rate=0.027,\n",
        "                death_rate=0.01)"
      ],
      "execution_count": null,
      "outputs": []
    },
    {
      "cell_type": "code",
      "metadata": {
        "id": "dZWUdntTw5tM"
      },
      "source": [
        "results = run_simulation(system, update_func1)\n",
        "plot_results(census, un, results, 'Proportional model, factored')"
      ],
      "execution_count": null,
      "outputs": []
    },
    {
      "cell_type": "markdown",
      "metadata": {
        "id": "XRNf-49sw5tM"
      },
      "source": [
        "Remember not to put parentheses after `update_func1`.  What happens if you try?"
      ]
    },
    {
      "cell_type": "markdown",
      "metadata": {
        "id": "CxEcJJKsw5tM"
      },
      "source": [
        "**Exercise:** When you run `run_simulation`, it runs `update_func1` once for each year between `t_0` and `t_end`.  To see that for yourself, add a print statement at the beginning of `update_func1` that prints the values of `t` and `pop`, then run `run_simulation` again."
      ]
    },
    {
      "cell_type": "markdown",
      "metadata": {
        "id": "rCZBGpo0w5tN"
      },
      "source": [
        "### Combining birth and death"
      ]
    },
    {
      "cell_type": "markdown",
      "metadata": {
        "id": "lNEI2oTTw5tN"
      },
      "source": [
        "Since births and deaths get added up, we don't have to compute them separately.  We can combine the birth and death rates into a single net growth rate."
      ]
    },
    {
      "cell_type": "code",
      "metadata": {
        "id": "EF87MFVrw5tN"
      },
      "source": [
        "def update_func2(pop, t, system):\n",
        "    \"\"\"Compute the population next year.\n",
        "    \n",
        "    pop: current population\n",
        "    t: current year\n",
        "    system: system object containing parameters of the model\n",
        "    \n",
        "    returns: population next year\n",
        "    \"\"\"\n",
        "    net_growth = system.alpha  * pop\n",
        "    return pop + net_growth"
      ],
      "execution_count": null,
      "outputs": []
    },
    {
      "cell_type": "markdown",
      "metadata": {
        "id": "WiccbJ6Yw5tO"
      },
      "source": [
        "Here's how it works:"
      ]
    },
    {
      "cell_type": "code",
      "metadata": {
        "id": "oNo8yf9Nw5tO"
      },
      "source": [
        "system.alpha = system.birth_rate - system.death_rate\n",
        "\n",
        "results = run_simulation(system, update_func2)\n",
        "plot_results(census, un, results, 'Proportional model, combined birth and death')"
      ],
      "execution_count": null,
      "outputs": []
    },
    {
      "cell_type": "markdown",
      "metadata": {
        "id": "s-XPWn8Gw5tO"
      },
      "source": [
        "### Exercises\n",
        "\n",
        "**Exercise:** Maybe the reason the proportional model doesn't work very well is that the growth rate, `alpha`, is changing over time.  So let's try a model with different growth rates before and after 1980 (as an arbitrary choice).\n",
        "\n",
        "Write an update function that takes `pop`, `t`, and `system` as parameters.  The system object, `system`, should contain two parameters: the growth rate before 1980, `alpha1`, and the growth rate after 1980, `alpha2`.  It should use `t` to determine which growth rate to use.  Note: Don't forget the `return` statement.\n",
        "\n",
        "Test your function by calling it directly, then pass it to `run_simulation`.  Plot the results.  Adjust the parameters `alpha1` and `alpha2` to fit the data as well as you can.\n",
        "\n"
      ]
    },
    {
      "cell_type": "code",
      "metadata": {
        "scrolled": false,
        "id": "Nw-8UtjHw5tP"
      },
      "source": [
        "# Solution goes here"
      ],
      "execution_count": null,
      "outputs": []
    },
    {
      "cell_type": "code",
      "metadata": {
        "id": "HoU60dsTw5tP"
      },
      "source": [
        "# Solution goes here"
      ],
      "execution_count": null,
      "outputs": []
    },
    {
      "cell_type": "code",
      "metadata": {
        "id": "YNfDJ3BIw5tP"
      },
      "source": [
        ""
      ],
      "execution_count": null,
      "outputs": []
    }
  ]
}