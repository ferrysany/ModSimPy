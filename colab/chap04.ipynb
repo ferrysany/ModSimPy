{
  "nbformat": 4,
  "nbformat_minor": 0,
  "metadata": {
    "kernelspec": {
      "display_name": "Python 3",
      "language": "python",
      "name": "python3"
    },
    "language_info": {
      "codemirror_mode": {
        "name": "ipython",
        "version": 3
      },
      "file_extension": ".py",
      "mimetype": "text/x-python",
      "name": "python",
      "nbconvert_exporter": "python",
      "pygments_lexer": "ipython3",
      "version": "3.7.9"
    },
    "colab": {
      "name": "chap04.ipynb",
      "provenance": []
    }
  },
  "cells": [
    {
      "cell_type": "markdown",
      "metadata": {
        "id": "hJqZ6trlvHt_"
      },
      "source": [
        "# Chapter 4"
      ]
    },
    {
      "cell_type": "markdown",
      "metadata": {
        "tags": [],
        "id": "4VHCpHssvHuF"
      },
      "source": [
        "*Modeling and Simulation in Python*  Chun San Yip 13 June 2021\n",
        "\n",
        "Copyright 2021 Allen Downey\n",
        "\n",
        "License: [Creative Commons Attribution-NonCommercial-ShareAlike 4.0 International](https://creativecommons.org/licenses/by-nc-sa/4.0/)"
      ]
    },
    {
      "cell_type": "code",
      "metadata": {
        "tags": [],
        "colab": {
          "base_uri": "https://localhost:8080/"
        },
        "id": "mQD7oFW1vHuI",
        "outputId": "c69b7ad0-15c9-4811-b699-5251af73b0e4"
      },
      "source": [
        "# check if the libraries we need are installed\n",
        "\n",
        "try:\n",
        "    import pint\n",
        "except ImportError:\n",
        "    !pip install pint\n",
        "    import pint\n",
        "    \n",
        "try:\n",
        "    from modsim import *\n",
        "except ImportError:\n",
        "    !pip install modsimpy\n",
        "    from modsim import *"
      ],
      "execution_count": 1,
      "outputs": [
        {
          "output_type": "stream",
          "text": [
            "Collecting pint\n",
            "\u001b[?25l  Downloading https://files.pythonhosted.org/packages/33/de/53a77b82553579affab7438d299f850acbc1c4dd741c5ce52594513cb0ef/Pint-0.17-py2.py3-none-any.whl (204kB)\n",
            "\r\u001b[K     |█▋                              | 10kB 14.2MB/s eta 0:00:01\r\u001b[K     |███▏                            | 20kB 13.4MB/s eta 0:00:01\r\u001b[K     |████▉                           | 30kB 8.9MB/s eta 0:00:01\r\u001b[K     |██████▍                         | 40kB 7.9MB/s eta 0:00:01\r\u001b[K     |████████                        | 51kB 4.4MB/s eta 0:00:01\r\u001b[K     |█████████▋                      | 61kB 5.1MB/s eta 0:00:01\r\u001b[K     |███████████▏                    | 71kB 5.0MB/s eta 0:00:01\r\u001b[K     |████████████▉                   | 81kB 5.4MB/s eta 0:00:01\r\u001b[K     |██████████████▍                 | 92kB 5.5MB/s eta 0:00:01\r\u001b[K     |████████████████                | 102kB 4.3MB/s eta 0:00:01\r\u001b[K     |█████████████████▋              | 112kB 4.3MB/s eta 0:00:01\r\u001b[K     |███████████████████▏            | 122kB 4.3MB/s eta 0:00:01\r\u001b[K     |████████████████████▉           | 133kB 4.3MB/s eta 0:00:01\r\u001b[K     |██████████████████████▍         | 143kB 4.3MB/s eta 0:00:01\r\u001b[K     |████████████████████████        | 153kB 4.3MB/s eta 0:00:01\r\u001b[K     |█████████████████████████▋      | 163kB 4.3MB/s eta 0:00:01\r\u001b[K     |███████████████████████████▏    | 174kB 4.3MB/s eta 0:00:01\r\u001b[K     |████████████████████████████▊   | 184kB 4.3MB/s eta 0:00:01\r\u001b[K     |██████████████████████████████▍ | 194kB 4.3MB/s eta 0:00:01\r\u001b[K     |████████████████████████████████| 204kB 4.3MB/s eta 0:00:01\r\u001b[K     |████████████████████████████████| 215kB 4.3MB/s \n",
            "\u001b[?25hRequirement already satisfied: packaging in /usr/local/lib/python3.7/dist-packages (from pint) (20.9)\n",
            "Requirement already satisfied: importlib-metadata; python_version < \"3.8\" in /usr/local/lib/python3.7/dist-packages (from pint) (4.0.1)\n",
            "Requirement already satisfied: pyparsing>=2.0.2 in /usr/local/lib/python3.7/dist-packages (from packaging->pint) (2.4.7)\n",
            "Requirement already satisfied: typing-extensions>=3.6.4; python_version < \"3.8\" in /usr/local/lib/python3.7/dist-packages (from importlib-metadata; python_version < \"3.8\"->pint) (3.7.4.3)\n",
            "Requirement already satisfied: zipp>=0.5 in /usr/local/lib/python3.7/dist-packages (from importlib-metadata; python_version < \"3.8\"->pint) (3.4.1)\n",
            "Installing collected packages: pint\n",
            "Successfully installed pint-0.17\n",
            "Collecting modsimpy\n",
            "  Downloading https://files.pythonhosted.org/packages/ee/ef/c170df0ee5311cda90a10fc71d1610b9a1cb2241fadbf04bf0f57ff161e9/modsimpy-1.1.3.tar.gz\n",
            "Building wheels for collected packages: modsimpy\n",
            "  Building wheel for modsimpy (setup.py) ... \u001b[?25l\u001b[?25hdone\n",
            "  Created wheel for modsimpy: filename=modsimpy-1.1.3-cp37-none-any.whl size=20356 sha256=f10ad04c1b6af8a3adca760a3108b22719d6892b69d097630405f1df69d517cd\n",
            "  Stored in directory: /root/.cache/pip/wheels/59/34/ac/e82f103fbfb5d961b1a4d2b8e89bb6629a4c0b242e5373cbfa\n",
            "Successfully built modsimpy\n",
            "Installing collected packages: modsimpy\n",
            "Successfully installed modsimpy-1.1.3\n"
          ],
          "name": "stdout"
        }
      ]
    },
    {
      "cell_type": "markdown",
      "metadata": {
        "id": "LykixBw0vHuK"
      },
      "source": [
        "## Returning values"
      ]
    },
    {
      "cell_type": "markdown",
      "metadata": {
        "id": "_phSFofYvHuL"
      },
      "source": [
        "Here's a simple function that returns a value:"
      ]
    },
    {
      "cell_type": "code",
      "metadata": {
        "id": "rKUNhLXbvHuL"
      },
      "source": [
        "def add_five(x):\n",
        "    return x + 5"
      ],
      "execution_count": 2,
      "outputs": []
    },
    {
      "cell_type": "markdown",
      "metadata": {
        "id": "f1lbJYfxvHuM"
      },
      "source": [
        "And here's how we call it."
      ]
    },
    {
      "cell_type": "code",
      "metadata": {
        "id": "zWxCyBqJvHuM"
      },
      "source": [
        "y = add_five(3)"
      ],
      "execution_count": 3,
      "outputs": []
    },
    {
      "cell_type": "markdown",
      "metadata": {
        "id": "_Vtld2FMvHuM"
      },
      "source": [
        "If you run a function on the last line of a cell, Jupyter displays the result:"
      ]
    },
    {
      "cell_type": "code",
      "metadata": {
        "colab": {
          "base_uri": "https://localhost:8080/"
        },
        "id": "vCoivTKlvHuO",
        "outputId": "5ec879e1-3a4b-4170-ef7f-2677231cac51"
      },
      "source": [
        "add_five(5)"
      ],
      "execution_count": 4,
      "outputs": [
        {
          "output_type": "execute_result",
          "data": {
            "text/plain": [
              "10"
            ]
          },
          "metadata": {
            "tags": []
          },
          "execution_count": 4
        }
      ]
    },
    {
      "cell_type": "markdown",
      "metadata": {
        "id": "05iajahhvHuP"
      },
      "source": [
        "But that can be a bad habit, because usually if you call a function and don't assign the result in a variable, the result gets discarded.\n",
        "\n",
        "In the following example, Jupyter shows the second result, but the first result just disappears."
      ]
    },
    {
      "cell_type": "code",
      "metadata": {
        "colab": {
          "base_uri": "https://localhost:8080/"
        },
        "id": "A5TJW9XavHuQ",
        "outputId": "3456ff4c-3a53-4f9f-e381-2b7bc82807ff"
      },
      "source": [
        "add_five(3)\n",
        "add_five(5)"
      ],
      "execution_count": 5,
      "outputs": [
        {
          "output_type": "execute_result",
          "data": {
            "text/plain": [
              "10"
            ]
          },
          "metadata": {
            "tags": []
          },
          "execution_count": 5
        }
      ]
    },
    {
      "cell_type": "markdown",
      "metadata": {
        "id": "Qz0K3UFXvHuR"
      },
      "source": [
        "When you call a function that returns a variable, it is generally a good idea to assign the result to a variable."
      ]
    },
    {
      "cell_type": "code",
      "metadata": {
        "colab": {
          "base_uri": "https://localhost:8080/"
        },
        "id": "LuuiHxwZvHuR",
        "outputId": "c623885f-350d-4614-8a5b-c81cf278933c"
      },
      "source": [
        "y1 = add_five(3)\n",
        "y2 = add_five(5)\n",
        "\n",
        "print(y1, y2)"
      ],
      "execution_count": 6,
      "outputs": [
        {
          "output_type": "stream",
          "text": [
            "8 10\n"
          ],
          "name": "stdout"
        }
      ]
    },
    {
      "cell_type": "markdown",
      "metadata": {
        "id": "H--GoNGJvHuR"
      },
      "source": [
        "**Exercise:** Write a function called `make_state` that creates a `State` object with the state variables `olin=10` and `wellesley=2`, and then returns the new `State` object.\n",
        "\n",
        "Write a line of code that calls `make_state` and assigns the result to a variable named `init`."
      ]
    },
    {
      "cell_type": "code",
      "metadata": {
        "id": "JJcGx5LrvHuS"
      },
      "source": [
        "def make_state():\n",
        "  return State(olin=10, wellesley=2)"
      ],
      "execution_count": 7,
      "outputs": []
    },
    {
      "cell_type": "code",
      "metadata": {
        "id": "3Fo5zVkqvHuS"
      },
      "source": [
        "init = make_state()"
      ],
      "execution_count": 8,
      "outputs": []
    },
    {
      "cell_type": "markdown",
      "metadata": {
        "id": "xIcij9HqvHuT"
      },
      "source": [
        "## Running simulations"
      ]
    },
    {
      "cell_type": "markdown",
      "metadata": {
        "id": "LlpVHfJWvHuT"
      },
      "source": [
        "Here's the code from the previous notebook."
      ]
    },
    {
      "cell_type": "code",
      "metadata": {
        "id": "6DJ8lvnkvHuT"
      },
      "source": [
        "def step(state, p1, p2):\n",
        "    \"\"\"Simulate one minute of time.\n",
        "    \n",
        "    state: bikeshare State object\n",
        "    p1: probability of an Olin->Wellesley customer arrival\n",
        "    p2: probability of a Wellesley->Olin customer arrival\n",
        "    \"\"\"\n",
        "    if flip(p1):\n",
        "        bike_to_wellesley(state)\n",
        "    \n",
        "    if flip(p2):\n",
        "        bike_to_olin(state)\n",
        "        \n",
        "def bike_to_wellesley(state):\n",
        "    \"\"\"Move one bike from Olin to Wellesley.\n",
        "    \n",
        "    state: bikeshare State object\n",
        "    \"\"\"\n",
        "    if state.olin == 0:\n",
        "        state.olin_empty += 1\n",
        "        return\n",
        "    state.olin -= 1\n",
        "    state.wellesley += 1\n",
        "    \n",
        "def bike_to_olin(state):\n",
        "    \"\"\"Move one bike from Wellesley to Olin.\n",
        "    \n",
        "    state: bikeshare State object\n",
        "    \"\"\"\n",
        "    if state.wellesley == 0:\n",
        "        state.wellesley_empty += 1\n",
        "        return\n",
        "    state.wellesley -= 1\n",
        "    state.olin += 1\n",
        "    \n",
        "def decorate_bikeshare():\n",
        "    \"\"\"Add a title and label the axes.\"\"\"\n",
        "    decorate(title='Olin-Wellesley Bikeshare',\n",
        "             xlabel='Time step (min)', \n",
        "             ylabel='Number of bikes')"
      ],
      "execution_count": 9,
      "outputs": []
    },
    {
      "cell_type": "markdown",
      "metadata": {
        "id": "uTNT3WVsvHuU"
      },
      "source": [
        "Here's a modified version of `run_simulation` that creates a `State` object, runs the simulation, and returns the `State` object."
      ]
    },
    {
      "cell_type": "code",
      "metadata": {
        "id": "rjj6PvkuvHuU"
      },
      "source": [
        "def run_simulation(p1, p2, num_steps):\n",
        "    \"\"\"Simulate the given number of time steps.\n",
        "    \n",
        "    p1: probability of an Olin->Wellesley customer arrival\n",
        "    p2: probability of a Wellesley->Olin customer arrival\n",
        "    num_steps: number of time steps\n",
        "    \"\"\"\n",
        "    state = State(olin=10, wellesley=2, \n",
        "                  olin_empty=0, wellesley_empty=0)\n",
        "                    \n",
        "    for i in range(num_steps):\n",
        "        step(state, p1, p2)\n",
        "        \n",
        "    return state"
      ],
      "execution_count": 10,
      "outputs": []
    },
    {
      "cell_type": "markdown",
      "metadata": {
        "id": "f42qVmi3vHuU"
      },
      "source": [
        "Now `run_simulation` doesn't plot anything:"
      ]
    },
    {
      "cell_type": "code",
      "metadata": {
        "id": "KHPTTF6UvHuU"
      },
      "source": [
        "state = run_simulation(0.4, 0.2, 60)"
      ],
      "execution_count": 11,
      "outputs": []
    },
    {
      "cell_type": "markdown",
      "metadata": {
        "id": "aGx5TYmcvHuV"
      },
      "source": [
        "But after the simulation, we can read the metrics from the `State` object."
      ]
    },
    {
      "cell_type": "code",
      "metadata": {
        "colab": {
          "base_uri": "https://localhost:8080/"
        },
        "id": "Mg3NbpSfvHuV",
        "outputId": "758ecfdb-93ce-4587-e5ed-5f64e80a5705"
      },
      "source": [
        "state.olin_empty"
      ],
      "execution_count": 12,
      "outputs": [
        {
          "output_type": "execute_result",
          "data": {
            "text/plain": [
              "5"
            ]
          },
          "metadata": {
            "tags": []
          },
          "execution_count": 12
        }
      ]
    },
    {
      "cell_type": "markdown",
      "metadata": {
        "id": "4gs2MRMKvHuW"
      },
      "source": [
        "Now we can run simulations with different values for the parameters.  When `p1` is small, we probably don't run out of bikes at Olin."
      ]
    },
    {
      "cell_type": "code",
      "metadata": {
        "colab": {
          "base_uri": "https://localhost:8080/"
        },
        "id": "R4Rzil5VvHuX",
        "outputId": "5c619764-744d-4edb-c90d-3d2dcd4ff746"
      },
      "source": [
        "state = run_simulation(0.2, 0.2, 60)\n",
        "state.olin_empty"
      ],
      "execution_count": 13,
      "outputs": [
        {
          "output_type": "execute_result",
          "data": {
            "text/plain": [
              "0"
            ]
          },
          "metadata": {
            "tags": []
          },
          "execution_count": 13
        }
      ]
    },
    {
      "cell_type": "markdown",
      "metadata": {
        "id": "0KWHc4wWvHuX"
      },
      "source": [
        "When `p1` is large, we probably do."
      ]
    },
    {
      "cell_type": "code",
      "metadata": {
        "colab": {
          "base_uri": "https://localhost:8080/"
        },
        "id": "EQCkb5J9vHuY",
        "outputId": "03fdcecd-a04f-4936-907d-30067aa795f2"
      },
      "source": [
        "state = run_simulation(0.6, 0.2, 60)\n",
        "state.olin_empty"
      ],
      "execution_count": 14,
      "outputs": [
        {
          "output_type": "execute_result",
          "data": {
            "text/plain": [
              "24"
            ]
          },
          "metadata": {
            "tags": []
          },
          "execution_count": 14
        }
      ]
    },
    {
      "cell_type": "markdown",
      "metadata": {
        "id": "pcCMjqh9vHuZ"
      },
      "source": [
        "## More for loops"
      ]
    },
    {
      "cell_type": "markdown",
      "metadata": {
        "id": "-21-2GlDvHuZ"
      },
      "source": [
        "`linspace` creates a NumPy array of equally spaced numbers."
      ]
    },
    {
      "cell_type": "code",
      "metadata": {
        "id": "AiMQdg-cvHuZ"
      },
      "source": [
        "p1_array = linspace(0, 1, 5)"
      ],
      "execution_count": 15,
      "outputs": []
    },
    {
      "cell_type": "markdown",
      "metadata": {
        "id": "UFkbjfaUvHua"
      },
      "source": [
        "We can use an array in a `for` loop, like this:"
      ]
    },
    {
      "cell_type": "code",
      "metadata": {
        "colab": {
          "base_uri": "https://localhost:8080/"
        },
        "id": "Khby-fjMvHub",
        "outputId": "204a952e-a074-4b14-d3c3-809f494e9e41"
      },
      "source": [
        "for p1 in p1_array:\n",
        "    print(p1)"
      ],
      "execution_count": 16,
      "outputs": [
        {
          "output_type": "stream",
          "text": [
            "0.0\n",
            "0.25\n",
            "0.5\n",
            "0.75\n",
            "1.0\n"
          ],
          "name": "stdout"
        }
      ]
    },
    {
      "cell_type": "markdown",
      "metadata": {
        "id": "DWdGgkhMvHub"
      },
      "source": [
        "This will come in handy in the next section.\n",
        "\n",
        "`linspace` is defined in `modsim.py`.  You can get the documentation using `help`."
      ]
    },
    {
      "cell_type": "code",
      "metadata": {
        "colab": {
          "base_uri": "https://localhost:8080/"
        },
        "id": "PBfBZuCyvHub",
        "outputId": "e275d7d9-4641-41b6-bc0b-cbbe57ef22c9"
      },
      "source": [
        "help(linspace)"
      ],
      "execution_count": 17,
      "outputs": [
        {
          "output_type": "stream",
          "text": [
            "Help on function linspace in module modsim.modsim:\n",
            "\n",
            "linspace(start, stop, num=50, **options)\n",
            "    Returns an array of evenly-spaced values in the interval [start, stop].\n",
            "    \n",
            "    start: first value\n",
            "    stop: last value\n",
            "    num: number of values\n",
            "    \n",
            "    Also accepts the same keyword arguments as np.linspace.  See\n",
            "    https://docs.scipy.org/doc/numpy/reference/generated/numpy.linspace.html\n",
            "    \n",
            "    returns: array or Quantity\n",
            "\n"
          ],
          "name": "stdout"
        }
      ]
    },
    {
      "cell_type": "markdown",
      "metadata": {
        "id": "9QoYH55OvHub"
      },
      "source": [
        "`linspace` is based on a NumPy function with the same name.  [Click here](https://docs.scipy.org/doc/numpy/reference/generated/numpy.linspace.html) to read more about how to use it."
      ]
    },
    {
      "cell_type": "markdown",
      "metadata": {
        "id": "SQy_y1CLvHub"
      },
      "source": [
        "**Exercise:** \n",
        "Use `linspace` to make an array of 10 equally spaced numbers from 1 to 10 (including both)."
      ]
    },
    {
      "cell_type": "code",
      "metadata": {
        "colab": {
          "base_uri": "https://localhost:8080/"
        },
        "id": "9H25skYIvHuc",
        "outputId": "382bf3eb-8c0c-49b1-aa26-2d32c364a570"
      },
      "source": [
        "linspace(1,10,10)"
      ],
      "execution_count": 18,
      "outputs": [
        {
          "output_type": "execute_result",
          "data": {
            "text/plain": [
              "array([ 1.,  2.,  3.,  4.,  5.,  6.,  7.,  8.,  9., 10.])"
            ]
          },
          "metadata": {
            "tags": []
          },
          "execution_count": 18
        }
      ]
    },
    {
      "cell_type": "markdown",
      "metadata": {
        "id": "15AnbCt1vHuc"
      },
      "source": [
        "**Exercise:** The `modsim` library provides a related function called `linrange`.  You can view the documentation by running the following cell:"
      ]
    },
    {
      "cell_type": "code",
      "metadata": {
        "colab": {
          "base_uri": "https://localhost:8080/"
        },
        "id": "1DxrfOcZvHuc",
        "outputId": "455d0c86-a906-45da-9ea9-8403b75e358c"
      },
      "source": [
        "help(linrange)"
      ],
      "execution_count": 19,
      "outputs": [
        {
          "output_type": "stream",
          "text": [
            "Help on function linrange in module modsim.modsim:\n",
            "\n",
            "linrange(start=0, stop=None, step=1, endpoint=False, **options)\n",
            "    Returns an array of evenly-spaced values in an interval.\n",
            "    \n",
            "    By default, the last value in the array is `stop-step`\n",
            "    (at least approximately).\n",
            "    If you provide the keyword argument `endpoint=True`,\n",
            "    the last value in the array is `stop`.\n",
            "    \n",
            "    This function works best if the space between start and stop\n",
            "    is divisible by step; otherwise the results might be surprising.\n",
            "    \n",
            "    start: first value\n",
            "    stop: last value\n",
            "    step: space between values\n",
            "    \n",
            "    returns: NumPy array\n",
            "\n"
          ],
          "name": "stdout"
        }
      ]
    },
    {
      "cell_type": "markdown",
      "metadata": {
        "id": "ez5dhDukvHuc"
      },
      "source": [
        "Use `linrange` to make an array of numbers from 1 to 11 with a step size of 2."
      ]
    },
    {
      "cell_type": "code",
      "metadata": {
        "colab": {
          "base_uri": "https://localhost:8080/"
        },
        "id": "WjdtApA8vHuc",
        "outputId": "ae141d1e-c1b9-464e-8053-9d8672d68a6d"
      },
      "source": [
        "linrange(1,11,2, True)"
      ],
      "execution_count": 20,
      "outputs": [
        {
          "output_type": "execute_result",
          "data": {
            "text/plain": [
              "array([ 1,  3,  5,  7,  9, 11])"
            ]
          },
          "metadata": {
            "tags": []
          },
          "execution_count": 20
        }
      ]
    },
    {
      "cell_type": "markdown",
      "metadata": {
        "id": "3LJYCdPqvHuc"
      },
      "source": [
        "## Sweeping parameters"
      ]
    },
    {
      "cell_type": "markdown",
      "metadata": {
        "id": "yLenAlEOvHud"
      },
      "source": [
        "`p1_array` contains a range of values for `p1`."
      ]
    },
    {
      "cell_type": "code",
      "metadata": {
        "id": "cgaeX-q9vHud"
      },
      "source": [
        "p2 = 0.2\n",
        "num_steps = 60\n",
        "p1_array = linspace(0, 1, 11)"
      ],
      "execution_count": 21,
      "outputs": []
    },
    {
      "cell_type": "markdown",
      "metadata": {
        "id": "Yg4mZhr9vHud"
      },
      "source": [
        "The following loop runs a simulation for each value of `p1` in `p1_array`; after each simulation, it prints the number of unhappy customers at the Olin station:"
      ]
    },
    {
      "cell_type": "code",
      "metadata": {
        "colab": {
          "base_uri": "https://localhost:8080/"
        },
        "id": "OmJyBnEKvHue",
        "outputId": "c507b229-f2cb-4dc4-b5ac-e5ed15f72496"
      },
      "source": [
        "for p1 in p1_array:\n",
        "    state = run_simulation(p1, p2, num_steps)\n",
        "    print(p1, state.olin_empty)"
      ],
      "execution_count": 22,
      "outputs": [
        {
          "output_type": "stream",
          "text": [
            "0.0 0\n",
            "0.1 0\n",
            "0.2 0\n",
            "0.30000000000000004 0\n",
            "0.4 8\n",
            "0.5 14\n",
            "0.6000000000000001 18\n",
            "0.7000000000000001 19\n",
            "0.8 22\n",
            "0.9 31\n",
            "1.0 42\n"
          ],
          "name": "stdout"
        }
      ]
    },
    {
      "cell_type": "markdown",
      "metadata": {
        "id": "1EnKHF63vHuf"
      },
      "source": [
        "Now we can do the same thing, but storing the results in a `SweepSeries` instead of printing them.\n",
        "\n"
      ]
    },
    {
      "cell_type": "code",
      "metadata": {
        "id": "EnjRgurLvHuf"
      },
      "source": [
        "sweep = SweepSeries()\n",
        "\n",
        "for p1 in p1_array:\n",
        "    state = run_simulation(p1, p2, num_steps)\n",
        "    sweep[p1] = state.olin_empty"
      ],
      "execution_count": 23,
      "outputs": []
    },
    {
      "cell_type": "markdown",
      "metadata": {
        "id": "sZC1BhzfvHug"
      },
      "source": [
        "And then we can plot the results."
      ]
    },
    {
      "cell_type": "code",
      "metadata": {
        "colab": {
          "base_uri": "https://localhost:8080/",
          "height": 297
        },
        "id": "I9GjwyuxvHug",
        "outputId": "675c8d27-7ffd-450b-ed2f-d4ce273f0ffa"
      },
      "source": [
        "plot(sweep, label='Olin')\n",
        "\n",
        "decorate(title='Olin-Wellesley Bikeshare',\n",
        "         xlabel='Arrival rate at Olin (p1 in customers/min)', \n",
        "         ylabel='Number of unhappy customers')"
      ],
      "execution_count": 24,
      "outputs": [
        {
          "output_type": "display_data",
          "data": {
            "image/png": "[encoded data removed]",
            "text/plain": [
              "<Figure size 432x288 with 1 Axes>"
            ]
          },
          "metadata": {
            "tags": [],
            "needs_background": "light"
          }
        }
      ]
    },
    {
      "cell_type": "markdown",
      "metadata": {
        "id": "Y41T1a-HvHuh"
      },
      "source": [
        "## Exercises\n",
        "\n",
        "**Exercise:** Wrap this code in a function named `sweep_p1` that takes an array called `p1_array` as a parameter.  It should create a new `SweepSeries`, run a simulation for each value of `p1` in `p1_array`, store the results in the `SweepSeries`, and return the `SweepSeries`.\n",
        "\n",
        "Use your function to plot the number of unhappy customers at Olin as a function of `p1`.  Label the axes."
      ]
    },
    {
      "cell_type": "code",
      "metadata": {
        "id": "yO5cdEV5vHuh"
      },
      "source": [
        "def sweep_p1(p1_array):\n",
        "  sweep = SweepSeries()\n",
        "  for p1 in p1_array:\n",
        "    state = run_simulation(p1, p2, num_steps)\n",
        "    sweep[p1]=state.olin_empty\n",
        "  return sweep\n"
      ],
      "execution_count": 25,
      "outputs": []
    },
    {
      "cell_type": "code",
      "metadata": {
        "colab": {
          "base_uri": "https://localhost:8080/",
          "height": 297
        },
        "id": "TEYNByt3vHuh",
        "outputId": "4b0882dd-f69c-4fdc-cd80-01f8ebaf3a7a"
      },
      "source": [
        "\n",
        "plot(sweep_p1(p1_array), label='Olin')\n",
        "\n",
        "decorate(title='Olin-Wellesley Bikeshare',\n",
        "         xlabel='Arrival rate at Olin (p1 in customers/min)', \n",
        "         ylabel='Number of unhappy customers')"
      ],
      "execution_count": 33,
      "outputs": [
        {
          "output_type": "display_data",
          "data": {
            "image/png": "[encoded data removed]",
            "text/plain": [
              "<Figure size 432x288 with 1 Axes>"
            ]
          },
          "metadata": {
            "tags": [],
            "needs_background": "light"
          }
        }
      ]
    },
    {
      "cell_type": "markdown",
      "metadata": {
        "id": "UpJ4SQn6vHui"
      },
      "source": [
        "**Exercise:** Write a function called `sweep_p2` that runs simulations with `p1=0.5` and a range of values for `p2`.  It should store the results in a `SweepSeries` and return the `SweepSeries`.\n"
      ]
    },
    {
      "cell_type": "code",
      "metadata": {
        "id": "JgrQASKmvHuj"
      },
      "source": [
        "p1=0.5\n",
        "p2_array=linspace(0, 1, 5)\n",
        "\n",
        "def sweep_p2(p2_array):\n",
        "  sweep2 = SweepSeries()\n",
        "  for p2 in p2_array:\n",
        "    state = run_simulation(p1, p2, num_steps)\n",
        "    sweep2[p2]=state.wellesley_empty\n",
        "  return sweep2"
      ],
      "execution_count": 34,
      "outputs": []
    },
    {
      "cell_type": "code",
      "metadata": {
        "colab": {
          "base_uri": "https://localhost:8080/",
          "height": 297
        },
        "id": "K8Ke89X5vHuj",
        "outputId": "363445f6-7ce1-4196-8a55-d3ef65ed77cb"
      },
      "source": [
        "plot(sweep_p2(p2_array), label='Wellesley')\n",
        "\n",
        "decorate(title='Olin-Wellesley Bikeshare',\n",
        "         xlabel='Arrival rate at Wellesley (p1 in customers/min)', \n",
        "         ylabel='Number of unhappy customers')"
      ],
      "execution_count": 35,
      "outputs": [
        {
          "output_type": "display_data",
          "data": {
            "image/png": "[encoded data removed]",
            "text/plain": [
              "<Figure size 432x288 with 1 Axes>"
            ]
          },
          "metadata": {
            "tags": [],
            "needs_background": "light"
          }
        }
      ]
    },
    {
      "cell_type": "markdown",
      "metadata": {
        "id": "joTaW-bavHuk"
      },
      "source": [
        "## Optional Exercises\n",
        "\n",
        "The following two exercises are a little more challenging.  If you are comfortable with what you have learned so far, you should give them a try.  If you feel like you have your hands full, you might want to skip them for now.\n",
        "\n",
        "**Exercise:** Because our simulations are random, the results vary from one run to another, and the results of a parameter sweep tend to be noisy.  We can get a clearer picture of the relationship between a parameter and a metric by running multiple simulations with the same parameter and taking the average of the results.\n",
        "\n",
        "Write a function called `run_multiple_simulations` that takes as parameters `p1`, `p2`, `num_steps`, and `num_runs`.\n",
        "\n",
        "`num_runs` specifies how many times it should call `run_simulation`.\n",
        "\n",
        "After each run, it should store the total number of unhappy customers (at Olin or Wellesley) in a `TimeSeries`.  At the end, it should return the `TimeSeries`.\n",
        "\n",
        "Test your function with parameters\n",
        "\n",
        "```\n",
        "p1 = 0.3\n",
        "p2 = 0.3\n",
        "num_steps = 60\n",
        "num_runs = 10\n",
        "```\n",
        "\n",
        "Display the resulting `TimeSeries` and use the `mean` function provided by the `TimeSeries` object to compute the average number of unhappy customers (see Section 2.7)."
      ]
    },
    {
      "cell_type": "code",
      "metadata": {
        "id": "hsaYA6ZuvHuk"
      },
      "source": [
        "def run_multiple_simulations(p1, p2, num_steps, num_runs):\n",
        "  "
      ],
      "execution_count": 29,
      "outputs": []
    },
    {
      "cell_type": "code",
      "metadata": {
        "id": "l7_4Pc16vHuk"
      },
      "source": [
        "# Solution goes here"
      ],
      "execution_count": 30,
      "outputs": []
    },
    {
      "cell_type": "markdown",
      "metadata": {
        "id": "Hoxo_PJIvHuk"
      },
      "source": [
        "**Exercise:**  Continuting the previous exercise, use `run_multiple_simulations` to run simulations with a range of values for `p1` and\n",
        "\n",
        "```\n",
        "p2 = 0.3\n",
        "num_steps = 60\n",
        "num_runs = 20\n",
        "```\n",
        "\n",
        "Store the results in a `SweepSeries`, then plot the average number of unhappy customers as a function of `p1`.  Label the axes.\n",
        "\n",
        "What value of `p1` minimizes the average number of unhappy customers?"
      ]
    },
    {
      "cell_type": "code",
      "metadata": {
        "scrolled": true,
        "id": "xBpQ5fzkvHuk"
      },
      "source": [
        "# Solution goes here"
      ],
      "execution_count": 31,
      "outputs": []
    },
    {
      "cell_type": "code",
      "metadata": {
        "id": "7WOIEqsIvHuk"
      },
      "source": [
        "# Solution goes here"
      ],
      "execution_count": 32,
      "outputs": []
    }
  ]
}