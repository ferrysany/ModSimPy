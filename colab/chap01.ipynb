{
  "nbformat": 4,
  "nbformat_minor": 0,
  "metadata": {
    "kernelspec": {
      "display_name": "Python 3",
      "language": "python",
      "name": "python3"
    },
    "language_info": {
      "codemirror_mode": {
        "name": "ipython",
        "version": 3
      },
      "file_extension": ".py",
      "mimetype": "text/x-python",
      "name": "python",
      "nbconvert_exporter": "python",
      "pygments_lexer": "ipython3",
      "version": "3.7.9"
    },
    "colab": {
      "name": "chap01.ipynb",
      "provenance": []
    }
  },
  "cells": [
    {
      "cell_type": "markdown",
      "metadata": {
        "id": "OzGdJy9CoSjm"
      },
      "source": [
        "# Chapter 1"
      ]
    },
    {
      "cell_type": "markdown",
      "metadata": {
        "tags": [],
        "id": "aGq99IikoSjn"
      },
      "source": [
        "*Modeling and Simulation in Python*\n",
        "\n",
        "Copyright 2021 Allen Downey\n",
        "\n",
        "License: [Creative Commons Attribution-NonCommercial-ShareAlike 4.0 International](https://creativecommons.org/licenses/by-nc-sa/4.0/)"
      ]
    },
    {
      "cell_type": "code",
      "metadata": {
        "tags": [],
        "id": "z_kbjgvmoSjq"
      },
      "source": [
        "# check if the libraries we need are installed\n",
        "\n",
        "try:\n",
        "    import pint\n",
        "except ImportError:\n",
        "    !pip install pint\n",
        "    import pint\n",
        "    \n",
        "try:\n",
        "    from modsim import *\n",
        "except ImportError:\n",
        "    !pip install modsimpy\n",
        "    from modsim import *"
      ],
      "execution_count": null,
      "outputs": []
    },
    {
      "cell_type": "markdown",
      "metadata": {
        "id": "bnkbKVIaoSjt"
      },
      "source": [
        "## Jupyter\n",
        "\n",
        "Welcome to *Modeling and Simulation in Python*, and welcome to Jupyter.\n",
        "\n",
        "This is a Jupyter notebook, which is a development environment where you can write and run Python code.  Each notebook is divided into cells.  Each cell contains either text (like this cell) or Python code."
      ]
    },
    {
      "cell_type": "markdown",
      "metadata": {
        "id": "A_F3OefeoSju"
      },
      "source": [
        "### Selecting and running cells\n",
        "\n",
        "To select a cell, click in the left margin next to the cell.  You should see a blue frame surrounding the selected cell.\n",
        "\n",
        "To edit a code cell, click inside the cell.  You should see a green frame around the selected cell, and you should see a cursor inside the cell.\n",
        "\n",
        "To edit a text cell, double-click inside the cell.  Again, you should see a green frame around the selected cell, and you should see a cursor inside the cell.\n",
        "\n",
        "To run a cell, hold down SHIFT and press ENTER.  \n",
        "\n",
        "* If you run a text cell, Jupyter formats the text and displays the result.\n",
        "\n",
        "* If you run a code cell, Jupyter runs the Python code in the cell and displays the result, if any.\n",
        "\n",
        "To try it out, edit this cell, change some of the text, and then press SHIFT-ENTER to format it."
      ]
    },
    {
      "cell_type": "markdown",
      "metadata": {
        "id": "-px6O_mooSjx"
      },
      "source": [
        "### Adding and removing cells\n",
        "\n",
        "You can add and remove cells from a notebook using the buttons in the toolbar and the items in the menu, both of which you should see at the top of this notebook.\n",
        "\n",
        "Try the following exercises:\n",
        "\n",
        "1.  From the Insert menu select \"Insert cell below\" to add a cell below this one.  By default, you get a code cell, as you can see in the pulldown menu that says \"Code\".\n",
        "\n",
        "2.  In the new cell, add a print statement like `print('Hello')`, and run it.\n",
        "\n",
        "3.  Add another cell, select the new cell, and then click on the pulldown menu that says \"Code\" and select \"Markdown\".  This makes the new cell a text cell.\n",
        "\n",
        "4.  In the new cell, type some text, and then run it.\n",
        "\n",
        "5.  Use the arrow buttons in the toolbar to move cells up and down.\n",
        "\n",
        "6.  Use the cut, copy, and paste buttons to delete, add, and move cells.\n",
        "\n",
        "7.  As you make changes, Jupyter saves your notebook automatically, but if you want to make sure, you can press the save button, which looks like a floppy disk from the 1990s.\n",
        "\n",
        "8.  Finally, when you are done with a notebook, select \"Close and Halt\" from the File menu."
      ]
    },
    {
      "cell_type": "markdown",
      "metadata": {
        "id": "zerXNqFsoSj0"
      },
      "source": [
        "### Installing modules\n",
        "\n",
        "These notebooks use standard Python modules like NumPy and SciPy.  I assume you already have them installed in your environment.\n",
        "\n",
        "They also use two less common modules: Pint, which provides units, and `modsimpy`, which contains code I wrote specifically for this book.\n",
        "\n",
        "The following cells check whether you have these modules already and tries to install them if you don't."
      ]
    },
    {
      "cell_type": "code",
      "metadata": {
        "id": "_0vFQPawoSj2"
      },
      "source": [
        "try:\n",
        "    import pint\n",
        "except ImportError:\n",
        "    !pip install pint\n",
        "    import pint"
      ],
      "execution_count": null,
      "outputs": []
    },
    {
      "cell_type": "code",
      "metadata": {
        "id": "sCvWFzFfoSj2"
      },
      "source": [
        "try:\n",
        "    from modsim import *\n",
        "except ImportError:\n",
        "    !pip install modsimpy\n",
        "    from modsim import *"
      ],
      "execution_count": null,
      "outputs": []
    },
    {
      "cell_type": "markdown",
      "metadata": {
        "id": "gQCGjWeaoSj3"
      },
      "source": [
        "The first time you run this on a new installation of Python, it might produce a warning message in pink.  That's probably ok, but if you get a message that says `modsim.py depends on Python 3.7 features`, that means you have an older version of Python, and some features in `modsim.py` won't work correctly.\n",
        "\n",
        "If you need a newer version of Python, I recommend installing Anaconda.  You'll find more information in the preface of the book.\n",
        "\n",
        "You can find out what version of Python and Jupyter you have by running the following cells."
      ]
    },
    {
      "cell_type": "code",
      "metadata": {
        "id": "trFF44WeoSj4"
      },
      "source": [
        "!python --version"
      ],
      "execution_count": null,
      "outputs": []
    },
    {
      "cell_type": "code",
      "metadata": {
        "id": "2_Vu5cDfoSj5"
      },
      "source": [
        "!jupyter-notebook --version"
      ],
      "execution_count": null,
      "outputs": []
    },
    {
      "cell_type": "markdown",
      "metadata": {
        "id": "m20S6C9ZoSkA"
      },
      "source": [
        "## The penny myth\n",
        "\n",
        "The following cells contain code from the beginning of Chapter 1.\n",
        "\n",
        "`modsim` defines `UNITS`, which contains variables representing pretty much every unit you've ever heard of.  It uses [Pint](https://pint.readthedocs.io/en/latest/), which is a Python library that provides tools for computing with units.\n",
        "\n",
        "The following lines create new variables named `meter` and `second`."
      ]
    },
    {
      "cell_type": "code",
      "metadata": {
        "id": "ba_iObTfoSkB"
      },
      "source": [
        "meter = UNITS.meter"
      ],
      "execution_count": null,
      "outputs": []
    },
    {
      "cell_type": "code",
      "metadata": {
        "id": "4hexcmG8oSkC"
      },
      "source": [
        "second = UNITS.second"
      ],
      "execution_count": null,
      "outputs": []
    },
    {
      "cell_type": "markdown",
      "metadata": {
        "id": "ES7CSCsvoSkD"
      },
      "source": [
        "To find out what other units are defined, type `UNITS.` (including the period) in the next cell and then press TAB.  You should see a pop-up menu with a list of units."
      ]
    },
    {
      "cell_type": "code",
      "metadata": {
        "id": "6ZEFLQedoSkD"
      },
      "source": [
        ""
      ],
      "execution_count": null,
      "outputs": []
    },
    {
      "cell_type": "markdown",
      "metadata": {
        "id": "acfO_OayoSkD"
      },
      "source": [
        "Create a variable named `a` and give it the value of acceleration due to gravity."
      ]
    },
    {
      "cell_type": "code",
      "metadata": {
        "id": "1M72SCL9oSkE"
      },
      "source": [
        "a = 9.8 * meter / second**2"
      ],
      "execution_count": null,
      "outputs": []
    },
    {
      "cell_type": "markdown",
      "metadata": {
        "id": "b4j7NKBXoSkE"
      },
      "source": [
        "Create `t` and give it the value 4 seconds."
      ]
    },
    {
      "cell_type": "code",
      "metadata": {
        "id": "IPEqFRvCoSkF"
      },
      "source": [
        "t = 4 * second"
      ],
      "execution_count": null,
      "outputs": []
    },
    {
      "cell_type": "markdown",
      "metadata": {
        "id": "rzPmxRC3oSkF"
      },
      "source": [
        "Compute the distance a penny would fall after `t` seconds with constant acceleration `a`.  Notice that the units of the result are correct."
      ]
    },
    {
      "cell_type": "code",
      "metadata": {
        "id": "78_yVeKYoSkF"
      },
      "source": [
        "a * t**2 / 2"
      ],
      "execution_count": null,
      "outputs": []
    },
    {
      "cell_type": "markdown",
      "metadata": {
        "id": "-SwFHTWFoSkG"
      },
      "source": [
        "**Exercise**: Compute the velocity of the penny after `t` seconds.  Check that the units of the result are correct."
      ]
    },
    {
      "cell_type": "code",
      "metadata": {
        "id": "P5ggIxGDoSkG"
      },
      "source": [
        "# Solution goes here"
      ],
      "execution_count": null,
      "outputs": []
    },
    {
      "cell_type": "markdown",
      "metadata": {
        "id": "tfrYScO6oSkG"
      },
      "source": [
        "**Exercise**: Why would it be nonsensical to add `a` and `t`? What happens if you try?"
      ]
    },
    {
      "cell_type": "code",
      "metadata": {
        "id": "qPiAKrw0oSkG"
      },
      "source": [
        "# Solution goes here"
      ],
      "execution_count": null,
      "outputs": []
    },
    {
      "cell_type": "markdown",
      "metadata": {
        "id": "U9q48xkkoSkG"
      },
      "source": [
        "The error messages you get from Python are big and scary, but if you read them carefully, they contain a lot of useful information.\n",
        "\n",
        "1.  Start from the bottom and read up.\n",
        "2.  The last line usually tells you what type of error happened, and sometimes additional information.\n",
        "3.  The previous lines are a \"traceback\" of what was happening when the error occurred.  The first section of the traceback shows the code you wrote.  The following sections are often from Python libraries.\n",
        "\n",
        "In this example, you should get a `DimensionalityError`, which is defined by Pint to indicate that you have violated a rules of dimensional analysis: you cannot add quantities with different dimensions.\n",
        "\n",
        "Before you go on, you might want to delete the erroneous code so the notebook can run without errors."
      ]
    },
    {
      "cell_type": "markdown",
      "metadata": {
        "id": "H-0OiM4uoSkH"
      },
      "source": [
        "## Falling pennies\n",
        "\n",
        "Now let's solve the falling penny problem.\n",
        "\n",
        "Set `h` to the height of the Empire State Building:"
      ]
    },
    {
      "cell_type": "code",
      "metadata": {
        "id": "8Je-Q6j2oSkI"
      },
      "source": [
        "h = 381 * meter"
      ],
      "execution_count": null,
      "outputs": []
    },
    {
      "cell_type": "markdown",
      "metadata": {
        "id": "GvZ8tOV5oSkI"
      },
      "source": [
        "Compute the time it would take a penny to fall, assuming constant acceleration.\n",
        "\n",
        "$ a t^2 / 2 = h $\n",
        "\n",
        "$ t = \\sqrt{2 h / a}$"
      ]
    },
    {
      "cell_type": "code",
      "metadata": {
        "id": "zCxPZ-lHoSkI"
      },
      "source": [
        "t = sqrt(2 * h / a)\n",
        "t"
      ],
      "execution_count": null,
      "outputs": []
    },
    {
      "cell_type": "markdown",
      "metadata": {
        "id": "VEeVOMjnoSkJ"
      },
      "source": [
        "Given `t`, we can compute the velocity of the penny when it lands.\n",
        "\n",
        "$v = a t$"
      ]
    },
    {
      "cell_type": "code",
      "metadata": {
        "id": "UGK075NEoSkJ"
      },
      "source": [
        "v = a * t\n",
        "v"
      ],
      "execution_count": null,
      "outputs": []
    },
    {
      "cell_type": "markdown",
      "metadata": {
        "id": "9qldAeyXoSkJ"
      },
      "source": [
        "We can convert from one set of units to another like this:"
      ]
    },
    {
      "cell_type": "code",
      "metadata": {
        "id": "i272L4JHoSkJ"
      },
      "source": [
        "mile = UNITS.mile\n",
        "hour = UNITS.hour"
      ],
      "execution_count": null,
      "outputs": []
    },
    {
      "cell_type": "code",
      "metadata": {
        "id": "Vnk8emljoSkK"
      },
      "source": [
        "v.to(mile/hour)"
      ],
      "execution_count": null,
      "outputs": []
    },
    {
      "cell_type": "markdown",
      "metadata": {
        "id": "bpgthZdZoSkK"
      },
      "source": [
        "**Exercise:** Suppose you bring a 10 foot pole to the top of the Empire State Building and use it to drop the penny from `h` plus 10 feet.\n",
        "\n",
        "Define a variable named `foot` that contains the unit `foot` provided by `UNITS`.  Define a variable named `pole_height` and give it the value 10 feet.\n",
        "\n",
        "What happens if you add `h`, which is in units of meters, to `pole_height`, which is in units of feet?  What happens if you write the addition the other way around?"
      ]
    },
    {
      "cell_type": "code",
      "metadata": {
        "id": "T7V9GvpEoSkL"
      },
      "source": [
        "# Solution goes here"
      ],
      "execution_count": null,
      "outputs": []
    },
    {
      "cell_type": "code",
      "metadata": {
        "id": "YToiA3_eoSkL"
      },
      "source": [
        "# Solution goes here"
      ],
      "execution_count": null,
      "outputs": []
    },
    {
      "cell_type": "markdown",
      "metadata": {
        "id": "unUAXwgDoSkL"
      },
      "source": [
        "**Exercise:** In reality, air resistance limits the velocity of the penny.  At about 18 m/s, the force of air resistance equals the force of gravity and the penny stops accelerating.\n",
        "\n",
        "As a simplification, let's assume that the acceleration of the penny is `a` until the penny reaches 18 m/s, and then 0 afterwards.  What is the total time for the penny to fall 381 m?\n",
        "\n",
        "You can break this question into three parts:\n",
        "\n",
        "1. How long until the penny reaches 18 m/s with constant acceleration `a`.\n",
        "2. How far would the penny fall during that time?\n",
        "3. How long to fall the remaining distance with constant velocity 18 m/s?\n",
        "\n",
        "Suggestion: Assign each intermediate result to a variable with a meaningful name.  And assign units to all quantities!"
      ]
    },
    {
      "cell_type": "code",
      "metadata": {
        "id": "SFILc8NdoSkL"
      },
      "source": [
        "# Solution goes here"
      ],
      "execution_count": null,
      "outputs": []
    },
    {
      "cell_type": "code",
      "metadata": {
        "id": "8ZtmWNtpoSkM"
      },
      "source": [
        "# Solution goes here"
      ],
      "execution_count": null,
      "outputs": []
    },
    {
      "cell_type": "code",
      "metadata": {
        "id": "Auup6eSIoSkM"
      },
      "source": [
        "# Solution goes here"
      ],
      "execution_count": null,
      "outputs": []
    },
    {
      "cell_type": "code",
      "metadata": {
        "id": "122rmGw8oSkM"
      },
      "source": [
        "# Solution goes here"
      ],
      "execution_count": null,
      "outputs": []
    },
    {
      "cell_type": "code",
      "metadata": {
        "id": "QhQ5bC-EoSkN"
      },
      "source": [
        "# Solution goes here"
      ],
      "execution_count": null,
      "outputs": []
    },
    {
      "cell_type": "markdown",
      "metadata": {
        "id": "V_oPwSs8oSkN"
      },
      "source": [
        "### Restart and run all\n",
        "\n",
        "When you change the contents of a cell, you have to run it again for those changes to have an effect.  If you forget to do that, the results can be confusing, because the code you are looking at is not the code you ran.\n",
        "\n",
        "If you ever lose track of which cells have run, and in what order, you should go to the Kernel menu and select \"Restart & Run All\".  Restarting the kernel means that all of your variables get deleted, and running all the cells means all of your code will run again, in the right order.\n",
        "\n",
        "**Exercise:**  Select \"Restart & Run All\" now and confirm that it does what you want."
      ]
    },
    {
      "cell_type": "code",
      "metadata": {
        "id": "B_KVXjOzoSkO"
      },
      "source": [
        ""
      ],
      "execution_count": null,
      "outputs": []
    }
  ]
}